{
 "cells": [
  {
   "cell_type": "code",
   "execution_count": 1,
   "id": "efc9818b",
   "metadata": {},
   "outputs": [
    {
     "name": "stdout",
     "output_type": "stream",
     "text": [
      "Processing NormalizedTest.wav...\n",
      "Preprocessed audio saved to ./Audio Files/NormalizedTest_preprocessed.wav\n"
     ]
    },
    {
     "name": "stderr",
     "output_type": "stream",
     "text": [
      "/Users/thomas.cong/Library/Python/3.13/lib/python/site-packages/whisper/transcribe.py:132: UserWarning: FP16 is not supported on CPU; using FP32 instead\n",
      "  warnings.warn(\"FP16 is not supported on CPU; using FP32 instead\")\n"
     ]
    },
    {
     "name": "stdout",
     "output_type": "stream",
     "text": [
      "Alignment data saved to ./Audio Files/NormalizedTest_alignment.json\n",
      "Processing QuietTest.wav...\n",
      "Preprocessed audio saved to ./Audio Files/QuietTest_preprocessed.wav\n"
     ]
    },
    {
     "name": "stderr",
     "output_type": "stream",
     "text": [
      "/Users/thomas.cong/Library/Python/3.13/lib/python/site-packages/whisper/transcribe.py:132: UserWarning: FP16 is not supported on CPU; using FP32 instead\n",
      "  warnings.warn(\"FP16 is not supported on CPU; using FP32 instead\")\n"
     ]
    },
    {
     "name": "stdout",
     "output_type": "stream",
     "text": [
      "Alignment data saved to ./Audio Files/QuietTest_alignment.json\n",
      "Processing PausesTest.wav...\n",
      "Preprocessed audio saved to ./Audio Files/PausesTest_preprocessed.wav\n"
     ]
    },
    {
     "name": "stderr",
     "output_type": "stream",
     "text": [
      "/Users/thomas.cong/Library/Python/3.13/lib/python/site-packages/whisper/transcribe.py:132: UserWarning: FP16 is not supported on CPU; using FP32 instead\n",
      "  warnings.warn(\"FP16 is not supported on CPU; using FP32 instead\")\n"
     ]
    },
    {
     "name": "stdout",
     "output_type": "stream",
     "text": [
      "Alignment data saved to ./Audio Files/PausesTest_alignment.json\n",
      "Processing TrimTest.wav...\n",
      "Preprocessed audio saved to ./Audio Files/TrimTest_preprocessed.wav\n"
     ]
    },
    {
     "name": "stderr",
     "output_type": "stream",
     "text": [
      "/Library/Frameworks/Python.framework/Versions/3.13/lib/python3.13/site-packages/sklearn/utils/extmath.py:203: RuntimeWarning: divide by zero encountered in matmul\n",
      "  ret = a @ b\n",
      "/Library/Frameworks/Python.framework/Versions/3.13/lib/python3.13/site-packages/sklearn/utils/extmath.py:203: RuntimeWarning: overflow encountered in matmul\n",
      "  ret = a @ b\n",
      "/Library/Frameworks/Python.framework/Versions/3.13/lib/python3.13/site-packages/sklearn/utils/extmath.py:203: RuntimeWarning: invalid value encountered in matmul\n",
      "  ret = a @ b\n",
      "/Library/Frameworks/Python.framework/Versions/3.13/lib/python3.13/site-packages/sklearn/utils/extmath.py:203: RuntimeWarning: divide by zero encountered in matmul\n",
      "  ret = a @ b\n",
      "/Library/Frameworks/Python.framework/Versions/3.13/lib/python3.13/site-packages/sklearn/utils/extmath.py:203: RuntimeWarning: overflow encountered in matmul\n",
      "  ret = a @ b\n",
      "/Library/Frameworks/Python.framework/Versions/3.13/lib/python3.13/site-packages/sklearn/utils/extmath.py:203: RuntimeWarning: invalid value encountered in matmul\n",
      "  ret = a @ b\n",
      "/Users/thomas.cong/Library/Python/3.13/lib/python/site-packages/whisper/transcribe.py:132: UserWarning: FP16 is not supported on CPU; using FP32 instead\n",
      "  warnings.warn(\"FP16 is not supported on CPU; using FP32 instead\")\n"
     ]
    },
    {
     "name": "stdout",
     "output_type": "stream",
     "text": [
      "Alignment data saved to ./Audio Files/TrimTest_alignment.json\n",
      "Processing shesawthestackofkeysoutsidethebluebox.wav...\n",
      "Preprocessed audio saved to ./Audio Files/shesawthestackofkeysoutsidethebluebox_preprocessed.wav\n"
     ]
    },
    {
     "name": "stderr",
     "output_type": "stream",
     "text": [
      "/Users/thomas.cong/Library/Python/3.13/lib/python/site-packages/whisper/transcribe.py:132: UserWarning: FP16 is not supported on CPU; using FP32 instead\n",
      "  warnings.warn(\"FP16 is not supported on CPU; using FP32 instead\")\n"
     ]
    },
    {
     "name": "stdout",
     "output_type": "stream",
     "text": [
      "Alignment data saved to ./Audio Files/shesawthestackofkeysoutsidethebluebox_alignment.json\n",
      "Metrics saved to speech_metrics.csv\n"
     ]
    }
   ],
   "source": [
    "import metrics_to_csv\n",
    "# Or specify a particular directory\n",
    "metrics_to_csv.metrics_to_csv('speech_metrics.csv', audio_dir='./Audio Files')"
   ]
  },
  {
   "cell_type": "code",
   "execution_count": 2,
   "id": "5d114e69",
   "metadata": {},
   "outputs": [
    {
     "data": {
      "text/html": [
       "<div>\n",
       "<style scoped>\n",
       "    .dataframe tbody tr th:only-of-type {\n",
       "        vertical-align: middle;\n",
       "    }\n",
       "\n",
       "    .dataframe tbody tr th {\n",
       "        vertical-align: top;\n",
       "    }\n",
       "\n",
       "    .dataframe thead th {\n",
       "        text-align: right;\n",
       "    }\n",
       "</style>\n",
       "<table border=\"1\" class=\"dataframe\">\n",
       "  <thead>\n",
       "    <tr style=\"text-align: right;\">\n",
       "      <th></th>\n",
       "      <th>filename</th>\n",
       "      <th>avg_syllable_duration</th>\n",
       "      <th>speech_rate_syllable</th>\n",
       "      <th>speech_rate_word</th>\n",
       "      <th>avg_pause_duration</th>\n",
       "      <th>aavs</th>\n",
       "      <th>hull_area</th>\n",
       "      <th>ff_mean</th>\n",
       "      <th>ff_median</th>\n",
       "      <th>ff_std</th>\n",
       "      <th>ff_min</th>\n",
       "      <th>ff_max</th>\n",
       "      <th>inten_mean</th>\n",
       "      <th>inten_median</th>\n",
       "      <th>inten_std</th>\n",
       "      <th>inten_min</th>\n",
       "      <th>inten_max</th>\n",
       "    </tr>\n",
       "  </thead>\n",
       "  <tbody>\n",
       "    <tr>\n",
       "      <th>0</th>\n",
       "      <td>NormalizedTest</td>\n",
       "      <td>0.214286</td>\n",
       "      <td>4.666667</td>\n",
       "      <td>2.666667</td>\n",
       "      <td>0.000</td>\n",
       "      <td>3.755410</td>\n",
       "      <td>22.597077</td>\n",
       "      <td>180.924946</td>\n",
       "      <td>189.100505</td>\n",
       "      <td>21.702840</td>\n",
       "      <td>122.538754</td>\n",
       "      <td>216.130434</td>\n",
       "      <td>83.930798</td>\n",
       "      <td>87.329869</td>\n",
       "      <td>7.244252</td>\n",
       "      <td>62.457431</td>\n",
       "      <td>91.503242</td>\n",
       "    </tr>\n",
       "    <tr>\n",
       "      <th>1</th>\n",
       "      <td>QuietTest</td>\n",
       "      <td>0.274545</td>\n",
       "      <td>3.642384</td>\n",
       "      <td>3.311258</td>\n",
       "      <td>0.000</td>\n",
       "      <td>8.637316</td>\n",
       "      <td>37.805779</td>\n",
       "      <td>134.284056</td>\n",
       "      <td>101.416142</td>\n",
       "      <td>104.981467</td>\n",
       "      <td>79.114134</td>\n",
       "      <td>513.262077</td>\n",
       "      <td>66.846091</td>\n",
       "      <td>71.457095</td>\n",
       "      <td>12.086690</td>\n",
       "      <td>25.793552</td>\n",
       "      <td>86.562951</td>\n",
       "    </tr>\n",
       "    <tr>\n",
       "      <th>2</th>\n",
       "      <td>PausesTest</td>\n",
       "      <td>1.166667</td>\n",
       "      <td>0.795756</td>\n",
       "      <td>0.663130</td>\n",
       "      <td>0.135</td>\n",
       "      <td>6.439815</td>\n",
       "      <td>25.753611</td>\n",
       "      <td>95.125582</td>\n",
       "      <td>87.518753</td>\n",
       "      <td>41.627586</td>\n",
       "      <td>76.715865</td>\n",
       "      <td>485.223236</td>\n",
       "      <td>50.604810</td>\n",
       "      <td>47.230982</td>\n",
       "      <td>23.803280</td>\n",
       "      <td>12.183574</td>\n",
       "      <td>85.069853</td>\n",
       "    </tr>\n",
       "    <tr>\n",
       "      <th>3</th>\n",
       "      <td>TrimTest</td>\n",
       "      <td>0.710000</td>\n",
       "      <td>1.408451</td>\n",
       "      <td>1.408451</td>\n",
       "      <td>0.000</td>\n",
       "      <td>5.800182</td>\n",
       "      <td>20.259229</td>\n",
       "      <td>86.883301</td>\n",
       "      <td>84.187943</td>\n",
       "      <td>8.733659</td>\n",
       "      <td>75.981853</td>\n",
       "      <td>128.527361</td>\n",
       "      <td>64.251099</td>\n",
       "      <td>71.018478</td>\n",
       "      <td>19.365984</td>\n",
       "      <td>14.516792</td>\n",
       "      <td>85.889520</td>\n",
       "    </tr>\n",
       "    <tr>\n",
       "      <th>4</th>\n",
       "      <td>shesawthestackofkeysoutsidethebluebox</td>\n",
       "      <td>0.298182</td>\n",
       "      <td>3.353659</td>\n",
       "      <td>3.048780</td>\n",
       "      <td>0.000</td>\n",
       "      <td>5.103736</td>\n",
       "      <td>27.107787</td>\n",
       "      <td>132.239471</td>\n",
       "      <td>95.005728</td>\n",
       "      <td>127.530459</td>\n",
       "      <td>78.989931</td>\n",
       "      <td>599.405049</td>\n",
       "      <td>61.274236</td>\n",
       "      <td>62.262443</td>\n",
       "      <td>11.757733</td>\n",
       "      <td>37.130386</td>\n",
       "      <td>82.825000</td>\n",
       "    </tr>\n",
       "  </tbody>\n",
       "</table>\n",
       "</div>"
      ],
      "text/plain": [
       "                                filename  avg_syllable_duration  \\\n",
       "0                         NormalizedTest               0.214286   \n",
       "1                              QuietTest               0.274545   \n",
       "2                             PausesTest               1.166667   \n",
       "3                               TrimTest               0.710000   \n",
       "4  shesawthestackofkeysoutsidethebluebox               0.298182   \n",
       "\n",
       "   speech_rate_syllable  speech_rate_word  avg_pause_duration      aavs  \\\n",
       "0              4.666667          2.666667               0.000  3.755410   \n",
       "1              3.642384          3.311258               0.000  8.637316   \n",
       "2              0.795756          0.663130               0.135  6.439815   \n",
       "3              1.408451          1.408451               0.000  5.800182   \n",
       "4              3.353659          3.048780               0.000  5.103736   \n",
       "\n",
       "   hull_area     ff_mean   ff_median      ff_std      ff_min      ff_max  \\\n",
       "0  22.597077  180.924946  189.100505   21.702840  122.538754  216.130434   \n",
       "1  37.805779  134.284056  101.416142  104.981467   79.114134  513.262077   \n",
       "2  25.753611   95.125582   87.518753   41.627586   76.715865  485.223236   \n",
       "3  20.259229   86.883301   84.187943    8.733659   75.981853  128.527361   \n",
       "4  27.107787  132.239471   95.005728  127.530459   78.989931  599.405049   \n",
       "\n",
       "   inten_mean  inten_median  inten_std  inten_min  inten_max  \n",
       "0   83.930798     87.329869   7.244252  62.457431  91.503242  \n",
       "1   66.846091     71.457095  12.086690  25.793552  86.562951  \n",
       "2   50.604810     47.230982  23.803280  12.183574  85.069853  \n",
       "3   64.251099     71.018478  19.365984  14.516792  85.889520  \n",
       "4   61.274236     62.262443  11.757733  37.130386  82.825000  "
      ]
     },
     "execution_count": 2,
     "metadata": {},
     "output_type": "execute_result"
    }
   ],
   "source": [
    "import pandas as pd\n",
    "pd.read_csv(\"./speech_metrics.csv\").head()"
   ]
  },
  {
   "cell_type": "code",
   "execution_count": null,
   "id": "96e3e523",
   "metadata": {},
   "outputs": [],
   "source": [
    "pd.read_csv(\"List of features [feature_version = 77, agg_version = 16].csv\").head()"
   ]
  }
 ],
 "metadata": {
  "kernelspec": {
   "display_name": "Python 3",
   "language": "python",
   "name": "python3"
  },
  "language_info": {
   "codemirror_mode": {
    "name": "ipython",
    "version": 3
   },
   "file_extension": ".py",
   "mimetype": "text/x-python",
   "name": "python",
   "nbconvert_exporter": "python",
   "pygments_lexer": "ipython3",
   "version": "3.13.3"
  }
 },
 "nbformat": 4,
 "nbformat_minor": 5
}
