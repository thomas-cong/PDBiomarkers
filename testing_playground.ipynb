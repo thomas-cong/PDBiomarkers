{
 "cells": [
  {
   "cell_type": "code",
   "execution_count": 1,
   "id": "f28082b3",
   "metadata": {},
   "outputs": [],
   "source": [
    "from feature_calculation import build_biomarker_csv"
   ]
  },
  {
   "cell_type": "code",
   "execution_count": 2,
   "id": "5e2fa015",
   "metadata": {},
   "outputs": [],
   "source": [
    "import pandas as pd\n",
    "import warnings\n",
    "warnings.filterwarnings(\"ignore\")"
   ]
  },
  {
   "cell_type": "code",
   "execution_count": 3,
   "id": "2a3d3f39",
   "metadata": {},
   "outputs": [
    {
     "name": "stderr",
     "output_type": "stream",
     "text": [
      " 17%|█▋        | 1/6 [00:02<00:11,  2.39s/it]"
     ]
    },
    {
     "name": "stdout",
     "output_type": "stream",
     "text": [
      "No silence detected in audio file, returning 0\n"
     ]
    },
    {
     "name": "stderr",
     "output_type": "stream",
     "text": [
      "100%|██████████| 6/6 [00:06<00:00,  1.06s/it]\n",
      "Local version of model already exists (/Users/thomas.cong/Documents/MFA/pretrained_models/dictionary/english_mfa.dict). Use the --ignore_cache flag to force redownloading.\n",
      "Local version of model already exists (/Users/thomas.cong/Documents/MFA/pretrained_models/acoustic/english_mfa.zip). Use the --ignore_cache flag to force redownloading.\n"
     ]
    },
    {
     "data": {
      "text/html": [
       "<pre style=\"white-space:pre;overflow-x:auto;line-height:normal;font-family:Menlo,'DejaVu Sans Mono',consolas,'Courier New',monospace\"></pre>\n"
      ],
      "text/plain": []
     },
     "metadata": {},
     "output_type": "display_data"
    },
    {
     "data": {
      "text/html": [
       "<pre style=\"white-space:pre;overflow-x:auto;line-height:normal;font-family:Menlo,'DejaVu Sans Mono',consolas,'Courier New',monospace\"></pre>\n"
      ],
      "text/plain": []
     },
     "metadata": {},
     "output_type": "display_data"
    },
    {
     "data": {
      "text/html": [
       "<pre style=\"white-space:pre;overflow-x:auto;line-height:normal;font-family:Menlo,'DejaVu Sans Mono',consolas,'Courier New',monospace\"></pre>\n"
      ],
      "text/plain": []
     },
     "metadata": {},
     "output_type": "display_data"
    },
    {
     "data": {
      "text/html": [
       "<pre style=\"white-space:pre;overflow-x:auto;line-height:normal;font-family:Menlo,'DejaVu Sans Mono',consolas,'Courier New',monospace\"></pre>\n"
      ],
      "text/plain": []
     },
     "metadata": {},
     "output_type": "display_data"
    },
    {
     "data": {
      "text/html": [
       "<pre style=\"white-space:pre;overflow-x:auto;line-height:normal;font-family:Menlo,'DejaVu Sans Mono',consolas,'Courier New',monospace\"></pre>\n"
      ],
      "text/plain": []
     },
     "metadata": {},
     "output_type": "display_data"
    },
    {
     "data": {
      "text/html": [
       "<pre style=\"white-space:pre;overflow-x:auto;line-height:normal;font-family:Menlo,'DejaVu Sans Mono',consolas,'Courier New',monospace\"></pre>\n"
      ],
      "text/plain": []
     },
     "metadata": {},
     "output_type": "display_data"
    },
    {
     "data": {
      "text/html": [
       "<pre style=\"white-space:pre;overflow-x:auto;line-height:normal;font-family:Menlo,'DejaVu Sans Mono',consolas,'Courier New',monospace\"></pre>\n"
      ],
      "text/plain": []
     },
     "metadata": {},
     "output_type": "display_data"
    },
    {
     "data": {
      "text/html": [
       "<pre style=\"white-space:pre;overflow-x:auto;line-height:normal;font-family:Menlo,'DejaVu Sans Mono',consolas,'Courier New',monospace\"></pre>\n"
      ],
      "text/plain": []
     },
     "metadata": {},
     "output_type": "display_data"
    },
    {
     "data": {
      "text/html": [
       "<pre style=\"white-space:pre;overflow-x:auto;line-height:normal;font-family:Menlo,'DejaVu Sans Mono',consolas,'Courier New',monospace\"></pre>\n"
      ],
      "text/plain": []
     },
     "metadata": {},
     "output_type": "display_data"
    },
    {
     "data": {
      "text/html": [
       "<pre style=\"white-space:pre;overflow-x:auto;line-height:normal;font-family:Menlo,'DejaVu Sans Mono',consolas,'Courier New',monospace\"></pre>\n"
      ],
      "text/plain": []
     },
     "metadata": {},
     "output_type": "display_data"
    },
    {
     "name": "stderr",
     "output_type": "stream",
     "text": [
      "100%|██████████| 12/12 [00:00<00:00, 24.98it/s]"
     ]
    },
    {
     "name": "stdout",
     "output_type": "stream",
     "text": [
      "{'NormalizedTest': {'filename': 'NormalizedTest', 'aavs': np.float64(119104.96404690694), 'hull_area': 1210356.331893066, 'speech_rate': 2.2172949002217295, 'articulation_rate': 2.2172949002217295, 'average_syllable_duration': 0.451, 'avg_word_length': 5.5, 'content_richness': 0.6666666666666666, 'mattr': 1.0, 'phrase_patterns': 0, 'sentence_length': np.float64(4.0), 'avg_pause_duration': 0, 'ff_mean': np.float64(183.78843473265965), 'ff_median': np.float64(189.5278925208634), 'ff_std': np.float64(18.46800849100562), 'ff_min': np.float64(137.3634658040278), 'ff_max': np.float64(216.1304345993565), 'inten_mean': np.float64(86.03153910505075), 'inten_median': np.float64(87.77153063576333), 'inten_std': np.float64(4.791575078124277), 'inten_min': np.float64(69.74995673165074), 'inten_max': np.float64(91.60169660564142), 'harm_mean': 13.230410306399225, 'harm_std': 7.340494683058122, 'harm_min': -2.5876535396623805, 'harm_max': 27.813141815513028, 'shimmer_local': 0.06262360725782794, 'shimmer_local_db': 0.7170225269730547, 'shimmer_apq3': 0.025287705407452874, 'shimmer_apq5': 0.0364708772042168, 'jitter_local': 0.012247914403338417, 'jitter_local_db': 6.70010223266279e-05, 'jitter_apq3': 0.005965784352293118, 'jitter_apq5': 0.007384796273333063, 'ppe': np.float64(1.0050760308436155), 'vai': None}, 'QuietTest': {'filename': 'QuietTest', 'aavs': np.float64(246668.88879384394), 'hull_area': 1789206.1784158032, 'speech_rate': 4.2539267015706805, 'articulation_rate': 4.439890710382514, 'average_syllable_duration': 0.22523076923076923, 'avg_word_length': 3.4545454545454546, 'content_richness': 0.6666666666666666, 'mattr': np.float64(1.0), 'phrase_patterns': 0, 'sentence_length': np.float64(11.0), 'avg_pause_duration': np.float64(0.212), 'ff_mean': np.float64(134.28402397161534), 'ff_median': np.float64(101.41611399919839), 'ff_std': np.float64(104.98140678568555), 'ff_min': np.float64(79.11414792831816), 'ff_max': np.float64(513.2625143953452), 'inten_mean': np.float64(47.641371228750856), 'inten_median': np.float64(52.25263289264703), 'inten_std': np.float64(12.088192034836801), 'inten_min': np.float64(6.480029225287084), 'inten_max': np.float64(67.35851811303435), 'harm_mean': 10.807186319816331, 'harm_std': 6.89749458538905, 'harm_min': -227.03988479103526, 'harm_max': 45.772920125708126, 'shimmer_local': 0.11840249171592805, 'shimmer_local_db': 1.0419074113109248, 'shimmer_apq3': 0.04569406020894497, 'shimmer_apq5': 0.06145692002859908, 'jitter_local': 0.03563694412332995, 'jitter_local_db': 0.00028062702335199296, 'jitter_apq3': 0.01883758844496769, 'jitter_apq5': 0.017258281796465814, 'ppe': np.float64(0.9799446650783519), 'vai': None}, 'PausesTest': {'filename': 'PausesTest', 'aavs': np.float64(187788.2900078283), 'hull_area': 1108947.3601603464, 'speech_rate': 0.7869884575026234, 'articulation_rate': 1.7162471395881007, 'average_syllable_duration': 0.5826666666666667, 'avg_word_length': 3.6, 'content_richness': 0.8, 'mattr': 1.0, 'phrase_patterns': 0, 'sentence_length': np.float64(5.0), 'avg_pause_duration': np.float64(nan), 'ff_mean': np.float64(95.01629808904207), 'ff_median': np.float64(87.46490078433213), 'ff_std': np.float64(41.56822834056841), 'ff_min': np.float64(76.7158674972803), 'ff_max': np.float64(485.22314456784676), 'inten_mean': np.float64(40.084665366325886), 'inten_median': np.float64(33.13104116986172), 'inten_std': np.float64(24.036028984540895), 'inten_min': np.float64(1.4620675213618832), 'inten_max': np.float64(74.86258562730988), 'harm_mean': 10.95694524768392, 'harm_std': 6.610351400651174, 'harm_min': -226.71504523631103, 'harm_max': 35.796514862828666, 'shimmer_local': 0.08338723649608835, 'shimmer_local_db': 0.8410538097144264, 'shimmer_apq3': 0.03646113792122114, 'shimmer_apq5': 0.0558475929464854, 'jitter_local': 0.02068287539549173, 'jitter_local_db': 0.000220835910820514, 'jitter_apq3': 0.010310304715277763, 'jitter_apq5': 0.00962705800470505, 'ppe': np.float64(0.4000040594195966), 'vai': None}, 'TrimTest': {'filename': 'TrimTest', 'aavs': np.float64(204002.29556777622), 'hull_area': 1156252.6873763474, 'speech_rate': 1.3054830287206267, 'articulation_rate': 1.7543859649122806, 'average_syllable_duration': 0.5700000000000001, 'avg_word_length': 4.75, 'content_richness': 0.6666666666666666, 'mattr': 1.0, 'phrase_patterns': 0, 'sentence_length': np.float64(4.0), 'avg_pause_duration': np.float64(0.3320000000000001), 'ff_mean': np.float64(86.8832829910526), 'ff_median': np.float64(84.18794796402271), 'ff_std': np.float64(8.733687491427121), 'ff_min': np.float64(75.98185315664787), 'ff_max': np.float64(128.52760914939034), 'inten_mean': np.float64(47.614065735866056), 'inten_median': np.float64(54.37072961588063), 'inten_std': np.float64(19.34236539316583), 'inten_min': np.float64(-1.9186186796902738), 'inten_max': np.float64(69.24178529589301), 'harm_mean': 8.121785675410669, 'harm_std': 8.444166912066683, 'harm_min': -226.37402937739472, 'harm_max': 33.56252367883077, 'shimmer_local': 0.08472876873820707, 'shimmer_local_db': 0.8937879457566225, 'shimmer_apq3': 0.03536877831613888, 'shimmer_apq5': 0.05210310894777564, 'jitter_local': 0.02708058245149048, 'jitter_local_db': 0.0003122181008866965, 'jitter_apq3': 0.013658536227034807, 'jitter_apq5': 0.015553767323372969, 'ppe': np.float64(1.0100184468117464), 'vai': None}, 'phoneticpangram': {'filename': 'phoneticpangram', 'aavs': np.float64(209561.4169715572), 'hull_area': 1231358.421697267, 'speech_rate': 3.6119160185043975, 'articulation_rate': 4.590801597250042, 'average_syllable_duration': 0.21782688247712875, 'avg_word_length': 3.9565217391304346, 'content_richness': 0.625, 'mattr': np.float64(1.0), 'phrase_patterns': 0, 'sentence_length': np.float64(11.5), 'avg_pause_duration': np.float64(0.41622634508348777), 'ff_mean': np.float64(102.52627634493248), 'ff_median': np.float64(95.68261376685986), 'ff_std': np.float64(36.64276560823277), 'ff_min': np.float64(75.02065917675031), 'ff_max': np.float64(463.93529475443626), 'inten_mean': np.float64(59.24707642953997), 'inten_median': np.float64(67.79267532761867), 'inten_std': np.float64(32.72115679414141), 'inten_min': np.float64(-300.0), 'inten_max': np.float64(86.63585418593141), 'harm_mean': 11.307876523124051, 'harm_std': 6.1277806093299425, 'harm_min': -226.94901502677402, 'harm_max': 41.84364512995307, 'shimmer_local': 0.11217734214147965, 'shimmer_local_db': 1.057697336895873, 'shimmer_apq3': 0.03870847486430915, 'shimmer_apq5': 0.059073622752225226, 'jitter_local': 0.029750848395693728, 'jitter_local_db': 0.0002964479574018488, 'jitter_apq3': 0.012702642309807001, 'jitter_apq5': 0.016286167409775745, 'ppe': np.float64(0.975112399606099), 'vai': None}, 'shesawthestackofkeysoutsidethebluebox': {'filename': 'shesawthestackofkeysoutsidethebluebox', 'aavs': np.float64(220325.43472939133), 'hull_area': 2275891.3365037143, 'speech_rate': 2.1148036253776437, 'articulation_rate': 3.2065964269354095, 'average_syllable_duration': 0.3118571428571429, 'avg_word_length': 3.7, 'content_richness': 0.5, 'mattr': np.float64(0.875), 'phrase_patterns': 0, 'sentence_length': np.float64(10.0), 'avg_pause_duration': np.float64(0.2844), 'ff_mean': np.float64(132.2395052210646), 'ff_median': np.float64(95.00569320516158), 'ff_std': np.float64(127.53061674135539), 'ff_min': np.float64(78.98989161190963), 'ff_max': np.float64(599.4055039999446), 'inten_mean': np.float64(62.86881009583607), 'inten_median': np.float64(63.990198133957804), 'inten_std': np.float64(11.030372009722992), 'inten_min': np.float64(40.06139304725313), 'inten_max': np.float64(82.83350775138197), 'harm_mean': 5.751453364859858, 'harm_std': 6.32986428034097, 'harm_min': -226.65804351633878, 'harm_max': 33.748689764252305, 'shimmer_local': 0.12136471163701888, 'shimmer_local_db': 1.2793185077470983, 'shimmer_apq3': 0.0452563346062774, 'shimmer_apq5': 0.05681111694812346, 'jitter_local': 0.028289505214382313, 'jitter_local_db': 0.00022970330562733796, 'jitter_apq3': 0.01213324624034168, 'jitter_apq5': 0.012664831472369745, 'ppe': np.float64(1.0608358404040779), 'vai': None}}\n",
      "Metrics saved to ./TestingFiles.csv\n"
     ]
    },
    {
     "name": "stderr",
     "output_type": "stream",
     "text": [
      "\n"
     ]
    }
   ],
   "source": [
    "testing_csv = build_biomarker_csv.build_csv(\"./TestingFiles.csv\", audio_dir = \"./Audio Files\")"
   ]
  },
  {
   "cell_type": "code",
   "execution_count": 4,
   "id": "42bd032c",
   "metadata": {},
   "outputs": [],
   "source": [
    "testing_csv = pd.read_csv(\"./TestingFiles.csv\", index_col = \"filename\")"
   ]
  },
  {
   "cell_type": "code",
   "execution_count": 5,
   "id": "52df2509",
   "metadata": {},
   "outputs": [
    {
     "data": {
      "text/html": [
       "<div>\n",
       "<style scoped>\n",
       "    .dataframe tbody tr th:only-of-type {\n",
       "        vertical-align: middle;\n",
       "    }\n",
       "\n",
       "    .dataframe tbody tr th {\n",
       "        vertical-align: top;\n",
       "    }\n",
       "\n",
       "    .dataframe thead th {\n",
       "        text-align: right;\n",
       "    }\n",
       "</style>\n",
       "<table border=\"1\" class=\"dataframe\">\n",
       "  <thead>\n",
       "    <tr style=\"text-align: right;\">\n",
       "      <th></th>\n",
       "      <th>filename.1</th>\n",
       "      <th>aavs</th>\n",
       "      <th>hull_area</th>\n",
       "      <th>speech_rate</th>\n",
       "      <th>articulation_rate</th>\n",
       "      <th>average_syllable_duration</th>\n",
       "      <th>avg_word_length</th>\n",
       "      <th>content_richness</th>\n",
       "      <th>mattr</th>\n",
       "      <th>phrase_patterns</th>\n",
       "      <th>...</th>\n",
       "      <th>shimmer_local</th>\n",
       "      <th>shimmer_local_db</th>\n",
       "      <th>shimmer_apq3</th>\n",
       "      <th>shimmer_apq5</th>\n",
       "      <th>jitter_local</th>\n",
       "      <th>jitter_local_db</th>\n",
       "      <th>jitter_apq3</th>\n",
       "      <th>jitter_apq5</th>\n",
       "      <th>ppe</th>\n",
       "      <th>vai</th>\n",
       "    </tr>\n",
       "    <tr>\n",
       "      <th>filename</th>\n",
       "      <th></th>\n",
       "      <th></th>\n",
       "      <th></th>\n",
       "      <th></th>\n",
       "      <th></th>\n",
       "      <th></th>\n",
       "      <th></th>\n",
       "      <th></th>\n",
       "      <th></th>\n",
       "      <th></th>\n",
       "      <th></th>\n",
       "      <th></th>\n",
       "      <th></th>\n",
       "      <th></th>\n",
       "      <th></th>\n",
       "      <th></th>\n",
       "      <th></th>\n",
       "      <th></th>\n",
       "      <th></th>\n",
       "      <th></th>\n",
       "      <th></th>\n",
       "    </tr>\n",
       "  </thead>\n",
       "  <tbody>\n",
       "    <tr>\n",
       "      <th>NormalizedTest</th>\n",
       "      <td>NormalizedTest</td>\n",
       "      <td>119104.964047</td>\n",
       "      <td>1.210356e+06</td>\n",
       "      <td>2.217295</td>\n",
       "      <td>2.217295</td>\n",
       "      <td>0.451000</td>\n",
       "      <td>5.500000</td>\n",
       "      <td>0.666667</td>\n",
       "      <td>1.000</td>\n",
       "      <td>0</td>\n",
       "      <td>...</td>\n",
       "      <td>0.062624</td>\n",
       "      <td>0.717023</td>\n",
       "      <td>0.025288</td>\n",
       "      <td>0.036471</td>\n",
       "      <td>0.012248</td>\n",
       "      <td>0.000067</td>\n",
       "      <td>0.005966</td>\n",
       "      <td>0.007385</td>\n",
       "      <td>1.005076</td>\n",
       "      <td>NaN</td>\n",
       "    </tr>\n",
       "    <tr>\n",
       "      <th>QuietTest</th>\n",
       "      <td>QuietTest</td>\n",
       "      <td>246668.888794</td>\n",
       "      <td>1.789206e+06</td>\n",
       "      <td>4.253927</td>\n",
       "      <td>4.439891</td>\n",
       "      <td>0.225231</td>\n",
       "      <td>3.454545</td>\n",
       "      <td>0.666667</td>\n",
       "      <td>1.000</td>\n",
       "      <td>0</td>\n",
       "      <td>...</td>\n",
       "      <td>0.118402</td>\n",
       "      <td>1.041907</td>\n",
       "      <td>0.045694</td>\n",
       "      <td>0.061457</td>\n",
       "      <td>0.035637</td>\n",
       "      <td>0.000281</td>\n",
       "      <td>0.018838</td>\n",
       "      <td>0.017258</td>\n",
       "      <td>0.979945</td>\n",
       "      <td>NaN</td>\n",
       "    </tr>\n",
       "    <tr>\n",
       "      <th>PausesTest</th>\n",
       "      <td>PausesTest</td>\n",
       "      <td>187788.290008</td>\n",
       "      <td>1.108947e+06</td>\n",
       "      <td>0.786988</td>\n",
       "      <td>1.716247</td>\n",
       "      <td>0.582667</td>\n",
       "      <td>3.600000</td>\n",
       "      <td>0.800000</td>\n",
       "      <td>1.000</td>\n",
       "      <td>0</td>\n",
       "      <td>...</td>\n",
       "      <td>0.083387</td>\n",
       "      <td>0.841054</td>\n",
       "      <td>0.036461</td>\n",
       "      <td>0.055848</td>\n",
       "      <td>0.020683</td>\n",
       "      <td>0.000221</td>\n",
       "      <td>0.010310</td>\n",
       "      <td>0.009627</td>\n",
       "      <td>0.400004</td>\n",
       "      <td>NaN</td>\n",
       "    </tr>\n",
       "    <tr>\n",
       "      <th>TrimTest</th>\n",
       "      <td>TrimTest</td>\n",
       "      <td>204002.295568</td>\n",
       "      <td>1.156253e+06</td>\n",
       "      <td>1.305483</td>\n",
       "      <td>1.754386</td>\n",
       "      <td>0.570000</td>\n",
       "      <td>4.750000</td>\n",
       "      <td>0.666667</td>\n",
       "      <td>1.000</td>\n",
       "      <td>0</td>\n",
       "      <td>...</td>\n",
       "      <td>0.084729</td>\n",
       "      <td>0.893788</td>\n",
       "      <td>0.035369</td>\n",
       "      <td>0.052103</td>\n",
       "      <td>0.027081</td>\n",
       "      <td>0.000312</td>\n",
       "      <td>0.013659</td>\n",
       "      <td>0.015554</td>\n",
       "      <td>1.010018</td>\n",
       "      <td>NaN</td>\n",
       "    </tr>\n",
       "    <tr>\n",
       "      <th>phoneticpangram</th>\n",
       "      <td>phoneticpangram</td>\n",
       "      <td>209561.416972</td>\n",
       "      <td>1.231358e+06</td>\n",
       "      <td>3.611916</td>\n",
       "      <td>4.590802</td>\n",
       "      <td>0.217827</td>\n",
       "      <td>3.956522</td>\n",
       "      <td>0.625000</td>\n",
       "      <td>1.000</td>\n",
       "      <td>0</td>\n",
       "      <td>...</td>\n",
       "      <td>0.112177</td>\n",
       "      <td>1.057697</td>\n",
       "      <td>0.038708</td>\n",
       "      <td>0.059074</td>\n",
       "      <td>0.029751</td>\n",
       "      <td>0.000296</td>\n",
       "      <td>0.012703</td>\n",
       "      <td>0.016286</td>\n",
       "      <td>0.975112</td>\n",
       "      <td>NaN</td>\n",
       "    </tr>\n",
       "    <tr>\n",
       "      <th>shesawthestackofkeysoutsidethebluebox</th>\n",
       "      <td>shesawthestackofkeysoutsidethebluebox</td>\n",
       "      <td>220325.434729</td>\n",
       "      <td>2.275891e+06</td>\n",
       "      <td>2.114804</td>\n",
       "      <td>3.206596</td>\n",
       "      <td>0.311857</td>\n",
       "      <td>3.700000</td>\n",
       "      <td>0.500000</td>\n",
       "      <td>0.875</td>\n",
       "      <td>0</td>\n",
       "      <td>...</td>\n",
       "      <td>0.121365</td>\n",
       "      <td>1.279319</td>\n",
       "      <td>0.045256</td>\n",
       "      <td>0.056811</td>\n",
       "      <td>0.028290</td>\n",
       "      <td>0.000230</td>\n",
       "      <td>0.012133</td>\n",
       "      <td>0.012665</td>\n",
       "      <td>1.060836</td>\n",
       "      <td>NaN</td>\n",
       "    </tr>\n",
       "  </tbody>\n",
       "</table>\n",
       "<p>6 rows × 36 columns</p>\n",
       "</div>"
      ],
      "text/plain": [
       "                                                                  filename.1  \\\n",
       "filename                                                                       \n",
       "NormalizedTest                                                NormalizedTest   \n",
       "QuietTest                                                          QuietTest   \n",
       "PausesTest                                                        PausesTest   \n",
       "TrimTest                                                            TrimTest   \n",
       "phoneticpangram                                              phoneticpangram   \n",
       "shesawthestackofkeysoutsidethebluebox  shesawthestackofkeysoutsidethebluebox   \n",
       "\n",
       "                                                aavs     hull_area  \\\n",
       "filename                                                             \n",
       "NormalizedTest                         119104.964047  1.210356e+06   \n",
       "QuietTest                              246668.888794  1.789206e+06   \n",
       "PausesTest                             187788.290008  1.108947e+06   \n",
       "TrimTest                               204002.295568  1.156253e+06   \n",
       "phoneticpangram                        209561.416972  1.231358e+06   \n",
       "shesawthestackofkeysoutsidethebluebox  220325.434729  2.275891e+06   \n",
       "\n",
       "                                       speech_rate  articulation_rate  \\\n",
       "filename                                                                \n",
       "NormalizedTest                            2.217295           2.217295   \n",
       "QuietTest                                 4.253927           4.439891   \n",
       "PausesTest                                0.786988           1.716247   \n",
       "TrimTest                                  1.305483           1.754386   \n",
       "phoneticpangram                           3.611916           4.590802   \n",
       "shesawthestackofkeysoutsidethebluebox     2.114804           3.206596   \n",
       "\n",
       "                                       average_syllable_duration  \\\n",
       "filename                                                           \n",
       "NormalizedTest                                          0.451000   \n",
       "QuietTest                                               0.225231   \n",
       "PausesTest                                              0.582667   \n",
       "TrimTest                                                0.570000   \n",
       "phoneticpangram                                         0.217827   \n",
       "shesawthestackofkeysoutsidethebluebox                   0.311857   \n",
       "\n",
       "                                       avg_word_length  content_richness  \\\n",
       "filename                                                                   \n",
       "NormalizedTest                                5.500000          0.666667   \n",
       "QuietTest                                     3.454545          0.666667   \n",
       "PausesTest                                    3.600000          0.800000   \n",
       "TrimTest                                      4.750000          0.666667   \n",
       "phoneticpangram                               3.956522          0.625000   \n",
       "shesawthestackofkeysoutsidethebluebox         3.700000          0.500000   \n",
       "\n",
       "                                       mattr  phrase_patterns  ...  \\\n",
       "filename                                                       ...   \n",
       "NormalizedTest                         1.000                0  ...   \n",
       "QuietTest                              1.000                0  ...   \n",
       "PausesTest                             1.000                0  ...   \n",
       "TrimTest                               1.000                0  ...   \n",
       "phoneticpangram                        1.000                0  ...   \n",
       "shesawthestackofkeysoutsidethebluebox  0.875                0  ...   \n",
       "\n",
       "                                       shimmer_local  shimmer_local_db  \\\n",
       "filename                                                                 \n",
       "NormalizedTest                              0.062624          0.717023   \n",
       "QuietTest                                   0.118402          1.041907   \n",
       "PausesTest                                  0.083387          0.841054   \n",
       "TrimTest                                    0.084729          0.893788   \n",
       "phoneticpangram                             0.112177          1.057697   \n",
       "shesawthestackofkeysoutsidethebluebox       0.121365          1.279319   \n",
       "\n",
       "                                       shimmer_apq3  shimmer_apq5  \\\n",
       "filename                                                            \n",
       "NormalizedTest                             0.025288      0.036471   \n",
       "QuietTest                                  0.045694      0.061457   \n",
       "PausesTest                                 0.036461      0.055848   \n",
       "TrimTest                                   0.035369      0.052103   \n",
       "phoneticpangram                            0.038708      0.059074   \n",
       "shesawthestackofkeysoutsidethebluebox      0.045256      0.056811   \n",
       "\n",
       "                                       jitter_local  jitter_local_db  \\\n",
       "filename                                                               \n",
       "NormalizedTest                             0.012248         0.000067   \n",
       "QuietTest                                  0.035637         0.000281   \n",
       "PausesTest                                 0.020683         0.000221   \n",
       "TrimTest                                   0.027081         0.000312   \n",
       "phoneticpangram                            0.029751         0.000296   \n",
       "shesawthestackofkeysoutsidethebluebox      0.028290         0.000230   \n",
       "\n",
       "                                       jitter_apq3  jitter_apq5       ppe  vai  \n",
       "filename                                                                        \n",
       "NormalizedTest                            0.005966     0.007385  1.005076  NaN  \n",
       "QuietTest                                 0.018838     0.017258  0.979945  NaN  \n",
       "PausesTest                                0.010310     0.009627  0.400004  NaN  \n",
       "TrimTest                                  0.013659     0.015554  1.010018  NaN  \n",
       "phoneticpangram                           0.012703     0.016286  0.975112  NaN  \n",
       "shesawthestackofkeysoutsidethebluebox     0.012133     0.012665  1.060836  NaN  \n",
       "\n",
       "[6 rows x 36 columns]"
      ]
     },
     "execution_count": 5,
     "metadata": {},
     "output_type": "execute_result"
    }
   ],
   "source": [
    "testing_csv"
   ]
  },
  {
   "cell_type": "code",
   "execution_count": null,
   "id": "35f5fa86",
   "metadata": {},
   "outputs": [],
   "source": []
  }
 ],
 "metadata": {
  "kernelspec": {
   "display_name": "test",
   "language": "python",
   "name": "python3"
  },
  "language_info": {
   "codemirror_mode": {
    "name": "ipython",
    "version": 3
   },
   "file_extension": ".py",
   "mimetype": "text/x-python",
   "name": "python",
   "nbconvert_exporter": "python",
   "pygments_lexer": "ipython3",
   "version": "3.11.13"
  }
 },
 "nbformat": 4,
 "nbformat_minor": 5
}
