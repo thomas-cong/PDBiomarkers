{
 "cells": [
  {
   "cell_type": "code",
   "execution_count": 1,
   "id": "f28082b3",
   "metadata": {},
   "outputs": [],
   "source": [
    "from feature_calculation import build_biomarker_csv"
   ]
  },
  {
   "cell_type": "code",
   "execution_count": 2,
   "id": "5e2fa015",
   "metadata": {},
   "outputs": [],
   "source": [
    "import pandas as pd\n",
    "import warnings\n",
    "\n",
    "warnings.filterwarnings(\"ignore\")"
   ]
  },
  {
   "cell_type": "code",
   "execution_count": 3,
   "id": "2a3d3f39",
   "metadata": {},
   "outputs": [
    {
     "name": "stderr",
     "output_type": "stream",
     "text": [
      "Processing audio files: 100%|██████████| 6/6 [00:06<00:00,  1.08s/it]"
     ]
    },
    {
     "name": "stdout",
     "output_type": "stream",
     "text": [
      "Metrics saved to ./TestingFiles.csv\n"
     ]
    },
    {
     "name": "stderr",
     "output_type": "stream",
     "text": [
      "\n"
     ]
    }
   ],
   "source": [
    "testing_csv = build_biomarker_csv.build_csv(\n",
    "    \"./TestingFiles.csv\", audio_dir=\"./Audio Files\", results_dir=\"./Results-\"\n",
    ")"
   ]
  },
  {
   "cell_type": "code",
   "execution_count": 4,
   "id": "42bd032c",
   "metadata": {},
   "outputs": [],
   "source": [
    "testing_csv = pd.read_csv(\"./TestingFiles.csv\", index_col=\"filename\")"
   ]
  },
  {
   "cell_type": "code",
   "execution_count": 7,
   "id": "52df2509",
   "metadata": {},
   "outputs": [
    {
     "data": {
      "text/plain": [
       "filename\n",
       "NormalizedTest                              0.000000\n",
       "QuietTest                                   0.000000\n",
       "TrimTest                                  392.000000\n",
       "shesawthestackofkeysoutsidethebluebox     375.666667\n",
       "PausesTest                               1032.000000\n",
       "phoneticpangram                             0.000000\n",
       "Name: Average Pause Duration (ms), dtype: float64"
      ]
     },
     "execution_count": 7,
     "metadata": {},
     "output_type": "execute_result"
    }
   ],
   "source": [
    "testing_csv[\"Average Pause Duration (ms)\"]"
   ]
  },
  {
   "cell_type": "markdown",
   "id": "be4d184f",
   "metadata": {},
   "source": []
  },
  {
   "cell_type": "code",
   "execution_count": null,
   "id": "35f5fa86",
   "metadata": {},
   "outputs": [],
   "source": []
  }
 ],
 "metadata": {
  "kernelspec": {
   "display_name": "test",
   "language": "python",
   "name": "python3"
  },
  "language_info": {
   "codemirror_mode": {
    "name": "ipython",
    "version": 3
   },
   "file_extension": ".py",
   "mimetype": "text/x-python",
   "name": "python",
   "nbconvert_exporter": "python",
   "pygments_lexer": "ipython3",
   "version": "3.11.13"
  }
 },
 "nbformat": 4,
 "nbformat_minor": 5
}
