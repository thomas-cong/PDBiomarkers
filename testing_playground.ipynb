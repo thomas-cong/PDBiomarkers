{
 "cells": [
  {
   "cell_type": "code",
   "execution_count": 1,
   "id": "f28082b3",
   "metadata": {},
   "outputs": [],
   "source": [
    "from feature_calculation import build_biomarker_csv"
   ]
  },
  {
   "cell_type": "code",
   "execution_count": 2,
   "id": "5e2fa015",
   "metadata": {},
   "outputs": [],
   "source": [
    "import pandas as pd\n",
    "import warnings\n",
    "warnings.filterwarnings(\"ignore\")"
   ]
  },
  {
   "cell_type": "code",
   "execution_count": 3,
   "id": "2a3d3f39",
   "metadata": {},
   "outputs": [
    {
     "name": "stdout",
     "output_type": "stream",
     "text": [
      "Processing NormalizedTest.wav...\n",
      "Text data saved to ./Text Files\n",
      "Preprocessed audio saved to ./Audio Files/NormalizedTest_preprocessed.wav\n",
      "Alignment_Path:  ./Alignment Files/NormalizedTest_preprocessed.json\n",
      "Alignment data saved to ./Alignment Files\n",
      "No silence detected in audio file, returning 0\n",
      "Processing QuietTest.wav...\n",
      "Text data saved to ./Text Files\n",
      "Preprocessed audio saved to ./Audio Files/QuietTest_preprocessed.wav\n",
      "Alignment_Path:  ./Alignment Files/QuietTest_preprocessed.json\n",
      "Alignment data saved to ./Alignment Files\n",
      "Processing PausesTest.wav...\n",
      "Text data saved to ./Text Files\n",
      "Preprocessed audio saved to ./Audio Files/PausesTest_preprocessed.wav\n",
      "Alignment_Path:  ./Alignment Files/PausesTest_preprocessed.json\n",
      "Alignment data saved to ./Alignment Files\n",
      "Processing TrimTest.wav...\n",
      "Text data saved to ./Text Files\n",
      "Preprocessed audio saved to ./Audio Files/TrimTest_preprocessed.wav\n",
      "Alignment_Path:  ./Alignment Files/TrimTest_preprocessed.json\n",
      "Alignment data saved to ./Alignment Files\n",
      "Processing shesawthestackofkeysoutsidethebluebox.wav...\n",
      "Text data saved to ./Text Files\n",
      "Preprocessed audio saved to ./Audio Files/shesawthestackofkeysoutsidethebluebox_preprocessed.wav\n",
      "Alignment_Path:  ./Alignment Files/shesawthestackofkeysoutsidethebluebox_preprocessed.json\n",
      "Alignment data saved to ./Alignment Files\n",
      "Metrics saved to ./TestingFiles.csv\n"
     ]
    }
   ],
   "source": [
    "testing_csv = build_biomarker_csv.build_csv(\"./TestingFiles.csv\", audio_dir = \"./Audio Files\")"
   ]
  },
  {
   "cell_type": "code",
   "execution_count": 5,
   "id": "42bd032c",
   "metadata": {},
   "outputs": [
    {
     "data": {
      "text/plain": [
       "filename\n",
       "NormalizedTest                           0.00000\n",
       "QuietTest                                0.12000\n",
       "PausesTest                               0.74875\n",
       "TrimTest                                     NaN\n",
       "shesawthestackofkeysoutsidethebluebox    0.26050\n",
       "Name: avg_pause_duration, dtype: float64"
      ]
     },
     "execution_count": 5,
     "metadata": {},
     "output_type": "execute_result"
    }
   ],
   "source": [
    "pd.read_csv(\"./TestingFiles.csv\", index_col = \"filename\")[\"avg_pause_duration\"]"
   ]
  },
  {
   "cell_type": "code",
   "execution_count": null,
   "id": "f454bbde",
   "metadata": {},
   "outputs": [],
   "source": []
  },
  {
   "cell_type": "markdown",
   "id": "4001134e",
   "metadata": {},
   "source": []
  }
 ],
 "metadata": {
  "kernelspec": {
   "display_name": "Python 3",
   "language": "python",
   "name": "python3"
  },
  "language_info": {
   "codemirror_mode": {
    "name": "ipython",
    "version": 3
   },
   "file_extension": ".py",
   "mimetype": "text/x-python",
   "name": "python",
   "nbconvert_exporter": "python",
   "pygments_lexer": "ipython3",
   "version": "3.13.5"
  }
 },
 "nbformat": 4,
 "nbformat_minor": 5
}
