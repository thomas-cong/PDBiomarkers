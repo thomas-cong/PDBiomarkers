{
 "cells": [
  {
   "cell_type": "code",
   "execution_count": 1,
   "id": "f28082b3",
   "metadata": {},
   "outputs": [],
   "source": [
    "from feature_calculation import build_biomarker_csv"
   ]
  },
  {
   "cell_type": "code",
   "execution_count": 2,
   "id": "5e2fa015",
   "metadata": {},
   "outputs": [],
   "source": [
    "import pandas as pd\n",
    "import warnings\n",
    "warnings.filterwarnings(\"ignore\")"
   ]
  },
  {
   "cell_type": "code",
   "execution_count": 3,
   "id": "2a3d3f39",
   "metadata": {},
   "outputs": [
    {
     "name": "stderr",
     "output_type": "stream",
     "text": [
      "100%|██████████| 5/5 [00:04<00:00,  1.08it/s]"
     ]
    },
    {
     "name": "stdout",
     "output_type": "stream",
     "text": [
      "Metrics saved to ./TestingFiles.csv\n"
     ]
    },
    {
     "name": "stderr",
     "output_type": "stream",
     "text": [
      "\n"
     ]
    }
   ],
   "source": [
    "testing_csv = build_biomarker_csv.build_csv(\"./TestingFiles.csv\", audio_dir = \"./Audio Files\")"
   ]
  },
  {
   "cell_type": "code",
   "execution_count": 4,
   "id": "42bd032c",
   "metadata": {},
   "outputs": [
    {
     "data": {
      "text/plain": [
       "filename\n",
       "NormalizedTest                               NaN\n",
       "QuietTest                                0.11700\n",
       "PausesTest                               0.74875\n",
       "TrimTest                                     NaN\n",
       "shesawthestackofkeysoutsidethebluebox    0.26225\n",
       "Name: avg_pause_duration, dtype: float64"
      ]
     },
     "execution_count": 4,
     "metadata": {},
     "output_type": "execute_result"
    }
   ],
   "source": [
    "pd.read_csv(\"./TestingFiles.csv\", index_col = \"filename\")[\"avg_pause_duration\"]"
   ]
  },
  {
   "cell_type": "code",
   "execution_count": null,
   "id": "f454bbde",
   "metadata": {},
   "outputs": [],
   "source": []
  },
  {
   "cell_type": "markdown",
   "id": "4001134e",
   "metadata": {},
   "source": []
  }
 ],
 "metadata": {
  "kernelspec": {
   "display_name": "Python 3",
   "language": "python",
   "name": "python3"
  },
  "language_info": {
   "codemirror_mode": {
    "name": "ipython",
    "version": 3
   },
   "file_extension": ".py",
   "mimetype": "text/x-python",
   "name": "python",
   "nbconvert_exporter": "python",
   "pygments_lexer": "ipython3",
   "version": "3.13.5"
  }
 },
 "nbformat": 4,
 "nbformat_minor": 5
}
