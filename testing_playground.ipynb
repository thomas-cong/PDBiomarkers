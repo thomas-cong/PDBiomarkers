{
 "cells": [
  {
   "cell_type": "code",
   "execution_count": 3,
   "id": "f28082b3",
   "metadata": {},
   "outputs": [],
   "source": [
    "from feature_calculation import build_biomarker_csv"
   ]
  },
  {
   "cell_type": "code",
   "execution_count": 4,
   "id": "5e2fa015",
   "metadata": {},
   "outputs": [],
   "source": [
    "import pandas as pd\n",
    "import warnings\n",
    "\n",
    "warnings.filterwarnings(\"ignore\")"
   ]
  },
  {
   "cell_type": "code",
   "execution_count": 5,
   "id": "2a3d3f39",
   "metadata": {},
   "outputs": [
    {
     "name": "stderr",
     "output_type": "stream",
     "text": [
      " 17%|█▋        | 1/6 [00:01<00:09,  1.80s/it]"
     ]
    },
    {
     "name": "stdout",
     "output_type": "stream",
     "text": [
      "No silence detected in audio file, returning 0\n"
     ]
    },
    {
     "name": "stderr",
     "output_type": "stream",
     "text": [
      "100%|██████████| 6/6 [00:07<00:00,  1.27s/it]\n",
      "Local version of model already exists (/Users/thomas.cong/Documents/MFA/pretrained_models/dictionary/english_mfa.dict). Use the --ignore_cache flag to force redownloading.\n",
      "Local version of model already exists (/Users/thomas.cong/Documents/MFA/pretrained_models/acoustic/english_mfa.zip). Use the --ignore_cache flag to force redownloading.\n"
     ]
    },
    {
     "data": {
      "text/html": [
       "<pre style=\"white-space:pre;overflow-x:auto;line-height:normal;font-family:Menlo,'DejaVu Sans Mono',consolas,'Courier New',monospace\"></pre>\n"
      ],
      "text/plain": []
     },
     "metadata": {},
     "output_type": "display_data"
    },
    {
     "data": {
      "text/html": [
       "<pre style=\"white-space:pre;overflow-x:auto;line-height:normal;font-family:Menlo,'DejaVu Sans Mono',consolas,'Courier New',monospace\"></pre>\n"
      ],
      "text/plain": []
     },
     "metadata": {},
     "output_type": "display_data"
    },
    {
     "data": {
      "text/html": [
       "<pre style=\"white-space:pre;overflow-x:auto;line-height:normal;font-family:Menlo,'DejaVu Sans Mono',consolas,'Courier New',monospace\"></pre>\n"
      ],
      "text/plain": []
     },
     "metadata": {},
     "output_type": "display_data"
    },
    {
     "data": {
      "text/html": [
       "<pre style=\"white-space:pre;overflow-x:auto;line-height:normal;font-family:Menlo,'DejaVu Sans Mono',consolas,'Courier New',monospace\"></pre>\n"
      ],
      "text/plain": []
     },
     "metadata": {},
     "output_type": "display_data"
    },
    {
     "data": {
      "text/html": [
       "<pre style=\"white-space:pre;overflow-x:auto;line-height:normal;font-family:Menlo,'DejaVu Sans Mono',consolas,'Courier New',monospace\"></pre>\n"
      ],
      "text/plain": []
     },
     "metadata": {},
     "output_type": "display_data"
    },
    {
     "data": {
      "text/html": [
       "<pre style=\"white-space:pre;overflow-x:auto;line-height:normal;font-family:Menlo,'DejaVu Sans Mono',consolas,'Courier New',monospace\"></pre>\n"
      ],
      "text/plain": []
     },
     "metadata": {},
     "output_type": "display_data"
    },
    {
     "data": {
      "text/html": [
       "<pre style=\"white-space:pre;overflow-x:auto;line-height:normal;font-family:Menlo,'DejaVu Sans Mono',consolas,'Courier New',monospace\"></pre>\n"
      ],
      "text/plain": []
     },
     "metadata": {},
     "output_type": "display_data"
    },
    {
     "data": {
      "text/html": [
       "<pre style=\"white-space:pre;overflow-x:auto;line-height:normal;font-family:Menlo,'DejaVu Sans Mono',consolas,'Courier New',monospace\"></pre>\n"
      ],
      "text/plain": []
     },
     "metadata": {},
     "output_type": "display_data"
    },
    {
     "data": {
      "text/html": [
       "<pre style=\"white-space:pre;overflow-x:auto;line-height:normal;font-family:Menlo,'DejaVu Sans Mono',consolas,'Courier New',monospace\"></pre>\n"
      ],
      "text/plain": []
     },
     "metadata": {},
     "output_type": "display_data"
    },
    {
     "data": {
      "text/html": [
       "<pre style=\"white-space:pre;overflow-x:auto;line-height:normal;font-family:Menlo,'DejaVu Sans Mono',consolas,'Courier New',monospace\"></pre>\n"
      ],
      "text/plain": []
     },
     "metadata": {},
     "output_type": "display_data"
    },
    {
     "name": "stderr",
     "output_type": "stream",
     "text": [
      "100%|██████████| 6/6 [00:00<00:00, 11.85it/s]"
     ]
    },
    {
     "name": "stdout",
     "output_type": "stream",
     "text": [
      "Metrics saved to ./TestingFiles.csv\n"
     ]
    },
    {
     "name": "stderr",
     "output_type": "stream",
     "text": [
      "\n"
     ]
    }
   ],
   "source": [
    "testing_csv = build_biomarker_csv.build_csv(\n",
    "    \"./TestingFiles.csv\", audio_dir=\"./Audio Files\", results_dir=\"./Results-\"\n",
    ")"
   ]
  },
  {
   "cell_type": "code",
   "execution_count": 4,
   "id": "42bd032c",
   "metadata": {},
   "outputs": [],
   "source": [
    "testing_csv = pd.read_csv(\"./TestingFiles.csv\", index_col=\"filename\")"
   ]
  },
  {
   "cell_type": "code",
   "execution_count": 5,
   "id": "52df2509",
   "metadata": {},
   "outputs": [
    {
     "data": {
      "text/html": [
       "<div>\n",
       "<style scoped>\n",
       "    .dataframe tbody tr th:only-of-type {\n",
       "        vertical-align: middle;\n",
       "    }\n",
       "\n",
       "    .dataframe tbody tr th {\n",
       "        vertical-align: top;\n",
       "    }\n",
       "\n",
       "    .dataframe thead th {\n",
       "        text-align: right;\n",
       "    }\n",
       "</style>\n",
       "<table border=\"1\" class=\"dataframe\">\n",
       "  <thead>\n",
       "    <tr style=\"text-align: right;\">\n",
       "      <th></th>\n",
       "      <th>filename.1</th>\n",
       "      <th>aavs</th>\n",
       "      <th>hull_area</th>\n",
       "      <th>speech_rate</th>\n",
       "      <th>articulation_rate</th>\n",
       "      <th>average_syllable_duration</th>\n",
       "      <th>avg_word_length</th>\n",
       "      <th>content_richness</th>\n",
       "      <th>mattr</th>\n",
       "      <th>phrase_patterns</th>\n",
       "      <th>...</th>\n",
       "      <th>shimmer_local</th>\n",
       "      <th>shimmer_local_db</th>\n",
       "      <th>shimmer_apq3</th>\n",
       "      <th>shimmer_apq5</th>\n",
       "      <th>jitter_local</th>\n",
       "      <th>jitter_local_db</th>\n",
       "      <th>jitter_apq3</th>\n",
       "      <th>jitter_apq5</th>\n",
       "      <th>ppe</th>\n",
       "      <th>vai</th>\n",
       "    </tr>\n",
       "    <tr>\n",
       "      <th>filename</th>\n",
       "      <th></th>\n",
       "      <th></th>\n",
       "      <th></th>\n",
       "      <th></th>\n",
       "      <th></th>\n",
       "      <th></th>\n",
       "      <th></th>\n",
       "      <th></th>\n",
       "      <th></th>\n",
       "      <th></th>\n",
       "      <th></th>\n",
       "      <th></th>\n",
       "      <th></th>\n",
       "      <th></th>\n",
       "      <th></th>\n",
       "      <th></th>\n",
       "      <th></th>\n",
       "      <th></th>\n",
       "      <th></th>\n",
       "      <th></th>\n",
       "      <th></th>\n",
       "    </tr>\n",
       "  </thead>\n",
       "  <tbody>\n",
       "    <tr>\n",
       "      <th>NormalizedTest</th>\n",
       "      <td>NormalizedTest</td>\n",
       "      <td>119104.964047</td>\n",
       "      <td>1.210356e+06</td>\n",
       "      <td>2.217295</td>\n",
       "      <td>2.217295</td>\n",
       "      <td>0.451000</td>\n",
       "      <td>5.500000</td>\n",
       "      <td>0.666667</td>\n",
       "      <td>1.000</td>\n",
       "      <td>0</td>\n",
       "      <td>...</td>\n",
       "      <td>0.062624</td>\n",
       "      <td>0.717023</td>\n",
       "      <td>0.025288</td>\n",
       "      <td>0.036471</td>\n",
       "      <td>0.012248</td>\n",
       "      <td>0.000067</td>\n",
       "      <td>0.005966</td>\n",
       "      <td>0.007385</td>\n",
       "      <td>1.005076</td>\n",
       "      <td>NaN</td>\n",
       "    </tr>\n",
       "    <tr>\n",
       "      <th>QuietTest</th>\n",
       "      <td>QuietTest</td>\n",
       "      <td>246668.888794</td>\n",
       "      <td>1.789206e+06</td>\n",
       "      <td>4.253927</td>\n",
       "      <td>4.439891</td>\n",
       "      <td>0.225231</td>\n",
       "      <td>3.454545</td>\n",
       "      <td>0.666667</td>\n",
       "      <td>1.000</td>\n",
       "      <td>0</td>\n",
       "      <td>...</td>\n",
       "      <td>0.118402</td>\n",
       "      <td>1.041907</td>\n",
       "      <td>0.045694</td>\n",
       "      <td>0.061457</td>\n",
       "      <td>0.035637</td>\n",
       "      <td>0.000281</td>\n",
       "      <td>0.018838</td>\n",
       "      <td>0.017258</td>\n",
       "      <td>0.979945</td>\n",
       "      <td>NaN</td>\n",
       "    </tr>\n",
       "    <tr>\n",
       "      <th>PausesTest</th>\n",
       "      <td>PausesTest</td>\n",
       "      <td>187788.290008</td>\n",
       "      <td>1.108947e+06</td>\n",
       "      <td>0.786988</td>\n",
       "      <td>1.716247</td>\n",
       "      <td>0.582667</td>\n",
       "      <td>3.600000</td>\n",
       "      <td>0.800000</td>\n",
       "      <td>1.000</td>\n",
       "      <td>0</td>\n",
       "      <td>...</td>\n",
       "      <td>0.083387</td>\n",
       "      <td>0.841054</td>\n",
       "      <td>0.036461</td>\n",
       "      <td>0.055848</td>\n",
       "      <td>0.020683</td>\n",
       "      <td>0.000221</td>\n",
       "      <td>0.010310</td>\n",
       "      <td>0.009627</td>\n",
       "      <td>0.400004</td>\n",
       "      <td>NaN</td>\n",
       "    </tr>\n",
       "    <tr>\n",
       "      <th>TrimTest</th>\n",
       "      <td>TrimTest</td>\n",
       "      <td>204002.295568</td>\n",
       "      <td>1.156253e+06</td>\n",
       "      <td>1.305483</td>\n",
       "      <td>1.754386</td>\n",
       "      <td>0.570000</td>\n",
       "      <td>4.750000</td>\n",
       "      <td>0.666667</td>\n",
       "      <td>1.000</td>\n",
       "      <td>0</td>\n",
       "      <td>...</td>\n",
       "      <td>0.084729</td>\n",
       "      <td>0.893788</td>\n",
       "      <td>0.035369</td>\n",
       "      <td>0.052103</td>\n",
       "      <td>0.027081</td>\n",
       "      <td>0.000312</td>\n",
       "      <td>0.013659</td>\n",
       "      <td>0.015554</td>\n",
       "      <td>1.010018</td>\n",
       "      <td>NaN</td>\n",
       "    </tr>\n",
       "    <tr>\n",
       "      <th>phoneticpangram</th>\n",
       "      <td>phoneticpangram</td>\n",
       "      <td>209561.416972</td>\n",
       "      <td>1.231358e+06</td>\n",
       "      <td>3.611916</td>\n",
       "      <td>4.590802</td>\n",
       "      <td>0.217827</td>\n",
       "      <td>3.956522</td>\n",
       "      <td>0.625000</td>\n",
       "      <td>1.000</td>\n",
       "      <td>0</td>\n",
       "      <td>...</td>\n",
       "      <td>0.112177</td>\n",
       "      <td>1.057697</td>\n",
       "      <td>0.038708</td>\n",
       "      <td>0.059074</td>\n",
       "      <td>0.029751</td>\n",
       "      <td>0.000296</td>\n",
       "      <td>0.012703</td>\n",
       "      <td>0.016286</td>\n",
       "      <td>0.975112</td>\n",
       "      <td>NaN</td>\n",
       "    </tr>\n",
       "    <tr>\n",
       "      <th>shesawthestackofkeysoutsidethebluebox</th>\n",
       "      <td>shesawthestackofkeysoutsidethebluebox</td>\n",
       "      <td>220325.434729</td>\n",
       "      <td>2.275891e+06</td>\n",
       "      <td>2.114804</td>\n",
       "      <td>3.206596</td>\n",
       "      <td>0.311857</td>\n",
       "      <td>3.700000</td>\n",
       "      <td>0.500000</td>\n",
       "      <td>0.875</td>\n",
       "      <td>0</td>\n",
       "      <td>...</td>\n",
       "      <td>0.121365</td>\n",
       "      <td>1.279319</td>\n",
       "      <td>0.045256</td>\n",
       "      <td>0.056811</td>\n",
       "      <td>0.028290</td>\n",
       "      <td>0.000230</td>\n",
       "      <td>0.012133</td>\n",
       "      <td>0.012665</td>\n",
       "      <td>1.060836</td>\n",
       "      <td>NaN</td>\n",
       "    </tr>\n",
       "  </tbody>\n",
       "</table>\n",
       "<p>6 rows × 36 columns</p>\n",
       "</div>"
      ],
      "text/plain": [
       "                                                                  filename.1  \\\n",
       "filename                                                                       \n",
       "NormalizedTest                                                NormalizedTest   \n",
       "QuietTest                                                          QuietTest   \n",
       "PausesTest                                                        PausesTest   \n",
       "TrimTest                                                            TrimTest   \n",
       "phoneticpangram                                              phoneticpangram   \n",
       "shesawthestackofkeysoutsidethebluebox  shesawthestackofkeysoutsidethebluebox   \n",
       "\n",
       "                                                aavs     hull_area  \\\n",
       "filename                                                             \n",
       "NormalizedTest                         119104.964047  1.210356e+06   \n",
       "QuietTest                              246668.888794  1.789206e+06   \n",
       "PausesTest                             187788.290008  1.108947e+06   \n",
       "TrimTest                               204002.295568  1.156253e+06   \n",
       "phoneticpangram                        209561.416972  1.231358e+06   \n",
       "shesawthestackofkeysoutsidethebluebox  220325.434729  2.275891e+06   \n",
       "\n",
       "                                       speech_rate  articulation_rate  \\\n",
       "filename                                                                \n",
       "NormalizedTest                            2.217295           2.217295   \n",
       "QuietTest                                 4.253927           4.439891   \n",
       "PausesTest                                0.786988           1.716247   \n",
       "TrimTest                                  1.305483           1.754386   \n",
       "phoneticpangram                           3.611916           4.590802   \n",
       "shesawthestackofkeysoutsidethebluebox     2.114804           3.206596   \n",
       "\n",
       "                                       average_syllable_duration  \\\n",
       "filename                                                           \n",
       "NormalizedTest                                          0.451000   \n",
       "QuietTest                                               0.225231   \n",
       "PausesTest                                              0.582667   \n",
       "TrimTest                                                0.570000   \n",
       "phoneticpangram                                         0.217827   \n",
       "shesawthestackofkeysoutsidethebluebox                   0.311857   \n",
       "\n",
       "                                       avg_word_length  content_richness  \\\n",
       "filename                                                                   \n",
       "NormalizedTest                                5.500000          0.666667   \n",
       "QuietTest                                     3.454545          0.666667   \n",
       "PausesTest                                    3.600000          0.800000   \n",
       "TrimTest                                      4.750000          0.666667   \n",
       "phoneticpangram                               3.956522          0.625000   \n",
       "shesawthestackofkeysoutsidethebluebox         3.700000          0.500000   \n",
       "\n",
       "                                       mattr  phrase_patterns  ...  \\\n",
       "filename                                                       ...   \n",
       "NormalizedTest                         1.000                0  ...   \n",
       "QuietTest                              1.000                0  ...   \n",
       "PausesTest                             1.000                0  ...   \n",
       "TrimTest                               1.000                0  ...   \n",
       "phoneticpangram                        1.000                0  ...   \n",
       "shesawthestackofkeysoutsidethebluebox  0.875                0  ...   \n",
       "\n",
       "                                       shimmer_local  shimmer_local_db  \\\n",
       "filename                                                                 \n",
       "NormalizedTest                              0.062624          0.717023   \n",
       "QuietTest                                   0.118402          1.041907   \n",
       "PausesTest                                  0.083387          0.841054   \n",
       "TrimTest                                    0.084729          0.893788   \n",
       "phoneticpangram                             0.112177          1.057697   \n",
       "shesawthestackofkeysoutsidethebluebox       0.121365          1.279319   \n",
       "\n",
       "                                       shimmer_apq3  shimmer_apq5  \\\n",
       "filename                                                            \n",
       "NormalizedTest                             0.025288      0.036471   \n",
       "QuietTest                                  0.045694      0.061457   \n",
       "PausesTest                                 0.036461      0.055848   \n",
       "TrimTest                                   0.035369      0.052103   \n",
       "phoneticpangram                            0.038708      0.059074   \n",
       "shesawthestackofkeysoutsidethebluebox      0.045256      0.056811   \n",
       "\n",
       "                                       jitter_local  jitter_local_db  \\\n",
       "filename                                                               \n",
       "NormalizedTest                             0.012248         0.000067   \n",
       "QuietTest                                  0.035637         0.000281   \n",
       "PausesTest                                 0.020683         0.000221   \n",
       "TrimTest                                   0.027081         0.000312   \n",
       "phoneticpangram                            0.029751         0.000296   \n",
       "shesawthestackofkeysoutsidethebluebox      0.028290         0.000230   \n",
       "\n",
       "                                       jitter_apq3  jitter_apq5       ppe  vai  \n",
       "filename                                                                        \n",
       "NormalizedTest                            0.005966     0.007385  1.005076  NaN  \n",
       "QuietTest                                 0.018838     0.017258  0.979945  NaN  \n",
       "PausesTest                                0.010310     0.009627  0.400004  NaN  \n",
       "TrimTest                                  0.013659     0.015554  1.010018  NaN  \n",
       "phoneticpangram                           0.012703     0.016286  0.975112  NaN  \n",
       "shesawthestackofkeysoutsidethebluebox     0.012133     0.012665  1.060836  NaN  \n",
       "\n",
       "[6 rows x 36 columns]"
      ]
     },
     "execution_count": 5,
     "metadata": {},
     "output_type": "execute_result"
    }
   ],
   "source": [
    "testing_csv"
   ]
  },
  {
   "cell_type": "code",
   "execution_count": null,
   "id": "35f5fa86",
   "metadata": {},
   "outputs": [],
   "source": []
  }
 ],
 "metadata": {
  "kernelspec": {
   "display_name": "test",
   "language": "python",
   "name": "python3"
  },
  "language_info": {
   "codemirror_mode": {
    "name": "ipython",
    "version": 3
   },
   "file_extension": ".py",
   "mimetype": "text/x-python",
   "name": "python",
   "nbconvert_exporter": "python",
   "pygments_lexer": "ipython3",
   "version": "3.11.13"
  }
 },
 "nbformat": 4,
 "nbformat_minor": 5
}
