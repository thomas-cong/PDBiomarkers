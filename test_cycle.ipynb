{
 "cells": [
  {
   "cell_type": "code",
   "execution_count": 1,
   "id": "efc9818b",
   "metadata": {},
   "outputs": [
    {
     "name": "stdout",
     "output_type": "stream",
     "text": [
      "Processing NormalizedTest.wav...\n",
      "Text data saved to ./Text Files\n",
      "Preprocessed audio saved to ./Audio Files/NormalizedTest_preprocessed.wav\n",
      "Alignment_Path:  ./Alignment Files/NormalizedTest_preprocessed.json\n",
      "Alignment data saved to ./Alignment Files\n",
      "Processing QuietTest.wav...\n",
      "Text data saved to ./Text Files\n",
      "Preprocessed audio saved to ./Audio Files/QuietTest_preprocessed.wav\n",
      "Alignment_Path:  ./Alignment Files/QuietTest_preprocessed.json\n",
      "Alignment data saved to ./Alignment Files\n",
      "Processing PausesTest.wav...\n",
      "Text data saved to ./Text Files\n",
      "Preprocessed audio saved to ./Audio Files/PausesTest_preprocessed.wav\n",
      "Alignment_Path:  ./Alignment Files/PausesTest_preprocessed.json\n",
      "Alignment data saved to ./Alignment Files\n",
      "Processing TrimTest.wav...\n",
      "Text data saved to ./Text Files\n",
      "Preprocessed audio saved to ./Audio Files/TrimTest_preprocessed.wav\n",
      "Alignment_Path:  ./Alignment Files/TrimTest_preprocessed.json\n",
      "Alignment data saved to ./Alignment Files\n",
      "Processing shesawthestackofkeysoutsidethebluebox.wav...\n",
      "Text data saved to ./Text Files\n",
      "Preprocessed audio saved to ./Audio Files/shesawthestackofkeysoutsidethebluebox_preprocessed.wav\n",
      "Alignment_Path:  ./Alignment Files/shesawthestackofkeysoutsidethebluebox_preprocessed.json\n",
      "Alignment data saved to ./Alignment Files\n",
      "Metrics saved to speech_metrics.csv\n"
     ]
    }
   ],
   "source": [
    "import warnings\n",
    "warnings.filterwarnings('ignore')\n",
    "import feature_calculation.build_biomarker_csv as build_biomarker_csv\n",
    "build_biomarker_csv.build_csv('speech_metrics.csv', audio_dir='./Audio Files')"
   ]
  },
  {
   "cell_type": "code",
   "execution_count": 2,
   "id": "5d114e69",
   "metadata": {},
   "outputs": [
    {
     "data": {
      "text/html": [
       "<div>\n",
       "<style scoped>\n",
       "    .dataframe tbody tr th:only-of-type {\n",
       "        vertical-align: middle;\n",
       "    }\n",
       "\n",
       "    .dataframe tbody tr th {\n",
       "        vertical-align: top;\n",
       "    }\n",
       "\n",
       "    .dataframe thead th {\n",
       "        text-align: right;\n",
       "    }\n",
       "</style>\n",
       "<table border=\"1\" class=\"dataframe\">\n",
       "  <thead>\n",
       "    <tr style=\"text-align: right;\">\n",
       "      <th></th>\n",
       "      <th>harm_mean</th>\n",
       "      <th>harm_std</th>\n",
       "    </tr>\n",
       "  </thead>\n",
       "  <tbody>\n",
       "    <tr>\n",
       "      <th>0</th>\n",
       "      <td>12.737242</td>\n",
       "      <td>7.242536</td>\n",
       "    </tr>\n",
       "    <tr>\n",
       "      <th>1</th>\n",
       "      <td>10.941224</td>\n",
       "      <td>6.829310</td>\n",
       "    </tr>\n",
       "    <tr>\n",
       "      <th>2</th>\n",
       "      <td>11.122159</td>\n",
       "      <td>6.225543</td>\n",
       "    </tr>\n",
       "    <tr>\n",
       "      <th>3</th>\n",
       "      <td>8.060396</td>\n",
       "      <td>8.483392</td>\n",
       "    </tr>\n",
       "    <tr>\n",
       "      <th>4</th>\n",
       "      <td>6.098701</td>\n",
       "      <td>6.105600</td>\n",
       "    </tr>\n",
       "  </tbody>\n",
       "</table>\n",
       "</div>"
      ],
      "text/plain": [
       "   harm_mean  harm_std\n",
       "0  12.737242  7.242536\n",
       "1  10.941224  6.829310\n",
       "2  11.122159  6.225543\n",
       "3   8.060396  8.483392\n",
       "4   6.098701  6.105600"
      ]
     },
     "execution_count": 2,
     "metadata": {},
     "output_type": "execute_result"
    }
   ],
   "source": [
    "import pandas as pd\n",
    "pd.read_csv(\"./speech_metrics.csv\").head()[[\"harm_mean\", \"harm_std\"]]"
   ]
  },
  {
   "cell_type": "code",
   "execution_count": 9,
   "id": "283d56c6",
   "metadata": {},
   "outputs": [
    {
     "data": {
      "text/plain": [
       "11"
      ]
     },
     "execution_count": 9,
     "metadata": {},
     "output_type": "execute_result"
    }
   ],
   "source": [
    "pd.read_csv(\"List of features [feature_version = 77, agg_version = 16].csv\")[\"feature category\"].unique().__len__()"
   ]
  },
  {
   "cell_type": "code",
   "execution_count": null,
   "id": "5a1cdaa6",
   "metadata": {},
   "outputs": [],
   "source": []
  }
 ],
 "metadata": {
  "kernelspec": {
   "display_name": "Python 3",
   "language": "python",
   "name": "python3"
  },
  "language_info": {
   "codemirror_mode": {
    "name": "ipython",
    "version": 3
   },
   "file_extension": ".py",
   "mimetype": "text/x-python",
   "name": "python",
   "nbconvert_exporter": "python",
   "pygments_lexer": "ipython3",
   "version": "3.13.4"
  }
 },
 "nbformat": 4,
 "nbformat_minor": 5
}
