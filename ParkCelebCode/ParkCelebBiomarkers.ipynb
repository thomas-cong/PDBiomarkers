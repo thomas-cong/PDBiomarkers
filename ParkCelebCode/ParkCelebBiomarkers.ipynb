{
 "cells": [
  {
   "cell_type": "code",
   "execution_count": 1,
   "id": "64a61fc1",
   "metadata": {},
   "outputs": [],
   "source": [
    "import sys\n",
    "sys.path.append('/Users/thomas.cong/Downloads/ResearchCode')\n",
    "import pandas as pd\n",
    "from feature_calculation import build_biomarker_csv\n",
    "import warnings\n",
    "warnings.filterwarnings(\"ignore\")"
   ]
  },
  {
   "cell_type": "code",
   "execution_count": null,
   "id": "7e6af897",
   "metadata": {},
   "outputs": [
    {
     "name": "stderr",
     "output_type": "stream",
     "text": [
      "Processing audio files:   0%|          | 0/1289 [00:00<?, ?it/s]"
     ]
    },
    {
     "name": "stdout",
     "output_type": "stream",
     "text": [
      "Using existing transcription file: ./Park_Celeb_Biomarkers/Text/cn_51_vfHerGMRbh4_None_preprocessed.txt\n",
      "Using existing alignment file: ./Park_Celeb_Biomarkers/Alignments/cn_51_vfHerGMRbh4_None_preprocessed.json\n",
      "Using existing transcription file: ./Park_Celeb_Biomarkers/Text/pd_38_L4RCBJ1Z3hY_-2_preprocessed.txt\n",
      "Using existing alignment file: ./Park_Celeb_Biomarkers/Alignments/pd_38_L4RCBJ1Z3hY_-2_preprocessed.json\n",
      "Using existing transcription file: ./Park_Celeb_Biomarkers/Text/pd_03_JTzJ3fq9RWA_2_preprocessed.txt\n",
      "Using existing alignment file: ./Park_Celeb_Biomarkers/Alignments/pd_03_JTzJ3fq9RWA_2_preprocessed.json\n",
      "Using existing transcription file: ./Park_Celeb_Biomarkers/Text/cn_19_TAdDkgF2W6w_12_preprocessed.txt\n",
      "Using existing transcription file: ./Park_Celeb_Biomarkers/Text/pd_33_zRZZ_fEe1QU_-13_preprocessed.txt\n",
      "Using existing alignment file: ./Park_Celeb_Biomarkers/Alignments/pd_33_zRZZ_fEe1QU_-13_preprocessed.json\n",
      "Using existing alignment file: ./Park_Celeb_Biomarkers/Alignments/cn_19_TAdDkgF2W6w_12_preprocessed.json\n",
      "Using existing transcription file: ./Park_Celeb_Biomarkers/Text/cn_16_8BR7RbjPzc0_-4_preprocessed.txt\n",
      "Using existing alignment file: ./Park_Celeb_Biomarkers/Alignments/cn_16_8BR7RbjPzc0_-4_preprocessed.json\n",
      "Using existing transcription file: ./Park_Celeb_Biomarkers/Text/cn_15_91Ud-0ry-9g_20_preprocessed.txt\n",
      "Using existing alignment file: ./Park_Celeb_Biomarkers/Alignments/cn_15_91Ud-0ry-9g_20_preprocessed.json\n",
      "Using existing transcription file: ./Park_Celeb_Biomarkers/Text/cn_11_aHKFAmb3REE_-4_preprocessed.txt\n",
      "Using existing alignment file: ./Park_Celeb_Biomarkers/Alignments/cn_11_aHKFAmb3REE_-4_preprocessed.json\n",
      "Using existing transcription file: ./Park_Celeb_Biomarkers/Text/pd_14_QsvkNjY2dxE_-21_preprocessed.txt\n",
      "Using existing alignment file: ./Park_Celeb_Biomarkers/Alignments/pd_14_QsvkNjY2dxE_-21_preprocessed.json\n",
      "Using existing transcription file: ./Park_Celeb_Biomarkers/Text/cn_60_mdAMo247weI_None_preprocessed.txt\n",
      "Using existing alignment file: ./Park_Celeb_Biomarkers/Alignments/cn_60_mdAMo247weI_None_preprocessed.json\n",
      "Using existing transcription file: ./Park_Celeb_Biomarkers/Text/cn_05_8qRN2OvILIo_2_preprocessed.txt\n",
      "Using existing alignment file: ./Park_Celeb_Biomarkers/Alignments/cn_05_8qRN2OvILIo_2_preprocessed.json\n",
      "Using existing transcription file: ./Park_Celeb_Biomarkers/Text/pd_10_IQI4VcIodTo_3_preprocessed.txt\n",
      "Using existing alignment file: ./Park_Celeb_Biomarkers/Alignments/pd_10_IQI4VcIodTo_3_preprocessed.json\n"
     ]
    },
    {
     "name": "stderr",
     "output_type": "stream",
     "text": [
      "Processing audio files:   0%|          | 1/1289 [00:16<5:58:15, 16.69s/it]"
     ]
    },
    {
     "name": "stdout",
     "output_type": "stream",
     "text": [
      "Using existing transcription file: ./Park_Celeb_Biomarkers/Text/cn_46_ZIuaTEve20M_-3_preprocessed.txt\n",
      "Using existing transcription file: ./Park_Celeb_Biomarkers/Text/pd_33_VGeIoLel4MQ_-23_preprocessed.txt\n",
      "Using existing alignment file: ./Park_Celeb_Biomarkers/Alignments/cn_46_ZIuaTEve20M_-3_preprocessed.json\n",
      "Using existing alignment file: ./Park_Celeb_Biomarkers/Alignments/pd_33_VGeIoLel4MQ_-23_preprocessed.json\n",
      "Using existing transcription file: ./Park_Celeb_Biomarkers/Text/pd_24_UYJ59JRhW3g_4_preprocessed.txt\n",
      "Using existing alignment file: ./Park_Celeb_Biomarkers/Alignments/pd_24_UYJ59JRhW3g_4_preprocessed.json\n",
      "Using existing transcription file: ./Park_Celeb_Biomarkers/Text/pd_11_eCb0qVF-bD4_8_preprocessed.txt\n",
      "Using existing alignment file: ./Park_Celeb_Biomarkers/Alignments/pd_11_eCb0qVF-bD4_8_preprocessed.json\n",
      "Using existing transcription file: ./Park_Celeb_Biomarkers/Text/cn_06_XqhtI1Qzla8_9_preprocessed.txt\n",
      "Using existing alignment file: ./Park_Celeb_Biomarkers/Alignments/cn_06_XqhtI1Qzla8_9_preprocessed.json\n",
      "Using existing transcription file: ./Park_Celeb_Biomarkers/Text/pd_34_23CzD5mlxcA_0_preprocessed.txt\n",
      "Using existing alignment file: ./Park_Celeb_Biomarkers/Alignments/pd_34_23CzD5mlxcA_0_preprocessed.json\n"
     ]
    },
    {
     "name": "stderr",
     "output_type": "stream",
     "text": [
      "Processing audio files:   1%|          | 8/1289 [00:20<41:34,  1.95s/it]  "
     ]
    },
    {
     "name": "stdout",
     "output_type": "stream",
     "text": [
      "Using existing transcription file: ./Park_Celeb_Biomarkers/Text/pd_26_nmEB7R-p9_8_26_preprocessed.txt\n",
      "Using existing alignment file: ./Park_Celeb_Biomarkers/Alignments/pd_26_nmEB7R-p9_8_26_preprocessed.json\n",
      "Using existing transcription file: ./Park_Celeb_Biomarkers/Text/cn_33_CQaOruXoZ_0_5_preprocessed.txt\n",
      "Using existing alignment file: ./Park_Celeb_Biomarkers/Alignments/cn_33_CQaOruXoZ_0_5_preprocessed.json\n"
     ]
    },
    {
     "name": "stderr",
     "output_type": "stream",
     "text": [
      "Processing audio files:   1%|          | 9/1289 [00:21<37:52,  1.78s/it]"
     ]
    },
    {
     "name": "stdout",
     "output_type": "stream",
     "text": [
      "Using existing transcription file: ./Park_Celeb_Biomarkers/Text/cn_07_wfLjhW8eioc_28_preprocessed.txt\n",
      "Using existing alignment file: ./Park_Celeb_Biomarkers/Alignments/cn_07_wfLjhW8eioc_28_preprocessed.json\n"
     ]
    },
    {
     "name": "stderr",
     "output_type": "stream",
     "text": [
      "Processing audio files:   1%|          | 10/1289 [00:22<33:13,  1.56s/it]"
     ]
    },
    {
     "name": "stdout",
     "output_type": "stream",
     "text": [
      "Using existing transcription file: ./Park_Celeb_Biomarkers/Text/cn_28_9J0Lb8CLac0_11_preprocessed.txt\n",
      "Using existing alignment file: ./Park_Celeb_Biomarkers/Alignments/cn_28_9J0Lb8CLac0_11_preprocessed.json\n"
     ]
    },
    {
     "name": "stderr",
     "output_type": "stream",
     "text": [
      "Processing audio files:   1%|          | 11/1289 [00:23<30:18,  1.42s/it]"
     ]
    },
    {
     "name": "stdout",
     "output_type": "stream",
     "text": [
      "Using existing transcription file: ./Park_Celeb_Biomarkers/Text/cn_34_krW8TgH1Re0_4_preprocessed.txt\n",
      "Using existing alignment file: ./Park_Celeb_Biomarkers/Alignments/cn_34_krW8TgH1Re0_4_preprocessed.json\n"
     ]
    },
    {
     "name": "stderr",
     "output_type": "stream",
     "text": [
      "Processing audio files:   1%|          | 12/1289 [00:24<24:55,  1.17s/it]"
     ]
    },
    {
     "name": "stdout",
     "output_type": "stream",
     "text": [
      "Using existing transcription file: ./Park_Celeb_Biomarkers/Text/cn_38_PT_f_r-1Gts_29_preprocessed.txt\n",
      "Using existing alignment file: ./Park_Celeb_Biomarkers/Alignments/cn_38_PT_f_r-1Gts_29_preprocessed.json\n",
      "Using existing transcription file: ./Park_Celeb_Biomarkers/Text/cn_29_ZNb2UjSTCYU_-7_preprocessed.txt\n",
      "Using existing alignment file: ./Park_Celeb_Biomarkers/Alignments/cn_29_ZNb2UjSTCYU_-7_preprocessed.json\n"
     ]
    },
    {
     "name": "stderr",
     "output_type": "stream",
     "text": [
      "Processing audio files:   1%|          | 15/1289 [00:24<14:29,  1.46it/s]"
     ]
    },
    {
     "name": "stdout",
     "output_type": "stream",
     "text": [
      "Using existing transcription file: ./Park_Celeb_Biomarkers/Text/cn_16_RStbYLPxBT8_3_preprocessed.txt\n",
      "Using existing alignment file: ./Park_Celeb_Biomarkers/Alignments/cn_16_RStbYLPxBT8_3_preprocessed.json\n",
      "Using existing transcription file: ./Park_Celeb_Biomarkers/Text/pd_11_aJfzN18SfF0_8_preprocessed.txt\n",
      "Using existing alignment file: ./Park_Celeb_Biomarkers/Alignments/pd_11_aJfzN18SfF0_8_preprocessed.json\n"
     ]
    },
    {
     "name": "stderr",
     "output_type": "stream",
     "text": [
      "Processing audio files:   1%|▏         | 17/1289 [00:27<17:16,  1.23it/s]"
     ]
    },
    {
     "name": "stdout",
     "output_type": "stream",
     "text": [
      "Using existing transcription file: ./Park_Celeb_Biomarkers/Text/cn_21_DCC-rGh5iXk_17_preprocessed.txt\n",
      "Using existing alignment file: ./Park_Celeb_Biomarkers/Alignments/cn_21_DCC-rGh5iXk_17_preprocessed.json\n",
      "Using existing transcription file: ./Park_Celeb_Biomarkers/Text/cn_50_KSXLKrn6nyU_None_preprocessed.txt\n",
      "Using existing alignment file: ./Park_Celeb_Biomarkers/Alignments/cn_50_KSXLKrn6nyU_None_preprocessed.json\n"
     ]
    },
    {
     "name": "stderr",
     "output_type": "stream",
     "text": [
      "Processing audio files:   1%|▏         | 18/1289 [00:27<15:55,  1.33it/s]"
     ]
    },
    {
     "name": "stdout",
     "output_type": "stream",
     "text": [
      "Using existing transcription file: ./Park_Celeb_Biomarkers/Text/cn_21_H7N_AtxPzvY_16_preprocessed.txt\n",
      "Using existing alignment file: ./Park_Celeb_Biomarkers/Alignments/cn_21_H7N_AtxPzvY_16_preprocessed.json\n"
     ]
    },
    {
     "name": "stderr",
     "output_type": "stream",
     "text": [
      "Processing audio files:   1%|▏         | 19/1289 [00:28<13:32,  1.56it/s]"
     ]
    },
    {
     "name": "stdout",
     "output_type": "stream",
     "text": [
      "Using existing transcription file: ./Park_Celeb_Biomarkers/Text/cn_07_agwQGhsS1qw_32_preprocessed.txt\n",
      "Using existing alignment file: ./Park_Celeb_Biomarkers/Alignments/cn_07_agwQGhsS1qw_32_preprocessed.json\n"
     ]
    },
    {
     "name": "stderr",
     "output_type": "stream",
     "text": [
      "Processing audio files:   2%|▏         | 21/1289 [00:28<10:10,  2.08it/s]"
     ]
    },
    {
     "name": "stdout",
     "output_type": "stream",
     "text": [
      "Using existing transcription file: ./Park_Celeb_Biomarkers/Text/pd_25_XEndpHQVuew_-6_preprocessed.txt\n",
      "Using existing alignment file: ./Park_Celeb_Biomarkers/Alignments/pd_25_XEndpHQVuew_-6_preprocessed.json\n",
      "Using existing transcription file: ./Park_Celeb_Biomarkers/Text/cn_07_xQXR8P2ri-A_8_preprocessed.txt\n",
      "Using existing alignment file: ./Park_Celeb_Biomarkers/Alignments/cn_07_xQXR8P2ri-A_8_preprocessed.json\n"
     ]
    },
    {
     "name": "stderr",
     "output_type": "stream",
     "text": [
      "Processing audio files:   2%|▏         | 22/1289 [00:29<13:25,  1.57it/s]"
     ]
    },
    {
     "name": "stdout",
     "output_type": "stream",
     "text": [
      "Using existing transcription file: ./Park_Celeb_Biomarkers/Text/cn_24_L_6MagJPKtI_3_preprocessed.txt\n",
      "Using existing alignment file: ./Park_Celeb_Biomarkers/Alignments/cn_24_L_6MagJPKtI_3_preprocessed.json\n"
     ]
    },
    {
     "name": "stderr",
     "output_type": "stream",
     "text": [
      "Processing audio files:   2%|▏         | 23/1289 [00:31<19:50,  1.06it/s]"
     ]
    },
    {
     "name": "stdout",
     "output_type": "stream",
     "text": [
      "Using existing transcription file: ./Park_Celeb_Biomarkers/Text/cn_05_ZobfMpPlwNc_3_preprocessed.txt\n",
      "Using existing alignment file: ./Park_Celeb_Biomarkers/Alignments/cn_05_ZobfMpPlwNc_3_preprocessed.json\n"
     ]
    },
    {
     "name": "stderr",
     "output_type": "stream",
     "text": [
      "Processing audio files:   2%|▏         | 25/1289 [00:34<21:12,  1.01s/it]"
     ]
    },
    {
     "name": "stdout",
     "output_type": "stream",
     "text": [
      "Using existing transcription file: ./Park_Celeb_Biomarkers/Text/cn_43_nVVu0Q8eb4c_-19_preprocessed.txt\n",
      "Using existing alignment file: ./Park_Celeb_Biomarkers/Alignments/cn_43_nVVu0Q8eb4c_-19_preprocessed.json\n",
      "Using existing transcription file: ./Park_Celeb_Biomarkers/Text/cn_09_BhEqsNYLaSM_8_preprocessed.txt\n",
      "Using existing alignment file: ./Park_Celeb_Biomarkers/Alignments/cn_09_BhEqsNYLaSM_8_preprocessed.json\n"
     ]
    },
    {
     "name": "stderr",
     "output_type": "stream",
     "text": [
      "Processing audio files:   2%|▏         | 26/1289 [00:34<19:36,  1.07it/s]"
     ]
    },
    {
     "name": "stdout",
     "output_type": "stream",
     "text": [
      "Using existing transcription file: ./Park_Celeb_Biomarkers/Text/cn_29_rtgWph6qnS4_-6_preprocessed.txt\n",
      "Using existing alignment file: ./Park_Celeb_Biomarkers/Alignments/cn_29_rtgWph6qnS4_-6_preprocessed.json\n"
     ]
    },
    {
     "name": "stderr",
     "output_type": "stream",
     "text": [
      "Processing audio files:   2%|▏         | 27/1289 [00:36<22:12,  1.06s/it]"
     ]
    },
    {
     "name": "stdout",
     "output_type": "stream",
     "text": [
      "Using existing transcription file: ./Park_Celeb_Biomarkers/Text/pd_39_ta9vp0Z3JGE_12_preprocessed.txt\n",
      "Using existing alignment file: ./Park_Celeb_Biomarkers/Alignments/pd_39_ta9vp0Z3JGE_12_preprocessed.json\n"
     ]
    },
    {
     "name": "stderr",
     "output_type": "stream",
     "text": [
      "Processing audio files:   2%|▏         | 28/1289 [00:37<22:24,  1.07s/it]"
     ]
    },
    {
     "name": "stdout",
     "output_type": "stream",
     "text": [
      "Using existing transcription file: ./Park_Celeb_Biomarkers/Text/pd_38_-39QoxveIIc_11_preprocessed.txt\n",
      "Using existing alignment file: ./Park_Celeb_Biomarkers/Alignments/pd_38_-39QoxveIIc_11_preprocessed.json\n"
     ]
    },
    {
     "name": "stderr",
     "output_type": "stream",
     "text": [
      "Processing audio files:   2%|▏         | 29/1289 [00:38<21:38,  1.03s/it]"
     ]
    },
    {
     "name": "stdout",
     "output_type": "stream",
     "text": [
      "Using existing transcription file: ./Park_Celeb_Biomarkers/Text/cn_07_GXrrF63M9r8_-4_preprocessed.txt\n",
      "Using existing alignment file: ./Park_Celeb_Biomarkers/Alignments/cn_07_GXrrF63M9r8_-4_preprocessed.json\n"
     ]
    },
    {
     "name": "stderr",
     "output_type": "stream",
     "text": [
      "Processing audio files:   2%|▏         | 31/1289 [00:40<20:48,  1.01it/s]"
     ]
    },
    {
     "name": "stdout",
     "output_type": "stream",
     "text": [
      "Using existing transcription file: ./Park_Celeb_Biomarkers/Text/cn_26_P17X2OAi6yI_32_preprocessed.txt\n",
      "Using existing alignment file: ./Park_Celeb_Biomarkers/Alignments/cn_26_P17X2OAi6yI_32_preprocessed.json\n",
      "Using existing transcription file: ./Park_Celeb_Biomarkers/Text/pd_02_FVOFoY9h8NY_10_preprocessed.txt\n",
      "Using existing alignment file: ./Park_Celeb_Biomarkers/Alignments/pd_02_FVOFoY9h8NY_10_preprocessed.json\n"
     ]
    },
    {
     "name": "stderr",
     "output_type": "stream",
     "text": [
      "Processing audio files:   2%|▏         | 32/1289 [00:42<30:03,  1.43s/it]"
     ]
    },
    {
     "name": "stdout",
     "output_type": "stream",
     "text": [
      "Using existing transcription file: ./Park_Celeb_Biomarkers/Text/pd_12_2MSh3In3XKA_16_preprocessed.txt\n",
      "Using existing alignment file: ./Park_Celeb_Biomarkers/Alignments/pd_12_2MSh3In3XKA_16_preprocessed.json\n"
     ]
    },
    {
     "name": "stderr",
     "output_type": "stream",
     "text": [
      "Processing audio files:   3%|▎         | 35/1289 [00:44<16:17,  1.28it/s]"
     ]
    },
    {
     "name": "stdout",
     "output_type": "stream",
     "text": [
      "Using existing transcription file: ./Park_Celeb_Biomarkers/Text/pd_32_vy37nY41kBE_-3_preprocessed.txt\n",
      "Using existing alignment file: ./Park_Celeb_Biomarkers/Alignments/pd_32_vy37nY41kBE_-3_preprocessed.json\n",
      "Using existing transcription file: ./Park_Celeb_Biomarkers/Text/pd_34_v9irv_jZpz0_4_preprocessed.txt\n",
      "Using existing alignment file: ./Park_Celeb_Biomarkers/Alignments/pd_34_v9irv_jZpz0_4_preprocessed.json\n"
     ]
    },
    {
     "name": "stderr",
     "output_type": "stream",
     "text": [
      "Processing audio files:   3%|▎         | 36/1289 [00:44<14:22,  1.45it/s]"
     ]
    },
    {
     "name": "stdout",
     "output_type": "stream",
     "text": [
      "Using existing transcription file: ./Park_Celeb_Biomarkers/Text/cn_60_r7rpWLLPQSA_None_preprocessed.txt\n",
      "Using existing alignment file: ./Park_Celeb_Biomarkers/Alignments/cn_60_r7rpWLLPQSA_None_preprocessed.json\n",
      "Using existing transcription file: ./Park_Celeb_Biomarkers/Text/pd_18_Hyz10NMSBiQ_5_preprocessed.txt\n",
      "Using existing alignment file: ./Park_Celeb_Biomarkers/Alignments/pd_18_Hyz10NMSBiQ_5_preprocessed.json\n"
     ]
    },
    {
     "name": "stderr",
     "output_type": "stream",
     "text": [
      "Processing audio files:   3%|▎         | 37/1289 [00:46<22:15,  1.07s/it]"
     ]
    },
    {
     "name": "stdout",
     "output_type": "stream",
     "text": [
      "Using existing transcription file: ./Park_Celeb_Biomarkers/Text/pd_01_RSgGOMpM0uI_4_preprocessed.txt\n",
      "Using existing alignment file: ./Park_Celeb_Biomarkers/Alignments/pd_01_RSgGOMpM0uI_4_preprocessed.json\n"
     ]
    },
    {
     "name": "stderr",
     "output_type": "stream",
     "text": [
      "Processing audio files:   3%|▎         | 38/1289 [00:48<23:52,  1.14s/it]"
     ]
    },
    {
     "name": "stdout",
     "output_type": "stream",
     "text": [
      "Using existing transcription file: ./Park_Celeb_Biomarkers/Text/pd_30_DiwfG4RBVdg_-3_preprocessed.txt\n",
      "Using existing alignment file: ./Park_Celeb_Biomarkers/Alignments/pd_30_DiwfG4RBVdg_-3_preprocessed.json\n"
     ]
    },
    {
     "name": "stderr",
     "output_type": "stream",
     "text": [
      "Processing audio files:   3%|▎         | 39/1289 [00:48<21:42,  1.04s/it]"
     ]
    },
    {
     "name": "stdout",
     "output_type": "stream",
     "text": [
      "Using existing transcription file: ./Park_Celeb_Biomarkers/Text/cn_50_E0vs4ThX3rA_None_preprocessed.txt\n",
      "Using existing alignment file: ./Park_Celeb_Biomarkers/Alignments/cn_50_E0vs4ThX3rA_None_preprocessed.json\n",
      "Using existing transcription file: ./Park_Celeb_Biomarkers/Text/cn_03_GjOhh-wxk2w_-4_preprocessed.txt\n",
      "Using existing alignment file: ./Park_Celeb_Biomarkers/Alignments/cn_03_GjOhh-wxk2w_-4_preprocessed.json\n"
     ]
    },
    {
     "name": "stderr",
     "output_type": "stream",
     "text": [
      "Processing audio files:   3%|▎         | 41/1289 [00:51<22:57,  1.10s/it]"
     ]
    },
    {
     "name": "stdout",
     "output_type": "stream",
     "text": [
      "Using existing transcription file: ./Park_Celeb_Biomarkers/Text/cn_06_bAb8KIhgVAI_4_preprocessed.txt\n",
      "Using existing alignment file: ./Park_Celeb_Biomarkers/Alignments/cn_06_bAb8KIhgVAI_4_preprocessed.json\n"
     ]
    },
    {
     "name": "stderr",
     "output_type": "stream",
     "text": [
      "Processing audio files:   3%|▎         | 42/1289 [00:51<20:38,  1.01it/s]"
     ]
    },
    {
     "name": "stdout",
     "output_type": "stream",
     "text": [
      "Using existing transcription file: ./Park_Celeb_Biomarkers/Text/cn_46_IhCRLjTnPpk_1_preprocessed.txt\n",
      "Using existing alignment file: ./Park_Celeb_Biomarkers/Alignments/cn_46_IhCRLjTnPpk_1_preprocessed.json\n"
     ]
    },
    {
     "name": "stderr",
     "output_type": "stream",
     "text": [
      "Processing audio files:   3%|▎         | 43/1289 [00:53<26:29,  1.28s/it]"
     ]
    },
    {
     "name": "stdout",
     "output_type": "stream",
     "text": [
      "Using existing transcription file: ./Park_Celeb_Biomarkers/Text/pd_12_M3FuJAAfOe4_16_preprocessed.txt\n",
      "Using existing alignment file: ./Park_Celeb_Biomarkers/Alignments/pd_12_M3FuJAAfOe4_16_preprocessed.json\n"
     ]
    },
    {
     "name": "stderr",
     "output_type": "stream",
     "text": [
      "Processing audio files:   3%|▎         | 45/1289 [00:54<17:06,  1.21it/s]"
     ]
    },
    {
     "name": "stdout",
     "output_type": "stream",
     "text": [
      "Using existing transcription file: ./Park_Celeb_Biomarkers/Text/cn_11_QqrhKjrgFrk_12_preprocessed.txt\n",
      "Using existing alignment file: ./Park_Celeb_Biomarkers/Alignments/cn_11_QqrhKjrgFrk_12_preprocessed.json\n",
      "Using existing transcription file: ./Park_Celeb_Biomarkers/Text/cn_38_Xah_7-GHCsg_-2_preprocessed.txt\n",
      "Using existing alignment file: ./Park_Celeb_Biomarkers/Alignments/cn_38_Xah_7-GHCsg_-2_preprocessed.json\n"
     ]
    },
    {
     "name": "stderr",
     "output_type": "stream",
     "text": [
      "Processing audio files:   4%|▎         | 46/1289 [00:56<24:19,  1.17s/it]"
     ]
    },
    {
     "name": "stdout",
     "output_type": "stream",
     "text": [
      "Using existing transcription file: ./Park_Celeb_Biomarkers/Text/cn_45_638zS5LKUAs_None_preprocessed.txt\n",
      "Using existing alignment file: ./Park_Celeb_Biomarkers/Alignments/cn_45_638zS5LKUAs_None_preprocessed.json\n"
     ]
    },
    {
     "name": "stderr",
     "output_type": "stream",
     "text": [
      "Processing audio files:   4%|▎         | 47/1289 [00:58<25:48,  1.25s/it]"
     ]
    },
    {
     "name": "stdout",
     "output_type": "stream",
     "text": [
      "Using existing transcription file: ./Park_Celeb_Biomarkers/Text/cn_23_Gup2FooaDNA_2_preprocessed.txt\n",
      "Using existing alignment file: ./Park_Celeb_Biomarkers/Alignments/cn_23_Gup2FooaDNA_2_preprocessed.json\n"
     ]
    },
    {
     "name": "stderr",
     "output_type": "stream",
     "text": [
      "Processing audio files:   4%|▎         | 48/1289 [00:59<24:50,  1.20s/it]"
     ]
    },
    {
     "name": "stdout",
     "output_type": "stream",
     "text": [
      "Using existing transcription file: ./Park_Celeb_Biomarkers/Text/pd_03_WdqSRgj5bdo_-7_preprocessed.txt\n",
      "Using existing alignment file: ./Park_Celeb_Biomarkers/Alignments/pd_03_WdqSRgj5bdo_-7_preprocessed.json\n"
     ]
    },
    {
     "name": "stderr",
     "output_type": "stream",
     "text": [
      "Processing audio files:   4%|▍         | 49/1289 [01:00<24:13,  1.17s/it]"
     ]
    },
    {
     "name": "stdout",
     "output_type": "stream",
     "text": [
      "Using existing transcription file: ./Park_Celeb_Biomarkers/Text/cn_24_pbJdS0hGoEQ_3_preprocessed.txt\n",
      "Using existing alignment file: ./Park_Celeb_Biomarkers/Alignments/cn_24_pbJdS0hGoEQ_3_preprocessed.json\n"
     ]
    },
    {
     "name": "stderr",
     "output_type": "stream",
     "text": [
      "Processing audio files:   4%|▍         | 50/1289 [01:01<25:00,  1.21s/it]"
     ]
    },
    {
     "name": "stdout",
     "output_type": "stream",
     "text": [
      "Using existing transcription file: ./Park_Celeb_Biomarkers/Text/pd_33_0sw5MCTO-ug_-8_preprocessed.txt\n",
      "Using existing alignment file: ./Park_Celeb_Biomarkers/Alignments/pd_33_0sw5MCTO-ug_-8_preprocessed.json\n"
     ]
    },
    {
     "name": "stderr",
     "output_type": "stream",
     "text": [
      "Processing audio files:   4%|▍         | 52/1289 [01:03<21:19,  1.03s/it]"
     ]
    },
    {
     "name": "stdout",
     "output_type": "stream",
     "text": [
      "Using existing transcription file: ./Park_Celeb_Biomarkers/Text/pd_12_jrl6oo_Vzjs_15_preprocessed.txt\n",
      "Using existing alignment file: ./Park_Celeb_Biomarkers/Alignments/pd_12_jrl6oo_Vzjs_15_preprocessed.json\n",
      "Using existing transcription file: ./Park_Celeb_Biomarkers/Text/pd_04_02Aw7cNPKbM_3_preprocessed.txt\n",
      "Using existing alignment file: ./Park_Celeb_Biomarkers/Alignments/pd_04_02Aw7cNPKbM_3_preprocessed.json\n"
     ]
    },
    {
     "name": "stderr",
     "output_type": "stream",
     "text": [
      "Processing audio files:   4%|▍         | 53/1289 [01:04<18:39,  1.10it/s]"
     ]
    },
    {
     "name": "stdout",
     "output_type": "stream",
     "text": [
      "Using existing transcription file: ./Park_Celeb_Biomarkers/Text/cn_35_5Pmn2xhWbP0_4_preprocessed.txt\n",
      "Using existing alignment file: ./Park_Celeb_Biomarkers/Alignments/cn_35_5Pmn2xhWbP0_4_preprocessed.json\n"
     ]
    },
    {
     "name": "stderr",
     "output_type": "stream",
     "text": [
      "Processing audio files:   4%|▍         | 54/1289 [01:05<18:32,  1.11it/s]"
     ]
    },
    {
     "name": "stdout",
     "output_type": "stream",
     "text": [
      "Using existing transcription file: ./Park_Celeb_Biomarkers/Text/cn_36_eGEfEhHFb9g_5_preprocessed.txt\n",
      "Using existing alignment file: ./Park_Celeb_Biomarkers/Alignments/cn_36_eGEfEhHFb9g_5_preprocessed.json\n"
     ]
    },
    {
     "name": "stderr",
     "output_type": "stream",
     "text": [
      "Processing audio files:   4%|▍         | 55/1289 [01:06<19:28,  1.06it/s]"
     ]
    },
    {
     "name": "stdout",
     "output_type": "stream",
     "text": [
      "Using existing transcription file: ./Park_Celeb_Biomarkers/Text/cn_02_VlAieg2fjv8_0_preprocessed.txt\n",
      "Using existing alignment file: ./Park_Celeb_Biomarkers/Alignments/cn_02_VlAieg2fjv8_0_preprocessed.json\n"
     ]
    },
    {
     "name": "stderr",
     "output_type": "stream",
     "text": [
      "Processing audio files:   4%|▍         | 57/1289 [01:08<20:26,  1.00it/s]"
     ]
    },
    {
     "name": "stdout",
     "output_type": "stream",
     "text": [
      "Using existing transcription file: ./Park_Celeb_Biomarkers/Text/cn_32_68R346yEOrI_5_preprocessed.txt\n",
      "Using existing alignment file: ./Park_Celeb_Biomarkers/Alignments/cn_32_68R346yEOrI_5_preprocessed.json\n",
      "Using existing transcription file: ./Park_Celeb_Biomarkers/Text/pd_08_cNfXVThhfQQ_3_preprocessed.txt\n",
      "Using existing alignment file: ./Park_Celeb_Biomarkers/Alignments/pd_08_cNfXVThhfQQ_3_preprocessed.json\n",
      "Using existing transcription file: ./Park_Celeb_Biomarkers/Text/pd_24_55fop1624Js_5_preprocessed.txt\n",
      "Using existing alignment file: ./Park_Celeb_Biomarkers/Alignments/pd_24_55fop1624Js_5_preprocessed.json\n"
     ]
    },
    {
     "name": "stderr",
     "output_type": "stream",
     "text": [
      "Processing audio files:   5%|▍         | 59/1289 [01:09<16:06,  1.27it/s]"
     ]
    },
    {
     "name": "stdout",
     "output_type": "stream",
     "text": [
      "Using existing transcription file: ./Park_Celeb_Biomarkers/Text/cn_28_GE4eClPloP4_3_preprocessed.txt\n",
      "Using existing alignment file: ./Park_Celeb_Biomarkers/Alignments/cn_28_GE4eClPloP4_3_preprocessed.json\n"
     ]
    },
    {
     "name": "stderr",
     "output_type": "stream",
     "text": [
      "Processing audio files:   5%|▍         | 60/1289 [01:12<25:08,  1.23s/it]"
     ]
    },
    {
     "name": "stdout",
     "output_type": "stream",
     "text": [
      "Using existing transcription file: ./Park_Celeb_Biomarkers/Text/cn_19_Jg_lFRl_GdE_18_preprocessed.txt\n",
      "Using existing alignment file: ./Park_Celeb_Biomarkers/Alignments/cn_19_Jg_lFRl_GdE_18_preprocessed.json\n"
     ]
    },
    {
     "name": "stderr",
     "output_type": "stream",
     "text": [
      "Processing audio files:   5%|▍         | 61/1289 [01:12<21:44,  1.06s/it]"
     ]
    },
    {
     "name": "stdout",
     "output_type": "stream",
     "text": [
      "Using existing transcription file: ./Park_Celeb_Biomarkers/Text/cn_15_LmvmRsFDnBc_16_preprocessed.txt\n",
      "Using existing alignment file: ./Park_Celeb_Biomarkers/Alignments/cn_15_LmvmRsFDnBc_16_preprocessed.json\n"
     ]
    },
    {
     "name": "stderr",
     "output_type": "stream",
     "text": [
      "Processing audio files:   5%|▍         | 62/1289 [01:13<22:02,  1.08s/it]"
     ]
    },
    {
     "name": "stdout",
     "output_type": "stream",
     "text": [
      "Using existing transcription file: ./Park_Celeb_Biomarkers/Text/cn_33_KqHpd8niLig_5_preprocessed.txt\n",
      "Using existing alignment file: ./Park_Celeb_Biomarkers/Alignments/cn_33_KqHpd8niLig_5_preprocessed.json\n"
     ]
    },
    {
     "name": "stderr",
     "output_type": "stream",
     "text": [
      "Processing audio files:   5%|▍         | 63/1289 [01:15<22:34,  1.10s/it]"
     ]
    },
    {
     "name": "stdout",
     "output_type": "stream",
     "text": [
      "Using existing transcription file: ./Park_Celeb_Biomarkers/Text/pd_06_r3AthGPOJdU_-31_preprocessed.txt\n",
      "Using existing alignment file: ./Park_Celeb_Biomarkers/Alignments/pd_06_r3AthGPOJdU_-31_preprocessed.json\n"
     ]
    },
    {
     "name": "stderr",
     "output_type": "stream",
     "text": [
      "Processing audio files:   5%|▍         | 64/1289 [01:15<18:53,  1.08it/s]"
     ]
    },
    {
     "name": "stdout",
     "output_type": "stream",
     "text": [
      "Using existing transcription file: ./Park_Celeb_Biomarkers/Text/cn_41_KNrSfSg8M3o_None_preprocessed.txt\n",
      "Using existing alignment file: ./Park_Celeb_Biomarkers/Alignments/cn_41_KNrSfSg8M3o_None_preprocessed.json\n"
     ]
    },
    {
     "name": "stderr",
     "output_type": "stream",
     "text": [
      "Processing audio files:   5%|▌         | 65/1289 [01:19<36:25,  1.79s/it]"
     ]
    },
    {
     "name": "stdout",
     "output_type": "stream",
     "text": [
      "Using existing transcription file: ./Park_Celeb_Biomarkers/Text/cn_47_rMav0bfYJDo_None_preprocessed.txt\n",
      "Using existing alignment file: ./Park_Celeb_Biomarkers/Alignments/cn_47_rMav0bfYJDo_None_preprocessed.json\n"
     ]
    }
   ],
   "source": [
    "build_biomarker_csv.build_csv(\n",
    "    \"./Park_Celeb_Biomarkers.csv\",\n",
    "    audio_dir=\"/Users/thomas.cong/Downloads/ResearchCode/ParkCelebCode/Preprocessed Park Celeb Files\",\n",
    "    results_dir=\"./Park_Celeb_Biomarkers\",\n",
    ")"
   ]
  },
  {
   "cell_type": "code",
   "execution_count": null,
   "id": "d9a028c8",
   "metadata": {},
   "outputs": [
    {
     "ename": "AttributeError",
     "evalue": "Can only use .str accessor with string values!",
     "output_type": "error",
     "traceback": [
      "\u001b[31m---------------------------------------------------------------------------\u001b[39m",
      "\u001b[31mAttributeError\u001b[39m                            Traceback (most recent call last)",
      "\u001b[36mCell\u001b[39m\u001b[36m \u001b[39m\u001b[32mIn[23]\u001b[39m\u001b[32m, line 8\u001b[39m\n\u001b[32m      6\u001b[39m     \u001b[38;5;28;01mexcept\u001b[39;00m:\n\u001b[32m      7\u001b[39m         \u001b[38;5;28;01mreturn\u001b[39;00m \u001b[38;5;28;01mNone\u001b[39;00m\n\u001b[32m----> \u001b[39m\u001b[32m8\u001b[39m ParkCelebBiomarkers[\u001b[33m\"\u001b[39m\u001b[33mYFD\u001b[39m\u001b[33m\"\u001b[39m] = \u001b[43mParkCelebBiomarkers\u001b[49m\u001b[43m.\u001b[49m\u001b[43mindex\u001b[49m\u001b[43m.\u001b[49m\u001b[43mstr\u001b[49m.split(\u001b[33m\"\u001b[39m\u001b[33m_\u001b[39m\u001b[33m\"\u001b[39m).str[-\u001b[32m1\u001b[39m].map(get_yfd)\n\u001b[32m      9\u001b[39m ParkCelebBiomarkers[\u001b[33m\"\u001b[39m\u001b[33mStatus\u001b[39m\u001b[33m\"\u001b[39m] = ParkCelebBiomarkers.index.str.split(\u001b[33m\"\u001b[39m\u001b[33m_\u001b[39m\u001b[33m\"\u001b[39m).str[\u001b[32m0\u001b[39m].str.upper()\n\u001b[32m     10\u001b[39m ParkCelebBiomarkers.to_csv(\u001b[33m\"\u001b[39m\u001b[33m./Park_Celeb_Biomarkers.csv\u001b[39m\u001b[33m\"\u001b[39m, index = \u001b[38;5;28;01mFalse\u001b[39;00m)\n",
      "\u001b[36mFile \u001b[39m\u001b[32m/opt/anaconda3/envs/test/lib/python3.11/site-packages/pandas/core/accessor.py:224\u001b[39m, in \u001b[36mCachedAccessor.__get__\u001b[39m\u001b[34m(self, obj, cls)\u001b[39m\n\u001b[32m    221\u001b[39m \u001b[38;5;28;01mif\u001b[39;00m obj \u001b[38;5;129;01mis\u001b[39;00m \u001b[38;5;28;01mNone\u001b[39;00m:\n\u001b[32m    222\u001b[39m     \u001b[38;5;66;03m# we're accessing the attribute of the class, i.e., Dataset.geo\u001b[39;00m\n\u001b[32m    223\u001b[39m     \u001b[38;5;28;01mreturn\u001b[39;00m \u001b[38;5;28mself\u001b[39m._accessor\n\u001b[32m--> \u001b[39m\u001b[32m224\u001b[39m accessor_obj = \u001b[38;5;28;43mself\u001b[39;49m\u001b[43m.\u001b[49m\u001b[43m_accessor\u001b[49m\u001b[43m(\u001b[49m\u001b[43mobj\u001b[49m\u001b[43m)\u001b[49m\n\u001b[32m    225\u001b[39m \u001b[38;5;66;03m# Replace the property with the accessor object. Inspired by:\u001b[39;00m\n\u001b[32m    226\u001b[39m \u001b[38;5;66;03m# https://www.pydanny.com/cached-property.html\u001b[39;00m\n\u001b[32m    227\u001b[39m \u001b[38;5;66;03m# We need to use object.__setattr__ because we overwrite __setattr__ on\u001b[39;00m\n\u001b[32m    228\u001b[39m \u001b[38;5;66;03m# NDFrame\u001b[39;00m\n\u001b[32m    229\u001b[39m \u001b[38;5;28mobject\u001b[39m.\u001b[34m__setattr__\u001b[39m(obj, \u001b[38;5;28mself\u001b[39m._name, accessor_obj)\n",
      "\u001b[36mFile \u001b[39m\u001b[32m/opt/anaconda3/envs/test/lib/python3.11/site-packages/pandas/core/strings/accessor.py:194\u001b[39m, in \u001b[36mStringMethods.__init__\u001b[39m\u001b[34m(self, data)\u001b[39m\n\u001b[32m    191\u001b[39m \u001b[38;5;28;01mdef\u001b[39;00m\u001b[38;5;250m \u001b[39m\u001b[34m__init__\u001b[39m(\u001b[38;5;28mself\u001b[39m, data) -> \u001b[38;5;28;01mNone\u001b[39;00m:\n\u001b[32m    192\u001b[39m     \u001b[38;5;28;01mfrom\u001b[39;00m\u001b[38;5;250m \u001b[39m\u001b[34;01mpandas\u001b[39;00m\u001b[34;01m.\u001b[39;00m\u001b[34;01mcore\u001b[39;00m\u001b[34;01m.\u001b[39;00m\u001b[34;01marrays\u001b[39;00m\u001b[34;01m.\u001b[39;00m\u001b[34;01mstring_\u001b[39;00m\u001b[38;5;250m \u001b[39m\u001b[38;5;28;01mimport\u001b[39;00m StringDtype\n\u001b[32m--> \u001b[39m\u001b[32m194\u001b[39m     \u001b[38;5;28mself\u001b[39m._inferred_dtype = \u001b[38;5;28;43mself\u001b[39;49m\u001b[43m.\u001b[49m\u001b[43m_validate\u001b[49m\u001b[43m(\u001b[49m\u001b[43mdata\u001b[49m\u001b[43m)\u001b[49m\n\u001b[32m    195\u001b[39m     \u001b[38;5;28mself\u001b[39m._is_categorical = \u001b[38;5;28misinstance\u001b[39m(data.dtype, CategoricalDtype)\n\u001b[32m    196\u001b[39m     \u001b[38;5;28mself\u001b[39m._is_string = \u001b[38;5;28misinstance\u001b[39m(data.dtype, StringDtype)\n",
      "\u001b[36mFile \u001b[39m\u001b[32m/opt/anaconda3/envs/test/lib/python3.11/site-packages/pandas/core/strings/accessor.py:248\u001b[39m, in \u001b[36mStringMethods._validate\u001b[39m\u001b[34m(data)\u001b[39m\n\u001b[32m    245\u001b[39m inferred_dtype = lib.infer_dtype(values, skipna=\u001b[38;5;28;01mTrue\u001b[39;00m)\n\u001b[32m    247\u001b[39m \u001b[38;5;28;01mif\u001b[39;00m inferred_dtype \u001b[38;5;129;01mnot\u001b[39;00m \u001b[38;5;129;01min\u001b[39;00m allowed_types:\n\u001b[32m--> \u001b[39m\u001b[32m248\u001b[39m     \u001b[38;5;28;01mraise\u001b[39;00m \u001b[38;5;167;01mAttributeError\u001b[39;00m(\u001b[33m\"\u001b[39m\u001b[33mCan only use .str accessor with string values!\u001b[39m\u001b[33m\"\u001b[39m)\n\u001b[32m    249\u001b[39m \u001b[38;5;28;01mreturn\u001b[39;00m inferred_dtype\n",
      "\u001b[31mAttributeError\u001b[39m: Can only use .str accessor with string values!"
     ]
    }
   ],
   "source": [
    "ParkCelebBiomarkers = pd.read_csv(\"./Park_Celeb_Biomarkers.csv\")\n",
    "ParkCelebBiomarkers.drop_duplicates(inplace=True)\n",
    "def get_yfd(filename):\n",
    "    try:\n",
    "        return float(filename.split(\"_\")[-1])\n",
    "    except:\n",
    "        return None\n",
    "ParkCelebBiomarkers[\"YFD\"] = ParkCelebBiomarkers.index.str.split(\"_\").str[-1].map(get_yfd)\n",
    "ParkCelebBiomarkers[\"Status\"] = ParkCelebBiomarkers.index.str.split(\"_\").str[0].str.upper()\n",
    "ParkCelebBiomarkers.to_csv(\"./Park_Celeb_Biomarkers.csv\")"
   ]
  },
  {
   "cell_type": "code",
   "execution_count": null,
   "id": "86dd3e01",
   "metadata": {},
   "outputs": [],
   "source": []
  }
 ],
 "metadata": {
  "kernelspec": {
   "display_name": "test",
   "language": "python",
   "name": "python3"
  },
  "language_info": {
   "codemirror_mode": {
    "name": "ipython",
    "version": 3
   },
   "file_extension": ".py",
   "mimetype": "text/x-python",
   "name": "python",
   "nbconvert_exporter": "python",
   "pygments_lexer": "ipython3",
   "version": "3.11.13"
  }
 },
 "nbformat": 4,
 "nbformat_minor": 5
}
