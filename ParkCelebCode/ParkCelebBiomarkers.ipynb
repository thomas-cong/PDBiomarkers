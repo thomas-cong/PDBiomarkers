{
 "cells": [
  {
   "cell_type": "code",
   "execution_count": 1,
   "id": "64a61fc1",
   "metadata": {},
   "outputs": [],
   "source": [
    "import sys\n",
    "sys.path.append('/Users/thomas.cong/Downloads/ResearchCode')\n",
    "import pandas as pd\n",
    "from feature_calculation import build_biomarker_csv\n",
    "import warnings\n",
    "warnings.filterwarnings(\"ignore\")"
   ]
  },
  {
   "cell_type": "code",
   "execution_count": 2,
   "id": "7e6af897",
   "metadata": {},
   "outputs": [
    {
     "name": "stderr",
     "output_type": "stream",
     "text": [
      "Processing audio files:   7%|▋         | 91/1289 [02:06<43:27,  2.18s/it]  "
     ]
    },
    {
     "name": "stdout",
     "output_type": "stream",
     "text": [
      "Audio file pd_31_90mj79GqWhc_9 is too short, skipping...\n"
     ]
    },
    {
     "name": "stderr",
     "output_type": "stream",
     "text": [
      "Processing audio files:   7%|▋         | 95/1289 [02:17<34:09,  1.72s/it]  "
     ]
    },
    {
     "name": "stdout",
     "output_type": "stream",
     "text": [
      "Audio file pd_24_xpIYmtHT_7k_7 is too short, skipping...\n"
     ]
    },
    {
     "name": "stderr",
     "output_type": "stream",
     "text": [
      "Processing audio files:  11%|█         | 141/1289 [03:18<23:33,  1.23s/it]"
     ]
    },
    {
     "name": "stdout",
     "output_type": "stream",
     "text": [
      "Audio file pd_08_wUZD8R2uuBw_7 is too short, skipping...\n"
     ]
    },
    {
     "name": "stderr",
     "output_type": "stream",
     "text": [
      "Processing audio files:  13%|█▎        | 165/1289 [04:09<57:49,  3.09s/it]  "
     ]
    },
    {
     "name": "stdout",
     "output_type": "stream",
     "text": [
      "Audio file cn_45_5DlPpi0yuqI_None is too short, skipping...\n"
     ]
    },
    {
     "name": "stderr",
     "output_type": "stream",
     "text": [
      "Processing audio files:  13%|█▎        | 173/1289 [04:27<44:27,  2.39s/it]  "
     ]
    },
    {
     "name": "stdout",
     "output_type": "stream",
     "text": [
      "Audio file pd_12_UuBSJbTlP9c_23 is too short, skipping...\n"
     ]
    },
    {
     "name": "stderr",
     "output_type": "stream",
     "text": [
      "Processing audio files:  18%|█▊        | 233/1289 [11:40<34:39,  1.97s/it]   "
     ]
    },
    {
     "name": "stdout",
     "output_type": "stream",
     "text": [
      "Audio file cn_31_vac-SYPywcw_10 is too short, skipping...\n"
     ]
    },
    {
     "name": "stderr",
     "output_type": "stream",
     "text": [
      "Processing audio files:  19%|█▊        | 241/1289 [11:58<54:28,  3.12s/it]"
     ]
    },
    {
     "name": "stdout",
     "output_type": "stream",
     "text": [
      "No silence detected in audio file, returning 0\n"
     ]
    },
    {
     "name": "stderr",
     "output_type": "stream",
     "text": [
      "Processing audio files:  19%|█▉        | 243/1289 [11:59<35:56,  2.06s/it]"
     ]
    },
    {
     "name": "stdout",
     "output_type": "stream",
     "text": [
      "Audio file cn_02_Eu8jODyHmlk_15 is too short, skipping...\n"
     ]
    },
    {
     "name": "stderr",
     "output_type": "stream",
     "text": [
      "Processing audio files:  23%|██▎       | 299/1289 [13:14<14:11,  1.16it/s]"
     ]
    },
    {
     "name": "stdout",
     "output_type": "stream",
     "text": [
      "Audio file pd_28_rTngzYQ6t9A_5 is too short, skipping...\n"
     ]
    },
    {
     "name": "stderr",
     "output_type": "stream",
     "text": [
      "Processing audio files:  28%|██▊       | 357/1289 [14:32<07:30,  2.07it/s]"
     ]
    },
    {
     "name": "stdout",
     "output_type": "stream",
     "text": [
      "Audio file cn_36_4Xbuih52M90_1 is too short, skipping...\n"
     ]
    },
    {
     "name": "stderr",
     "output_type": "stream",
     "text": [
      "Processing audio files:  31%|███       | 396/1289 [15:17<09:30,  1.57it/s]"
     ]
    },
    {
     "name": "stdout",
     "output_type": "stream",
     "text": [
      "Audio file pd_31_hImFCI_Gbf0_24 is too short, skipping...\n"
     ]
    },
    {
     "name": "stderr",
     "output_type": "stream",
     "text": [
      "Processing audio files:  31%|███       | 399/1289 [15:19<08:39,  1.71it/s]"
     ]
    },
    {
     "name": "stdout",
     "output_type": "stream",
     "text": [
      "No silence detected in audio file, returning 0\n"
     ]
    },
    {
     "name": "stderr",
     "output_type": "stream",
     "text": [
      "Processing audio files:  33%|███▎      | 426/1289 [15:59<17:46,  1.24s/it]"
     ]
    },
    {
     "name": "stdout",
     "output_type": "stream",
     "text": [
      "No silence detected in audio file, returning 0\n"
     ]
    },
    {
     "name": "stderr",
     "output_type": "stream",
     "text": [
      "Processing audio files:  42%|████▏     | 537/1289 [18:59<25:20,  2.02s/it]"
     ]
    },
    {
     "name": "stdout",
     "output_type": "stream",
     "text": [
      "Audio file cn_46_hMibmPRTzmc_0 is too short, skipping...\n"
     ]
    },
    {
     "name": "stderr",
     "output_type": "stream",
     "text": [
      "Processing audio files:  61%|██████    | 786/1289 [25:03<14:06,  1.68s/it]"
     ]
    },
    {
     "name": "stdout",
     "output_type": "stream",
     "text": [
      "Audio file cn_18_0FcR7Jy4FVU_7 is too short, skipping...\n"
     ]
    },
    {
     "name": "stderr",
     "output_type": "stream",
     "text": [
      "Processing audio files:  70%|██████▉   | 896/1289 [27:10<12:05,  1.84s/it]"
     ]
    },
    {
     "name": "stdout",
     "output_type": "stream",
     "text": [
      "Audio file pd_08_IdMiddKgdfA_7 is too short, skipping...\n"
     ]
    },
    {
     "name": "stderr",
     "output_type": "stream",
     "text": [
      "Processing audio files:  74%|███████▍  | 960/1289 [29:03<05:25,  1.01it/s]"
     ]
    },
    {
     "name": "stdout",
     "output_type": "stream",
     "text": [
      "Audio file cn_09_sVZ6BgQdASQ_9 is too short, skipping...\n"
     ]
    },
    {
     "name": "stderr",
     "output_type": "stream",
     "text": [
      "Processing audio files:  75%|███████▌  | 970/1289 [29:31<10:23,  1.96s/it]"
     ]
    },
    {
     "name": "stdout",
     "output_type": "stream",
     "text": [
      "Audio file pd_36_3HZBmIZvDFU_9 is too short, skipping...\n"
     ]
    },
    {
     "name": "stderr",
     "output_type": "stream",
     "text": [
      "Processing audio files:  76%|███████▌  | 978/1289 [29:49<08:54,  1.72s/it]"
     ]
    },
    {
     "name": "stdout",
     "output_type": "stream",
     "text": [
      "Audio file pd_35_feDXvUGqZHc_4 is too short, skipping...\n"
     ]
    },
    {
     "name": "stderr",
     "output_type": "stream",
     "text": [
      "Processing audio files:  77%|███████▋  | 997/1289 [30:17<09:10,  1.88s/it]"
     ]
    },
    {
     "name": "stdout",
     "output_type": "stream",
     "text": [
      "Audio file cn_31_rN84n3hb-LE_25 is too short, skipping...\n"
     ]
    },
    {
     "name": "stderr",
     "output_type": "stream",
     "text": [
      "Processing audio files:  83%|████████▎ | 1064/1289 [32:06<08:24,  2.24s/it]"
     ]
    },
    {
     "name": "stdout",
     "output_type": "stream",
     "text": [
      "Audio file cn_23_SVN6IBXa6CI_-1 is too short, skipping...\n"
     ]
    },
    {
     "name": "stderr",
     "output_type": "stream",
     "text": [
      "Processing audio files:  89%|████████▉ | 1147/1289 [34:41<03:20,  1.41s/it]"
     ]
    },
    {
     "name": "stdout",
     "output_type": "stream",
     "text": [
      "Audio file pd_27_BarcIuIEsKk_1 is too short, skipping...\n"
     ]
    },
    {
     "name": "stderr",
     "output_type": "stream",
     "text": [
      "Processing audio files:  90%|█████████ | 1166/1289 [35:05<03:30,  1.71s/it]"
     ]
    },
    {
     "name": "stdout",
     "output_type": "stream",
     "text": [
      "Audio file pd_37_cEuf9T2wKg8_0 is too short, skipping...\n"
     ]
    },
    {
     "name": "stderr",
     "output_type": "stream",
     "text": [
      "Processing audio files:  93%|█████████▎| 1194/1289 [35:35<01:23,  1.13it/s]"
     ]
    },
    {
     "name": "stdout",
     "output_type": "stream",
     "text": [
      "Audio file cn_41_pMk1ZBNOTas_None is too short, skipping...\n"
     ]
    },
    {
     "name": "stderr",
     "output_type": "stream",
     "text": [
      "Processing audio files:  93%|█████████▎| 1203/1289 [35:44<00:51,  1.66it/s]"
     ]
    },
    {
     "name": "stdout",
     "output_type": "stream",
     "text": [
      "Audio file cn_29_oTdDV_ZMCWg_-12 is too short, skipping...\n"
     ]
    },
    {
     "name": "stderr",
     "output_type": "stream",
     "text": [
      "Processing audio files:  96%|█████████▌| 1237/1289 [36:27<00:48,  1.07it/s]"
     ]
    },
    {
     "name": "stdout",
     "output_type": "stream",
     "text": [
      "Audio file pd_35_019ZO8Mj3ws_3 is too short, skipping...\n"
     ]
    },
    {
     "name": "stderr",
     "output_type": "stream",
     "text": [
      "Processing audio files: 100%|██████████| 1289/1289 [37:57<00:00,  1.77s/it]\n"
     ]
    },
    {
     "name": "stdout",
     "output_type": "stream",
     "text": [
      "Metrics saved to ./Park_Celeb_Biomarkers.csv\n"
     ]
    }
   ],
   "source": [
    "build_biomarker_csv.build_csv(\n",
    "    \"./Park_Celeb_Biomarkers.csv\",\n",
    "    audio_dir=\"/Users/thomas.cong/Downloads/ResearchCode/ParkCelebCode/Preprocessed Park Celeb Files\",\n",
    "    results_dir=\"./Park_Celeb_Biomarkers\",\n",
    ")"
   ]
  },
  {
   "cell_type": "code",
   "execution_count": 3,
   "id": "d9a028c8",
   "metadata": {},
   "outputs": [],
   "source": [
    "ParkCelebBiomarkers = pd.read_csv(\"./Park_Celeb_Biomarkers.csv\", index_col = \"filename\")\n",
    "ParkCelebBiomarkers.drop_duplicates(inplace=True)\n",
    "def get_yfd(filename):\n",
    "    try:\n",
    "        return float(filename.split(\"_\")[-1])\n",
    "    except:\n",
    "        return None\n",
    "ParkCelebBiomarkers[\"YFD\"] = ParkCelebBiomarkers.index.str.split(\"_\").str[-1].map(get_yfd)\n",
    "ParkCelebBiomarkers[\"Status\"] = ParkCelebBiomarkers.index.str.split(\"_\").str[0].str.upper()\n",
    "ParkCelebBiomarkers.to_csv(\"./Park_Celeb_Biomarkers_New.csv\")"
   ]
  },
  {
   "cell_type": "code",
   "execution_count": 6,
   "id": "86dd3e01",
   "metadata": {},
   "outputs": [],
   "source": [
    "ParkCelebBiomarkers = pd.read_csv(\"./Park_Celeb_Biomarkers.csv\", index_col = \"filename\")\n",
    "ParkCelebBiomarkers[\"subjid\"] = ParkCelebBiomarkers.index.str.split(\"_\").str[0:2].str.join(\"_\")\n",
    "ParkCelebBiomarkers.to_csv(\"./Park_Celeb_Biomarkers.csv\")"
   ]
  },
  {
   "cell_type": "code",
   "execution_count": 11,
   "id": "3856506a",
   "metadata": {},
   "outputs": [],
   "source": [
    "ParkCelebBiomarkers = pd.read_csv(\"./Park_Celeb_Biomarkers.csv\", index_col = \"filename\")\n",
    "first_and_last = []\n",
    "for subjid in ParkCelebBiomarkers[\"subjid\"].unique():\n",
    "    first = ParkCelebBiomarkers[ParkCelebBiomarkers[\"subjid\"] == subjid].YFD.min()\n",
    "    last = ParkCelebBiomarkers[ParkCelebBiomarkers[\"subjid\"] == subjid].YFD.max()\n",
    "    first_indices = ParkCelebBiomarkers[ParkCelebBiomarkers[\"subjid\"] == subjid][ParkCelebBiomarkers[ParkCelebBiomarkers[\"subjid\"] == subjid][\"YFD\"] == first].index\n",
    "    last_indices = ParkCelebBiomarkers[ParkCelebBiomarkers[\"subjid\"] == subjid][ParkCelebBiomarkers[ParkCelebBiomarkers[\"subjid\"] == subjid][\"YFD\"] == last].index\n",
    "    first_and_last.extend(first_indices)\n",
    "    first_and_last.extend(last_indices)\n",
    "first_and_last_df = ParkCelebBiomarkers.loc[first_and_last]\n",
    "first_and_last_df.to_csv(\"./Park_Celeb_Biomarkers_First_Last.csv\")\n",
    "\n",
    "    "
   ]
  },
  {
   "cell_type": "code",
   "execution_count": 10,
   "id": "5e585e3f",
   "metadata": {},
   "outputs": [
    {
     "data": {
      "text/html": [
       "<div>\n",
       "<style scoped>\n",
       "    .dataframe tbody tr th:only-of-type {\n",
       "        vertical-align: middle;\n",
       "    }\n",
       "\n",
       "    .dataframe tbody tr th {\n",
       "        vertical-align: top;\n",
       "    }\n",
       "\n",
       "    .dataframe thead th {\n",
       "        text-align: right;\n",
       "    }\n",
       "</style>\n",
       "<table border=\"1\" class=\"dataframe\">\n",
       "  <thead>\n",
       "    <tr style=\"text-align: right;\">\n",
       "      <th></th>\n",
       "      <th>aavs</th>\n",
       "      <th>hull_area</th>\n",
       "      <th>speech_rate</th>\n",
       "      <th>articulation_rate</th>\n",
       "      <th>average_syllable_duration</th>\n",
       "      <th>avg_word_length</th>\n",
       "      <th>content_richness</th>\n",
       "      <th>mattr</th>\n",
       "      <th>phrase_patterns</th>\n",
       "      <th>sentence_length</th>\n",
       "      <th>...</th>\n",
       "      <th>shimmer_apq3</th>\n",
       "      <th>shimmer_apq5</th>\n",
       "      <th>jitter_local</th>\n",
       "      <th>jitter_local_db</th>\n",
       "      <th>jitter_apq3</th>\n",
       "      <th>jitter_apq5</th>\n",
       "      <th>ppe</th>\n",
       "      <th>YFD</th>\n",
       "      <th>Status</th>\n",
       "      <th>subjid</th>\n",
       "    </tr>\n",
       "    <tr>\n",
       "      <th>filename</th>\n",
       "      <th></th>\n",
       "      <th></th>\n",
       "      <th></th>\n",
       "      <th></th>\n",
       "      <th></th>\n",
       "      <th></th>\n",
       "      <th></th>\n",
       "      <th></th>\n",
       "      <th></th>\n",
       "      <th></th>\n",
       "      <th></th>\n",
       "      <th></th>\n",
       "      <th></th>\n",
       "      <th></th>\n",
       "      <th></th>\n",
       "      <th></th>\n",
       "      <th></th>\n",
       "      <th></th>\n",
       "      <th></th>\n",
       "      <th></th>\n",
       "      <th></th>\n",
       "    </tr>\n",
       "  </thead>\n",
       "  <tbody>\n",
       "    <tr>\n",
       "      <th>pd_03_WdqSRgj5bdo_-7</th>\n",
       "      <td>74205.015228</td>\n",
       "      <td>470101.543906</td>\n",
       "      <td>4.259465</td>\n",
       "      <td>4.289789</td>\n",
       "      <td>0.233112</td>\n",
       "      <td>3.803618</td>\n",
       "      <td>0.557841</td>\n",
       "      <td>0.959103</td>\n",
       "      <td>97</td>\n",
       "      <td>18.428571</td>\n",
       "      <td>...</td>\n",
       "      <td>0.049926</td>\n",
       "      <td>0.067955</td>\n",
       "      <td>0.020195</td>\n",
       "      <td>0.000147</td>\n",
       "      <td>0.009237</td>\n",
       "      <td>0.010792</td>\n",
       "      <td>0.869182</td>\n",
       "      <td>-7.0</td>\n",
       "      <td>PD</td>\n",
       "      <td>pd_03</td>\n",
       "    </tr>\n",
       "    <tr>\n",
       "      <th>pd_03_46UL2eW1IhA_-7</th>\n",
       "      <td>110659.789697</td>\n",
       "      <td>632027.670947</td>\n",
       "      <td>4.428635</td>\n",
       "      <td>4.506772</td>\n",
       "      <td>0.221888</td>\n",
       "      <td>3.864979</td>\n",
       "      <td>0.646707</td>\n",
       "      <td>0.965397</td>\n",
       "      <td>51</td>\n",
       "      <td>9.294118</td>\n",
       "      <td>...</td>\n",
       "      <td>0.085079</td>\n",
       "      <td>0.109141</td>\n",
       "      <td>0.026726</td>\n",
       "      <td>0.000156</td>\n",
       "      <td>0.011995</td>\n",
       "      <td>0.012625</td>\n",
       "      <td>0.989089</td>\n",
       "      <td>-7.0</td>\n",
       "      <td>PD</td>\n",
       "      <td>pd_03</td>\n",
       "    </tr>\n",
       "    <tr>\n",
       "      <th>pd_03_JTzJ3fq9RWA_2</th>\n",
       "      <td>94415.142953</td>\n",
       "      <td>572371.053573</td>\n",
       "      <td>3.227644</td>\n",
       "      <td>3.706126</td>\n",
       "      <td>0.269824</td>\n",
       "      <td>4.000000</td>\n",
       "      <td>0.689655</td>\n",
       "      <td>0.988095</td>\n",
       "      <td>0</td>\n",
       "      <td>7.250000</td>\n",
       "      <td>...</td>\n",
       "      <td>0.048927</td>\n",
       "      <td>0.072103</td>\n",
       "      <td>0.028276</td>\n",
       "      <td>0.000248</td>\n",
       "      <td>0.011619</td>\n",
       "      <td>0.014100</td>\n",
       "      <td>0.641504</td>\n",
       "      <td>2.0</td>\n",
       "      <td>PD</td>\n",
       "      <td>pd_03</td>\n",
       "    </tr>\n",
       "    <tr>\n",
       "      <th>pd_03_KEYWozsODVU_2</th>\n",
       "      <td>63196.583397</td>\n",
       "      <td>406198.524462</td>\n",
       "      <td>3.604462</td>\n",
       "      <td>4.601107</td>\n",
       "      <td>0.217339</td>\n",
       "      <td>3.494424</td>\n",
       "      <td>0.580292</td>\n",
       "      <td>0.969349</td>\n",
       "      <td>30</td>\n",
       "      <td>9.607143</td>\n",
       "      <td>...</td>\n",
       "      <td>0.040592</td>\n",
       "      <td>0.054964</td>\n",
       "      <td>0.031313</td>\n",
       "      <td>0.000252</td>\n",
       "      <td>0.015453</td>\n",
       "      <td>0.013229</td>\n",
       "      <td>0.762483</td>\n",
       "      <td>2.0</td>\n",
       "      <td>PD</td>\n",
       "      <td>pd_03</td>\n",
       "    </tr>\n",
       "    <tr>\n",
       "      <th>pd_38_zacXN_d08sI_-10</th>\n",
       "      <td>98293.871654</td>\n",
       "      <td>564177.296413</td>\n",
       "      <td>3.828818</td>\n",
       "      <td>3.828818</td>\n",
       "      <td>0.261177</td>\n",
       "      <td>4.653465</td>\n",
       "      <td>0.524272</td>\n",
       "      <td>0.974462</td>\n",
       "      <td>0</td>\n",
       "      <td>11.222222</td>\n",
       "      <td>...</td>\n",
       "      <td>0.054016</td>\n",
       "      <td>0.069291</td>\n",
       "      <td>0.023795</td>\n",
       "      <td>0.000221</td>\n",
       "      <td>0.010484</td>\n",
       "      <td>0.011303</td>\n",
       "      <td>0.990477</td>\n",
       "      <td>-10.0</td>\n",
       "      <td>PD</td>\n",
       "      <td>pd_38</td>\n",
       "    </tr>\n",
       "    <tr>\n",
       "      <th>...</th>\n",
       "      <td>...</td>\n",
       "      <td>...</td>\n",
       "      <td>...</td>\n",
       "      <td>...</td>\n",
       "      <td>...</td>\n",
       "      <td>...</td>\n",
       "      <td>...</td>\n",
       "      <td>...</td>\n",
       "      <td>...</td>\n",
       "      <td>...</td>\n",
       "      <td>...</td>\n",
       "      <td>...</td>\n",
       "      <td>...</td>\n",
       "      <td>...</td>\n",
       "      <td>...</td>\n",
       "      <td>...</td>\n",
       "      <td>...</td>\n",
       "      <td>...</td>\n",
       "      <td>...</td>\n",
       "      <td>...</td>\n",
       "      <td>...</td>\n",
       "    </tr>\n",
       "    <tr>\n",
       "      <th>pd_37_MJfofsi80FY_-30</th>\n",
       "      <td>32727.216480</td>\n",
       "      <td>219065.592110</td>\n",
       "      <td>4.167969</td>\n",
       "      <td>4.167969</td>\n",
       "      <td>0.239925</td>\n",
       "      <td>4.008475</td>\n",
       "      <td>0.636752</td>\n",
       "      <td>0.938048</td>\n",
       "      <td>26</td>\n",
       "      <td>16.857143</td>\n",
       "      <td>...</td>\n",
       "      <td>0.068671</td>\n",
       "      <td>0.094925</td>\n",
       "      <td>0.026900</td>\n",
       "      <td>0.000238</td>\n",
       "      <td>0.012510</td>\n",
       "      <td>0.015045</td>\n",
       "      <td>0.884794</td>\n",
       "      <td>-30.0</td>\n",
       "      <td>PD</td>\n",
       "      <td>pd_37</td>\n",
       "    </tr>\n",
       "    <tr>\n",
       "      <th>pd_37_sZbk43uRSQo_1</th>\n",
       "      <td>106551.069141</td>\n",
       "      <td>720884.092309</td>\n",
       "      <td>3.227982</td>\n",
       "      <td>3.635772</td>\n",
       "      <td>0.275045</td>\n",
       "      <td>3.842520</td>\n",
       "      <td>0.633588</td>\n",
       "      <td>0.980042</td>\n",
       "      <td>2</td>\n",
       "      <td>9.769231</td>\n",
       "      <td>...</td>\n",
       "      <td>0.062636</td>\n",
       "      <td>0.072288</td>\n",
       "      <td>0.026906</td>\n",
       "      <td>0.000241</td>\n",
       "      <td>0.013636</td>\n",
       "      <td>0.015017</td>\n",
       "      <td>0.961420</td>\n",
       "      <td>1.0</td>\n",
       "      <td>PD</td>\n",
       "      <td>pd_37</td>\n",
       "    </tr>\n",
       "    <tr>\n",
       "      <th>pd_21_EPJIWzFCANs_10</th>\n",
       "      <td>82084.492063</td>\n",
       "      <td>596114.442130</td>\n",
       "      <td>3.219624</td>\n",
       "      <td>3.241491</td>\n",
       "      <td>0.308500</td>\n",
       "      <td>3.384615</td>\n",
       "      <td>0.494737</td>\n",
       "      <td>0.923193</td>\n",
       "      <td>32</td>\n",
       "      <td>91.000000</td>\n",
       "      <td>...</td>\n",
       "      <td>0.077478</td>\n",
       "      <td>0.097609</td>\n",
       "      <td>0.030709</td>\n",
       "      <td>0.000368</td>\n",
       "      <td>0.015628</td>\n",
       "      <td>0.016179</td>\n",
       "      <td>0.838494</td>\n",
       "      <td>10.0</td>\n",
       "      <td>PD</td>\n",
       "      <td>pd_21</td>\n",
       "    </tr>\n",
       "    <tr>\n",
       "      <th>pd_21_A25tlEGQNu4_10</th>\n",
       "      <td>141185.164497</td>\n",
       "      <td>755879.847725</td>\n",
       "      <td>3.190722</td>\n",
       "      <td>4.290244</td>\n",
       "      <td>0.233087</td>\n",
       "      <td>3.778846</td>\n",
       "      <td>0.570093</td>\n",
       "      <td>0.914062</td>\n",
       "      <td>6</td>\n",
       "      <td>13.000000</td>\n",
       "      <td>...</td>\n",
       "      <td>0.046494</td>\n",
       "      <td>0.063794</td>\n",
       "      <td>0.026199</td>\n",
       "      <td>0.000269</td>\n",
       "      <td>0.009700</td>\n",
       "      <td>0.012758</td>\n",
       "      <td>0.975029</td>\n",
       "      <td>10.0</td>\n",
       "      <td>PD</td>\n",
       "      <td>pd_21</td>\n",
       "    </tr>\n",
       "    <tr>\n",
       "      <th>pd_21_psKvddMtXtE_14</th>\n",
       "      <td>96575.616017</td>\n",
       "      <td>606108.322067</td>\n",
       "      <td>3.734821</td>\n",
       "      <td>3.734821</td>\n",
       "      <td>0.267750</td>\n",
       "      <td>3.635185</td>\n",
       "      <td>0.615929</td>\n",
       "      <td>0.958412</td>\n",
       "      <td>166</td>\n",
       "      <td>21.600000</td>\n",
       "      <td>...</td>\n",
       "      <td>0.080697</td>\n",
       "      <td>0.105401</td>\n",
       "      <td>0.023118</td>\n",
       "      <td>0.000247</td>\n",
       "      <td>0.010556</td>\n",
       "      <td>0.012455</td>\n",
       "      <td>0.686296</td>\n",
       "      <td>14.0</td>\n",
       "      <td>PD</td>\n",
       "      <td>pd_21</td>\n",
       "    </tr>\n",
       "  </tbody>\n",
       "</table>\n",
       "<p>254 rows × 37 columns</p>\n",
       "</div>"
      ],
      "text/plain": [
       "                                aavs      hull_area  speech_rate  \\\n",
       "filename                                                           \n",
       "pd_03_WdqSRgj5bdo_-7    74205.015228  470101.543906     4.259465   \n",
       "pd_03_46UL2eW1IhA_-7   110659.789697  632027.670947     4.428635   \n",
       "pd_03_JTzJ3fq9RWA_2     94415.142953  572371.053573     3.227644   \n",
       "pd_03_KEYWozsODVU_2     63196.583397  406198.524462     3.604462   \n",
       "pd_38_zacXN_d08sI_-10   98293.871654  564177.296413     3.828818   \n",
       "...                              ...            ...          ...   \n",
       "pd_37_MJfofsi80FY_-30   32727.216480  219065.592110     4.167969   \n",
       "pd_37_sZbk43uRSQo_1    106551.069141  720884.092309     3.227982   \n",
       "pd_21_EPJIWzFCANs_10    82084.492063  596114.442130     3.219624   \n",
       "pd_21_A25tlEGQNu4_10   141185.164497  755879.847725     3.190722   \n",
       "pd_21_psKvddMtXtE_14    96575.616017  606108.322067     3.734821   \n",
       "\n",
       "                       articulation_rate  average_syllable_duration  \\\n",
       "filename                                                              \n",
       "pd_03_WdqSRgj5bdo_-7            4.289789                   0.233112   \n",
       "pd_03_46UL2eW1IhA_-7            4.506772                   0.221888   \n",
       "pd_03_JTzJ3fq9RWA_2             3.706126                   0.269824   \n",
       "pd_03_KEYWozsODVU_2             4.601107                   0.217339   \n",
       "pd_38_zacXN_d08sI_-10           3.828818                   0.261177   \n",
       "...                                  ...                        ...   \n",
       "pd_37_MJfofsi80FY_-30           4.167969                   0.239925   \n",
       "pd_37_sZbk43uRSQo_1             3.635772                   0.275045   \n",
       "pd_21_EPJIWzFCANs_10            3.241491                   0.308500   \n",
       "pd_21_A25tlEGQNu4_10            4.290244                   0.233087   \n",
       "pd_21_psKvddMtXtE_14            3.734821                   0.267750   \n",
       "\n",
       "                       avg_word_length  content_richness     mattr  \\\n",
       "filename                                                             \n",
       "pd_03_WdqSRgj5bdo_-7          3.803618          0.557841  0.959103   \n",
       "pd_03_46UL2eW1IhA_-7          3.864979          0.646707  0.965397   \n",
       "pd_03_JTzJ3fq9RWA_2           4.000000          0.689655  0.988095   \n",
       "pd_03_KEYWozsODVU_2           3.494424          0.580292  0.969349   \n",
       "pd_38_zacXN_d08sI_-10         4.653465          0.524272  0.974462   \n",
       "...                                ...               ...       ...   \n",
       "pd_37_MJfofsi80FY_-30         4.008475          0.636752  0.938048   \n",
       "pd_37_sZbk43uRSQo_1           3.842520          0.633588  0.980042   \n",
       "pd_21_EPJIWzFCANs_10          3.384615          0.494737  0.923193   \n",
       "pd_21_A25tlEGQNu4_10          3.778846          0.570093  0.914062   \n",
       "pd_21_psKvddMtXtE_14          3.635185          0.615929  0.958412   \n",
       "\n",
       "                       phrase_patterns  sentence_length  ...  shimmer_apq3  \\\n",
       "filename                                                 ...                 \n",
       "pd_03_WdqSRgj5bdo_-7                97        18.428571  ...      0.049926   \n",
       "pd_03_46UL2eW1IhA_-7                51         9.294118  ...      0.085079   \n",
       "pd_03_JTzJ3fq9RWA_2                  0         7.250000  ...      0.048927   \n",
       "pd_03_KEYWozsODVU_2                 30         9.607143  ...      0.040592   \n",
       "pd_38_zacXN_d08sI_-10                0        11.222222  ...      0.054016   \n",
       "...                                ...              ...  ...           ...   \n",
       "pd_37_MJfofsi80FY_-30               26        16.857143  ...      0.068671   \n",
       "pd_37_sZbk43uRSQo_1                  2         9.769231  ...      0.062636   \n",
       "pd_21_EPJIWzFCANs_10                32        91.000000  ...      0.077478   \n",
       "pd_21_A25tlEGQNu4_10                 6        13.000000  ...      0.046494   \n",
       "pd_21_psKvddMtXtE_14               166        21.600000  ...      0.080697   \n",
       "\n",
       "                       shimmer_apq5  jitter_local  jitter_local_db  \\\n",
       "filename                                                             \n",
       "pd_03_WdqSRgj5bdo_-7       0.067955      0.020195         0.000147   \n",
       "pd_03_46UL2eW1IhA_-7       0.109141      0.026726         0.000156   \n",
       "pd_03_JTzJ3fq9RWA_2        0.072103      0.028276         0.000248   \n",
       "pd_03_KEYWozsODVU_2        0.054964      0.031313         0.000252   \n",
       "pd_38_zacXN_d08sI_-10      0.069291      0.023795         0.000221   \n",
       "...                             ...           ...              ...   \n",
       "pd_37_MJfofsi80FY_-30      0.094925      0.026900         0.000238   \n",
       "pd_37_sZbk43uRSQo_1        0.072288      0.026906         0.000241   \n",
       "pd_21_EPJIWzFCANs_10       0.097609      0.030709         0.000368   \n",
       "pd_21_A25tlEGQNu4_10       0.063794      0.026199         0.000269   \n",
       "pd_21_psKvddMtXtE_14       0.105401      0.023118         0.000247   \n",
       "\n",
       "                       jitter_apq3  jitter_apq5       ppe   YFD  Status  \\\n",
       "filename                                                                  \n",
       "pd_03_WdqSRgj5bdo_-7      0.009237     0.010792  0.869182  -7.0      PD   \n",
       "pd_03_46UL2eW1IhA_-7      0.011995     0.012625  0.989089  -7.0      PD   \n",
       "pd_03_JTzJ3fq9RWA_2       0.011619     0.014100  0.641504   2.0      PD   \n",
       "pd_03_KEYWozsODVU_2       0.015453     0.013229  0.762483   2.0      PD   \n",
       "pd_38_zacXN_d08sI_-10     0.010484     0.011303  0.990477 -10.0      PD   \n",
       "...                            ...          ...       ...   ...     ...   \n",
       "pd_37_MJfofsi80FY_-30     0.012510     0.015045  0.884794 -30.0      PD   \n",
       "pd_37_sZbk43uRSQo_1       0.013636     0.015017  0.961420   1.0      PD   \n",
       "pd_21_EPJIWzFCANs_10      0.015628     0.016179  0.838494  10.0      PD   \n",
       "pd_21_A25tlEGQNu4_10      0.009700     0.012758  0.975029  10.0      PD   \n",
       "pd_21_psKvddMtXtE_14      0.010556     0.012455  0.686296  14.0      PD   \n",
       "\n",
       "                       subjid  \n",
       "filename                       \n",
       "pd_03_WdqSRgj5bdo_-7    pd_03  \n",
       "pd_03_46UL2eW1IhA_-7    pd_03  \n",
       "pd_03_JTzJ3fq9RWA_2     pd_03  \n",
       "pd_03_KEYWozsODVU_2     pd_03  \n",
       "pd_38_zacXN_d08sI_-10   pd_38  \n",
       "...                       ...  \n",
       "pd_37_MJfofsi80FY_-30   pd_37  \n",
       "pd_37_sZbk43uRSQo_1     pd_37  \n",
       "pd_21_EPJIWzFCANs_10    pd_21  \n",
       "pd_21_A25tlEGQNu4_10    pd_21  \n",
       "pd_21_psKvddMtXtE_14    pd_21  \n",
       "\n",
       "[254 rows x 37 columns]"
      ]
     },
     "execution_count": 10,
     "metadata": {},
     "output_type": "execute_result"
    }
   ],
   "source": [
    "first_and_last_df"
   ]
  },
  {
   "cell_type": "code",
   "execution_count": null,
   "id": "cda5a372",
   "metadata": {},
   "outputs": [],
   "source": []
  }
 ],
 "metadata": {
  "kernelspec": {
   "display_name": "test",
   "language": "python",
   "name": "python3"
  },
  "language_info": {
   "codemirror_mode": {
    "name": "ipython",
    "version": 3
   },
   "file_extension": ".py",
   "mimetype": "text/x-python",
   "name": "python",
   "nbconvert_exporter": "python",
   "pygments_lexer": "ipython3",
   "version": "3.11.13"
  }
 },
 "nbformat": 4,
 "nbformat_minor": 5
}
