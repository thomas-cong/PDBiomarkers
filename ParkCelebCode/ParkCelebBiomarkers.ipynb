{
 "cells": [
  {
   "cell_type": "code",
   "execution_count": 12,
   "id": "64a61fc1",
   "metadata": {},
   "outputs": [],
   "source": [
    "import sys\n",
    "\n",
    "sys.path.append(\"/Users/thomas.cong/Downloads/ResearchCode\")\n",
    "import pandas as pd\n",
    "from feature_calculation import build_biomarker_csv\n",
    "import warnings\n",
    "\n",
    "warnings.filterwarnings(\"ignore\")"
   ]
  },
  {
   "cell_type": "code",
   "execution_count": 2,
   "id": "7e6af897",
   "metadata": {},
   "outputs": [
    {
     "name": "stderr",
     "output_type": "stream",
     "text": [
      "Processing audio files:   7%|▋         | 91/1289 [02:06<43:27,  2.18s/it]  "
     ]
    },
    {
     "name": "stdout",
     "output_type": "stream",
     "text": [
      "Audio file pd_31_90mj79GqWhc_9 is too short, skipping...\n"
     ]
    },
    {
     "name": "stderr",
     "output_type": "stream",
     "text": [
      "Processing audio files:   7%|▋         | 95/1289 [02:17<34:09,  1.72s/it]  "
     ]
    },
    {
     "name": "stdout",
     "output_type": "stream",
     "text": [
      "Audio file pd_24_xpIYmtHT_7k_7 is too short, skipping...\n"
     ]
    },
    {
     "name": "stderr",
     "output_type": "stream",
     "text": [
      "Processing audio files:  11%|█         | 141/1289 [03:18<23:33,  1.23s/it]"
     ]
    },
    {
     "name": "stdout",
     "output_type": "stream",
     "text": [
      "Audio file pd_08_wUZD8R2uuBw_7 is too short, skipping...\n"
     ]
    },
    {
     "name": "stderr",
     "output_type": "stream",
     "text": [
      "Processing audio files:  13%|█▎        | 165/1289 [04:09<57:49,  3.09s/it]  "
     ]
    },
    {
     "name": "stdout",
     "output_type": "stream",
     "text": [
      "Audio file cn_45_5DlPpi0yuqI_None is too short, skipping...\n"
     ]
    },
    {
     "name": "stderr",
     "output_type": "stream",
     "text": [
      "Processing audio files:  13%|█▎        | 173/1289 [04:27<44:27,  2.39s/it]  "
     ]
    },
    {
     "name": "stdout",
     "output_type": "stream",
     "text": [
      "Audio file pd_12_UuBSJbTlP9c_23 is too short, skipping...\n"
     ]
    },
    {
     "name": "stderr",
     "output_type": "stream",
     "text": [
      "Processing audio files:  18%|█▊        | 233/1289 [11:40<34:39,  1.97s/it]   "
     ]
    },
    {
     "name": "stdout",
     "output_type": "stream",
     "text": [
      "Audio file cn_31_vac-SYPywcw_10 is too short, skipping...\n"
     ]
    },
    {
     "name": "stderr",
     "output_type": "stream",
     "text": [
      "Processing audio files:  19%|█▊        | 241/1289 [11:58<54:28,  3.12s/it]"
     ]
    },
    {
     "name": "stdout",
     "output_type": "stream",
     "text": [
      "No silence detected in audio file, returning 0\n"
     ]
    },
    {
     "name": "stderr",
     "output_type": "stream",
     "text": [
      "Processing audio files:  19%|█▉        | 243/1289 [11:59<35:56,  2.06s/it]"
     ]
    },
    {
     "name": "stdout",
     "output_type": "stream",
     "text": [
      "Audio file cn_02_Eu8jODyHmlk_15 is too short, skipping...\n"
     ]
    },
    {
     "name": "stderr",
     "output_type": "stream",
     "text": [
      "Processing audio files:  23%|██▎       | 299/1289 [13:14<14:11,  1.16it/s]"
     ]
    },
    {
     "name": "stdout",
     "output_type": "stream",
     "text": [
      "Audio file pd_28_rTngzYQ6t9A_5 is too short, skipping...\n"
     ]
    },
    {
     "name": "stderr",
     "output_type": "stream",
     "text": [
      "Processing audio files:  28%|██▊       | 357/1289 [14:32<07:30,  2.07it/s]"
     ]
    },
    {
     "name": "stdout",
     "output_type": "stream",
     "text": [
      "Audio file cn_36_4Xbuih52M90_1 is too short, skipping...\n"
     ]
    },
    {
     "name": "stderr",
     "output_type": "stream",
     "text": [
      "Processing audio files:  31%|███       | 396/1289 [15:17<09:30,  1.57it/s]"
     ]
    },
    {
     "name": "stdout",
     "output_type": "stream",
     "text": [
      "Audio file pd_31_hImFCI_Gbf0_24 is too short, skipping...\n"
     ]
    },
    {
     "name": "stderr",
     "output_type": "stream",
     "text": [
      "Processing audio files:  31%|███       | 399/1289 [15:19<08:39,  1.71it/s]"
     ]
    },
    {
     "name": "stdout",
     "output_type": "stream",
     "text": [
      "No silence detected in audio file, returning 0\n"
     ]
    },
    {
     "name": "stderr",
     "output_type": "stream",
     "text": [
      "Processing audio files:  33%|███▎      | 426/1289 [15:59<17:46,  1.24s/it]"
     ]
    },
    {
     "name": "stdout",
     "output_type": "stream",
     "text": [
      "No silence detected in audio file, returning 0\n"
     ]
    },
    {
     "name": "stderr",
     "output_type": "stream",
     "text": [
      "Processing audio files:  42%|████▏     | 537/1289 [18:59<25:20,  2.02s/it]"
     ]
    },
    {
     "name": "stdout",
     "output_type": "stream",
     "text": [
      "Audio file cn_46_hMibmPRTzmc_0 is too short, skipping...\n"
     ]
    },
    {
     "name": "stderr",
     "output_type": "stream",
     "text": [
      "Processing audio files:  61%|██████    | 786/1289 [25:03<14:06,  1.68s/it]"
     ]
    },
    {
     "name": "stdout",
     "output_type": "stream",
     "text": [
      "Audio file cn_18_0FcR7Jy4FVU_7 is too short, skipping...\n"
     ]
    },
    {
     "name": "stderr",
     "output_type": "stream",
     "text": [
      "Processing audio files:  70%|██████▉   | 896/1289 [27:10<12:05,  1.84s/it]"
     ]
    },
    {
     "name": "stdout",
     "output_type": "stream",
     "text": [
      "Audio file pd_08_IdMiddKgdfA_7 is too short, skipping...\n"
     ]
    },
    {
     "name": "stderr",
     "output_type": "stream",
     "text": [
      "Processing audio files:  74%|███████▍  | 960/1289 [29:03<05:25,  1.01it/s]"
     ]
    },
    {
     "name": "stdout",
     "output_type": "stream",
     "text": [
      "Audio file cn_09_sVZ6BgQdASQ_9 is too short, skipping...\n"
     ]
    },
    {
     "name": "stderr",
     "output_type": "stream",
     "text": [
      "Processing audio files:  75%|███████▌  | 970/1289 [29:31<10:23,  1.96s/it]"
     ]
    },
    {
     "name": "stdout",
     "output_type": "stream",
     "text": [
      "Audio file pd_36_3HZBmIZvDFU_9 is too short, skipping...\n"
     ]
    },
    {
     "name": "stderr",
     "output_type": "stream",
     "text": [
      "Processing audio files:  76%|███████▌  | 978/1289 [29:49<08:54,  1.72s/it]"
     ]
    },
    {
     "name": "stdout",
     "output_type": "stream",
     "text": [
      "Audio file pd_35_feDXvUGqZHc_4 is too short, skipping...\n"
     ]
    },
    {
     "name": "stderr",
     "output_type": "stream",
     "text": [
      "Processing audio files:  77%|███████▋  | 997/1289 [30:17<09:10,  1.88s/it]"
     ]
    },
    {
     "name": "stdout",
     "output_type": "stream",
     "text": [
      "Audio file cn_31_rN84n3hb-LE_25 is too short, skipping...\n"
     ]
    },
    {
     "name": "stderr",
     "output_type": "stream",
     "text": [
      "Processing audio files:  83%|████████▎ | 1064/1289 [32:06<08:24,  2.24s/it]"
     ]
    },
    {
     "name": "stdout",
     "output_type": "stream",
     "text": [
      "Audio file cn_23_SVN6IBXa6CI_-1 is too short, skipping...\n"
     ]
    },
    {
     "name": "stderr",
     "output_type": "stream",
     "text": [
      "Processing audio files:  89%|████████▉ | 1147/1289 [34:41<03:20,  1.41s/it]"
     ]
    },
    {
     "name": "stdout",
     "output_type": "stream",
     "text": [
      "Audio file pd_27_BarcIuIEsKk_1 is too short, skipping...\n"
     ]
    },
    {
     "name": "stderr",
     "output_type": "stream",
     "text": [
      "Processing audio files:  90%|█████████ | 1166/1289 [35:05<03:30,  1.71s/it]"
     ]
    },
    {
     "name": "stdout",
     "output_type": "stream",
     "text": [
      "Audio file pd_37_cEuf9T2wKg8_0 is too short, skipping...\n"
     ]
    },
    {
     "name": "stderr",
     "output_type": "stream",
     "text": [
      "Processing audio files:  93%|█████████▎| 1194/1289 [35:35<01:23,  1.13it/s]"
     ]
    },
    {
     "name": "stdout",
     "output_type": "stream",
     "text": [
      "Audio file cn_41_pMk1ZBNOTas_None is too short, skipping...\n"
     ]
    },
    {
     "name": "stderr",
     "output_type": "stream",
     "text": [
      "Processing audio files:  93%|█████████▎| 1203/1289 [35:44<00:51,  1.66it/s]"
     ]
    },
    {
     "name": "stdout",
     "output_type": "stream",
     "text": [
      "Audio file cn_29_oTdDV_ZMCWg_-12 is too short, skipping...\n"
     ]
    },
    {
     "name": "stderr",
     "output_type": "stream",
     "text": [
      "Processing audio files:  96%|█████████▌| 1237/1289 [36:27<00:48,  1.07it/s]"
     ]
    },
    {
     "name": "stdout",
     "output_type": "stream",
     "text": [
      "Audio file pd_35_019ZO8Mj3ws_3 is too short, skipping...\n"
     ]
    },
    {
     "name": "stderr",
     "output_type": "stream",
     "text": [
      "Processing audio files: 100%|██████████| 1289/1289 [37:57<00:00,  1.77s/it]\n"
     ]
    },
    {
     "name": "stdout",
     "output_type": "stream",
     "text": [
      "Metrics saved to ./Park_Celeb_Biomarkers.csv\n"
     ]
    }
   ],
   "source": [
    "build_biomarker_csv.build_csv(\n",
    "    \"./Park_Celeb_Biomarkers.csv\",\n",
    "    audio_dir=\"/Users/thomas.cong/Downloads/ResearchCode/ParkCelebCode/Preprocessed Park Celeb Files\",\n",
    "    results_dir=\"./Park_Celeb_Biomarkers\",\n",
    ")"
   ]
  },
  {
   "cell_type": "code",
   "execution_count": 13,
   "id": "d9a028c8",
   "metadata": {},
   "outputs": [],
   "source": [
    "ParkCelebBiomarkers = pd.read_csv(\"./Park_Celeb_Biomarkers.csv\", index_col=\"filename\")\n",
    "ParkCelebBiomarkers.drop_duplicates(inplace=True)\n",
    "\n",
    "\n",
    "def get_yfd(filename):\n",
    "    try:\n",
    "        return float(filename.split(\"_\")[-1])\n",
    "    except:\n",
    "        return None\n",
    "\n",
    "\n",
    "ParkCelebBiomarkers[\"YFD\"] = (\n",
    "    ParkCelebBiomarkers.index.str.split(\"_\").str[-1].map(get_yfd)\n",
    ")\n",
    "ParkCelebBiomarkers[\"Status\"] = (\n",
    "    ParkCelebBiomarkers.index.str.split(\"_\").str[0].str.upper()\n",
    ")\n",
    "ParkCelebBiomarkers.to_csv(\"./Park_Celeb_Biomarkers_New.csv\")"
   ]
  },
  {
   "cell_type": "code",
   "execution_count": 14,
   "id": "86dd3e01",
   "metadata": {},
   "outputs": [],
   "source": [
    "ParkCelebBiomarkers = pd.read_csv(\"./Park_Celeb_Biomarkers.csv\", index_col=\"filename\")\n",
    "ParkCelebBiomarkers[\"subjid\"] = (\n",
    "    ParkCelebBiomarkers.index.str.split(\"_\").str[0:2].str.join(\"_\")\n",
    ")\n",
    "ParkCelebBiomarkers.to_csv(\"./Park_Celeb_Biomarkers.csv\")"
   ]
  },
  {
   "cell_type": "code",
   "execution_count": null,
   "id": "3856506a",
   "metadata": {},
   "outputs": [],
   "source": [
    "ParkCelebBiomarkers = pd.read_csv(\"./Park_Celeb_Biomarkers.csv\", index_col=\"filename\")\n",
    "first_and_last = []\n",
    "firsts = []\n",
    "lasts = []\n",
    "for subjid in ParkCelebBiomarkers[\"subjid\"].unique():\n",
    "    first = ParkCelebBiomarkers[ParkCelebBiomarkers[\"subjid\"] == subjid].YFD.min()\n",
    "    last = ParkCelebBiomarkers[ParkCelebBiomarkers[\"subjid\"] == subjid].YFD.max()\n",
    "    first_indices = ParkCelebBiomarkers[ParkCelebBiomarkers[\"subjid\"] == subjid][\n",
    "        ParkCelebBiomarkers[ParkCelebBiomarkers[\"subjid\"] == subjid][\"YFD\"] == first\n",
    "    ].index\n",
    "    last_indices = ParkCelebBiomarkers[ParkCelebBiomarkers[\"subjid\"] == subjid][\n",
    "        ParkCelebBiomarkers[ParkCelebBiomarkers[\"subjid\"] == subjid][\"YFD\"] == last\n",
    "    ].index\n",
    "    first_and_last.extend(first_indices)\n",
    "    first_and_last.extend(last_indices)\n",
    "    firsts.extend(first_indices)\n",
    "    lasts.extend(last_indices)\n",
    "first_and_last_df = ParkCelebBiomarkers.loc[first_and_last]\n",
    "first_and_last_df[\"First/Last\"] = first_and_last_df.index.map(lambda x: \"First\" if x in firsts else \"Last\")\n",
    "first_and_last_df.to_csv(\"./Park_Celeb_Biomarkers_First_Last.csv\")"
   ]
  },
  {
   "cell_type": "code",
   "execution_count": 17,
   "id": "5e585e3f",
   "metadata": {},
   "outputs": [
    {
     "data": {
      "text/plain": [
       "Index(['pd_21_EPJIWzFCANs_10', 'pd_21_A25tlEGQNu4_10'], dtype='object', name='filename')"
      ]
     },
     "execution_count": 17,
     "metadata": {},
     "output_type": "execute_result"
    }
   ],
   "source": [
    "first_indices"
   ]
  },
  {
   "cell_type": "code",
   "execution_count": null,
   "id": "cda5a372",
   "metadata": {},
   "outputs": [],
   "source": []
  }
 ],
 "metadata": {
  "kernelspec": {
   "display_name": "test",
   "language": "python",
   "name": "python3"
  },
  "language_info": {
   "codemirror_mode": {
    "name": "ipython",
    "version": 3
   },
   "file_extension": ".py",
   "mimetype": "text/x-python",
   "name": "python",
   "nbconvert_exporter": "python",
   "pygments_lexer": "ipython3",
   "version": "3.11.13"
  }
 },
 "nbformat": 4,
 "nbformat_minor": 5
}
