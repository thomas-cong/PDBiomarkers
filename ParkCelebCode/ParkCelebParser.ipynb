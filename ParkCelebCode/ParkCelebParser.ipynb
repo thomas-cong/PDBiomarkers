{
 "cells": [
  {
   "cell_type": "code",
   "execution_count": 1,
   "id": "53da9114",
   "metadata": {},
   "outputs": [],
   "source": [
    "import pandas as pd\n",
    "import math\n",
    "import subprocess\n",
    "import os\n",
    "import warnings\n",
    "\n",
    "warnings.filterwarnings(\"ignore\")\n",
    "from pydub import AudioSegment\n",
    "from tqdm.notebook import tqdm"
   ]
  },
  {
   "cell_type": "code",
   "execution_count": 2,
   "id": "4c7dcc72",
   "metadata": {},
   "outputs": [],
   "source": [
    "def get_or_convert_audio(audio_dir_path, audio_file_name):\n",
    "    # Try .wav first\n",
    "    wav_path = os.path.join(audio_dir_path, f\"{audio_file_name}.wav\")\n",
    "    if os.path.exists(wav_path):\n",
    "        return wav_path\n",
    "\n",
    "    # Try other formats\n",
    "    for ext in [\".m4a\", \".webm\"]:\n",
    "        alt_path = os.path.join(audio_dir_path, f\"{audio_file_name}{ext}\")\n",
    "        if os.path.exists(alt_path):\n",
    "            # Convert to wav using ffmpeg\n",
    "            # Output to the same directory with .wav extension\n",
    "            cmd = [\"ffmpeg\", \"-y\", \"-i\", alt_path, wav_path]\n",
    "            try:\n",
    "                subprocess.run(cmd, capture_output=True, text=True, check=True)\n",
    "            except subprocess.CalledProcessError as e:\n",
    "                raise FileNotFoundError(f\"ffmpeg failed for {alt_path}: {e.stderr}\")\n",
    "            return wav_path\n",
    "\n",
    "    # If none exist, raise an error\n",
    "    raise FileNotFoundError(\n",
    "        f\"No audio file found for {audio_file_name} in {audio_dir_path}\"\n",
    "    )"
   ]
  },
  {
   "cell_type": "code",
   "execution_count": 3,
   "id": "6ed5bc57",
   "metadata": {},
   "outputs": [],
   "source": [
    "def preprocess_park_celeb(audio_dir_path):\n",
    "    patient_id, audio_file_name = audio_dir_path.split(\"/\")[-2:]\n",
    "    speaker_info = os.path.join(audio_dir_path, \"speakers_info.csv\")\n",
    "    try:\n",
    "        speaker_dataframe = pd.read_csv(speaker_info)\n",
    "    except FileNotFoundError:\n",
    "        return (patient_id, audio_file_name)\n",
    "    target_dataframe = speaker_dataframe[speaker_dataframe[\"status\"] == \"target\"]\n",
    "    target_speaker = target_dataframe[\"speakers\"].iloc[0]\n",
    "    if target_dataframe[\"before_after_diagnosis\"].iloc[0] == \"before\":\n",
    "        yfd = target_dataframe[\"years_from_diagnosis\"].iloc[0]\n",
    "        if not math.isnan(yfd):\n",
    "            yfd = int(yfd) * -1\n",
    "        else:\n",
    "            yfd = \"None\"\n",
    "    else:\n",
    "        yfd = target_dataframe[\"years_from_diagnosis\"].iloc[0]\n",
    "        if not math.isnan(yfd):\n",
    "            yfd = int(yfd)\n",
    "        else:\n",
    "            yfd = \"None\"\n",
    "    try:\n",
    "        diarization = pd.read_csv(\n",
    "            os.path.join(audio_dir_path, f\"{audio_file_name}.csv\")\n",
    "        )\n",
    "    except FileNotFoundError:\n",
    "        return (patient_id, audio_file_name)\n",
    "    speaker_diarization = diarization[diarization[\"speaker\"] == target_speaker]\n",
    "    speaker_diarization[\"length\"] = (\n",
    "        speaker_diarization[\"end\"] - speaker_diarization[\"start\"]\n",
    "    )\n",
    "    eight_sec_mask = speaker_diarization[\"length\"] >= 8\n",
    "    speaker_diarization = speaker_diarization[eight_sec_mask]\n",
    "    try:\n",
    "        input_audio_file = get_or_convert_audio(audio_dir_path, audio_file_name)\n",
    "    except FileNotFoundError:\n",
    "        return (patient_id, audio_file_name)\n",
    "    temp_output = os.path.join(\n",
    "        audio_dir_path, f\"{patient_id}_{audio_file_name}_{yfd}_temp.wav\"\n",
    "    )\n",
    "    audio = AudioSegment.from_file(input_audio_file)\n",
    "    combined = AudioSegment.empty()\n",
    "    slices = []\n",
    "    for start, end in zip(speaker_diarization[\"start\"], speaker_diarization[\"end\"]):\n",
    "        slices.append((start * 1000, end * 1000))\n",
    "    for start, end in slices:\n",
    "        combined += audio[start:end]\n",
    "    output_audio_file = os.path.join(\n",
    "        \"Preprocessed Park Celeb Files\", f\"{patient_id}_{audio_file_name}_{yfd}.wav\"\n",
    "    )\n",
    "    combined.export(temp_output, format=\"wav\")\n",
    "    subprocess.run([\"sox\", temp_output, \"-r\", \"16000\", output_audio_file, \"gain\", \"-n\"])\n",
    "    subprocess.run([\"rm\", temp_output])"
   ]
  },
  {
   "cell_type": "code",
   "execution_count": 4,
   "id": "0a6569b2",
   "metadata": {},
   "outputs": [
    {
     "data": {
      "application/vnd.jupyter.widget-view+json": {
       "model_id": "b663bc82139a4b1f8bd7df5b7f05c967",
       "version_major": 2,
       "version_minor": 0
      },
      "text/plain": [
       "  0%|          | 0/41 [00:00<?, ?it/s]"
      ]
     },
     "metadata": {},
     "output_type": "display_data"
    },
    {
     "data": {
      "application/vnd.jupyter.widget-view+json": {
       "model_id": "08b2c7710c964795a883666de703f15f",
       "version_major": 2,
       "version_minor": 0
      },
      "text/plain": [
       "  0%|          | 0/20 [00:00<?, ?it/s]"
      ]
     },
     "metadata": {},
     "output_type": "display_data"
    },
    {
     "name": "stderr",
     "output_type": "stream",
     "text": [
      "sox WARN rate: rate clipped 22 samples; decrease volume?\n",
      "sox WARN dither: dither clipped 19 samples; decrease volume?\n",
      "sox WARN rate: rate clipped 2 samples; decrease volume?\n",
      "sox WARN dither: dither clipped 2 samples; decrease volume?\n",
      "sox WARN rate: rate clipped 40 samples; decrease volume?\n",
      "sox WARN dither: dither clipped 38 samples; decrease volume?\n",
      "sox WARN rate: rate clipped 40 samples; decrease volume?\n",
      "sox WARN dither: dither clipped 31 samples; decrease volume?\n",
      "sox WARN rate: rate clipped 2 samples; decrease volume?\n",
      "sox WARN dither: dither clipped 1 samples; decrease volume?\n"
     ]
    },
    {
     "data": {
      "application/vnd.jupyter.widget-view+json": {
       "model_id": "4e95079a114e4567aae247bfc665a147",
       "version_major": 2,
       "version_minor": 0
      },
      "text/plain": [
       "  0%|          | 0/23 [00:00<?, ?it/s]"
      ]
     },
     "metadata": {},
     "output_type": "display_data"
    },
    {
     "name": "stderr",
     "output_type": "stream",
     "text": [
      "sox WARN rate: rate clipped 2 samples; decrease volume?\n",
      "sox WARN dither: dither clipped 2 samples; decrease volume?\n",
      "sox WARN rate: rate clipped 2 samples; decrease volume?\n",
      "sox WARN dither: dither clipped 2 samples; decrease volume?\n",
      "sox WARN rate: rate clipped 2 samples; decrease volume?\n",
      "sox WARN rate: rate clipped 1 samples; decrease volume?\n",
      "sox WARN dither: dither clipped 1 samples; decrease volume?\n",
      "sox WARN rate: rate clipped 2 samples; decrease volume?\n",
      "sox WARN dither: dither clipped 2 samples; decrease volume?\n",
      "sox WARN rate: rate clipped 6 samples; decrease volume?\n",
      "sox WARN dither: dither clipped 6 samples; decrease volume?\n"
     ]
    },
    {
     "data": {
      "application/vnd.jupyter.widget-view+json": {
       "model_id": "27e81d87362b48d2b8251be2b0ff05d8",
       "version_major": 2,
       "version_minor": 0
      },
      "text/plain": [
       "  0%|          | 0/12 [00:00<?, ?it/s]"
      ]
     },
     "metadata": {},
     "output_type": "display_data"
    },
    {
     "name": "stderr",
     "output_type": "stream",
     "text": [
      "sox WARN rate: rate clipped 50 samples; decrease volume?\n",
      "sox WARN dither: dither clipped 43 samples; decrease volume?\n",
      "sox WARN rate: rate clipped 352 samples; decrease volume?\n",
      "sox WARN dither: dither clipped 310 samples; decrease volume?\n",
      "sox WARN rate: rate clipped 1 samples; decrease volume?\n",
      "sox WARN dither: dither clipped 1 samples; decrease volume?\n",
      "sox WARN rate: rate clipped 2 samples; decrease volume?\n",
      "sox WARN dither: dither clipped 1 samples; decrease volume?\n",
      "sox WARN rate: rate clipped 48 samples; decrease volume?\n",
      "sox WARN dither: dither clipped 45 samples; decrease volume?\n"
     ]
    },
    {
     "data": {
      "application/vnd.jupyter.widget-view+json": {
       "model_id": "6de0b3364689485994158066b4c77199",
       "version_major": 2,
       "version_minor": 0
      },
      "text/plain": [
       "  0%|          | 0/16 [00:00<?, ?it/s]"
      ]
     },
     "metadata": {},
     "output_type": "display_data"
    },
    {
     "name": "stderr",
     "output_type": "stream",
     "text": [
      "sox WARN rate: rate clipped 2 samples; decrease volume?\n",
      "sox WARN dither: dither clipped 2 samples; decrease volume?\n",
      "sox WARN rate: rate clipped 2 samples; decrease volume?\n",
      "sox WARN dither: dither clipped 1 samples; decrease volume?\n",
      "sox WARN rate: rate clipped 2 samples; decrease volume?\n",
      "sox WARN dither: dither clipped 2 samples; decrease volume?\n",
      "sox WARN rate: rate clipped 1 samples; decrease volume?\n",
      "sox WARN dither: dither clipped 1 samples; decrease volume?\n"
     ]
    },
    {
     "data": {
      "application/vnd.jupyter.widget-view+json": {
       "model_id": "6fffab18a6d541d7aa76b20f32cb08e5",
       "version_major": 2,
       "version_minor": 0
      },
      "text/plain": [
       "  0%|          | 0/20 [00:00<?, ?it/s]"
      ]
     },
     "metadata": {},
     "output_type": "display_data"
    },
    {
     "name": "stderr",
     "output_type": "stream",
     "text": [
      "sox WARN rate: rate clipped 15 samples; decrease volume?\n",
      "sox WARN dither: dither clipped 10 samples; decrease volume?\n",
      "sox WARN rate: rate clipped 10 samples; decrease volume?\n",
      "sox WARN dither: dither clipped 7 samples; decrease volume?\n",
      "sox WARN rate: rate clipped 3 samples; decrease volume?\n",
      "sox WARN dither: dither clipped 3 samples; decrease volume?\n",
      "sox WARN rate: rate clipped 148 samples; decrease volume?\n",
      "sox WARN dither: dither clipped 135 samples; decrease volume?\n",
      "sox WARN rate: rate clipped 2 samples; decrease volume?\n",
      "sox WARN dither: dither clipped 2 samples; decrease volume?\n",
      "sox WARN rate: rate clipped 29427 samples; decrease volume?\n",
      "sox WARN dither: dither clipped 25892 samples; decrease volume?\n",
      "sox WARN rate: rate clipped 1 samples; decrease volume?\n",
      "sox WARN dither: dither clipped 1 samples; decrease volume?\n",
      "sox WARN rate: rate clipped 4 samples; decrease volume?\n",
      "sox WARN dither: dither clipped 4 samples; decrease volume?\n",
      "sox WARN rate: rate clipped 2 samples; decrease volume?\n",
      "sox WARN dither: dither clipped 2 samples; decrease volume?\n",
      "sox WARN rate: rate clipped 31 samples; decrease volume?\n",
      "sox WARN dither: dither clipped 28 samples; decrease volume?\n",
      "sox WARN rate: rate clipped 210 samples; decrease volume?\n",
      "sox WARN dither: dither clipped 185 samples; decrease volume?\n"
     ]
    },
    {
     "data": {
      "application/vnd.jupyter.widget-view+json": {
       "model_id": "df4c6a55cb8a4d1b869cf00acb0262dc",
       "version_major": 2,
       "version_minor": 0
      },
      "text/plain": [
       "  0%|          | 0/25 [00:00<?, ?it/s]"
      ]
     },
     "metadata": {},
     "output_type": "display_data"
    },
    {
     "name": "stderr",
     "output_type": "stream",
     "text": [
      "sox WARN rate: rate clipped 1 samples; decrease volume?\n",
      "sox WARN dither: dither clipped 1 samples; decrease volume?\n",
      "sox WARN rate: rate clipped 2 samples; decrease volume?\n",
      "sox WARN dither: dither clipped 2 samples; decrease volume?\n",
      "sox WARN rate: rate clipped 3 samples; decrease volume?\n",
      "sox WARN dither: dither clipped 2 samples; decrease volume?\n",
      "sox WARN rate: rate clipped 2 samples; decrease volume?\n",
      "sox WARN dither: dither clipped 2 samples; decrease volume?\n"
     ]
    },
    {
     "data": {
      "application/vnd.jupyter.widget-view+json": {
       "model_id": "83c8026b15744106aa8cc2ac126a3e63",
       "version_major": 2,
       "version_minor": 0
      },
      "text/plain": [
       "  0%|          | 0/23 [00:00<?, ?it/s]"
      ]
     },
     "metadata": {},
     "output_type": "display_data"
    },
    {
     "name": "stderr",
     "output_type": "stream",
     "text": [
      "sox WARN rate: rate clipped 1783 samples; decrease volume?\n",
      "sox WARN dither: dither clipped 1542 samples; decrease volume?\n",
      "sox WARN rate: rate clipped 1 samples; decrease volume?\n",
      "sox WARN dither: dither clipped 1 samples; decrease volume?\n",
      "sox WARN rate: rate clipped 300 samples; decrease volume?\n",
      "sox WARN dither: dither clipped 263 samples; decrease volume?\n",
      "sox WARN rate: rate clipped 2 samples; decrease volume?\n",
      "sox WARN dither: dither clipped 1 samples; decrease volume?\n",
      "sox WARN rate: rate clipped 1 samples; decrease volume?\n",
      "sox WARN dither: dither clipped 1 samples; decrease volume?\n",
      "sox WARN rate: rate clipped 447 samples; decrease volume?\n",
      "sox WARN dither: dither clipped 394 samples; decrease volume?\n",
      "sox WARN rate: rate clipped 2 samples; decrease volume?\n",
      "sox WARN dither: dither clipped 2 samples; decrease volume?\n"
     ]
    },
    {
     "data": {
      "application/vnd.jupyter.widget-view+json": {
       "model_id": "fe214bcd178b46acb010ca0af31d63a2",
       "version_major": 2,
       "version_minor": 0
      },
      "text/plain": [
       "  0%|          | 0/29 [00:00<?, ?it/s]"
      ]
     },
     "metadata": {},
     "output_type": "display_data"
    },
    {
     "name": "stderr",
     "output_type": "stream",
     "text": [
      "sox WARN rate: rate clipped 2 samples; decrease volume?\n",
      "sox WARN dither: dither clipped 2 samples; decrease volume?\n",
      "sox WARN rate: rate clipped 12 samples; decrease volume?\n",
      "sox WARN dither: dither clipped 9 samples; decrease volume?\n",
      "sox WARN rate: rate clipped 8 samples; decrease volume?\n",
      "sox WARN dither: dither clipped 8 samples; decrease volume?\n",
      "sox WARN rate: rate clipped 1 samples; decrease volume?\n",
      "sox WARN dither: dither clipped 1 samples; decrease volume?\n",
      "sox WARN rate: rate clipped 183 samples; decrease volume?\n",
      "sox WARN dither: dither clipped 160 samples; decrease volume?\n",
      "sox WARN rate: rate clipped 2 samples; decrease volume?\n",
      "sox WARN dither: dither clipped 2 samples; decrease volume?\n",
      "sox WARN dither: dither clipped 2 samples; decrease volume?\n",
      "sox WARN rate: rate clipped 66 samples; decrease volume?\n",
      "sox WARN dither: dither clipped 54 samples; decrease volume?\n",
      "sox WARN rate: rate clipped 10 samples; decrease volume?\n",
      "sox WARN dither: dither clipped 8 samples; decrease volume?\n"
     ]
    },
    {
     "data": {
      "application/vnd.jupyter.widget-view+json": {
       "model_id": "fc6b59895ee648af89d128c1171784b2",
       "version_major": 2,
       "version_minor": 0
      },
      "text/plain": [
       "  0%|          | 0/12 [00:00<?, ?it/s]"
      ]
     },
     "metadata": {},
     "output_type": "display_data"
    },
    {
     "name": "stderr",
     "output_type": "stream",
     "text": [
      "sox WARN rate: rate clipped 26 samples; decrease volume?\n",
      "sox WARN dither: dither clipped 24 samples; decrease volume?\n",
      "sox WARN rate: rate clipped 2 samples; decrease volume?\n",
      "sox WARN dither: dither clipped 2 samples; decrease volume?\n"
     ]
    },
    {
     "data": {
      "application/vnd.jupyter.widget-view+json": {
       "model_id": "d7c620d9eb404a73a360371f9656ceed",
       "version_major": 2,
       "version_minor": 0
      },
      "text/plain": [
       "  0%|          | 0/20 [00:00<?, ?it/s]"
      ]
     },
     "metadata": {},
     "output_type": "display_data"
    },
    {
     "name": "stderr",
     "output_type": "stream",
     "text": [
      "sox WARN rate: rate clipped 1262 samples; decrease volume?\n",
      "sox WARN dither: dither clipped 1117 samples; decrease volume?\n",
      "sox WARN rate: rate clipped 2 samples; decrease volume?\n",
      "sox WARN dither: dither clipped 2 samples; decrease volume?\n",
      "sox WARN rate: rate clipped 1 samples; decrease volume?\n",
      "sox WARN dither: dither clipped 1 samples; decrease volume?\n",
      "sox WARN rate: rate clipped 2 samples; decrease volume?\n",
      "sox WARN dither: dither clipped 2 samples; decrease volume?\n",
      "sox WARN rate: rate clipped 4 samples; decrease volume?\n",
      "sox WARN dither: dither clipped 4 samples; decrease volume?\n",
      "sox WARN rate: rate clipped 112 samples; decrease volume?\n",
      "sox WARN dither: dither clipped 98 samples; decrease volume?\n"
     ]
    },
    {
     "data": {
      "application/vnd.jupyter.widget-view+json": {
       "model_id": "8f73bc27072149249cd15a0a6e8b68dd",
       "version_major": 2,
       "version_minor": 0
      },
      "text/plain": [
       "  0%|          | 0/9 [00:00<?, ?it/s]"
      ]
     },
     "metadata": {},
     "output_type": "display_data"
    },
    {
     "name": "stderr",
     "output_type": "stream",
     "text": [
      "sox WARN rate: rate clipped 7 samples; decrease volume?\n",
      "sox WARN dither: dither clipped 6 samples; decrease volume?\n",
      "sox WARN rate: rate clipped 49 samples; decrease volume?\n",
      "sox WARN dither: dither clipped 46 samples; decrease volume?\n"
     ]
    },
    {
     "data": {
      "application/vnd.jupyter.widget-view+json": {
       "model_id": "479e1f62d32a4a53a801aebda547a421",
       "version_major": 2,
       "version_minor": 0
      },
      "text/plain": [
       "  0%|          | 0/22 [00:00<?, ?it/s]"
      ]
     },
     "metadata": {},
     "output_type": "display_data"
    },
    {
     "name": "stderr",
     "output_type": "stream",
     "text": [
      "sox WARN rate: rate clipped 2 samples; decrease volume?\n",
      "sox WARN dither: dither clipped 1 samples; decrease volume?\n",
      "sox WARN rate: rate clipped 2 samples; decrease volume?\n",
      "sox WARN dither: dither clipped 1 samples; decrease volume?\n",
      "sox WARN rate: rate clipped 10 samples; decrease volume?\n",
      "sox WARN dither: dither clipped 10 samples; decrease volume?\n",
      "sox WARN rate: rate clipped 2 samples; decrease volume?\n",
      "sox WARN dither: dither clipped 2 samples; decrease volume?\n",
      "sox WARN rate: rate clipped 48 samples; decrease volume?\n",
      "sox WARN dither: dither clipped 39 samples; decrease volume?\n"
     ]
    },
    {
     "data": {
      "application/vnd.jupyter.widget-view+json": {
       "model_id": "a418413d5c2a4befb27d6dd40e8e67b9",
       "version_major": 2,
       "version_minor": 0
      },
      "text/plain": [
       "  0%|          | 0/20 [00:00<?, ?it/s]"
      ]
     },
     "metadata": {},
     "output_type": "display_data"
    },
    {
     "name": "stderr",
     "output_type": "stream",
     "text": [
      "sox WARN rate: rate clipped 1 samples; decrease volume?\n",
      "sox WARN dither: dither clipped 1 samples; decrease volume?\n",
      "sox WARN rate: rate clipped 19 samples; decrease volume?\n",
      "sox WARN dither: dither clipped 16 samples; decrease volume?\n",
      "sox WARN rate: rate clipped 2 samples; decrease volume?\n",
      "sox WARN dither: dither clipped 2 samples; decrease volume?\n",
      "sox WARN rate: rate clipped 7532 samples; decrease volume?\n",
      "sox WARN dither: dither clipped 6655 samples; decrease volume?\n",
      "sox WARN rate: rate clipped 2 samples; decrease volume?\n",
      "sox WARN dither: dither clipped 2 samples; decrease volume?\n",
      "sox WARN rate: rate clipped 9 samples; decrease volume?\n",
      "sox WARN dither: dither clipped 9 samples; decrease volume?\n"
     ]
    },
    {
     "data": {
      "application/vnd.jupyter.widget-view+json": {
       "model_id": "df3339998b7946219f03a1a17795b5d7",
       "version_major": 2,
       "version_minor": 0
      },
      "text/plain": [
       "  0%|          | 0/15 [00:00<?, ?it/s]"
      ]
     },
     "metadata": {},
     "output_type": "display_data"
    },
    {
     "data": {
      "application/vnd.jupyter.widget-view+json": {
       "model_id": "6417436aa2f24e38b9c799c662e51575",
       "version_major": 2,
       "version_minor": 0
      },
      "text/plain": [
       "  0%|          | 0/15 [00:00<?, ?it/s]"
      ]
     },
     "metadata": {},
     "output_type": "display_data"
    },
    {
     "name": "stderr",
     "output_type": "stream",
     "text": [
      "sox WARN rate: rate clipped 52 samples; decrease volume?\n",
      "sox WARN dither: dither clipped 43 samples; decrease volume?\n",
      "sox WARN rate: rate clipped 2 samples; decrease volume?\n",
      "sox WARN dither: dither clipped 1 samples; decrease volume?\n",
      "sox WARN rate: rate clipped 5 samples; decrease volume?\n",
      "sox WARN dither: dither clipped 5 samples; decrease volume?\n",
      "sox WARN rate: rate clipped 6 samples; decrease volume?\n",
      "sox WARN dither: dither clipped 6 samples; decrease volume?\n",
      "sox WARN rate: rate clipped 1 samples; decrease volume?\n",
      "sox WARN dither: dither clipped 1 samples; decrease volume?\n"
     ]
    },
    {
     "data": {
      "application/vnd.jupyter.widget-view+json": {
       "model_id": "ecbedb67089a4a00815f23fc5536e524",
       "version_major": 2,
       "version_minor": 0
      },
      "text/plain": [
       "  0%|          | 0/10 [00:00<?, ?it/s]"
      ]
     },
     "metadata": {},
     "output_type": "display_data"
    },
    {
     "name": "stderr",
     "output_type": "stream",
     "text": [
      "sox WARN rate: rate clipped 1 samples; decrease volume?\n",
      "sox WARN dither: dither clipped 1 samples; decrease volume?\n",
      "sox WARN rate: rate clipped 7 samples; decrease volume?\n",
      "sox WARN dither: dither clipped 4 samples; decrease volume?\n",
      "sox WARN rate: rate clipped 10 samples; decrease volume?\n",
      "sox WARN dither: dither clipped 9 samples; decrease volume?\n",
      "sox WARN rate: rate clipped 16 samples; decrease volume?\n",
      "sox WARN dither: dither clipped 19 samples; decrease volume?\n"
     ]
    },
    {
     "data": {
      "application/vnd.jupyter.widget-view+json": {
       "model_id": "069f44a2081342a599190623c83ceb77",
       "version_major": 2,
       "version_minor": 0
      },
      "text/plain": [
       "  0%|          | 0/15 [00:00<?, ?it/s]"
      ]
     },
     "metadata": {},
     "output_type": "display_data"
    },
    {
     "name": "stderr",
     "output_type": "stream",
     "text": [
      "sox WARN rate: rate clipped 52 samples; decrease volume?\n",
      "sox WARN dither: dither clipped 44 samples; decrease volume?\n",
      "sox WARN rate: rate clipped 4 samples; decrease volume?\n",
      "sox WARN dither: dither clipped 3 samples; decrease volume?\n",
      "sox WARN rate: rate clipped 79 samples; decrease volume?\n",
      "sox WARN dither: dither clipped 70 samples; decrease volume?\n",
      "sox WARN rate: rate clipped 2 samples; decrease volume?\n",
      "sox WARN dither: dither clipped 2 samples; decrease volume?\n",
      "sox WARN rate: rate clipped 2 samples; decrease volume?\n",
      "sox WARN dither: dither clipped 1 samples; decrease volume?\n"
     ]
    },
    {
     "data": {
      "application/vnd.jupyter.widget-view+json": {
       "model_id": "f2edd1fddc434ee5bf68a257987a596a",
       "version_major": 2,
       "version_minor": 0
      },
      "text/plain": [
       "  0%|          | 0/15 [00:00<?, ?it/s]"
      ]
     },
     "metadata": {},
     "output_type": "display_data"
    },
    {
     "name": "stderr",
     "output_type": "stream",
     "text": [
      "sox WARN rate: rate clipped 1 samples; decrease volume?\n",
      "sox WARN dither: dither clipped 1 samples; decrease volume?\n",
      "sox WARN rate: rate clipped 2 samples; decrease volume?\n",
      "sox WARN dither: dither clipped 1 samples; decrease volume?\n",
      "sox WARN rate: rate clipped 748 samples; decrease volume?\n",
      "sox WARN dither: dither clipped 648 samples; decrease volume?\n",
      "sox WARN rate: rate clipped 3 samples; decrease volume?\n",
      "sox WARN dither: dither clipped 3 samples; decrease volume?\n"
     ]
    },
    {
     "data": {
      "application/vnd.jupyter.widget-view+json": {
       "model_id": "2b052dc34e464a24aa3369db5a30f33a",
       "version_major": 2,
       "version_minor": 0
      },
      "text/plain": [
       "  0%|          | 0/28 [00:00<?, ?it/s]"
      ]
     },
     "metadata": {},
     "output_type": "display_data"
    },
    {
     "name": "stderr",
     "output_type": "stream",
     "text": [
      "sox WARN rate: rate clipped 2 samples; decrease volume?\n",
      "sox WARN dither: dither clipped 2 samples; decrease volume?\n",
      "sox WARN rate: rate clipped 2 samples; decrease volume?\n",
      "sox WARN dither: dither clipped 1 samples; decrease volume?\n",
      "sox WARN rate: rate clipped 2 samples; decrease volume?\n",
      "sox WARN dither: dither clipped 1 samples; decrease volume?\n",
      "sox WARN rate: rate clipped 699 samples; decrease volume?\n",
      "sox WARN dither: dither clipped 610 samples; decrease volume?\n",
      "sox WARN rate: rate clipped 282 samples; decrease volume?\n",
      "sox WARN dither: dither clipped 250 samples; decrease volume?\n"
     ]
    },
    {
     "data": {
      "application/vnd.jupyter.widget-view+json": {
       "model_id": "721ea11580fa476fa78b25f12b37a2c9",
       "version_major": 2,
       "version_minor": 0
      },
      "text/plain": [
       "  0%|          | 0/12 [00:00<?, ?it/s]"
      ]
     },
     "metadata": {},
     "output_type": "display_data"
    },
    {
     "name": "stderr",
     "output_type": "stream",
     "text": [
      "sox WARN rate: rate clipped 1 samples; decrease volume?\n",
      "sox WARN dither: dither clipped 1 samples; decrease volume?\n",
      "sox WARN rate: rate clipped 2 samples; decrease volume?\n",
      "sox WARN dither: dither clipped 2 samples; decrease volume?\n",
      "sox WARN rate: rate clipped 1 samples; decrease volume?\n",
      "sox WARN dither: dither clipped 1 samples; decrease volume?\n"
     ]
    },
    {
     "data": {
      "application/vnd.jupyter.widget-view+json": {
       "model_id": "364f85109acb484f9a76930cddc9d020",
       "version_major": 2,
       "version_minor": 0
      },
      "text/plain": [
       "  0%|          | 0/10 [00:00<?, ?it/s]"
      ]
     },
     "metadata": {},
     "output_type": "display_data"
    },
    {
     "name": "stderr",
     "output_type": "stream",
     "text": [
      "sox WARN rate: rate clipped 2 samples; decrease volume?\n",
      "sox WARN dither: dither clipped 2 samples; decrease volume?\n"
     ]
    },
    {
     "data": {
      "application/vnd.jupyter.widget-view+json": {
       "model_id": "b797a709a4454df6ba568405227fde6a",
       "version_major": 2,
       "version_minor": 0
      },
      "text/plain": [
       "  0%|          | 0/14 [00:00<?, ?it/s]"
      ]
     },
     "metadata": {},
     "output_type": "display_data"
    },
    {
     "name": "stderr",
     "output_type": "stream",
     "text": [
      "sox WARN rate: rate clipped 74 samples; decrease volume?\n",
      "sox WARN dither: dither clipped 65 samples; decrease volume?\n",
      "sox WARN rate: rate clipped 2 samples; decrease volume?\n",
      "sox WARN dither: dither clipped 1 samples; decrease volume?\n"
     ]
    },
    {
     "data": {
      "application/vnd.jupyter.widget-view+json": {
       "model_id": "66c925ccfe5649998069b16ee23b4878",
       "version_major": 2,
       "version_minor": 0
      },
      "text/plain": [
       "  0%|          | 0/26 [00:00<?, ?it/s]"
      ]
     },
     "metadata": {},
     "output_type": "display_data"
    },
    {
     "name": "stderr",
     "output_type": "stream",
     "text": [
      "sox WARN rate: rate clipped 26 samples; decrease volume?\n",
      "sox WARN dither: dither clipped 23 samples; decrease volume?\n",
      "sox WARN rate: rate clipped 86 samples; decrease volume?\n",
      "sox WARN dither: dither clipped 82 samples; decrease volume?\n",
      "sox WARN rate: rate clipped 1 samples; decrease volume?\n",
      "sox WARN rate: rate clipped 1 samples; decrease volume?\n",
      "sox WARN dither: dither clipped 1 samples; decrease volume?\n",
      "sox WARN rate: rate clipped 1013 samples; decrease volume?\n",
      "sox WARN dither: dither clipped 869 samples; decrease volume?\n"
     ]
    },
    {
     "data": {
      "application/vnd.jupyter.widget-view+json": {
       "model_id": "85a89b3ef3b94e6d9fa546b59c59d8c2",
       "version_major": 2,
       "version_minor": 0
      },
      "text/plain": [
       "  0%|          | 0/16 [00:00<?, ?it/s]"
      ]
     },
     "metadata": {},
     "output_type": "display_data"
    },
    {
     "name": "stderr",
     "output_type": "stream",
     "text": [
      "sox WARN rate: rate clipped 17 samples; decrease volume?\n",
      "sox WARN dither: dither clipped 15 samples; decrease volume?\n",
      "sox WARN rate: rate clipped 2 samples; decrease volume?\n",
      "sox WARN dither: dither clipped 2 samples; decrease volume?\n",
      "sox WARN rate: rate clipped 4 samples; decrease volume?\n",
      "sox WARN dither: dither clipped 3 samples; decrease volume?\n"
     ]
    },
    {
     "data": {
      "application/vnd.jupyter.widget-view+json": {
       "model_id": "3d2a661139d344fc9ba22567e248652c",
       "version_major": 2,
       "version_minor": 0
      },
      "text/plain": [
       "  0%|          | 0/18 [00:00<?, ?it/s]"
      ]
     },
     "metadata": {},
     "output_type": "display_data"
    },
    {
     "name": "stderr",
     "output_type": "stream",
     "text": [
      "sox WARN rate: rate clipped 2 samples; decrease volume?\n",
      "sox WARN dither: dither clipped 2 samples; decrease volume?\n",
      "sox WARN rate: rate clipped 2 samples; decrease volume?\n",
      "sox WARN dither: dither clipped 2 samples; decrease volume?\n"
     ]
    },
    {
     "data": {
      "application/vnd.jupyter.widget-view+json": {
       "model_id": "bbace75e42b14f1ca72b9c88819b52e0",
       "version_major": 2,
       "version_minor": 0
      },
      "text/plain": [
       "  0%|          | 0/25 [00:00<?, ?it/s]"
      ]
     },
     "metadata": {},
     "output_type": "display_data"
    },
    {
     "name": "stderr",
     "output_type": "stream",
     "text": [
      "sox WARN rate: rate clipped 2 samples; decrease volume?\n",
      "sox WARN dither: dither clipped 2 samples; decrease volume?\n",
      "sox WARN rate: rate clipped 2 samples; decrease volume?\n",
      "sox WARN dither: dither clipped 2 samples; decrease volume?\n",
      "sox WARN rate: rate clipped 114 samples; decrease volume?\n",
      "sox WARN dither: dither clipped 98 samples; decrease volume?\n",
      "sox WARN rate: rate clipped 1618 samples; decrease volume?\n",
      "sox WARN dither: dither clipped 1410 samples; decrease volume?\n",
      "sox WARN rate: rate clipped 2 samples; decrease volume?\n",
      "sox WARN dither: dither clipped 2 samples; decrease volume?\n",
      "sox WARN rate: rate clipped 198 samples; decrease volume?\n",
      "sox WARN dither: dither clipped 167 samples; decrease volume?\n",
      "sox WARN rate: rate clipped 49 samples; decrease volume?\n",
      "sox WARN dither: dither clipped 42 samples; decrease volume?\n",
      "sox WARN rate: rate clipped 2 samples; decrease volume?\n",
      "sox WARN dither: dither clipped 2 samples; decrease volume?\n",
      "sox WARN rate: rate clipped 382 samples; decrease volume?\n",
      "sox WARN dither: dither clipped 335 samples; decrease volume?\n",
      "sox WARN rate: rate clipped 14 samples; decrease volume?\n",
      "sox WARN dither: dither clipped 12 samples; decrease volume?\n",
      "sox WARN rate: rate clipped 1 samples; decrease volume?\n",
      "sox WARN dither: dither clipped 1 samples; decrease volume?\n"
     ]
    },
    {
     "data": {
      "application/vnd.jupyter.widget-view+json": {
       "model_id": "6d595c71e5db413d9b0bcac93a082ff4",
       "version_major": 2,
       "version_minor": 0
      },
      "text/plain": [
       "  0%|          | 0/17 [00:00<?, ?it/s]"
      ]
     },
     "metadata": {},
     "output_type": "display_data"
    },
    {
     "name": "stderr",
     "output_type": "stream",
     "text": [
      "sox WARN rate: rate clipped 2 samples; decrease volume?\n",
      "sox WARN dither: dither clipped 2 samples; decrease volume?\n",
      "sox WARN rate: rate clipped 2 samples; decrease volume?\n",
      "sox WARN dither: dither clipped 2 samples; decrease volume?\n",
      "sox WARN rate: rate clipped 9 samples; decrease volume?\n",
      "sox WARN dither: dither clipped 9 samples; decrease volume?\n",
      "sox WARN rate: rate clipped 1 samples; decrease volume?\n",
      "sox WARN dither: dither clipped 1 samples; decrease volume?\n",
      "sox WARN rate: rate clipped 626 samples; decrease volume?\n",
      "sox WARN dither: dither clipped 560 samples; decrease volume?\n",
      "sox WARN rate: rate clipped 2 samples; decrease volume?\n",
      "sox WARN dither: dither clipped 2 samples; decrease volume?\n"
     ]
    },
    {
     "data": {
      "application/vnd.jupyter.widget-view+json": {
       "model_id": "0768c553d1314ccc875077169e5f09b8",
       "version_major": 2,
       "version_minor": 0
      },
      "text/plain": [
       "  0%|          | 0/23 [00:00<?, ?it/s]"
      ]
     },
     "metadata": {},
     "output_type": "display_data"
    },
    {
     "name": "stderr",
     "output_type": "stream",
     "text": [
      "sox WARN rate: rate clipped 2 samples; decrease volume?\n",
      "sox WARN dither: dither clipped 2 samples; decrease volume?\n",
      "sox WARN rate: rate clipped 1 samples; decrease volume?\n",
      "sox WARN dither: dither clipped 1 samples; decrease volume?\n"
     ]
    },
    {
     "data": {
      "application/vnd.jupyter.widget-view+json": {
       "model_id": "a72d9db074d042269800cba09991b160",
       "version_major": 2,
       "version_minor": 0
      },
      "text/plain": [
       "  0%|          | 0/5 [00:00<?, ?it/s]"
      ]
     },
     "metadata": {},
     "output_type": "display_data"
    },
    {
     "name": "stderr",
     "output_type": "stream",
     "text": [
      "sox WARN rate: rate clipped 2 samples; decrease volume?\n",
      "sox WARN dither: dither clipped 1 samples; decrease volume?\n",
      "sox WARN rate: rate clipped 34 samples; decrease volume?\n",
      "sox WARN dither: dither clipped 33 samples; decrease volume?\n"
     ]
    },
    {
     "data": {
      "application/vnd.jupyter.widget-view+json": {
       "model_id": "733b6caf4c2041b59692316ea4b3af34",
       "version_major": 2,
       "version_minor": 0
      },
      "text/plain": [
       "  0%|          | 0/24 [00:00<?, ?it/s]"
      ]
     },
     "metadata": {},
     "output_type": "display_data"
    },
    {
     "name": "stderr",
     "output_type": "stream",
     "text": [
      "sox WARN rate: rate clipped 6644 samples; decrease volume?\n",
      "sox WARN dither: dither clipped 5792 samples; decrease volume?\n",
      "sox WARN rate: rate clipped 4 samples; decrease volume?\n",
      "sox WARN dither: dither clipped 4 samples; decrease volume?\n",
      "sox WARN rate: rate clipped 104 samples; decrease volume?\n",
      "sox WARN dither: dither clipped 91 samples; decrease volume?\n",
      "sox WARN rate: rate clipped 1 samples; decrease volume?\n",
      "sox WARN dither: dither clipped 1 samples; decrease volume?\n",
      "sox WARN rate: rate clipped 2 samples; decrease volume?\n",
      "sox WARN dither: dither clipped 1 samples; decrease volume?\n"
     ]
    },
    {
     "data": {
      "application/vnd.jupyter.widget-view+json": {
       "model_id": "e14ba1b13d92463b914388097a841a4f",
       "version_major": 2,
       "version_minor": 0
      },
      "text/plain": [
       "  0%|          | 0/21 [00:00<?, ?it/s]"
      ]
     },
     "metadata": {},
     "output_type": "display_data"
    },
    {
     "name": "stderr",
     "output_type": "stream",
     "text": [
      "sox WARN rate: rate clipped 2 samples; decrease volume?\n",
      "sox WARN dither: dither clipped 2 samples; decrease volume?\n",
      "sox WARN rate: rate clipped 6 samples; decrease volume?\n",
      "sox WARN dither: dither clipped 6 samples; decrease volume?\n",
      "sox WARN rate: rate clipped 20 samples; decrease volume?\n",
      "sox WARN dither: dither clipped 19 samples; decrease volume?\n",
      "sox WARN rate: rate clipped 2 samples; decrease volume?\n",
      "sox WARN dither: dither clipped 2 samples; decrease volume?\n",
      "sox WARN rate: rate clipped 298 samples; decrease volume?\n",
      "sox WARN dither: dither clipped 252 samples; decrease volume?\n"
     ]
    },
    {
     "data": {
      "application/vnd.jupyter.widget-view+json": {
       "model_id": "838b9dc9e66c4a03b61df77f64d47bb4",
       "version_major": 2,
       "version_minor": 0
      },
      "text/plain": [
       "  0%|          | 0/19 [00:00<?, ?it/s]"
      ]
     },
     "metadata": {},
     "output_type": "display_data"
    },
    {
     "name": "stderr",
     "output_type": "stream",
     "text": [
      "sox WARN rate: rate clipped 2 samples; decrease volume?\n",
      "sox WARN dither: dither clipped 1 samples; decrease volume?\n",
      "sox WARN rate: rate clipped 92 samples; decrease volume?\n",
      "sox WARN dither: dither clipped 85 samples; decrease volume?\n",
      "sox WARN rate: rate clipped 2 samples; decrease volume?\n",
      "sox WARN dither: dither clipped 2 samples; decrease volume?\n",
      "sox WARN rate: rate clipped 2 samples; decrease volume?\n",
      "sox WARN dither: dither clipped 2 samples; decrease volume?\n",
      "sox WARN rate: rate clipped 1 samples; decrease volume?\n",
      "sox WARN dither: dither clipped 1 samples; decrease volume?\n",
      "sox WARN rate: rate clipped 2 samples; decrease volume?\n",
      "sox WARN dither: dither clipped 2 samples; decrease volume?\n",
      "sox WARN rate: rate clipped 2 samples; decrease volume?\n",
      "sox WARN dither: dither clipped 2 samples; decrease volume?\n"
     ]
    },
    {
     "data": {
      "application/vnd.jupyter.widget-view+json": {
       "model_id": "1dbc13a8426f45d09b229929f8227ce3",
       "version_major": 2,
       "version_minor": 0
      },
      "text/plain": [
       "  0%|          | 0/35 [00:00<?, ?it/s]"
      ]
     },
     "metadata": {},
     "output_type": "display_data"
    },
    {
     "name": "stderr",
     "output_type": "stream",
     "text": [
      "sox WARN rate: rate clipped 10 samples; decrease volume?\n",
      "sox WARN dither: dither clipped 8 samples; decrease volume?\n",
      "sox WARN rate: rate clipped 7 samples; decrease volume?\n",
      "sox WARN dither: dither clipped 5 samples; decrease volume?\n",
      "sox WARN rate: rate clipped 2 samples; decrease volume?\n",
      "sox WARN dither: dither clipped 2 samples; decrease volume?\n",
      "sox WARN rate: rate clipped 2 samples; decrease volume?\n",
      "sox WARN dither: dither clipped 2 samples; decrease volume?\n",
      "sox WARN rate: rate clipped 1 samples; decrease volume?\n",
      "sox WARN dither: dither clipped 1 samples; decrease volume?\n",
      "sox WARN rate: rate clipped 1 samples; decrease volume?\n",
      "sox WARN dither: dither clipped 1 samples; decrease volume?\n",
      "sox WARN rate: rate clipped 98 samples; decrease volume?\n",
      "sox WARN dither: dither clipped 83 samples; decrease volume?\n",
      "sox WARN rate: rate clipped 6 samples; decrease volume?\n",
      "sox WARN dither: dither clipped 6 samples; decrease volume?\n",
      "sox WARN rate: rate clipped 10 samples; decrease volume?\n",
      "sox WARN dither: dither clipped 10 samples; decrease volume?\n"
     ]
    },
    {
     "data": {
      "application/vnd.jupyter.widget-view+json": {
       "model_id": "4b67d7d50482458b84efac0630f92e22",
       "version_major": 2,
       "version_minor": 0
      },
      "text/plain": [
       "  0%|          | 0/10 [00:00<?, ?it/s]"
      ]
     },
     "metadata": {},
     "output_type": "display_data"
    },
    {
     "data": {
      "application/vnd.jupyter.widget-view+json": {
       "model_id": "f9eaacc5f0c04ae0891fccd4a374cf13",
       "version_major": 2,
       "version_minor": 0
      },
      "text/plain": [
       "  0%|          | 0/25 [00:00<?, ?it/s]"
      ]
     },
     "metadata": {},
     "output_type": "display_data"
    },
    {
     "name": "stderr",
     "output_type": "stream",
     "text": [
      "sox WARN rate: rate clipped 3 samples; decrease volume?\n",
      "sox WARN dither: dither clipped 2 samples; decrease volume?\n",
      "sox WARN rate: rate clipped 536 samples; decrease volume?\n",
      "sox WARN dither: dither clipped 623 samples; decrease volume?\n",
      "sox WARN rate: rate clipped 1 samples; decrease volume?\n",
      "sox WARN dither: dither clipped 1 samples; decrease volume?\n",
      "sox WARN rate: rate clipped 2 samples; decrease volume?\n",
      "sox WARN dither: dither clipped 2 samples; decrease volume?\n",
      "sox WARN rate: rate clipped 60 samples; decrease volume?\n",
      "sox WARN dither: dither clipped 50 samples; decrease volume?\n",
      "sox WARN rate: rate clipped 14 samples; decrease volume?\n",
      "sox WARN dither: dither clipped 13 samples; decrease volume?\n"
     ]
    },
    {
     "data": {
      "application/vnd.jupyter.widget-view+json": {
       "model_id": "fa935a751edc4671aef2e3efcd41c41a",
       "version_major": 2,
       "version_minor": 0
      },
      "text/plain": [
       "  0%|          | 0/20 [00:00<?, ?it/s]"
      ]
     },
     "metadata": {},
     "output_type": "display_data"
    },
    {
     "name": "stderr",
     "output_type": "stream",
     "text": [
      "sox WARN rate: rate clipped 22 samples; decrease volume?\n",
      "sox WARN dither: dither clipped 18 samples; decrease volume?\n",
      "sox WARN rate: rate clipped 358 samples; decrease volume?\n",
      "sox WARN dither: dither clipped 319 samples; decrease volume?\n",
      "sox WARN rate: rate clipped 1 samples; decrease volume?\n",
      "sox WARN dither: dither clipped 1 samples; decrease volume?\n"
     ]
    },
    {
     "data": {
      "application/vnd.jupyter.widget-view+json": {
       "model_id": "cc08fdc0409842e6ba480cda216ebd62",
       "version_major": 2,
       "version_minor": 0
      },
      "text/plain": [
       "  0%|          | 0/8 [00:00<?, ?it/s]"
      ]
     },
     "metadata": {},
     "output_type": "display_data"
    },
    {
     "name": "stderr",
     "output_type": "stream",
     "text": [
      "sox WARN rate: rate clipped 3 samples; decrease volume?\n",
      "sox WARN dither: dither clipped 3 samples; decrease volume?\n",
      "sox WARN rate: rate clipped 2 samples; decrease volume?\n",
      "sox WARN dither: dither clipped 1 samples; decrease volume?\n"
     ]
    },
    {
     "data": {
      "application/vnd.jupyter.widget-view+json": {
       "model_id": "2d40c3efb27b4277a6017f2d30d05cb7",
       "version_major": 2,
       "version_minor": 0
      },
      "text/plain": [
       "  0%|          | 0/22 [00:00<?, ?it/s]"
      ]
     },
     "metadata": {},
     "output_type": "display_data"
    },
    {
     "name": "stderr",
     "output_type": "stream",
     "text": [
      "sox WARN rate: rate clipped 1 samples; decrease volume?\n",
      "sox WARN dither: dither clipped 1 samples; decrease volume?\n",
      "sox WARN rate: rate clipped 1 samples; decrease volume?\n",
      "sox WARN dither: dither clipped 1 samples; decrease volume?\n",
      "sox WARN rate: rate clipped 2 samples; decrease volume?\n",
      "sox WARN dither: dither clipped 1 samples; decrease volume?\n",
      "sox WARN rate: rate clipped 2 samples; decrease volume?\n",
      "sox WARN dither: dither clipped 2 samples; decrease volume?\n",
      "sox WARN rate: rate clipped 1 samples; decrease volume?\n",
      "sox WARN dither: dither clipped 1 samples; decrease volume?\n",
      "sox WARN rate: rate clipped 6775 samples; decrease volume?\n",
      "sox WARN dither: dither clipped 5905 samples; decrease volume?\n",
      "sox WARN rate: rate clipped 2 samples; decrease volume?\n",
      "sox WARN dither: dither clipped 1 samples; decrease volume?\n"
     ]
    },
    {
     "data": {
      "application/vnd.jupyter.widget-view+json": {
       "model_id": "e310228247b74a6994f492d2c6244cbe",
       "version_major": 2,
       "version_minor": 0
      },
      "text/plain": [
       "  0%|          | 0/13 [00:00<?, ?it/s]"
      ]
     },
     "metadata": {},
     "output_type": "display_data"
    },
    {
     "name": "stderr",
     "output_type": "stream",
     "text": [
      "sox WARN rate: rate clipped 1 samples; decrease volume?\n",
      "sox WARN dither: dither clipped 1 samples; decrease volume?\n"
     ]
    },
    {
     "data": {
      "application/vnd.jupyter.widget-view+json": {
       "model_id": "7ce76e16c2154a39a5a15df994d4cc74",
       "version_major": 2,
       "version_minor": 0
      },
      "text/plain": [
       "  0%|          | 0/18 [00:00<?, ?it/s]"
      ]
     },
     "metadata": {},
     "output_type": "display_data"
    },
    {
     "name": "stderr",
     "output_type": "stream",
     "text": [
      "sox WARN rate: rate clipped 2 samples; decrease volume?\n",
      "sox WARN dither: dither clipped 2 samples; decrease volume?\n",
      "sox WARN rate: rate clipped 26 samples; decrease volume?\n",
      "sox WARN dither: dither clipped 23 samples; decrease volume?\n",
      "sox WARN rate: rate clipped 2 samples; decrease volume?\n",
      "sox WARN dither: dither clipped 1 samples; decrease volume?\n",
      "sox WARN rate: rate clipped 626 samples; decrease volume?\n",
      "sox WARN dither: dither clipped 549 samples; decrease volume?\n"
     ]
    },
    {
     "data": {
      "application/vnd.jupyter.widget-view+json": {
       "model_id": "0a9973f49a5a4ac4961795fa9a7f80a6",
       "version_major": 2,
       "version_minor": 0
      },
      "text/plain": [
       "  0%|          | 0/62 [00:00<?, ?it/s]"
      ]
     },
     "metadata": {},
     "output_type": "display_data"
    },
    {
     "data": {
      "application/vnd.jupyter.widget-view+json": {
       "model_id": "10d5eab621f049858c32a9d942e5147d",
       "version_major": 2,
       "version_minor": 0
      },
      "text/plain": [
       "  0%|          | 0/18 [00:00<?, ?it/s]"
      ]
     },
     "metadata": {},
     "output_type": "display_data"
    },
    {
     "name": "stderr",
     "output_type": "stream",
     "text": [
      "sox WARN rate: rate clipped 2 samples; decrease volume?\n",
      "sox WARN dither: dither clipped 1 samples; decrease volume?\n",
      "sox WARN rate: rate clipped 4 samples; decrease volume?\n",
      "sox WARN dither: dither clipped 4 samples; decrease volume?\n",
      "sox WARN rate: rate clipped 2 samples; decrease volume?\n",
      "sox WARN dither: dither clipped 2 samples; decrease volume?\n",
      "sox WARN rate: rate clipped 1 samples; decrease volume?\n",
      "sox WARN dither: dither clipped 1 samples; decrease volume?\n"
     ]
    },
    {
     "data": {
      "application/vnd.jupyter.widget-view+json": {
       "model_id": "df66a88284be49e9b2ccefc488645a80",
       "version_major": 2,
       "version_minor": 0
      },
      "text/plain": [
       "  0%|          | 0/14 [00:00<?, ?it/s]"
      ]
     },
     "metadata": {},
     "output_type": "display_data"
    },
    {
     "data": {
      "application/vnd.jupyter.widget-view+json": {
       "model_id": "340b404b88484847b97617c9eeddc5e1",
       "version_major": 2,
       "version_minor": 0
      },
      "text/plain": [
       "  0%|          | 0/13 [00:00<?, ?it/s]"
      ]
     },
     "metadata": {},
     "output_type": "display_data"
    },
    {
     "name": "stderr",
     "output_type": "stream",
     "text": [
      "sox WARN rate: rate clipped 4 samples; decrease volume?\n",
      "sox WARN dither: dither clipped 4 samples; decrease volume?\n",
      "sox WARN rate: rate clipped 18 samples; decrease volume?\n",
      "sox WARN dither: dither clipped 16 samples; decrease volume?\n",
      "sox WARN rate: rate clipped 1 samples; decrease volume?\n",
      "sox WARN rate: rate clipped 2 samples; decrease volume?\n",
      "sox WARN dither: dither clipped 1 samples; decrease volume?\n"
     ]
    },
    {
     "data": {
      "application/vnd.jupyter.widget-view+json": {
       "model_id": "2a4de01b7c0543a5a41964081a6dabd6",
       "version_major": 2,
       "version_minor": 0
      },
      "text/plain": [
       "  0%|          | 0/12 [00:00<?, ?it/s]"
      ]
     },
     "metadata": {},
     "output_type": "display_data"
    },
    {
     "name": "stderr",
     "output_type": "stream",
     "text": [
      "sox WARN rate: rate clipped 4 samples; decrease volume?\n",
      "sox WARN dither: dither clipped 4 samples; decrease volume?\n",
      "sox WARN rate: rate clipped 2 samples; decrease volume?\n",
      "sox WARN dither: dither clipped 2 samples; decrease volume?\n",
      "sox WARN rate: rate clipped 2 samples; decrease volume?\n"
     ]
    },
    {
     "data": {
      "application/vnd.jupyter.widget-view+json": {
       "model_id": "14a722c811a64719a91c8f0c265d8c08",
       "version_major": 2,
       "version_minor": 0
      },
      "text/plain": [
       "  0%|          | 0/15 [00:00<?, ?it/s]"
      ]
     },
     "metadata": {},
     "output_type": "display_data"
    },
    {
     "name": "stderr",
     "output_type": "stream",
     "text": [
      "sox WARN rate: rate clipped 1 samples; decrease volume?\n",
      "sox WARN dither: dither clipped 1 samples; decrease volume?\n",
      "sox WARN rate: rate clipped 2 samples; decrease volume?\n",
      "sox WARN dither: dither clipped 2 samples; decrease volume?\n",
      "sox WARN rate: rate clipped 592 samples; decrease volume?\n",
      "sox WARN dither: dither clipped 520 samples; decrease volume?\n",
      "sox WARN rate: rate clipped 1126 samples; decrease volume?\n",
      "sox WARN dither: dither clipped 983 samples; decrease volume?\n",
      "sox WARN rate: rate clipped 1 samples; decrease volume?\n",
      "sox WARN dither: dither clipped 1 samples; decrease volume?\n"
     ]
    },
    {
     "data": {
      "application/vnd.jupyter.widget-view+json": {
       "model_id": "4252221ca57e4694b781953b119c2588",
       "version_major": 2,
       "version_minor": 0
      },
      "text/plain": [
       "  0%|          | 0/18 [00:00<?, ?it/s]"
      ]
     },
     "metadata": {},
     "output_type": "display_data"
    },
    {
     "name": "stderr",
     "output_type": "stream",
     "text": [
      "sox WARN rate: rate clipped 4 samples; decrease volume?\n",
      "sox WARN dither: dither clipped 3 samples; decrease volume?\n",
      "sox WARN rate: rate clipped 2 samples; decrease volume?\n",
      "sox WARN dither: dither clipped 2 samples; decrease volume?\n",
      "sox WARN rate: rate clipped 46 samples; decrease volume?\n",
      "sox WARN dither: dither clipped 42 samples; decrease volume?\n",
      "sox WARN dither: dither clipped 1 samples; decrease volume?\n",
      "sox WARN rate: rate clipped 2 samples; decrease volume?\n",
      "sox WARN dither: dither clipped 2 samples; decrease volume?\n",
      "sox WARN rate: rate clipped 4 samples; decrease volume?\n",
      "sox WARN dither: dither clipped 4 samples; decrease volume?\n",
      "sox WARN rate: rate clipped 4 samples; decrease volume?\n",
      "sox WARN dither: dither clipped 2 samples; decrease volume?\n",
      "sox WARN rate: rate clipped 22 samples; decrease volume?\n",
      "sox WARN dither: dither clipped 22 samples; decrease volume?\n"
     ]
    },
    {
     "data": {
      "application/vnd.jupyter.widget-view+json": {
       "model_id": "c8558f755cba4611bec2960ef47dd43b",
       "version_major": 2,
       "version_minor": 0
      },
      "text/plain": [
       "  0%|          | 0/15 [00:00<?, ?it/s]"
      ]
     },
     "metadata": {},
     "output_type": "display_data"
    },
    {
     "name": "stderr",
     "output_type": "stream",
     "text": [
      "sox WARN rate: rate clipped 390 samples; decrease volume?\n",
      "sox WARN dither: dither clipped 344 samples; decrease volume?\n",
      "sox WARN rate: rate clipped 2 samples; decrease volume?\n",
      "sox WARN dither: dither clipped 1 samples; decrease volume?\n",
      "sox WARN rate: rate clipped 2 samples; decrease volume?\n",
      "sox WARN dither: dither clipped 1 samples; decrease volume?\n",
      "sox WARN rate: rate clipped 1 samples; decrease volume?\n",
      "sox WARN dither: dither clipped 1 samples; decrease volume?\n",
      "sox WARN rate: rate clipped 2 samples; decrease volume?\n",
      "sox WARN dither: dither clipped 2 samples; decrease volume?\n"
     ]
    },
    {
     "data": {
      "application/vnd.jupyter.widget-view+json": {
       "model_id": "00347e2b1c574801a51912457a08aff0",
       "version_major": 2,
       "version_minor": 0
      },
      "text/plain": [
       "  0%|          | 0/22 [00:00<?, ?it/s]"
      ]
     },
     "metadata": {},
     "output_type": "display_data"
    },
    {
     "name": "stderr",
     "output_type": "stream",
     "text": [
      "sox WARN rate: rate clipped 1610 samples; decrease volume?\n",
      "sox WARN dither: dither clipped 1416 samples; decrease volume?\n",
      "sox WARN rate: rate clipped 24 samples; decrease volume?\n",
      "sox WARN dither: dither clipped 24 samples; decrease volume?\n",
      "sox WARN rate: rate clipped 1 samples; decrease volume?\n",
      "sox WARN dither: dither clipped 1 samples; decrease volume?\n",
      "sox WARN rate: rate clipped 4 samples; decrease volume?\n",
      "sox WARN dither: dither clipped 3 samples; decrease volume?\n",
      "sox WARN rate: rate clipped 1 samples; decrease volume?\n",
      "sox WARN dither: dither clipped 1 samples; decrease volume?\n"
     ]
    },
    {
     "data": {
      "application/vnd.jupyter.widget-view+json": {
       "model_id": "c51e767378f1420e942d7c9bbdc93fd2",
       "version_major": 2,
       "version_minor": 0
      },
      "text/plain": [
       "  0%|          | 0/10 [00:00<?, ?it/s]"
      ]
     },
     "metadata": {},
     "output_type": "display_data"
    },
    {
     "name": "stderr",
     "output_type": "stream",
     "text": [
      "sox WARN rate: rate clipped 2 samples; decrease volume?\n",
      "sox WARN dither: dither clipped 1 samples; decrease volume?\n"
     ]
    },
    {
     "data": {
      "application/vnd.jupyter.widget-view+json": {
       "model_id": "cbcfba57977b4bc88f49f8a6486c3b02",
       "version_major": 2,
       "version_minor": 0
      },
      "text/plain": [
       "  0%|          | 0/11 [00:00<?, ?it/s]"
      ]
     },
     "metadata": {},
     "output_type": "display_data"
    },
    {
     "name": "stderr",
     "output_type": "stream",
     "text": [
      "sox WARN rate: rate clipped 1 samples; decrease volume?\n",
      "sox WARN dither: dither clipped 1 samples; decrease volume?\n",
      "sox WARN rate: rate clipped 1 samples; decrease volume?\n",
      "sox WARN dither: dither clipped 1 samples; decrease volume?\n",
      "sox WARN rate: rate clipped 3 samples; decrease volume?\n",
      "sox WARN dither: dither clipped 3 samples; decrease volume?\n",
      "sox WARN rate: rate clipped 5 samples; decrease volume?\n",
      "sox WARN dither: dither clipped 5 samples; decrease volume?\n"
     ]
    },
    {
     "data": {
      "application/vnd.jupyter.widget-view+json": {
       "model_id": "e7aba9fc766c47dba0687e05470dd12e",
       "version_major": 2,
       "version_minor": 0
      },
      "text/plain": [
       "  0%|          | 0/18 [00:00<?, ?it/s]"
      ]
     },
     "metadata": {},
     "output_type": "display_data"
    },
    {
     "name": "stderr",
     "output_type": "stream",
     "text": [
      "sox WARN rate: rate clipped 2 samples; decrease volume?\n",
      "sox WARN dither: dither clipped 2 samples; decrease volume?\n",
      "sox WARN rate: rate clipped 2 samples; decrease volume?\n",
      "sox WARN dither: dither clipped 2 samples; decrease volume?\n",
      "sox WARN rate: rate clipped 6 samples; decrease volume?\n",
      "sox WARN dither: dither clipped 3 samples; decrease volume?\n",
      "sox WARN rate: rate clipped 2 samples; decrease volume?\n",
      "sox WARN dither: dither clipped 2 samples; decrease volume?\n",
      "sox WARN rate: rate clipped 2 samples; decrease volume?\n",
      "sox WARN dither: dither clipped 1 samples; decrease volume?\n",
      "sox WARN rate: rate clipped 42 samples; decrease volume?\n",
      "sox WARN dither: dither clipped 37 samples; decrease volume?\n",
      "sox WARN rate: rate clipped 7 samples; decrease volume?\n",
      "sox WARN dither: dither clipped 5 samples; decrease volume?\n",
      "sox WARN rate: rate clipped 2 samples; decrease volume?\n",
      "sox WARN dither: dither clipped 2 samples; decrease volume?\n"
     ]
    },
    {
     "data": {
      "application/vnd.jupyter.widget-view+json": {
       "model_id": "5bcbb930e57e4e549248e977939af753",
       "version_major": 2,
       "version_minor": 0
      },
      "text/plain": [
       "  0%|          | 0/18 [00:00<?, ?it/s]"
      ]
     },
     "metadata": {},
     "output_type": "display_data"
    },
    {
     "name": "stderr",
     "output_type": "stream",
     "text": [
      "sox WARN rate: rate clipped 1 samples; decrease volume?\n",
      "sox WARN dither: dither clipped 1 samples; decrease volume?\n",
      "sox WARN rate: rate clipped 2 samples; decrease volume?\n",
      "sox WARN dither: dither clipped 2 samples; decrease volume?\n"
     ]
    },
    {
     "data": {
      "application/vnd.jupyter.widget-view+json": {
       "model_id": "288b84c645f344b0bee209034320bb21",
       "version_major": 2,
       "version_minor": 0
      },
      "text/plain": [
       "  0%|          | 0/20 [00:00<?, ?it/s]"
      ]
     },
     "metadata": {},
     "output_type": "display_data"
    },
    {
     "name": "stderr",
     "output_type": "stream",
     "text": [
      "sox WARN rate: rate clipped 2 samples; decrease volume?\n",
      "sox WARN dither: dither clipped 1 samples; decrease volume?\n",
      "sox WARN rate: rate clipped 1741 samples; decrease volume?\n",
      "sox WARN dither: dither clipped 1586 samples; decrease volume?\n",
      "sox WARN rate: rate clipped 2 samples; decrease volume?\n",
      "sox WARN dither: dither clipped 2 samples; decrease volume?\n",
      "sox WARN rate: rate clipped 6 samples; decrease volume?\n",
      "sox WARN dither: dither clipped 6 samples; decrease volume?\n",
      "sox WARN rate: rate clipped 4 samples; decrease volume?\n",
      "sox WARN dither: dither clipped 4 samples; decrease volume?\n",
      "sox WARN rate: rate clipped 1511 samples; decrease volume?\n",
      "sox WARN dither: dither clipped 1309 samples; decrease volume?\n",
      "sox WARN rate: rate clipped 1 samples; decrease volume?\n"
     ]
    },
    {
     "data": {
      "application/vnd.jupyter.widget-view+json": {
       "model_id": "11e19cec6f0f4287baeb1aacf3c45aa2",
       "version_major": 2,
       "version_minor": 0
      },
      "text/plain": [
       "  0%|          | 0/12 [00:00<?, ?it/s]"
      ]
     },
     "metadata": {},
     "output_type": "display_data"
    },
    {
     "name": "stderr",
     "output_type": "stream",
     "text": [
      "sox WARN rate: rate clipped 2 samples; decrease volume?\n",
      "sox WARN dither: dither clipped 2 samples; decrease volume?\n",
      "sox WARN rate: rate clipped 2 samples; decrease volume?\n",
      "sox WARN dither: dither clipped 2 samples; decrease volume?\n",
      "sox WARN rate: rate clipped 2 samples; decrease volume?\n",
      "sox WARN dither: dither clipped 1 samples; decrease volume?\n",
      "sox WARN rate: rate clipped 4 samples; decrease volume?\n",
      "sox WARN dither: dither clipped 4 samples; decrease volume?\n"
     ]
    },
    {
     "data": {
      "application/vnd.jupyter.widget-view+json": {
       "model_id": "9fc22087638a4ff1b467f18a6fc41468",
       "version_major": 2,
       "version_minor": 0
      },
      "text/plain": [
       "  0%|          | 0/14 [00:00<?, ?it/s]"
      ]
     },
     "metadata": {},
     "output_type": "display_data"
    },
    {
     "name": "stderr",
     "output_type": "stream",
     "text": [
      "sox WARN rate: rate clipped 2 samples; decrease volume?\n",
      "sox WARN dither: dither clipped 1 samples; decrease volume?\n",
      "sox WARN rate: rate clipped 1 samples; decrease volume?\n",
      "sox WARN rate: rate clipped 2 samples; decrease volume?\n",
      "sox WARN dither: dither clipped 2 samples; decrease volume?\n",
      "sox WARN rate: rate clipped 4 samples; decrease volume?\n",
      "sox WARN dither: dither clipped 3 samples; decrease volume?\n"
     ]
    },
    {
     "data": {
      "application/vnd.jupyter.widget-view+json": {
       "model_id": "c4789d9c7fab4d9e899fd2baca5f9146",
       "version_major": 2,
       "version_minor": 0
      },
      "text/plain": [
       "  0%|          | 0/14 [00:00<?, ?it/s]"
      ]
     },
     "metadata": {},
     "output_type": "display_data"
    },
    {
     "name": "stderr",
     "output_type": "stream",
     "text": [
      "sox WARN rate: rate clipped 1 samples; decrease volume?\n",
      "sox WARN dither: dither clipped 1 samples; decrease volume?\n",
      "sox WARN rate: rate clipped 4 samples; decrease volume?\n",
      "sox WARN dither: dither clipped 4 samples; decrease volume?\n"
     ]
    },
    {
     "data": {
      "application/vnd.jupyter.widget-view+json": {
       "model_id": "8d8ac5569de847dd819f93b4bd9b4054",
       "version_major": 2,
       "version_minor": 0
      },
      "text/plain": [
       "  0%|          | 0/27 [00:00<?, ?it/s]"
      ]
     },
     "metadata": {},
     "output_type": "display_data"
    },
    {
     "name": "stderr",
     "output_type": "stream",
     "text": [
      "sox WARN rate: rate clipped 4 samples; decrease volume?\n",
      "sox WARN dither: dither clipped 3 samples; decrease volume?\n",
      "sox WARN rate: rate clipped 6 samples; decrease volume?\n",
      "sox WARN dither: dither clipped 6 samples; decrease volume?\n",
      "sox WARN rate: rate clipped 2 samples; decrease volume?\n",
      "sox WARN dither: dither clipped 2 samples; decrease volume?\n",
      "sox WARN rate: rate clipped 3 samples; decrease volume?\n",
      "sox WARN dither: dither clipped 3 samples; decrease volume?\n",
      "sox WARN rate: rate clipped 2 samples; decrease volume?\n",
      "sox WARN dither: dither clipped 2 samples; decrease volume?\n"
     ]
    },
    {
     "data": {
      "application/vnd.jupyter.widget-view+json": {
       "model_id": "577936d925cf478bbb43e57d23544bc3",
       "version_major": 2,
       "version_minor": 0
      },
      "text/plain": [
       "  0%|          | 0/23 [00:00<?, ?it/s]"
      ]
     },
     "metadata": {},
     "output_type": "display_data"
    },
    {
     "name": "stderr",
     "output_type": "stream",
     "text": [
      "sox WARN rate: rate clipped 2 samples; decrease volume?\n",
      "sox WARN dither: dither clipped 2 samples; decrease volume?\n",
      "sox WARN rate: rate clipped 2 samples; decrease volume?\n",
      "sox WARN dither: dither clipped 2 samples; decrease volume?\n",
      "sox WARN rate: rate clipped 2 samples; decrease volume?\n",
      "sox WARN dither: dither clipped 2 samples; decrease volume?\n",
      "sox WARN rate: rate clipped 2 samples; decrease volume?\n",
      "sox WARN dither: dither clipped 2 samples; decrease volume?\n",
      "sox WARN rate: rate clipped 2 samples; decrease volume?\n",
      "sox WARN dither: dither clipped 2 samples; decrease volume?\n"
     ]
    },
    {
     "data": {
      "application/vnd.jupyter.widget-view+json": {
       "model_id": "97bd0d66592f4b3bab47c25e079c91d6",
       "version_major": 2,
       "version_minor": 0
      },
      "text/plain": [
       "  0%|          | 0/11 [00:00<?, ?it/s]"
      ]
     },
     "metadata": {},
     "output_type": "display_data"
    },
    {
     "name": "stderr",
     "output_type": "stream",
     "text": [
      "sox WARN rate: rate clipped 2 samples; decrease volume?\n",
      "sox WARN dither: dither clipped 1 samples; decrease volume?\n",
      "sox WARN rate: rate clipped 17 samples; decrease volume?\n",
      "sox WARN dither: dither clipped 15 samples; decrease volume?\n"
     ]
    },
    {
     "data": {
      "application/vnd.jupyter.widget-view+json": {
       "model_id": "388c63f539cb401380706954076cb126",
       "version_major": 2,
       "version_minor": 0
      },
      "text/plain": [
       "  0%|          | 0/14 [00:00<?, ?it/s]"
      ]
     },
     "metadata": {},
     "output_type": "display_data"
    },
    {
     "name": "stderr",
     "output_type": "stream",
     "text": [
      "sox WARN rate: rate clipped 4 samples; decrease volume?\n",
      "sox WARN dither: dither clipped 4 samples; decrease volume?\n",
      "sox WARN rate: rate clipped 283 samples; decrease volume?\n",
      "sox WARN dither: dither clipped 245 samples; decrease volume?\n",
      "sox WARN rate: rate clipped 2 samples; decrease volume?\n",
      "sox WARN dither: dither clipped 2 samples; decrease volume?\n",
      "sox WARN rate: rate clipped 386 samples; decrease volume?\n",
      "sox WARN dither: dither clipped 333 samples; decrease volume?\n",
      "sox WARN rate: rate clipped 2 samples; decrease volume?\n",
      "sox WARN dither: dither clipped 1 samples; decrease volume?\n",
      "sox WARN rate: rate clipped 1 samples; decrease volume?\n",
      "sox WARN dither: dither clipped 1 samples; decrease volume?\n"
     ]
    },
    {
     "data": {
      "application/vnd.jupyter.widget-view+json": {
       "model_id": "8902356cd484431092d85c0067147791",
       "version_major": 2,
       "version_minor": 0
      },
      "text/plain": [
       "  0%|          | 0/15 [00:00<?, ?it/s]"
      ]
     },
     "metadata": {},
     "output_type": "display_data"
    },
    {
     "name": "stderr",
     "output_type": "stream",
     "text": [
      "sox WARN rate: rate clipped 4 samples; decrease volume?\n",
      "sox WARN dither: dither clipped 3 samples; decrease volume?\n",
      "sox WARN rate: rate clipped 138 samples; decrease volume?\n",
      "sox WARN dither: dither clipped 119 samples; decrease volume?\n",
      "sox WARN rate: rate clipped 2 samples; decrease volume?\n",
      "sox WARN dither: dither clipped 1 samples; decrease volume?\n",
      "sox WARN rate: rate clipped 2 samples; decrease volume?\n",
      "sox WARN dither: dither clipped 1 samples; decrease volume?\n",
      "sox WARN rate: rate clipped 18 samples; decrease volume?\n",
      "sox WARN dither: dither clipped 17 samples; decrease volume?\n",
      "sox WARN rate: rate clipped 2 samples; decrease volume?\n",
      "sox WARN dither: dither clipped 1 samples; decrease volume?\n"
     ]
    },
    {
     "data": {
      "application/vnd.jupyter.widget-view+json": {
       "model_id": "cbcfe69bdfec4e5d88740155a4560852",
       "version_major": 2,
       "version_minor": 0
      },
      "text/plain": [
       "  0%|          | 0/16 [00:00<?, ?it/s]"
      ]
     },
     "metadata": {},
     "output_type": "display_data"
    },
    {
     "name": "stderr",
     "output_type": "stream",
     "text": [
      "sox WARN rate: rate clipped 2 samples; decrease volume?\n",
      "sox WARN dither: dither clipped 1 samples; decrease volume?\n",
      "sox WARN rate: rate clipped 2 samples; decrease volume?\n",
      "sox WARN dither: dither clipped 2 samples; decrease volume?\n",
      "sox WARN rate: rate clipped 5149 samples; decrease volume?\n",
      "sox WARN dither: dither clipped 4504 samples; decrease volume?\n",
      "sox WARN rate: rate clipped 1 samples; decrease volume?\n",
      "sox WARN dither: dither clipped 1 samples; decrease volume?\n"
     ]
    },
    {
     "data": {
      "application/vnd.jupyter.widget-view+json": {
       "model_id": "95717c890ea047ac82c8d8155e077fa4",
       "version_major": 2,
       "version_minor": 0
      },
      "text/plain": [
       "  0%|          | 0/4 [00:00<?, ?it/s]"
      ]
     },
     "metadata": {},
     "output_type": "display_data"
    },
    {
     "data": {
      "application/vnd.jupyter.widget-view+json": {
       "model_id": "86e70ac8d3574437870221bc98506644",
       "version_major": 2,
       "version_minor": 0
      },
      "text/plain": [
       "  0%|          | 0/21 [00:00<?, ?it/s]"
      ]
     },
     "metadata": {},
     "output_type": "display_data"
    },
    {
     "name": "stderr",
     "output_type": "stream",
     "text": [
      "sox WARN rate: rate clipped 2 samples; decrease volume?\n",
      "sox WARN dither: dither clipped 2 samples; decrease volume?\n",
      "sox WARN rate: rate clipped 2 samples; decrease volume?\n",
      "sox WARN dither: dither clipped 2 samples; decrease volume?\n"
     ]
    },
    {
     "data": {
      "application/vnd.jupyter.widget-view+json": {
       "model_id": "ef19a76f71f04e759accea51d4cb7328",
       "version_major": 2,
       "version_minor": 0
      },
      "text/plain": [
       "  0%|          | 0/17 [00:00<?, ?it/s]"
      ]
     },
     "metadata": {},
     "output_type": "display_data"
    },
    {
     "name": "stderr",
     "output_type": "stream",
     "text": [
      "sox WARN dither: dither clipped 1 samples; decrease volume?\n",
      "sox WARN rate: rate clipped 1 samples; decrease volume?\n",
      "sox WARN dither: dither clipped 1 samples; decrease volume?\n",
      "sox WARN rate: rate clipped 52 samples; decrease volume?\n",
      "sox WARN dither: dither clipped 45 samples; decrease volume?\n",
      "sox WARN rate: rate clipped 2 samples; decrease volume?\n",
      "sox WARN dither: dither clipped 2 samples; decrease volume?\n",
      "sox WARN rate: rate clipped 1 samples; decrease volume?\n",
      "sox WARN dither: dither clipped 1 samples; decrease volume?\n",
      "sox WARN rate: rate clipped 2 samples; decrease volume?\n",
      "sox WARN dither: dither clipped 2 samples; decrease volume?\n"
     ]
    },
    {
     "data": {
      "application/vnd.jupyter.widget-view+json": {
       "model_id": "f946d4b83a39403c98031f765c9f8917",
       "version_major": 2,
       "version_minor": 0
      },
      "text/plain": [
       "  0%|          | 0/18 [00:00<?, ?it/s]"
      ]
     },
     "metadata": {},
     "output_type": "display_data"
    },
    {
     "name": "stderr",
     "output_type": "stream",
     "text": [
      "sox WARN rate: rate clipped 2 samples; decrease volume?\n",
      "sox WARN dither: dither clipped 2 samples; decrease volume?\n",
      "sox WARN rate: rate clipped 1 samples; decrease volume?\n",
      "sox WARN dither: dither clipped 1 samples; decrease volume?\n",
      "sox WARN rate: rate clipped 2 samples; decrease volume?\n",
      "sox WARN dither: dither clipped 1 samples; decrease volume?\n",
      "sox WARN rate: rate clipped 2 samples; decrease volume?\n",
      "sox WARN dither: dither clipped 1 samples; decrease volume?\n"
     ]
    },
    {
     "data": {
      "application/vnd.jupyter.widget-view+json": {
       "model_id": "1c9968611c1f4b42b03cb546d4537b5d",
       "version_major": 2,
       "version_minor": 0
      },
      "text/plain": [
       "  0%|          | 0/15 [00:00<?, ?it/s]"
      ]
     },
     "metadata": {},
     "output_type": "display_data"
    },
    {
     "data": {
      "application/vnd.jupyter.widget-view+json": {
       "model_id": "a74766dd4c9848379656a52be78a3d93",
       "version_major": 2,
       "version_minor": 0
      },
      "text/plain": [
       "  0%|          | 0/22 [00:00<?, ?it/s]"
      ]
     },
     "metadata": {},
     "output_type": "display_data"
    },
    {
     "name": "stderr",
     "output_type": "stream",
     "text": [
      "sox WARN rate: rate clipped 2 samples; decrease volume?\n",
      "sox WARN dither: dither clipped 2 samples; decrease volume?\n",
      "sox WARN rate: rate clipped 138 samples; decrease volume?\n",
      "sox WARN dither: dither clipped 119 samples; decrease volume?\n",
      "sox WARN rate: rate clipped 2 samples; decrease volume?\n",
      "sox WARN dither: dither clipped 2 samples; decrease volume?\n",
      "sox WARN rate: rate clipped 52 samples; decrease volume?\n",
      "sox WARN dither: dither clipped 46 samples; decrease volume?\n"
     ]
    },
    {
     "data": {
      "application/vnd.jupyter.widget-view+json": {
       "model_id": "c69da420397747cc8e7c8a0e6a8300af",
       "version_major": 2,
       "version_minor": 0
      },
      "text/plain": [
       "  0%|          | 0/12 [00:00<?, ?it/s]"
      ]
     },
     "metadata": {},
     "output_type": "display_data"
    },
    {
     "name": "stderr",
     "output_type": "stream",
     "text": [
      "sox WARN rate: rate clipped 486 samples; decrease volume?\n",
      "sox WARN dither: dither clipped 430 samples; decrease volume?\n",
      "sox WARN rate: rate clipped 8 samples; decrease volume?\n",
      "sox WARN dither: dither clipped 7 samples; decrease volume?\n",
      "sox WARN rate: rate clipped 28 samples; decrease volume?\n",
      "sox WARN dither: dither clipped 22 samples; decrease volume?\n"
     ]
    },
    {
     "data": {
      "application/vnd.jupyter.widget-view+json": {
       "model_id": "0a4d2ec9659d4e72bb8bcee223b84b0a",
       "version_major": 2,
       "version_minor": 0
      },
      "text/plain": [
       "  0%|          | 0/11 [00:00<?, ?it/s]"
      ]
     },
     "metadata": {},
     "output_type": "display_data"
    },
    {
     "name": "stderr",
     "output_type": "stream",
     "text": [
      "sox WARN rate: rate clipped 2 samples; decrease volume?\n",
      "sox WARN dither: dither clipped 2 samples; decrease volume?\n",
      "sox WARN rate: rate clipped 1 samples; decrease volume?\n",
      "sox WARN dither: dither clipped 1 samples; decrease volume?\n"
     ]
    },
    {
     "data": {
      "application/vnd.jupyter.widget-view+json": {
       "model_id": "2d29ea98cdaa42e3a238a7d441af6542",
       "version_major": 2,
       "version_minor": 0
      },
      "text/plain": [
       "  0%|          | 0/17 [00:00<?, ?it/s]"
      ]
     },
     "metadata": {},
     "output_type": "display_data"
    },
    {
     "name": "stderr",
     "output_type": "stream",
     "text": [
      "sox WARN rate: rate clipped 2 samples; decrease volume?\n",
      "sox WARN dither: dither clipped 2 samples; decrease volume?\n",
      "sox WARN rate: rate clipped 34 samples; decrease volume?\n",
      "sox WARN dither: dither clipped 29 samples; decrease volume?\n",
      "sox WARN rate: rate clipped 1226 samples; decrease volume?\n",
      "sox WARN dither: dither clipped 1044 samples; decrease volume?\n",
      "sox WARN rate: rate clipped 22 samples; decrease volume?\n",
      "sox WARN dither: dither clipped 20 samples; decrease volume?\n",
      "sox WARN rate: rate clipped 1 samples; decrease volume?\n",
      "sox WARN rate: rate clipped 1469 samples; decrease volume?\n",
      "sox WARN dither: dither clipped 1309 samples; decrease volume?\n",
      "sox WARN rate: rate clipped 4 samples; decrease volume?\n",
      "sox WARN dither: dither clipped 4 samples; decrease volume?\n",
      "sox WARN rate: rate clipped 2 samples; decrease volume?\n",
      "sox WARN dither: dither clipped 1 samples; decrease volume?\n",
      "sox WARN rate: rate clipped 1 samples; decrease volume?\n"
     ]
    },
    {
     "data": {
      "application/vnd.jupyter.widget-view+json": {
       "model_id": "c1ff7997f75a46c49edb4478ad468435",
       "version_major": 2,
       "version_minor": 0
      },
      "text/plain": [
       "  0%|          | 0/19 [00:00<?, ?it/s]"
      ]
     },
     "metadata": {},
     "output_type": "display_data"
    },
    {
     "name": "stderr",
     "output_type": "stream",
     "text": [
      "sox WARN rate: rate clipped 2 samples; decrease volume?\n",
      "sox WARN dither: dither clipped 2 samples; decrease volume?\n",
      "sox WARN rate: rate clipped 2 samples; decrease volume?\n",
      "sox WARN rate: rate clipped 1 samples; decrease volume?\n",
      "sox WARN dither: dither clipped 1 samples; decrease volume?\n"
     ]
    },
    {
     "data": {
      "application/vnd.jupyter.widget-view+json": {
       "model_id": "e1108174500f443cac9bdc535f9e5b7a",
       "version_major": 2,
       "version_minor": 0
      },
      "text/plain": [
       "  0%|          | 0/9 [00:00<?, ?it/s]"
      ]
     },
     "metadata": {},
     "output_type": "display_data"
    },
    {
     "data": {
      "application/vnd.jupyter.widget-view+json": {
       "model_id": "0d388cec757646408af2cafabf29a464",
       "version_major": 2,
       "version_minor": 0
      },
      "text/plain": [
       "  0%|          | 0/21 [00:00<?, ?it/s]"
      ]
     },
     "metadata": {},
     "output_type": "display_data"
    },
    {
     "data": {
      "application/vnd.jupyter.widget-view+json": {
       "model_id": "74d23241a39f44649d1e43219a317ed2",
       "version_major": 2,
       "version_minor": 0
      },
      "text/plain": [
       "  0%|          | 0/24 [00:00<?, ?it/s]"
      ]
     },
     "metadata": {},
     "output_type": "display_data"
    },
    {
     "data": {
      "application/vnd.jupyter.widget-view+json": {
       "model_id": "8057a7cce8994430915b35b0be596ba0",
       "version_major": 2,
       "version_minor": 0
      },
      "text/plain": [
       "  0%|          | 0/19 [00:00<?, ?it/s]"
      ]
     },
     "metadata": {},
     "output_type": "display_data"
    },
    {
     "data": {
      "application/vnd.jupyter.widget-view+json": {
       "model_id": "3299134584824c85931b31ea2411fd7c",
       "version_major": 2,
       "version_minor": 0
      },
      "text/plain": [
       "  0%|          | 0/24 [00:00<?, ?it/s]"
      ]
     },
     "metadata": {},
     "output_type": "display_data"
    },
    {
     "data": {
      "application/vnd.jupyter.widget-view+json": {
       "model_id": "7d55d63e59d245149841e517f4ab2ff5",
       "version_major": 2,
       "version_minor": 0
      },
      "text/plain": [
       "  0%|          | 0/7 [00:00<?, ?it/s]"
      ]
     },
     "metadata": {},
     "output_type": "display_data"
    },
    {
     "data": {
      "application/vnd.jupyter.widget-view+json": {
       "model_id": "3a5c101a23cb4e07bad7f86f82fcf9d2",
       "version_major": 2,
       "version_minor": 0
      },
      "text/plain": [
       "  0%|          | 0/14 [00:00<?, ?it/s]"
      ]
     },
     "metadata": {},
     "output_type": "display_data"
    },
    {
     "name": "stderr",
     "output_type": "stream",
     "text": [
      "sox WARN rate: rate clipped 1 samples; decrease volume?\n",
      "sox WARN dither: dither clipped 1 samples; decrease volume?\n",
      "sox WARN rate: rate clipped 2 samples; decrease volume?\n",
      "sox WARN dither: dither clipped 2 samples; decrease volume?\n",
      "sox WARN rate: rate clipped 2 samples; decrease volume?\n",
      "sox WARN dither: dither clipped 2 samples; decrease volume?\n",
      "sox WARN rate: rate clipped 2 samples; decrease volume?\n",
      "sox WARN dither: dither clipped 1 samples; decrease volume?\n",
      "sox WARN rate: rate clipped 2 samples; decrease volume?\n",
      "sox WARN dither: dither clipped 2 samples; decrease volume?\n",
      "sox WARN rate: rate clipped 2 samples; decrease volume?\n",
      "sox WARN dither: dither clipped 2 samples; decrease volume?\n"
     ]
    },
    {
     "data": {
      "application/vnd.jupyter.widget-view+json": {
       "model_id": "ec82c2ae89bd456c909f232e13606225",
       "version_major": 2,
       "version_minor": 0
      },
      "text/plain": [
       "  0%|          | 0/17 [00:00<?, ?it/s]"
      ]
     },
     "metadata": {},
     "output_type": "display_data"
    },
    {
     "name": "stderr",
     "output_type": "stream",
     "text": [
      "sox WARN rate: rate clipped 3 samples; decrease volume?\n",
      "sox WARN dither: dither clipped 3 samples; decrease volume?\n",
      "sox WARN rate: rate clipped 4 samples; decrease volume?\n",
      "sox WARN dither: dither clipped 4 samples; decrease volume?\n",
      "sox WARN rate: rate clipped 178 samples; decrease volume?\n",
      "sox WARN dither: dither clipped 156 samples; decrease volume?\n",
      "sox WARN rate: rate clipped 2832 samples; decrease volume?\n",
      "sox WARN dither: dither clipped 2441 samples; decrease volume?\n",
      "sox WARN rate: rate clipped 2 samples; decrease volume?\n",
      "sox WARN dither: dither clipped 1 samples; decrease volume?\n"
     ]
    },
    {
     "data": {
      "application/vnd.jupyter.widget-view+json": {
       "model_id": "0f8d2392b4a6475987ff234fb5946572",
       "version_major": 2,
       "version_minor": 0
      },
      "text/plain": [
       "  0%|          | 0/14 [00:00<?, ?it/s]"
      ]
     },
     "metadata": {},
     "output_type": "display_data"
    },
    {
     "name": "stderr",
     "output_type": "stream",
     "text": [
      "sox WARN rate: rate clipped 1 samples; decrease volume?\n",
      "sox WARN dither: dither clipped 1 samples; decrease volume?\n",
      "sox WARN rate: rate clipped 1 samples; decrease volume?\n",
      "sox WARN dither: dither clipped 1 samples; decrease volume?\n"
     ]
    },
    {
     "data": {
      "application/vnd.jupyter.widget-view+json": {
       "model_id": "ad9ed854c63d48899e13b5c0daed93ab",
       "version_major": 2,
       "version_minor": 0
      },
      "text/plain": [
       "  0%|          | 0/28 [00:00<?, ?it/s]"
      ]
     },
     "metadata": {},
     "output_type": "display_data"
    },
    {
     "name": "stderr",
     "output_type": "stream",
     "text": [
      "sox WARN rate: rate clipped 3 samples; decrease volume?\n",
      "sox WARN dither: dither clipped 3 samples; decrease volume?\n",
      "sox WARN rate: rate clipped 2 samples; decrease volume?\n",
      "sox WARN dither: dither clipped 2 samples; decrease volume?\n",
      "sox WARN rate: rate clipped 753 samples; decrease volume?\n",
      "sox WARN dither: dither clipped 653 samples; decrease volume?\n",
      "sox WARN rate: rate clipped 1 samples; decrease volume?\n",
      "sox WARN dither: dither clipped 1 samples; decrease volume?\n",
      "sox WARN rate: rate clipped 118 samples; decrease volume?\n",
      "sox WARN dither: dither clipped 99 samples; decrease volume?\n",
      "sox WARN rate: rate clipped 2 samples; decrease volume?\n",
      "sox WARN dither: dither clipped 2 samples; decrease volume?\n",
      "sox WARN rate: rate clipped 2 samples; decrease volume?\n",
      "sox WARN dither: dither clipped 2 samples; decrease volume?\n",
      "sox WARN rate: rate clipped 2 samples; decrease volume?\n",
      "sox WARN dither: dither clipped 2 samples; decrease volume?\n",
      "sox WARN rate: rate clipped 2 samples; decrease volume?\n",
      "sox WARN dither: dither clipped 1 samples; decrease volume?\n",
      "sox WARN rate: rate clipped 2 samples; decrease volume?\n",
      "sox WARN dither: dither clipped 2 samples; decrease volume?\n",
      "sox WARN rate: rate clipped 1 samples; decrease volume?\n",
      "sox WARN dither: dither clipped 1 samples; decrease volume?\n"
     ]
    },
    {
     "data": {
      "application/vnd.jupyter.widget-view+json": {
       "model_id": "c62613695ee34a7e90d5a1e4ccc7c8ba",
       "version_major": 2,
       "version_minor": 0
      },
      "text/plain": [
       "  0%|          | 0/32 [00:00<?, ?it/s]"
      ]
     },
     "metadata": {},
     "output_type": "display_data"
    },
    {
     "name": "stderr",
     "output_type": "stream",
     "text": [
      "sox WARN rate: rate clipped 4 samples; decrease volume?\n",
      "sox WARN dither: dither clipped 4 samples; decrease volume?\n",
      "sox WARN rate: rate clipped 2 samples; decrease volume?\n",
      "sox WARN rate: rate clipped 2 samples; decrease volume?\n",
      "sox WARN dither: dither clipped 2 samples; decrease volume?\n",
      "sox WARN rate: rate clipped 4 samples; decrease volume?\n",
      "sox WARN dither: dither clipped 3 samples; decrease volume?\n",
      "sox WARN rate: rate clipped 1 samples; decrease volume?\n",
      "sox WARN rate: rate clipped 1 samples; decrease volume?\n",
      "sox WARN dither: dither clipped 1 samples; decrease volume?\n",
      "sox WARN rate: rate clipped 1244 samples; decrease volume?\n",
      "sox WARN dither: dither clipped 1081 samples; decrease volume?\n"
     ]
    },
    {
     "data": {
      "application/vnd.jupyter.widget-view+json": {
       "model_id": "de6c2d1550f8441ca6bcd4f364b35eab",
       "version_major": 2,
       "version_minor": 0
      },
      "text/plain": [
       "  0%|          | 0/17 [00:00<?, ?it/s]"
      ]
     },
     "metadata": {},
     "output_type": "display_data"
    },
    {
     "name": "stderr",
     "output_type": "stream",
     "text": [
      "sox WARN rate: rate clipped 15919 samples; decrease volume?\n",
      "sox WARN dither: dither clipped 13984 samples; decrease volume?\n",
      "sox WARN rate: rate clipped 21 samples; decrease volume?\n",
      "sox WARN dither: dither clipped 20 samples; decrease volume?\n",
      "sox WARN rate: rate clipped 4 samples; decrease volume?\n",
      "sox WARN dither: dither clipped 1 samples; decrease volume?\n",
      "sox WARN rate: rate clipped 18 samples; decrease volume?\n",
      "sox WARN dither: dither clipped 17 samples; decrease volume?\n",
      "sox WARN rate: rate clipped 16 samples; decrease volume?\n",
      "sox WARN dither: dither clipped 16 samples; decrease volume?\n",
      "sox WARN rate: rate clipped 415 samples; decrease volume?\n",
      "sox WARN dither: dither clipped 369 samples; decrease volume?\n",
      "sox WARN rate: rate clipped 2 samples; decrease volume?\n",
      "sox WARN dither: dither clipped 1 samples; decrease volume?\n"
     ]
    },
    {
     "data": {
      "application/vnd.jupyter.widget-view+json": {
       "model_id": "1697d9bbd5ac48f39a77a3437b7a3aea",
       "version_major": 2,
       "version_minor": 0
      },
      "text/plain": [
       "  0%|          | 0/24 [00:00<?, ?it/s]"
      ]
     },
     "metadata": {},
     "output_type": "display_data"
    },
    {
     "name": "stderr",
     "output_type": "stream",
     "text": [
      "sox WARN rate: rate clipped 2 samples; decrease volume?\n",
      "sox WARN dither: dither clipped 2 samples; decrease volume?\n",
      "sox WARN rate: rate clipped 1 samples; decrease volume?\n",
      "sox WARN dither: dither clipped 1 samples; decrease volume?\n",
      "sox WARN rate: rate clipped 2 samples; decrease volume?\n",
      "sox WARN dither: dither clipped 1 samples; decrease volume?\n",
      "sox WARN rate: rate clipped 4 samples; decrease volume?\n",
      "sox WARN dither: dither clipped 4 samples; decrease volume?\n",
      "sox WARN rate: rate clipped 1 samples; decrease volume?\n",
      "sox WARN dither: dither clipped 1 samples; decrease volume?\n",
      "sox WARN rate: rate clipped 2 samples; decrease volume?\n",
      "sox WARN dither: dither clipped 2 samples; decrease volume?\n",
      "sox WARN rate: rate clipped 4 samples; decrease volume?\n",
      "sox WARN dither: dither clipped 3 samples; decrease volume?\n",
      "sox WARN rate: rate clipped 2 samples; decrease volume?\n",
      "sox WARN dither: dither clipped 2 samples; decrease volume?\n",
      "sox WARN rate: rate clipped 15 samples; decrease volume?\n",
      "sox WARN dither: dither clipped 13 samples; decrease volume?\n",
      "sox WARN rate: rate clipped 2 samples; decrease volume?\n",
      "sox WARN dither: dither clipped 2 samples; decrease volume?\n"
     ]
    },
    {
     "data": {
      "application/vnd.jupyter.widget-view+json": {
       "model_id": "c6053b09f3de4bdeb84bb34ec5029dd9",
       "version_major": 2,
       "version_minor": 0
      },
      "text/plain": [
       "  0%|          | 0/9 [00:00<?, ?it/s]"
      ]
     },
     "metadata": {},
     "output_type": "display_data"
    },
    {
     "data": {
      "application/vnd.jupyter.widget-view+json": {
       "model_id": "5e2528d8fd214c4b922f0c7f1cbfbef8",
       "version_major": 2,
       "version_minor": 0
      },
      "text/plain": [
       "  0%|          | 0/21 [00:00<?, ?it/s]"
      ]
     },
     "metadata": {},
     "output_type": "display_data"
    },
    {
     "name": "stderr",
     "output_type": "stream",
     "text": [
      "sox WARN rate: rate clipped 1 samples; decrease volume?\n",
      "sox WARN dither: dither clipped 1 samples; decrease volume?\n",
      "sox WARN rate: rate clipped 2 samples; decrease volume?\n",
      "sox WARN dither: dither clipped 1 samples; decrease volume?\n",
      "sox WARN rate: rate clipped 2 samples; decrease volume?\n",
      "sox WARN dither: dither clipped 2 samples; decrease volume?\n",
      "sox WARN rate: rate clipped 1 samples; decrease volume?\n",
      "sox WARN dither: dither clipped 1 samples; decrease volume?\n",
      "sox WARN rate: rate clipped 2 samples; decrease volume?\n",
      "sox WARN dither: dither clipped 2 samples; decrease volume?\n",
      "sox WARN rate: rate clipped 2 samples; decrease volume?\n",
      "sox WARN dither: dither clipped 1 samples; decrease volume?\n",
      "sox WARN rate: rate clipped 4 samples; decrease volume?\n",
      "sox WARN dither: dither clipped 3 samples; decrease volume?\n"
     ]
    },
    {
     "data": {
      "application/vnd.jupyter.widget-view+json": {
       "model_id": "6672afea83d14c94ae8e4ebd7d01fc0e",
       "version_major": 2,
       "version_minor": 0
      },
      "text/plain": [
       "  0%|          | 0/6 [00:00<?, ?it/s]"
      ]
     },
     "metadata": {},
     "output_type": "display_data"
    },
    {
     "name": "stderr",
     "output_type": "stream",
     "text": [
      "sox WARN rate: rate clipped 558 samples; decrease volume?\n",
      "sox WARN dither: dither clipped 493 samples; decrease volume?\n"
     ]
    },
    {
     "data": {
      "application/vnd.jupyter.widget-view+json": {
       "model_id": "be61a7c0ee034d24913fb462e9793c79",
       "version_major": 2,
       "version_minor": 0
      },
      "text/plain": [
       "  0%|          | 0/17 [00:00<?, ?it/s]"
      ]
     },
     "metadata": {},
     "output_type": "display_data"
    },
    {
     "name": "stderr",
     "output_type": "stream",
     "text": [
      "sox WARN rate: rate clipped 10 samples; decrease volume?\n",
      "sox WARN dither: dither clipped 7 samples; decrease volume?\n",
      "sox WARN rate: rate clipped 2 samples; decrease volume?\n",
      "sox WARN dither: dither clipped 2 samples; decrease volume?\n",
      "sox WARN rate: rate clipped 1 samples; decrease volume?\n",
      "sox WARN dither: dither clipped 1 samples; decrease volume?\n",
      "sox WARN rate: rate clipped 1 samples; decrease volume?\n",
      "sox WARN rate: rate clipped 1 samples; decrease volume?\n",
      "sox WARN dither: dither clipped 1 samples; decrease volume?\n"
     ]
    },
    {
     "data": {
      "application/vnd.jupyter.widget-view+json": {
       "model_id": "6ee1458cd1db448f9d819db211928672",
       "version_major": 2,
       "version_minor": 0
      },
      "text/plain": [
       "  0%|          | 0/19 [00:00<?, ?it/s]"
      ]
     },
     "metadata": {},
     "output_type": "display_data"
    },
    {
     "name": "stderr",
     "output_type": "stream",
     "text": [
      "sox WARN rate: rate clipped 2 samples; decrease volume?\n",
      "sox WARN dither: dither clipped 1 samples; decrease volume?\n"
     ]
    },
    {
     "data": {
      "application/vnd.jupyter.widget-view+json": {
       "model_id": "360031ecf5fa46ae98ba875a9a2da5f9",
       "version_major": 2,
       "version_minor": 0
      },
      "text/plain": [
       "  0%|          | 0/19 [00:00<?, ?it/s]"
      ]
     },
     "metadata": {},
     "output_type": "display_data"
    },
    {
     "data": {
      "application/vnd.jupyter.widget-view+json": {
       "model_id": "8fe9722d2f5e4f99a6c9cdb84e4edf63",
       "version_major": 2,
       "version_minor": 0
      },
      "text/plain": [
       "  0%|          | 0/12 [00:00<?, ?it/s]"
      ]
     },
     "metadata": {},
     "output_type": "display_data"
    },
    {
     "data": {
      "application/vnd.jupyter.widget-view+json": {
       "model_id": "adbf59b29bc543088fb113d259362073",
       "version_major": 2,
       "version_minor": 0
      },
      "text/plain": [
       "  0%|          | 0/12 [00:00<?, ?it/s]"
      ]
     },
     "metadata": {},
     "output_type": "display_data"
    },
    {
     "data": {
      "application/vnd.jupyter.widget-view+json": {
       "model_id": "2f754aebd468466090c5ca4d2be85e7c",
       "version_major": 2,
       "version_minor": 0
      },
      "text/plain": [
       "  0%|          | 0/12 [00:00<?, ?it/s]"
      ]
     },
     "metadata": {},
     "output_type": "display_data"
    },
    {
     "name": "stderr",
     "output_type": "stream",
     "text": [
      "sox WARN rate: rate clipped 89 samples; decrease volume?\n",
      "sox WARN dither: dither clipped 82 samples; decrease volume?\n"
     ]
    },
    {
     "data": {
      "application/vnd.jupyter.widget-view+json": {
       "model_id": "a8e14a3427bc4dd59a28064fc265863e",
       "version_major": 2,
       "version_minor": 0
      },
      "text/plain": [
       "  0%|          | 0/14 [00:00<?, ?it/s]"
      ]
     },
     "metadata": {},
     "output_type": "display_data"
    },
    {
     "name": "stderr",
     "output_type": "stream",
     "text": [
      "sox WARN rate: rate clipped 2 samples; decrease volume?\n",
      "sox WARN dither: dither clipped 2 samples; decrease volume?\n",
      "sox WARN rate: rate clipped 3 samples; decrease volume?\n",
      "sox WARN dither: dither clipped 2 samples; decrease volume?\n",
      "sox WARN rate: rate clipped 2 samples; decrease volume?\n",
      "sox WARN dither: dither clipped 2 samples; decrease volume?\n",
      "sox WARN rate: rate clipped 7 samples; decrease volume?\n",
      "sox WARN dither: dither clipped 5 samples; decrease volume?\n",
      "sox WARN rate: rate clipped 86 samples; decrease volume?\n",
      "sox WARN dither: dither clipped 76 samples; decrease volume?\n"
     ]
    },
    {
     "data": {
      "application/vnd.jupyter.widget-view+json": {
       "model_id": "76d7810f9a714dcd8838e69817ad16f3",
       "version_major": 2,
       "version_minor": 0
      },
      "text/plain": [
       "  0%|          | 0/24 [00:00<?, ?it/s]"
      ]
     },
     "metadata": {},
     "output_type": "display_data"
    },
    {
     "name": "stderr",
     "output_type": "stream",
     "text": [
      "sox WARN rate: rate clipped 1 samples; decrease volume?\n",
      "sox WARN rate: rate clipped 2 samples; decrease volume?\n",
      "sox WARN dither: dither clipped 2 samples; decrease volume?\n",
      "sox WARN rate: rate clipped 124 samples; decrease volume?\n",
      "sox WARN dither: dither clipped 110 samples; decrease volume?\n",
      "sox WARN rate: rate clipped 1806 samples; decrease volume?\n",
      "sox WARN dither: dither clipped 1602 samples; decrease volume?\n",
      "sox WARN rate: rate clipped 28 samples; decrease volume?\n",
      "sox WARN dither: dither clipped 25 samples; decrease volume?\n",
      "sox WARN rate: rate clipped 2 samples; decrease volume?\n",
      "sox WARN dither: dither clipped 2 samples; decrease volume?\n",
      "sox WARN rate: rate clipped 1101 samples; decrease volume?\n",
      "sox WARN dither: dither clipped 985 samples; decrease volume?\n",
      "sox WARN rate: rate clipped 4 samples; decrease volume?\n",
      "sox WARN dither: dither clipped 3 samples; decrease volume?\n",
      "sox WARN rate: rate clipped 7016 samples; decrease volume?\n",
      "sox WARN dither: dither clipped 6127 samples; decrease volume?\n",
      "sox WARN rate: rate clipped 348 samples; decrease volume?\n",
      "sox WARN dither: dither clipped 299 samples; decrease volume?\n"
     ]
    },
    {
     "data": {
      "application/vnd.jupyter.widget-view+json": {
       "model_id": "f1642776323b4ba18d26938f2efbb7e4",
       "version_major": 2,
       "version_minor": 0
      },
      "text/plain": [
       "  0%|          | 0/17 [00:00<?, ?it/s]"
      ]
     },
     "metadata": {},
     "output_type": "display_data"
    },
    {
     "name": "stderr",
     "output_type": "stream",
     "text": [
      "sox WARN rate: rate clipped 2 samples; decrease volume?\n",
      "sox WARN dither: dither clipped 2 samples; decrease volume?\n",
      "sox WARN rate: rate clipped 2 samples; decrease volume?\n",
      "sox WARN dither: dither clipped 2 samples; decrease volume?\n",
      "sox WARN rate: rate clipped 2 samples; decrease volume?\n",
      "sox WARN dither: dither clipped 2 samples; decrease volume?\n"
     ]
    },
    {
     "data": {
      "application/vnd.jupyter.widget-view+json": {
       "model_id": "6a21a55072164bc8a886819c154855d5",
       "version_major": 2,
       "version_minor": 0
      },
      "text/plain": [
       "  0%|          | 0/16 [00:00<?, ?it/s]"
      ]
     },
     "metadata": {},
     "output_type": "display_data"
    },
    {
     "name": "stderr",
     "output_type": "stream",
     "text": [
      "sox WARN rate: rate clipped 3 samples; decrease volume?\n",
      "sox WARN dither: dither clipped 3 samples; decrease volume?\n",
      "sox WARN rate: rate clipped 5 samples; decrease volume?\n",
      "sox WARN dither: dither clipped 5 samples; decrease volume?\n",
      "sox WARN rate: rate clipped 2 samples; decrease volume?\n",
      "sox WARN dither: dither clipped 2 samples; decrease volume?\n",
      "sox WARN rate: rate clipped 2 samples; decrease volume?\n",
      "sox WARN dither: dither clipped 1 samples; decrease volume?\n",
      "sox WARN rate: rate clipped 2 samples; decrease volume?\n",
      "sox WARN dither: dither clipped 2 samples; decrease volume?\n",
      "sox WARN rate: rate clipped 2 samples; decrease volume?\n",
      "sox WARN dither: dither clipped 2 samples; decrease volume?\n",
      "sox WARN rate: rate clipped 2 samples; decrease volume?\n",
      "sox WARN dither: dither clipped 2 samples; decrease volume?\n"
     ]
    },
    {
     "data": {
      "application/vnd.jupyter.widget-view+json": {
       "model_id": "9332446aa70a4afe9e77d23d2c2c0ec1",
       "version_major": 2,
       "version_minor": 0
      },
      "text/plain": [
       "  0%|          | 0/15 [00:00<?, ?it/s]"
      ]
     },
     "metadata": {},
     "output_type": "display_data"
    },
    {
     "name": "stderr",
     "output_type": "stream",
     "text": [
      "sox WARN rate: rate clipped 196 samples; decrease volume?\n",
      "sox WARN dither: dither clipped 178 samples; decrease volume?\n",
      "sox WARN rate: rate clipped 2 samples; decrease volume?\n",
      "sox WARN dither: dither clipped 1 samples; decrease volume?\n",
      "sox WARN rate: rate clipped 2 samples; decrease volume?\n",
      "sox WARN dither: dither clipped 2 samples; decrease volume?\n",
      "sox WARN rate: rate clipped 2 samples; decrease volume?\n",
      "sox WARN dither: dither clipped 2 samples; decrease volume?\n",
      "sox WARN rate: rate clipped 4 samples; decrease volume?\n",
      "sox WARN dither: dither clipped 4 samples; decrease volume?\n"
     ]
    },
    {
     "data": {
      "application/vnd.jupyter.widget-view+json": {
       "model_id": "debba46a4094487295c2f59a36f27fa4",
       "version_major": 2,
       "version_minor": 0
      },
      "text/plain": [
       "  0%|          | 0/23 [00:00<?, ?it/s]"
      ]
     },
     "metadata": {},
     "output_type": "display_data"
    },
    {
     "name": "stderr",
     "output_type": "stream",
     "text": [
      "sox WARN rate: rate clipped 2 samples; decrease volume?\n",
      "sox WARN dither: dither clipped 2 samples; decrease volume?\n",
      "sox WARN dither: dither clipped 2 samples; decrease volume?\n",
      "sox WARN rate: rate clipped 40 samples; decrease volume?\n",
      "sox WARN dither: dither clipped 32 samples; decrease volume?\n",
      "sox WARN rate: rate clipped 2 samples; decrease volume?\n",
      "sox WARN rate: rate clipped 2 samples; decrease volume?\n",
      "sox WARN dither: dither clipped 2 samples; decrease volume?\n",
      "sox WARN rate: rate clipped 2450 samples; decrease volume?\n",
      "sox WARN dither: dither clipped 2164 samples; decrease volume?\n",
      "sox WARN rate: rate clipped 2 samples; decrease volume?\n",
      "sox WARN dither: dither clipped 2 samples; decrease volume?\n",
      "sox WARN rate: rate clipped 2 samples; decrease volume?\n",
      "sox WARN dither: dither clipped 1 samples; decrease volume?\n"
     ]
    },
    {
     "name": "stdout",
     "output_type": "stream",
     "text": [
      "[('pd_11', 'MZb0aofyoQ0'), ('pd_11', 'sCT__TK_AIg'), ('pd_11', 'mQLOO_Hk_nk'), ('pd_11', 'L-5-b3D4qG0'), ('pd_11', 'zNDqnzHUULE'), ('pd_11', '00X1n9TywVs'), ('pd_29', 'poeXwi54JzU'), ('pd_29', '3KTkfqk-OGw'), ('pd_29', 'XepnE-ize2Y'), ('pd_29', 'p4Cx5n7EXgA'), ('pd_29', 'zMmrNcdmdVY'), ('pd_29', 'YsmgPp_nlok'), ('pd_29', 'Dv8KvWZODKY'), ('pd_16', 'lJHSKcEXJGY'), ('pd_18', 's1N5MB8aD84'), ('pd_18', '6wcaVB8yNLM'), ('pd_18', 'VlCXrbP68jQ'), ('pd_18', 'TOh_QGc3TKA'), ('pd_18', 'zUa6-6RWgLo'), ('pd_18', 'en8o9Adb9dc'), ('pd_18', 'PkIza1FiYQQ'), ('pd_27', 'ukgRcNiKkUM'), ('pd_27', 'QZpknXvuv5k'), ('pd_27', 'u-Tbne3JFrg'), ('pd_27', '6-6l1-ldr3k'), ('pd_19', 'NwB2hKmHsE0'), ('pd_19', 'UYDflekDnYU'), ('pd_19', 'vxEPZiBqo68'), ('pd_19', 'uMFqq8J73EA'), ('pd_19', 'sSr6hQ4fxOw'), ('pd_19', 'chkoVJeQFpY'), ('pd_19', 'PHxx-e62zVI'), ('pd_19', 'vgjA3dEbzxI'), ('pd_26', '3TzTgCRiEr0'), ('pd_26', 'fy1Oi86wZL8'), ('pd_26', 'QdJEtqVQWBk'), ('pd_26', 'sYhpPtrqTiM'), ('pd_26', 'Nes-KRxJb3I'), ('pd_26', 'ahljoaA_u44'), ('pd_26', 'gP_Yl7JbRx8'), ('pd_21', 'xdSR5cJN8wI'), ('pd_21', 'W7S3Fms8AkQ'), ('pd_21', 'YTdX444pUdk'), ('pd_21', 'meC-AtmQ0oo'), ('pd_21', 'nSGG1JT92Z8'), ('pd_28', 'sOgIPQ8cFQc'), ('pd_28', 'wvM5U5G8WnI'), ('pd_28', 'TJGg53RNuJE'), ('pd_28', 'YkM0v4lYEUc'), ('pd_28', 'qrd3V9ZWOmQ'), ('pd_28', 'iIqvyB-gl-4'), ('pd_28', 'RqJ2zsk8emM'), ('pd_17', 'NqGBCbPNz8A'), ('pd_17', '6_oVHoK4V-A'), ('pd_17', '1m_kcVYLNCE'), ('pd_17', '2rXJC6ViQMM'), ('pd_10', 'V1jKUDQUwq0'), ('pd_10', 'nY-dab-dwT0'), ('pd_10', 'Xi2KyaI9GIU'), ('pd_10', 'aF6ifK5tlHg'), ('pd_10', '0m6VrqMUECs'), ('pd_10', 'zcV7BTXDRyc'), ('pd_10', 'v1KG_T40kiM'), ('pd_10', 'Jr_2Bu2NWJA'), ('pd_10', '3tAuesg6L5k'), ('pd_10', 'KUDQhdKxjH8'), ('pd_32', '0ZXvgpkW-34'), ('pd_32', 'wrKD1TPwG6U'), ('pd_35', '7PMEtVOhY78'), ('pd_35', 'WW6Woa87ePQ'), ('pd_35', 'lHjgm_CXhk8'), ('pd_35', 'O7DnqyiGBx4'), ('pd_35', 'WKZEfl7Yu6k'), ('pd_03', 'u3vJXJRa6nU'), ('pd_03', 'tOPAjpCeHwI'), ('pd_03', 'ZXBb-F98tRY'), ('pd_03', 'ZRoMZw9BxYc'), ('pd_03', 'nfvzIuz623Q'), ('pd_04', 'dEdJB-Fk_Vk'), ('pd_04', 'DKWxYDLUNk0'), ('pd_02', '9zP8K0gMuPw'), ('pd_34', 'WG6J9jt-qHY'), ('pd_34', 'J1NWBHI4Vrg'), ('pd_34', 'AC58I60m5a0'), ('pd_33', 'SS3TtOiBBjI'), ('pd_33', 'xqrpoo'), ('pd_12', '152219'), ('pd_12', '92371'), ('pd_12', 'W69ZyZDnccI'), ('pd_12', '100763'), ('pd_24', 'W3ZF1_sB49s'), ('pd_23', 'WsbtHlce95U'), ('pd_25', 'Nz8x1ZF2o3c'), ('pd_25', 'rQmV7JFX_-A'), ('pd_25', 'GBZ4HD-x6B0'), ('pd_25', 'iSWNvimo-R0'), ('pd_25', 'l5PXLb4knZo'), ('pd_14', 'USzdVjHtsA4'), ('pd_14', 'r73GMPzsFpI'), ('pd_14', 'b1nPVlMjW5M'), ('pd_14', 'IvOCQAwZISo'), ('pd_14', 'x10nj1ztpHk'), ('pd_14', 'at9Jo0g_D7c'), ('pd_14', 'j4AnFri1wGM'), ('pd_14', 'vM5f3Dp8Xww'), ('pd_14', 'cvSdSnZ-3Fg'), ('pd_40', 'AOuyHKYLzYg'), ('pd_36', 'o9CwPXUINtU'), ('pd_36', 'Y3Xq-f-nd_0'), ('pd_36', 'QHaQTlJ629E'), ('pd_36', 'hJmM3PACMwQ'), ('pd_09', 'Az4huvs71d8'), ('pd_09', 'gZDjysz2Q2E'), ('pd_31', 'I7_Cn1uQMdE'), ('pd_31', 'zF5xlzBI8lw'), ('pd_07', 'L91d-DLarEQ'), ('pd_07', 'n7RaRPQ5WU8'), ('pd_38', 'fNXLN8ZrUO8'), ('pd_06', '6D9Z7antjMw'), ('pd_06', '9PsYnntpbbc'), ('pd_06', 'TlJhbq4h60o'), ('pd_30', 'sPGDlBgL9kg'), ('pd_08', '2Jkb_eDFlU0'), ('pd_08', 'XzCwL4purFg'), ('pd_08', 'Gc-lgHDS9t4'), ('pd_08', '-PeOHVCqPSE'), ('cn_58', 'ecbS3bQzkZM'), ('cn_33', 'kmC-qaqgF9Y'), ('cn_59', 'NUYQxokg8nI'), ('cn_35', 'DBYUPeyFL1w'), ('cn_32', 'T-03skvD3g4'), ('cn_04', 'ZUWkFdZbmBc'), ('cn_21', 'b7UfMS6vjZQ'), ('cn_26', 'DjL2ooLsLOA'), ('cn_10', 'OhgQO5Gd1HY'), ('cn_17', 'k5AvqhHWtwE'), ('cn_43', '7bIyonpZPiw'), ('cn_43', 'iYe6ZwHKD_o'), ('cn_43', 'pGur1steJfM'), ('cn_44', 'XkOdMRUQkN8'), ('cn_29', 'bwK6BX3kAYU'), ('cn_16', 'NZJfIyxz3UY'), ('cn_16', 'OArboM70pA0'), ('cn_11', 'W539BhRLl1g'), ('cn_18', '9jJU3lzU7OU'), ('cn_27', '-QjW24etnqE'), ('cn_27', 'dYHsxC0kckw'), ('cn_20', '-8sMm868SJI'), ('cn_39', 'GXguwtZQYGQ'), ('cn_39', '9cG-5vqLxUU'), ('cn_39', 'qo-E_UcJSUQ'), ('cn_39', 'inKeRj8VkhY'), ('cn_39', 'xalnBSvk0Zo'), ('cn_39', 'gtDTil6xQMI'), ('cn_39', '8Fntw5XmaJE'), ('cn_39', 'zSuoa0zTVM0'), ('cn_01', 'sgjIxRD_eSQ'), ('cn_01', '4zHrnCPJTFM'), ('cn_01', 'FZBZ5KmKdX8'), ('cn_01', 'fdLF9NViKl4'), ('cn_01', 'TZA62nwut_I'), ('cn_01', 'hTOX1l4UEtE'), ('cn_01', '5iEgR25lS5A'), ('cn_01', 'oFUcQ_XgToI'), ('cn_01', 'T-ydfQlVwgs'), ('cn_01', 'HoBQclABghY'), ('cn_01', 'OS1lvL63mfc'), ('cn_01', 'UuiBnJOicqQ'), ('cn_01', 'hznoXSPobHA'), ('cn_01', 'eBrxC4jqbbo'), ('cn_01', 'FE6QA-n36W4'), ('cn_01', 'EN8ZdMf5oAQ'), ('cn_01', 'QwX-bQDsQ5Q'), ('cn_01', 'L2tGjae1WD0'), ('cn_01', 'RjpTsK-WzSw'), ('cn_37', 'vxp2CXCyUAs'), ('cn_37', 'qpPCtxUXoNM'), ('cn_37', 'P-Hq6URLUfI'), ('cn_37', 'iGdmVsuSVoo'), ('cn_37', '1usaWetxndY'), ('cn_37', 'kSAo_1mJg0g'), ('cn_37', 'KBjefNL2pec'), ('cn_37', 'NnVOuBaaLBI'), ('cn_37', 'en1-H2z8Ems'), ('cn_37', 'Gl_qYPWDWF8'), ('cn_37', 'l1_atcfe6UE'), ('cn_37', 'PEG-t9Sd2Ac'), ('cn_37', 'vvY9HxFJymY'), ('cn_37', '0C39h7_wP4c'), ('cn_37', 'aq-llpoReKw'), ('cn_37', 'fPDRO2LSvu4'), ('cn_37', 'ZEtPV-qvLe8'), ('cn_37', 'BoQzqQ9RUxs'), ('cn_37', 'YpzMfAKN9aQ'), ('cn_37', 'ls31TkGSQGA'), ('cn_37', 'JzBwbT9WSYY'), ('cn_37', 'opVaEC_WxWs'), ('cn_37', 'EUN9TigJ7ZU'), ('cn_08', '-O9945xzlnM'), ('cn_08', 'lEScqF9G0cE'), ('cn_08', 'BqVrpFXXdB0'), ('cn_08', '-oTvn7wEnqI'), ('cn_08', 'CS-anBmcKUA'), ('cn_08', 'f5wc0rwut40'), ('cn_08', '6635N1qAOR4'), ('cn_08', 'VDFZd5KLvcM'), ('cn_08', 'FCxGb5GZUxU'), ('cn_08', 'fHmnSoaeS1M'), ('cn_08', 'ZIbf4InSW-g'), ('cn_08', 'q2MyTQKHMck'), ('cn_08', 'asU3TtePzbw'), ('cn_08', 'ZrLTGOqNY_o'), ('cn_08', 'CWtby5WqHdM'), ('cn_08', 'lGZ8f1Fsgkg'), ('cn_08', 'hlYc08_Zr2c'), ('cn_30', 'rOnMO8iObkk'), ('cn_30', 'Sw0iyfbXRt8'), ('cn_30', 'HU9I_o6pm7s'), ('cn_30', '6EHj-3fjobI'), ('cn_30', 'VFoUXFxmnSM'), ('cn_30', 'q3CqjDzzUiQ'), ('cn_30', 'm1we2p9QrYI'), ('cn_30', 'I840eC4n5gc'), ('cn_30', '3XqTHUKlPV4'), ('cn_30', 'NB61uqPQJYQ'), ('cn_30', '6-VYP0NrnAk'), ('cn_30', 'bWchYInvJaI'), ('cn_30', 'm9CQgFvCyWQ'), ('cn_30', 'cWzTdPzZeug'), ('cn_30', 'KzYGjni_x-w'), ('cn_30', 'w26X-3DUjgQ'), ('cn_30', 'WrukaSpBYek'), ('cn_30', 'y7ql7HLIzo8'), ('cn_30', '9SHollSevAg'), ('cn_30', '_qKU7ckNqio'), ('cn_30', 'SA1AQ0m1lkU'), ('cn_30', 'Iqw6ShT6yE8'), ('cn_30', '1F_SgMHbygk'), ('cn_55', 'ROCCEj7couE'), ('cn_55', 'MEPP3l1OLkU'), ('cn_55', 'n7NqU6TViZw'), ('cn_55', '0Yt44TS73_c'), ('cn_31', 'thxxQfr8uj0'), ('cn_31', '96OXwgra40k'), ('cn_31', 'e2_vfovwr30'), ('cn_53', '2iW0l2QPrxI'), ('cn_54', '64aCbFq4-uU'), ('cn_54', 'rdmXB-OYnS4'), ('cn_54', 'Dmz1O06_hOE'), ('cn_25', 'awb4EG4ZfLM'), ('cn_25', 'EG5mcvF6o4M'), ('cn_25', 'MjkpBrYtNEI'), ('cn_25', 'wIyj1XupNXs'), ('cn_25', '3Pz3rs_qBMM'), ('cn_25', 'qwPfypzp_1c'), ('cn_25', '36hF6hNjOLc'), ('cn_25', 'AlBn_RXc3Bw'), ('cn_25', '-a5Vj5QzSUg'), ('cn_25', 'aprw-fyRzGo'), ('cn_25', 'mdmOQCACFfs'), ('cn_25', 'oDDdgNWsb3I'), ('cn_25', 'Q_Y4arz0NoQ'), ('cn_22', 'fIwrK5u07pI'), ('cn_22', '5q0Y2KFw-q8'), ('cn_22', '-cK8n_uaNMQ'), ('cn_22', 'YCCohLOn9lg'), ('cn_22', 'ZLpuVigQaYQ'), ('cn_22', 'h94-F4isSCM'), ('cn_22', '53Q8OecGBmQ'), ('cn_22', 'MZ0Ky06NYtY'), ('cn_22', 'bpYYtLiSenE'), ('cn_22', 'GriHaXPnJ5g'), ('cn_22', 'BTqLe7zmBpA'), ('cn_22', 'lbI2XxLHWfY'), ('cn_22', 'IZziqnPO9SE'), ('cn_22', 'te1-3F-keME'), ('cn_22', 'cVr5T5xTU1U'), ('cn_22', '6ZQmMFLTllU'), ('cn_22', 'm4AsQEfasR8'), ('cn_22', 'y6Ua1mJphxs'), ('cn_14', 'Wi3yAp7sTgo'), ('cn_14', 'HpDIK1iVSqU'), ('cn_14', 'HOROFfwmRYw'), ('cn_14', 'jCOYgRQb_4U'), ('cn_14', 'VIB_ynYL-fM'), ('cn_14', '9wgAUQto8i8'), ('cn_14', 'fDt1mU3XX-4'), ('cn_14', '7JGQPG4AE6s'), ('cn_14', 'rC0x_cShhW4'), ('cn_14', 'VHjxxMJLaQ4'), ('cn_14', 'W-TFAFRjBEc'), ('cn_13', 'IdfNj1k0jmw'), ('cn_13', 'UphYymf_umo'), ('cn_13', 'KKN7Bt73OxU'), ('cn_13', 'f74L2hRZE1Y'), ('cn_13', 'jMyNk8J1c8g'), ('cn_13', 'ULfqhCNHQPA'), ('cn_13', 'k7HXdtS9BJY'), ('cn_13', 'VOXfHCJ2ND8'), ('cn_13', 'dbFvD2JuhsA'), ('cn_13', 'mDryok7xeTo'), ('cn_13', 'HSOZ4wqgDdk'), ('cn_48', 'NfU-DnZN_Ts'), ('cn_48', 'tPhiwwquJkM'), ('cn_48', 'NYaNoY_-Z1I'), ('cn_48', '_HFaC-UoyuY'), ('cn_48', 'XPu-nHrNmpk'), ('cn_48', 'W0HRUVVxFFg'), ('cn_41', 'ApcSM9IlVNA'), ('cn_46', 'OcSdJhPZf-E'), ('cn_12', '3YzCX8Eg6Uc'), ('cn_12', 'i3Rt0bLeskc'), ('cn_24', 'XVbiaY8bvAk')]\n"
     ]
    },
    {
     "name": "stderr",
     "output_type": "stream",
     "text": [
      "sox WARN rate: rate clipped 2 samples; decrease volume?\n",
      "sox WARN dither: dither clipped 2 samples; decrease volume?\n"
     ]
    }
   ],
   "source": [
    "park_celeb_dir = \"/Users/thomas.cong/Downloads/ParkCeleb\"\n",
    "PD_patients = os.path.join(park_celeb_dir, \"PD\")\n",
    "CN_patients = os.path.join(park_celeb_dir, \"CN\")\n",
    "failed = []\n",
    "for patient in tqdm(os.listdir(PD_patients)):\n",
    "    if \"pd\" in patient:\n",
    "        patient_folder = os.path.join(PD_patients, patient)\n",
    "        for file in tqdm(os.listdir(patient_folder)):\n",
    "            file_path = os.path.join(patient_folder, file)\n",
    "            if os.path.isdir(file_path):\n",
    "                result = preprocess_park_celeb(file_path)\n",
    "                if result:\n",
    "                    failed.append(result)\n",
    "for patient in tqdm(os.listdir(CN_patients)):\n",
    "    if \"cn\" in patient:\n",
    "        patient_folder = os.path.join(CN_patients, patient)\n",
    "        for file in tqdm(os.listdir(patient_folder)):\n",
    "            file_path = os.path.join(patient_folder, file)\n",
    "            if os.path.isdir(file_path):\n",
    "                result = preprocess_park_celeb(file_path)\n",
    "                if result:\n",
    "                    failed.append(result)\n",
    "print(failed)"
   ]
  },
  {
   "cell_type": "code",
   "execution_count": null,
   "id": "dc6de7ec",
   "metadata": {},
   "outputs": [],
   "source": []
  }
 ],
 "metadata": {
  "kernelspec": {
   "display_name": "test",
   "language": "python",
   "name": "python3"
  },
  "language_info": {
   "codemirror_mode": {
    "name": "ipython",
    "version": 3
   },
   "file_extension": ".py",
   "mimetype": "text/x-python",
   "name": "python",
   "nbconvert_exporter": "python",
   "pygments_lexer": "ipython3",
   "version": "3.11.13"
  }
 },
 "nbformat": 4,
 "nbformat_minor": 5
}
