{
 "cells": [
  {
   "cell_type": "code",
   "execution_count": 22,
   "id": "53da9114",
   "metadata": {},
   "outputs": [],
   "source": [
    "import pandas as pd\n",
    "import math\n",
    "import subprocess\n",
    "import os\n",
    "import warnings\n",
    "warnings.filterwarnings(\"ignore\")\n",
    "from pydub import AudioSegment\n",
    "from tqdm.notebook import tqdm"
   ]
  },
  {
   "cell_type": "code",
   "execution_count": 23,
   "id": "4c7dcc72",
   "metadata": {},
   "outputs": [],
   "source": [
    "\n",
    "\n",
    "def get_or_convert_audio(audio_dir_path, audio_file_name):\n",
    "    # Try .wav first\n",
    "    wav_path = os.path.join(audio_dir_path, f\"{audio_file_name}.wav\")\n",
    "    if os.path.exists(wav_path):\n",
    "        return wav_path\n",
    "\n",
    "    # Try other formats\n",
    "    for ext in ['.m4a', '.webm']:\n",
    "        alt_path = os.path.join(audio_dir_path, f\"{audio_file_name}{ext}\")\n",
    "        if os.path.exists(alt_path):\n",
    "            # Convert to wav using ffmpeg\n",
    "            # Output to the same directory with .wav extension\n",
    "            cmd = [\n",
    "                'ffmpeg', '-y', '-i', alt_path, wav_path\n",
    "            ]\n",
    "            try:\n",
    "                subprocess.run(cmd, capture_output=True, text=True, check=True)\n",
    "            except subprocess.CalledProcessError as e:\n",
    "                raise FileNotFoundError(f\"ffmpeg failed for {alt_path}: {e.stderr}\")\n",
    "            return wav_path\n",
    "\n",
    "    # If none exist, raise an error\n",
    "    raise FileNotFoundError(f\"No audio file found for {audio_file_name} in {audio_dir_path}\")"
   ]
  },
  {
   "cell_type": "code",
   "execution_count": 30,
   "id": "6ed5bc57",
   "metadata": {},
   "outputs": [],
   "source": [
    "def preprocess_park_celeb(audio_dir_path):\n",
    "    patient_id, audio_file_name = audio_dir_path.split(\"/\")[-2:]\n",
    "    speaker_info = os.path.join(audio_dir_path, \"speakers_info.csv\")\n",
    "    try:\n",
    "        speaker_dataframe = pd.read_csv(speaker_info)\n",
    "    except FileNotFoundError:\n",
    "        return (patient_id, audio_file_name)\n",
    "    target_dataframe = speaker_dataframe[speaker_dataframe['status'] == 'target']\n",
    "    target_speaker = target_dataframe[\"speakers\"].iloc[0]\n",
    "    if target_dataframe[\"before_after_diagnosis\"].iloc[0] == \"before\":\n",
    "        yfd = target_dataframe[\"years_from_diagnosis\"].iloc[0]\n",
    "        if not math.isnan(yfd):\n",
    "            yfd = int(yfd) * -1\n",
    "        else:\n",
    "            yfd = \"None\"\n",
    "    else:\n",
    "        yfd = target_dataframe[\"years_from_diagnosis\"].iloc[0]\n",
    "        if not math.isnan(yfd):\n",
    "            yfd = int(yfd)\n",
    "        else:\n",
    "            yfd = \"None\"\n",
    "    try:\n",
    "        diarization = pd.read_csv(os.path.join(audio_dir_path, f\"{audio_file_name}.csv\"))\n",
    "    except FileNotFoundError:\n",
    "        return (patient_id, audio_file_name)\n",
    "    speaker_diarization = diarization[diarization['speaker'] == target_speaker]\n",
    "    speaker_diarization[\"length\"] = speaker_diarization[\"end\"] - speaker_diarization[\"start\"]\n",
    "    eight_sec_mask = speaker_diarization[\"length\"] >= 8\n",
    "    speaker_diarization = speaker_diarization[eight_sec_mask]\n",
    "    try:\n",
    "        input_audio_file = get_or_convert_audio(audio_dir_path, audio_file_name)\n",
    "    except FileNotFoundError:\n",
    "        return (patient_id, audio_file_name)\n",
    "    temp_output = os.path.join(audio_dir_path, f\"{patient_id}_{audio_file_name}_{yfd}_temp.wav\")\n",
    "    audio = AudioSegment.from_file(input_audio_file)\n",
    "    combined = AudioSegment.empty()\n",
    "    slices = []\n",
    "    for start, end in zip(speaker_diarization[\"start\"], speaker_diarization[\"end\"]):\n",
    "        slices.append((start*1000, end*1000))\n",
    "    for start,end in slices:\n",
    "        combined += audio[start:end]\n",
    "    output_audio_file = os.path.join(\"Preprocessed Park Celeb Files\", f\"{patient_id}_{audio_file_name}_{yfd}.wav\")\n",
    "    combined.export(temp_output, format=\"wav\")\n",
    "    subprocess.run([\"sox\", temp_output, \"-r\", \"16000\", output_audio_file, \"gain\", \"-n\"])\n",
    "    subprocess.run([\"rm\", temp_output])\n",
    "\n",
    "\n"
   ]
  },
  {
   "cell_type": "code",
   "execution_count": 31,
   "id": "0a6569b2",
   "metadata": {},
   "outputs": [
    {
     "data": {
      "application/vnd.jupyter.widget-view+json": {
       "model_id": "7b10ada73b77497395ef9d54ae67a6a4",
       "version_major": 2,
       "version_minor": 0
      },
      "text/plain": [
       "  0%|          | 0/41 [00:00<?, ?it/s]"
      ]
     },
     "metadata": {},
     "output_type": "display_data"
    },
    {
     "data": {
      "application/vnd.jupyter.widget-view+json": {
       "model_id": "6d144c7479d8404883d902cfa92a375c",
       "version_major": 2,
       "version_minor": 0
      },
      "text/plain": [
       "  0%|          | 0/20 [00:00<?, ?it/s]"
      ]
     },
     "metadata": {},
     "output_type": "display_data"
    },
    {
     "name": "stderr",
     "output_type": "stream",
     "text": [
      "sox WARN rate: rate clipped 22 samples; decrease volume?\n",
      "sox WARN dither: dither clipped 20 samples; decrease volume?\n",
      "sox WARN rate: rate clipped 2 samples; decrease volume?\n",
      "sox WARN dither: dither clipped 2 samples; decrease volume?\n",
      "sox WARN rate: rate clipped 40 samples; decrease volume?\n",
      "sox WARN dither: dither clipped 32 samples; decrease volume?\n",
      "sox WARN rate: rate clipped 40 samples; decrease volume?\n",
      "sox WARN dither: dither clipped 38 samples; decrease volume?\n",
      "sox WARN rate: rate clipped 2 samples; decrease volume?\n",
      "sox WARN dither: dither clipped 2 samples; decrease volume?\n"
     ]
    },
    {
     "data": {
      "application/vnd.jupyter.widget-view+json": {
       "model_id": "0239e4203e234565b06fffd246f951fa",
       "version_major": 2,
       "version_minor": 0
      },
      "text/plain": [
       "  0%|          | 0/23 [00:00<?, ?it/s]"
      ]
     },
     "metadata": {},
     "output_type": "display_data"
    },
    {
     "name": "stderr",
     "output_type": "stream",
     "text": [
      "sox WARN rate: rate clipped 2 samples; decrease volume?\n",
      "sox WARN dither: dither clipped 2 samples; decrease volume?\n",
      "sox WARN rate: rate clipped 2 samples; decrease volume?\n",
      "sox WARN dither: dither clipped 2 samples; decrease volume?\n",
      "sox WARN rate: rate clipped 2 samples; decrease volume?\n",
      "sox WARN dither: dither clipped 1 samples; decrease volume?\n",
      "sox WARN rate: rate clipped 1 samples; decrease volume?\n",
      "sox WARN dither: dither clipped 1 samples; decrease volume?\n",
      "sox WARN rate: rate clipped 2 samples; decrease volume?\n",
      "sox WARN dither: dither clipped 2 samples; decrease volume?\n",
      "sox WARN rate: rate clipped 6 samples; decrease volume?\n",
      "sox WARN dither: dither clipped 6 samples; decrease volume?\n"
     ]
    },
    {
     "data": {
      "application/vnd.jupyter.widget-view+json": {
       "model_id": "0650da714e9a4bada2184327c960fd5d",
       "version_major": 2,
       "version_minor": 0
      },
      "text/plain": [
       "  0%|          | 0/12 [00:00<?, ?it/s]"
      ]
     },
     "metadata": {},
     "output_type": "display_data"
    },
    {
     "name": "stderr",
     "output_type": "stream",
     "text": [
      "sox WARN rate: rate clipped 50 samples; decrease volume?\n",
      "sox WARN dither: dither clipped 43 samples; decrease volume?\n",
      "sox WARN rate: rate clipped 352 samples; decrease volume?\n",
      "sox WARN dither: dither clipped 300 samples; decrease volume?\n",
      "sox WARN rate: rate clipped 1 samples; decrease volume?\n",
      "sox WARN dither: dither clipped 1 samples; decrease volume?\n",
      "sox WARN rate: rate clipped 2 samples; decrease volume?\n",
      "sox WARN dither: dither clipped 2 samples; decrease volume?\n",
      "sox WARN rate: rate clipped 48 samples; decrease volume?\n",
      "sox WARN dither: dither clipped 44 samples; decrease volume?\n"
     ]
    },
    {
     "data": {
      "application/vnd.jupyter.widget-view+json": {
       "model_id": "7b43feb4360f4c5483836969e00debd5",
       "version_major": 2,
       "version_minor": 0
      },
      "text/plain": [
       "  0%|          | 0/16 [00:00<?, ?it/s]"
      ]
     },
     "metadata": {},
     "output_type": "display_data"
    },
    {
     "name": "stderr",
     "output_type": "stream",
     "text": [
      "sox WARN rate: rate clipped 2 samples; decrease volume?\n",
      "sox WARN dither: dither clipped 2 samples; decrease volume?\n",
      "sox WARN rate: rate clipped 2 samples; decrease volume?\n",
      "sox WARN dither: dither clipped 2 samples; decrease volume?\n",
      "sox WARN rate: rate clipped 2 samples; decrease volume?\n",
      "sox WARN dither: dither clipped 2 samples; decrease volume?\n",
      "sox WARN rate: rate clipped 1 samples; decrease volume?\n",
      "sox WARN dither: dither clipped 1 samples; decrease volume?\n"
     ]
    },
    {
     "data": {
      "application/vnd.jupyter.widget-view+json": {
       "model_id": "43af4b1d7fb643dd9ec9f7113415f34f",
       "version_major": 2,
       "version_minor": 0
      },
      "text/plain": [
       "  0%|          | 0/20 [00:00<?, ?it/s]"
      ]
     },
     "metadata": {},
     "output_type": "display_data"
    },
    {
     "name": "stderr",
     "output_type": "stream",
     "text": [
      "sox WARN rate: rate clipped 15 samples; decrease volume?\n",
      "sox WARN dither: dither clipped 14 samples; decrease volume?\n",
      "sox WARN rate: rate clipped 10 samples; decrease volume?\n",
      "sox WARN dither: dither clipped 10 samples; decrease volume?\n",
      "sox WARN rate: rate clipped 3 samples; decrease volume?\n",
      "sox WARN dither: dither clipped 2 samples; decrease volume?\n",
      "sox WARN rate: rate clipped 148 samples; decrease volume?\n",
      "sox WARN dither: dither clipped 126 samples; decrease volume?\n",
      "sox WARN rate: rate clipped 2 samples; decrease volume?\n",
      "sox WARN dither: dither clipped 1 samples; decrease volume?\n",
      "sox WARN rate: rate clipped 29427 samples; decrease volume?\n",
      "sox WARN dither: dither clipped 25863 samples; decrease volume?\n",
      "sox WARN rate: rate clipped 1 samples; decrease volume?\n",
      "sox WARN dither: dither clipped 1 samples; decrease volume?\n",
      "sox WARN rate: rate clipped 4 samples; decrease volume?\n",
      "sox WARN dither: dither clipped 3 samples; decrease volume?\n",
      "sox WARN rate: rate clipped 2 samples; decrease volume?\n",
      "sox WARN dither: dither clipped 2 samples; decrease volume?\n",
      "sox WARN rate: rate clipped 31 samples; decrease volume?\n",
      "sox WARN dither: dither clipped 26 samples; decrease volume?\n",
      "sox WARN rate: rate clipped 210 samples; decrease volume?\n",
      "sox WARN dither: dither clipped 182 samples; decrease volume?\n"
     ]
    },
    {
     "data": {
      "application/vnd.jupyter.widget-view+json": {
       "model_id": "85343067342a4622bf487631b0fa545c",
       "version_major": 2,
       "version_minor": 0
      },
      "text/plain": [
       "  0%|          | 0/25 [00:00<?, ?it/s]"
      ]
     },
     "metadata": {},
     "output_type": "display_data"
    },
    {
     "name": "stderr",
     "output_type": "stream",
     "text": [
      "sox WARN rate: rate clipped 1 samples; decrease volume?\n",
      "sox WARN dither: dither clipped 1 samples; decrease volume?\n",
      "sox WARN rate: rate clipped 2 samples; decrease volume?\n",
      "sox WARN dither: dither clipped 2 samples; decrease volume?\n",
      "sox WARN rate: rate clipped 3 samples; decrease volume?\n",
      "sox WARN dither: dither clipped 3 samples; decrease volume?\n",
      "sox WARN rate: rate clipped 2 samples; decrease volume?\n",
      "sox WARN dither: dither clipped 2 samples; decrease volume?\n"
     ]
    },
    {
     "data": {
      "application/vnd.jupyter.widget-view+json": {
       "model_id": "dc9230730c43482ea2eddbca982316ab",
       "version_major": 2,
       "version_minor": 0
      },
      "text/plain": [
       "  0%|          | 0/23 [00:00<?, ?it/s]"
      ]
     },
     "metadata": {},
     "output_type": "display_data"
    },
    {
     "name": "stderr",
     "output_type": "stream",
     "text": [
      "sox WARN rate: rate clipped 1783 samples; decrease volume?\n",
      "sox WARN dither: dither clipped 1558 samples; decrease volume?\n",
      "sox WARN rate: rate clipped 1 samples; decrease volume?\n",
      "sox WARN dither: dither clipped 1 samples; decrease volume?\n",
      "sox WARN rate: rate clipped 300 samples; decrease volume?\n",
      "sox WARN dither: dither clipped 256 samples; decrease volume?\n",
      "sox WARN rate: rate clipped 2 samples; decrease volume?\n",
      "sox WARN dither: dither clipped 2 samples; decrease volume?\n",
      "sox WARN rate: rate clipped 1 samples; decrease volume?\n",
      "sox WARN rate: rate clipped 447 samples; decrease volume?\n",
      "sox WARN dither: dither clipped 389 samples; decrease volume?\n",
      "sox WARN rate: rate clipped 2 samples; decrease volume?\n",
      "sox WARN dither: dither clipped 2 samples; decrease volume?\n"
     ]
    },
    {
     "data": {
      "application/vnd.jupyter.widget-view+json": {
       "model_id": "a652feacb254435d9c76ba3658866084",
       "version_major": 2,
       "version_minor": 0
      },
      "text/plain": [
       "  0%|          | 0/29 [00:00<?, ?it/s]"
      ]
     },
     "metadata": {},
     "output_type": "display_data"
    },
    {
     "name": "stderr",
     "output_type": "stream",
     "text": [
      "sox WARN rate: rate clipped 2 samples; decrease volume?\n",
      "sox WARN dither: dither clipped 2 samples; decrease volume?\n",
      "sox WARN rate: rate clipped 12 samples; decrease volume?\n",
      "sox WARN dither: dither clipped 9 samples; decrease volume?\n",
      "sox WARN rate: rate clipped 8 samples; decrease volume?\n",
      "sox WARN dither: dither clipped 7 samples; decrease volume?\n",
      "sox WARN rate: rate clipped 1 samples; decrease volume?\n",
      "sox WARN rate: rate clipped 183 samples; decrease volume?\n",
      "sox WARN dither: dither clipped 165 samples; decrease volume?\n",
      "sox WARN rate: rate clipped 2 samples; decrease volume?\n",
      "sox WARN dither: dither clipped 2 samples; decrease volume?\n",
      "sox WARN rate: rate clipped 66 samples; decrease volume?\n",
      "sox WARN dither: dither clipped 50 samples; decrease volume?\n",
      "sox WARN rate: rate clipped 10 samples; decrease volume?\n",
      "sox WARN dither: dither clipped 8 samples; decrease volume?\n"
     ]
    },
    {
     "data": {
      "application/vnd.jupyter.widget-view+json": {
       "model_id": "2a9abb891ecf4001aa0536dd3a99393a",
       "version_major": 2,
       "version_minor": 0
      },
      "text/plain": [
       "  0%|          | 0/12 [00:00<?, ?it/s]"
      ]
     },
     "metadata": {},
     "output_type": "display_data"
    },
    {
     "name": "stderr",
     "output_type": "stream",
     "text": [
      "sox WARN rate: rate clipped 26 samples; decrease volume?\n",
      "sox WARN dither: dither clipped 24 samples; decrease volume?\n",
      "sox WARN rate: rate clipped 2 samples; decrease volume?\n",
      "sox WARN dither: dither clipped 2 samples; decrease volume?\n"
     ]
    },
    {
     "data": {
      "application/vnd.jupyter.widget-view+json": {
       "model_id": "783eebf1a84f4b5ca9857574cbf62dfb",
       "version_major": 2,
       "version_minor": 0
      },
      "text/plain": [
       "  0%|          | 0/20 [00:00<?, ?it/s]"
      ]
     },
     "metadata": {},
     "output_type": "display_data"
    },
    {
     "name": "stderr",
     "output_type": "stream",
     "text": [
      "sox WARN rate: rate clipped 1262 samples; decrease volume?\n",
      "sox WARN dither: dither clipped 1104 samples; decrease volume?\n",
      "sox WARN rate: rate clipped 2 samples; decrease volume?\n",
      "sox WARN dither: dither clipped 1 samples; decrease volume?\n",
      "sox WARN rate: rate clipped 1 samples; decrease volume?\n",
      "sox WARN dither: dither clipped 1 samples; decrease volume?\n",
      "sox WARN rate: rate clipped 2 samples; decrease volume?\n",
      "sox WARN dither: dither clipped 2 samples; decrease volume?\n",
      "sox WARN rate: rate clipped 4 samples; decrease volume?\n",
      "sox WARN dither: dither clipped 3 samples; decrease volume?\n",
      "sox WARN rate: rate clipped 112 samples; decrease volume?\n",
      "sox WARN dither: dither clipped 97 samples; decrease volume?\n"
     ]
    },
    {
     "data": {
      "application/vnd.jupyter.widget-view+json": {
       "model_id": "2a9a0f3eebb84d2c9712b6245c3472bf",
       "version_major": 2,
       "version_minor": 0
      },
      "text/plain": [
       "  0%|          | 0/9 [00:00<?, ?it/s]"
      ]
     },
     "metadata": {},
     "output_type": "display_data"
    },
    {
     "name": "stderr",
     "output_type": "stream",
     "text": [
      "sox WARN rate: rate clipped 7 samples; decrease volume?\n",
      "sox WARN dither: dither clipped 6 samples; decrease volume?\n",
      "sox WARN rate: rate clipped 49 samples; decrease volume?\n",
      "sox WARN dither: dither clipped 45 samples; decrease volume?\n"
     ]
    },
    {
     "data": {
      "application/vnd.jupyter.widget-view+json": {
       "model_id": "ed214096494049c48f1600051195cc89",
       "version_major": 2,
       "version_minor": 0
      },
      "text/plain": [
       "  0%|          | 0/22 [00:00<?, ?it/s]"
      ]
     },
     "metadata": {},
     "output_type": "display_data"
    },
    {
     "name": "stderr",
     "output_type": "stream",
     "text": [
      "sox WARN rate: rate clipped 2 samples; decrease volume?\n",
      "sox WARN dither: dither clipped 1 samples; decrease volume?\n",
      "sox WARN rate: rate clipped 2 samples; decrease volume?\n",
      "sox WARN dither: dither clipped 2 samples; decrease volume?\n",
      "sox WARN rate: rate clipped 10 samples; decrease volume?\n",
      "sox WARN dither: dither clipped 9 samples; decrease volume?\n",
      "sox WARN rate: rate clipped 2 samples; decrease volume?\n",
      "sox WARN dither: dither clipped 1 samples; decrease volume?\n",
      "sox WARN rate: rate clipped 48 samples; decrease volume?\n",
      "sox WARN dither: dither clipped 42 samples; decrease volume?\n"
     ]
    },
    {
     "data": {
      "application/vnd.jupyter.widget-view+json": {
       "model_id": "5601e3cbe284457593da153b06893afa",
       "version_major": 2,
       "version_minor": 0
      },
      "text/plain": [
       "  0%|          | 0/20 [00:00<?, ?it/s]"
      ]
     },
     "metadata": {},
     "output_type": "display_data"
    },
    {
     "name": "stderr",
     "output_type": "stream",
     "text": [
      "sox WARN rate: rate clipped 1 samples; decrease volume?\n",
      "sox WARN dither: dither clipped 1 samples; decrease volume?\n",
      "sox WARN rate: rate clipped 19 samples; decrease volume?\n",
      "sox WARN dither: dither clipped 17 samples; decrease volume?\n",
      "sox WARN rate: rate clipped 2 samples; decrease volume?\n",
      "sox WARN dither: dither clipped 2 samples; decrease volume?\n",
      "sox WARN rate: rate clipped 7532 samples; decrease volume?\n",
      "sox WARN dither: dither clipped 6632 samples; decrease volume?\n",
      "sox WARN rate: rate clipped 2 samples; decrease volume?\n",
      "sox WARN dither: dither clipped 2 samples; decrease volume?\n",
      "sox WARN rate: rate clipped 9 samples; decrease volume?\n",
      "sox WARN dither: dither clipped 8 samples; decrease volume?\n"
     ]
    },
    {
     "data": {
      "application/vnd.jupyter.widget-view+json": {
       "model_id": "71f0763de50d451aa5109a44b598bae4",
       "version_major": 2,
       "version_minor": 0
      },
      "text/plain": [
       "  0%|          | 0/15 [00:00<?, ?it/s]"
      ]
     },
     "metadata": {},
     "output_type": "display_data"
    },
    {
     "data": {
      "application/vnd.jupyter.widget-view+json": {
       "model_id": "3809a09055484871a83c0ac48c9e909e",
       "version_major": 2,
       "version_minor": 0
      },
      "text/plain": [
       "  0%|          | 0/15 [00:00<?, ?it/s]"
      ]
     },
     "metadata": {},
     "output_type": "display_data"
    },
    {
     "name": "stderr",
     "output_type": "stream",
     "text": [
      "sox WARN rate: rate clipped 52 samples; decrease volume?\n",
      "sox WARN dither: dither clipped 44 samples; decrease volume?\n",
      "sox WARN rate: rate clipped 2 samples; decrease volume?\n",
      "sox WARN dither: dither clipped 1 samples; decrease volume?\n",
      "sox WARN rate: rate clipped 5 samples; decrease volume?\n",
      "sox WARN dither: dither clipped 5 samples; decrease volume?\n",
      "sox WARN rate: rate clipped 6 samples; decrease volume?\n",
      "sox WARN dither: dither clipped 5 samples; decrease volume?\n",
      "sox WARN rate: rate clipped 1 samples; decrease volume?\n",
      "sox WARN dither: dither clipped 1 samples; decrease volume?\n"
     ]
    },
    {
     "data": {
      "application/vnd.jupyter.widget-view+json": {
       "model_id": "751951b2c2c349a1a614432307160242",
       "version_major": 2,
       "version_minor": 0
      },
      "text/plain": [
       "  0%|          | 0/10 [00:00<?, ?it/s]"
      ]
     },
     "metadata": {},
     "output_type": "display_data"
    },
    {
     "name": "stderr",
     "output_type": "stream",
     "text": [
      "sox WARN rate: rate clipped 1 samples; decrease volume?\n",
      "sox WARN dither: dither clipped 1 samples; decrease volume?\n",
      "sox WARN rate: rate clipped 7 samples; decrease volume?\n",
      "sox WARN dither: dither clipped 4 samples; decrease volume?\n",
      "sox WARN rate: rate clipped 10 samples; decrease volume?\n",
      "sox WARN dither: dither clipped 10 samples; decrease volume?\n",
      "sox WARN rate: rate clipped 16 samples; decrease volume?\n",
      "sox WARN dither: dither clipped 13 samples; decrease volume?\n"
     ]
    },
    {
     "data": {
      "application/vnd.jupyter.widget-view+json": {
       "model_id": "c310f65e8fcf4a639c55e93af776bd81",
       "version_major": 2,
       "version_minor": 0
      },
      "text/plain": [
       "  0%|          | 0/15 [00:00<?, ?it/s]"
      ]
     },
     "metadata": {},
     "output_type": "display_data"
    },
    {
     "name": "stderr",
     "output_type": "stream",
     "text": [
      "sox WARN rate: rate clipped 52 samples; decrease volume?\n",
      "sox WARN dither: dither clipped 45 samples; decrease volume?\n",
      "sox WARN rate: rate clipped 4 samples; decrease volume?\n",
      "sox WARN dither: dither clipped 4 samples; decrease volume?\n",
      "sox WARN rate: rate clipped 79 samples; decrease volume?\n",
      "sox WARN dither: dither clipped 71 samples; decrease volume?\n",
      "sox WARN rate: rate clipped 2 samples; decrease volume?\n",
      "sox WARN dither: dither clipped 2 samples; decrease volume?\n",
      "sox WARN rate: rate clipped 2 samples; decrease volume?\n",
      "sox WARN dither: dither clipped 1 samples; decrease volume?\n"
     ]
    },
    {
     "data": {
      "application/vnd.jupyter.widget-view+json": {
       "model_id": "f19e10d613444945a3e08e5ad58afa6f",
       "version_major": 2,
       "version_minor": 0
      },
      "text/plain": [
       "  0%|          | 0/15 [00:00<?, ?it/s]"
      ]
     },
     "metadata": {},
     "output_type": "display_data"
    },
    {
     "name": "stderr",
     "output_type": "stream",
     "text": [
      "sox WARN rate: rate clipped 1 samples; decrease volume?\n",
      "sox WARN dither: dither clipped 1 samples; decrease volume?\n",
      "sox WARN rate: rate clipped 2 samples; decrease volume?\n",
      "sox WARN dither: dither clipped 2 samples; decrease volume?\n",
      "sox WARN rate: rate clipped 748 samples; decrease volume?\n",
      "sox WARN dither: dither clipped 646 samples; decrease volume?\n",
      "sox WARN rate: rate clipped 3 samples; decrease volume?\n",
      "sox WARN dither: dither clipped 3 samples; decrease volume?\n"
     ]
    },
    {
     "data": {
      "application/vnd.jupyter.widget-view+json": {
       "model_id": "438fb64c9b364830951cdb339a7b29da",
       "version_major": 2,
       "version_minor": 0
      },
      "text/plain": [
       "  0%|          | 0/28 [00:00<?, ?it/s]"
      ]
     },
     "metadata": {},
     "output_type": "display_data"
    },
    {
     "name": "stderr",
     "output_type": "stream",
     "text": [
      "sox WARN rate: rate clipped 2 samples; decrease volume?\n",
      "sox WARN dither: dither clipped 2 samples; decrease volume?\n",
      "sox WARN rate: rate clipped 2 samples; decrease volume?\n",
      "sox WARN dither: dither clipped 2 samples; decrease volume?\n",
      "sox WARN rate: rate clipped 2 samples; decrease volume?\n",
      "sox WARN dither: dither clipped 1 samples; decrease volume?\n",
      "sox WARN rate: rate clipped 699 samples; decrease volume?\n",
      "sox WARN dither: dither clipped 612 samples; decrease volume?\n",
      "sox WARN rate: rate clipped 282 samples; decrease volume?\n",
      "sox WARN dither: dither clipped 241 samples; decrease volume?\n"
     ]
    },
    {
     "data": {
      "application/vnd.jupyter.widget-view+json": {
       "model_id": "c380915ae85f41debbee19c40869d393",
       "version_major": 2,
       "version_minor": 0
      },
      "text/plain": [
       "  0%|          | 0/12 [00:00<?, ?it/s]"
      ]
     },
     "metadata": {},
     "output_type": "display_data"
    },
    {
     "name": "stderr",
     "output_type": "stream",
     "text": [
      "sox WARN rate: rate clipped 1 samples; decrease volume?\n",
      "sox WARN dither: dither clipped 1 samples; decrease volume?\n",
      "sox WARN rate: rate clipped 2 samples; decrease volume?\n",
      "sox WARN rate: rate clipped 1 samples; decrease volume?\n",
      "sox WARN dither: dither clipped 1 samples; decrease volume?\n"
     ]
    },
    {
     "data": {
      "application/vnd.jupyter.widget-view+json": {
       "model_id": "bda6c1bb96c74aa483c110e3eb83e1b0",
       "version_major": 2,
       "version_minor": 0
      },
      "text/plain": [
       "  0%|          | 0/10 [00:00<?, ?it/s]"
      ]
     },
     "metadata": {},
     "output_type": "display_data"
    },
    {
     "name": "stderr",
     "output_type": "stream",
     "text": [
      "sox WARN rate: rate clipped 2 samples; decrease volume?\n",
      "sox WARN dither: dither clipped 2 samples; decrease volume?\n"
     ]
    },
    {
     "data": {
      "application/vnd.jupyter.widget-view+json": {
       "model_id": "17e15b5e0e52430c9f7b7a7459313d4b",
       "version_major": 2,
       "version_minor": 0
      },
      "text/plain": [
       "  0%|          | 0/14 [00:00<?, ?it/s]"
      ]
     },
     "metadata": {},
     "output_type": "display_data"
    },
    {
     "name": "stderr",
     "output_type": "stream",
     "text": [
      "sox WARN rate: rate clipped 74 samples; decrease volume?\n",
      "sox WARN dither: dither clipped 63 samples; decrease volume?\n",
      "sox WARN rate: rate clipped 2 samples; decrease volume?\n",
      "sox WARN dither: dither clipped 2 samples; decrease volume?\n"
     ]
    },
    {
     "data": {
      "application/vnd.jupyter.widget-view+json": {
       "model_id": "f4ab7579b431425e8876f56650066b9d",
       "version_major": 2,
       "version_minor": 0
      },
      "text/plain": [
       "  0%|          | 0/26 [00:00<?, ?it/s]"
      ]
     },
     "metadata": {},
     "output_type": "display_data"
    },
    {
     "name": "stderr",
     "output_type": "stream",
     "text": [
      "sox WARN rate: rate clipped 26 samples; decrease volume?\n",
      "sox WARN dither: dither clipped 23 samples; decrease volume?\n",
      "sox WARN rate: rate clipped 86 samples; decrease volume?\n",
      "sox WARN dither: dither clipped 73 samples; decrease volume?\n",
      "sox WARN rate: rate clipped 1 samples; decrease volume?\n",
      "sox WARN dither: dither clipped 1 samples; decrease volume?\n",
      "sox WARN rate: rate clipped 1 samples; decrease volume?\n",
      "sox WARN rate: rate clipped 1013 samples; decrease volume?\n",
      "sox WARN dither: dither clipped 891 samples; decrease volume?\n"
     ]
    },
    {
     "data": {
      "application/vnd.jupyter.widget-view+json": {
       "model_id": "0e8a0689c1704c01b880bdf13314c9f7",
       "version_major": 2,
       "version_minor": 0
      },
      "text/plain": [
       "  0%|          | 0/16 [00:00<?, ?it/s]"
      ]
     },
     "metadata": {},
     "output_type": "display_data"
    },
    {
     "name": "stderr",
     "output_type": "stream",
     "text": [
      "sox WARN rate: rate clipped 17 samples; decrease volume?\n",
      "sox WARN dither: dither clipped 17 samples; decrease volume?\n",
      "sox WARN rate: rate clipped 2 samples; decrease volume?\n",
      "sox WARN dither: dither clipped 1 samples; decrease volume?\n",
      "sox WARN rate: rate clipped 4 samples; decrease volume?\n",
      "sox WARN dither: dither clipped 4 samples; decrease volume?\n"
     ]
    },
    {
     "data": {
      "application/vnd.jupyter.widget-view+json": {
       "model_id": "1bce7e7ffe864554a9c57c1d2d588823",
       "version_major": 2,
       "version_minor": 0
      },
      "text/plain": [
       "  0%|          | 0/18 [00:00<?, ?it/s]"
      ]
     },
     "metadata": {},
     "output_type": "display_data"
    },
    {
     "name": "stderr",
     "output_type": "stream",
     "text": [
      "sox WARN rate: rate clipped 2 samples; decrease volume?\n",
      "sox WARN dither: dither clipped 2 samples; decrease volume?\n",
      "sox WARN rate: rate clipped 2 samples; decrease volume?\n",
      "sox WARN dither: dither clipped 2 samples; decrease volume?\n"
     ]
    },
    {
     "data": {
      "application/vnd.jupyter.widget-view+json": {
       "model_id": "a3f7b5219b67412daa9d131d61134713",
       "version_major": 2,
       "version_minor": 0
      },
      "text/plain": [
       "  0%|          | 0/25 [00:00<?, ?it/s]"
      ]
     },
     "metadata": {},
     "output_type": "display_data"
    },
    {
     "name": "stderr",
     "output_type": "stream",
     "text": [
      "sox WARN rate: rate clipped 2 samples; decrease volume?\n",
      "sox WARN dither: dither clipped 2 samples; decrease volume?\n",
      "sox WARN rate: rate clipped 2 samples; decrease volume?\n",
      "sox WARN dither: dither clipped 1 samples; decrease volume?\n",
      "sox WARN rate: rate clipped 114 samples; decrease volume?\n",
      "sox WARN dither: dither clipped 96 samples; decrease volume?\n",
      "sox WARN rate: rate clipped 1618 samples; decrease volume?\n",
      "sox WARN dither: dither clipped 1421 samples; decrease volume?\n",
      "sox WARN rate: rate clipped 2 samples; decrease volume?\n",
      "sox WARN dither: dither clipped 2 samples; decrease volume?\n",
      "sox WARN rate: rate clipped 198 samples; decrease volume?\n",
      "sox WARN dither: dither clipped 177 samples; decrease volume?\n",
      "sox WARN rate: rate clipped 49 samples; decrease volume?\n",
      "sox WARN dither: dither clipped 42 samples; decrease volume?\n",
      "sox WARN rate: rate clipped 2 samples; decrease volume?\n",
      "sox WARN dither: dither clipped 2 samples; decrease volume?\n",
      "sox WARN rate: rate clipped 382 samples; decrease volume?\n",
      "sox WARN dither: dither clipped 346 samples; decrease volume?\n",
      "sox WARN rate: rate clipped 14 samples; decrease volume?\n",
      "sox WARN dither: dither clipped 13 samples; decrease volume?\n",
      "sox WARN rate: rate clipped 1 samples; decrease volume?\n",
      "sox WARN dither: dither clipped 1 samples; decrease volume?\n"
     ]
    },
    {
     "data": {
      "application/vnd.jupyter.widget-view+json": {
       "model_id": "21df64514bb442fcb273066722537419",
       "version_major": 2,
       "version_minor": 0
      },
      "text/plain": [
       "  0%|          | 0/17 [00:00<?, ?it/s]"
      ]
     },
     "metadata": {},
     "output_type": "display_data"
    },
    {
     "name": "stderr",
     "output_type": "stream",
     "text": [
      "sox WARN rate: rate clipped 2 samples; decrease volume?\n",
      "sox WARN dither: dither clipped 2 samples; decrease volume?\n",
      "sox WARN rate: rate clipped 2 samples; decrease volume?\n",
      "sox WARN dither: dither clipped 2 samples; decrease volume?\n",
      "sox WARN rate: rate clipped 9 samples; decrease volume?\n",
      "sox WARN dither: dither clipped 9 samples; decrease volume?\n",
      "sox WARN rate: rate clipped 1 samples; decrease volume?\n",
      "sox WARN rate: rate clipped 626 samples; decrease volume?\n",
      "sox WARN dither: dither clipped 558 samples; decrease volume?\n",
      "sox WARN rate: rate clipped 2 samples; decrease volume?\n",
      "sox WARN dither: dither clipped 2 samples; decrease volume?\n"
     ]
    },
    {
     "data": {
      "application/vnd.jupyter.widget-view+json": {
       "model_id": "e2459e7c9f3046c48c347764d9362efc",
       "version_major": 2,
       "version_minor": 0
      },
      "text/plain": [
       "  0%|          | 0/23 [00:00<?, ?it/s]"
      ]
     },
     "metadata": {},
     "output_type": "display_data"
    },
    {
     "name": "stderr",
     "output_type": "stream",
     "text": [
      "sox WARN rate: rate clipped 2 samples; decrease volume?\n",
      "sox WARN rate: rate clipped 1 samples; decrease volume?\n",
      "sox WARN dither: dither clipped 1 samples; decrease volume?\n"
     ]
    },
    {
     "data": {
      "application/vnd.jupyter.widget-view+json": {
       "model_id": "3515dd0df43c4a4c8829b0beeda624bd",
       "version_major": 2,
       "version_minor": 0
      },
      "text/plain": [
       "  0%|          | 0/5 [00:00<?, ?it/s]"
      ]
     },
     "metadata": {},
     "output_type": "display_data"
    },
    {
     "name": "stderr",
     "output_type": "stream",
     "text": [
      "sox WARN rate: rate clipped 2 samples; decrease volume?\n",
      "sox WARN dither: dither clipped 1 samples; decrease volume?\n",
      "sox WARN rate: rate clipped 34 samples; decrease volume?\n",
      "sox WARN dither: dither clipped 31 samples; decrease volume?\n"
     ]
    },
    {
     "data": {
      "application/vnd.jupyter.widget-view+json": {
       "model_id": "df5fb74824f44fe6b4f3d8046d8def6f",
       "version_major": 2,
       "version_minor": 0
      },
      "text/plain": [
       "  0%|          | 0/24 [00:00<?, ?it/s]"
      ]
     },
     "metadata": {},
     "output_type": "display_data"
    },
    {
     "name": "stderr",
     "output_type": "stream",
     "text": [
      "sox WARN rate: rate clipped 6644 samples; decrease volume?\n",
      "sox WARN dither: dither clipped 5838 samples; decrease volume?\n",
      "sox WARN rate: rate clipped 4 samples; decrease volume?\n",
      "sox WARN dither: dither clipped 4 samples; decrease volume?\n",
      "sox WARN rate: rate clipped 104 samples; decrease volume?\n",
      "sox WARN dither: dither clipped 95 samples; decrease volume?\n",
      "sox WARN rate: rate clipped 1 samples; decrease volume?\n",
      "sox WARN dither: dither clipped 1 samples; decrease volume?\n",
      "sox WARN rate: rate clipped 2 samples; decrease volume?\n",
      "sox WARN dither: dither clipped 1 samples; decrease volume?\n"
     ]
    },
    {
     "data": {
      "application/vnd.jupyter.widget-view+json": {
       "model_id": "8ff3c3e2e99e4b0a98c363e38eb43548",
       "version_major": 2,
       "version_minor": 0
      },
      "text/plain": [
       "  0%|          | 0/21 [00:00<?, ?it/s]"
      ]
     },
     "metadata": {},
     "output_type": "display_data"
    },
    {
     "name": "stderr",
     "output_type": "stream",
     "text": [
      "sox WARN rate: rate clipped 2 samples; decrease volume?\n",
      "sox WARN dither: dither clipped 2 samples; decrease volume?\n",
      "sox WARN rate: rate clipped 6 samples; decrease volume?\n",
      "sox WARN dither: dither clipped 5 samples; decrease volume?\n",
      "sox WARN rate: rate clipped 20 samples; decrease volume?\n",
      "sox WARN dither: dither clipped 14 samples; decrease volume?\n",
      "sox WARN rate: rate clipped 2 samples; decrease volume?\n",
      "sox WARN dither: dither clipped 1 samples; decrease volume?\n",
      "sox WARN rate: rate clipped 298 samples; decrease volume?\n",
      "sox WARN dither: dither clipped 265 samples; decrease volume?\n"
     ]
    },
    {
     "data": {
      "application/vnd.jupyter.widget-view+json": {
       "model_id": "79916bb3a4124b09bd2c08a1501aa4d2",
       "version_major": 2,
       "version_minor": 0
      },
      "text/plain": [
       "  0%|          | 0/19 [00:00<?, ?it/s]"
      ]
     },
     "metadata": {},
     "output_type": "display_data"
    },
    {
     "name": "stderr",
     "output_type": "stream",
     "text": [
      "sox WARN rate: rate clipped 2 samples; decrease volume?\n",
      "sox WARN dither: dither clipped 2 samples; decrease volume?\n",
      "sox WARN rate: rate clipped 92 samples; decrease volume?\n",
      "sox WARN dither: dither clipped 79 samples; decrease volume?\n",
      "sox WARN rate: rate clipped 2 samples; decrease volume?\n",
      "sox WARN dither: dither clipped 1 samples; decrease volume?\n",
      "sox WARN rate: rate clipped 2 samples; decrease volume?\n",
      "sox WARN dither: dither clipped 2 samples; decrease volume?\n",
      "sox WARN rate: rate clipped 1 samples; decrease volume?\n",
      "sox WARN dither: dither clipped 1 samples; decrease volume?\n",
      "sox WARN rate: rate clipped 2 samples; decrease volume?\n",
      "sox WARN dither: dither clipped 2 samples; decrease volume?\n",
      "sox WARN rate: rate clipped 2 samples; decrease volume?\n",
      "sox WARN dither: dither clipped 1 samples; decrease volume?\n"
     ]
    },
    {
     "data": {
      "application/vnd.jupyter.widget-view+json": {
       "model_id": "81615e15f9864e78b2ed19fc8e15a7d8",
       "version_major": 2,
       "version_minor": 0
      },
      "text/plain": [
       "  0%|          | 0/35 [00:00<?, ?it/s]"
      ]
     },
     "metadata": {},
     "output_type": "display_data"
    },
    {
     "name": "stderr",
     "output_type": "stream",
     "text": [
      "sox WARN rate: rate clipped 10 samples; decrease volume?\n",
      "sox WARN dither: dither clipped 9 samples; decrease volume?\n",
      "sox WARN rate: rate clipped 7 samples; decrease volume?\n",
      "sox WARN dither: dither clipped 7 samples; decrease volume?\n",
      "sox WARN rate: rate clipped 2 samples; decrease volume?\n",
      "sox WARN dither: dither clipped 2 samples; decrease volume?\n",
      "sox WARN rate: rate clipped 2 samples; decrease volume?\n",
      "sox WARN dither: dither clipped 2 samples; decrease volume?\n",
      "sox WARN rate: rate clipped 1 samples; decrease volume?\n",
      "sox WARN dither: dither clipped 1 samples; decrease volume?\n",
      "sox WARN rate: rate clipped 1 samples; decrease volume?\n",
      "sox WARN dither: dither clipped 1 samples; decrease volume?\n",
      "sox WARN rate: rate clipped 98 samples; decrease volume?\n",
      "sox WARN dither: dither clipped 88 samples; decrease volume?\n",
      "sox WARN rate: rate clipped 6 samples; decrease volume?\n",
      "sox WARN dither: dither clipped 5 samples; decrease volume?\n",
      "sox WARN rate: rate clipped 10 samples; decrease volume?\n",
      "sox WARN dither: dither clipped 8 samples; decrease volume?\n"
     ]
    },
    {
     "data": {
      "application/vnd.jupyter.widget-view+json": {
       "model_id": "8e9850b1f1ac4baab5e927b52a31ad43",
       "version_major": 2,
       "version_minor": 0
      },
      "text/plain": [
       "  0%|          | 0/10 [00:00<?, ?it/s]"
      ]
     },
     "metadata": {},
     "output_type": "display_data"
    },
    {
     "data": {
      "application/vnd.jupyter.widget-view+json": {
       "model_id": "55034ee5dbcd4f0e939b04f31b4a75af",
       "version_major": 2,
       "version_minor": 0
      },
      "text/plain": [
       "  0%|          | 0/25 [00:00<?, ?it/s]"
      ]
     },
     "metadata": {},
     "output_type": "display_data"
    },
    {
     "name": "stderr",
     "output_type": "stream",
     "text": [
      "sox WARN rate: rate clipped 3 samples; decrease volume?\n",
      "sox WARN dither: dither clipped 3 samples; decrease volume?\n",
      "sox WARN rate: rate clipped 536 samples; decrease volume?\n",
      "sox WARN dither: dither clipped 639 samples; decrease volume?\n",
      "sox WARN rate: rate clipped 1 samples; decrease volume?\n",
      "sox WARN dither: dither clipped 1 samples; decrease volume?\n",
      "sox WARN rate: rate clipped 2 samples; decrease volume?\n",
      "sox WARN dither: dither clipped 2 samples; decrease volume?\n",
      "sox WARN rate: rate clipped 60 samples; decrease volume?\n",
      "sox WARN dither: dither clipped 56 samples; decrease volume?\n",
      "sox WARN rate: rate clipped 14 samples; decrease volume?\n",
      "sox WARN dither: dither clipped 10 samples; decrease volume?\n"
     ]
    },
    {
     "data": {
      "application/vnd.jupyter.widget-view+json": {
       "model_id": "bfe386d8dc2e4d12a8a7ad5d249ad404",
       "version_major": 2,
       "version_minor": 0
      },
      "text/plain": [
       "  0%|          | 0/20 [00:00<?, ?it/s]"
      ]
     },
     "metadata": {},
     "output_type": "display_data"
    },
    {
     "name": "stderr",
     "output_type": "stream",
     "text": [
      "sox WARN rate: rate clipped 22 samples; decrease volume?\n",
      "sox WARN dither: dither clipped 20 samples; decrease volume?\n",
      "sox WARN rate: rate clipped 358 samples; decrease volume?\n",
      "sox WARN dither: dither clipped 308 samples; decrease volume?\n",
      "sox WARN rate: rate clipped 1 samples; decrease volume?\n"
     ]
    },
    {
     "data": {
      "application/vnd.jupyter.widget-view+json": {
       "model_id": "5a8f05d4b95b4ab080b22ef4ccb583c9",
       "version_major": 2,
       "version_minor": 0
      },
      "text/plain": [
       "  0%|          | 0/8 [00:00<?, ?it/s]"
      ]
     },
     "metadata": {},
     "output_type": "display_data"
    },
    {
     "name": "stderr",
     "output_type": "stream",
     "text": [
      "sox WARN rate: rate clipped 3 samples; decrease volume?\n",
      "sox WARN dither: dither clipped 2 samples; decrease volume?\n",
      "sox WARN rate: rate clipped 2 samples; decrease volume?\n",
      "sox WARN dither: dither clipped 2 samples; decrease volume?\n"
     ]
    },
    {
     "data": {
      "application/vnd.jupyter.widget-view+json": {
       "model_id": "27df30248c904644acc73892ef868a78",
       "version_major": 2,
       "version_minor": 0
      },
      "text/plain": [
       "  0%|          | 0/22 [00:00<?, ?it/s]"
      ]
     },
     "metadata": {},
     "output_type": "display_data"
    },
    {
     "name": "stderr",
     "output_type": "stream",
     "text": [
      "sox WARN rate: rate clipped 1 samples; decrease volume?\n",
      "sox WARN dither: dither clipped 1 samples; decrease volume?\n",
      "sox WARN rate: rate clipped 1 samples; decrease volume?\n",
      "sox WARN dither: dither clipped 1 samples; decrease volume?\n",
      "sox WARN rate: rate clipped 2 samples; decrease volume?\n",
      "sox WARN dither: dither clipped 2 samples; decrease volume?\n",
      "sox WARN rate: rate clipped 2 samples; decrease volume?\n",
      "sox WARN dither: dither clipped 2 samples; decrease volume?\n",
      "sox WARN rate: rate clipped 1 samples; decrease volume?\n",
      "sox WARN dither: dither clipped 1 samples; decrease volume?\n",
      "sox WARN rate: rate clipped 6775 samples; decrease volume?\n",
      "sox WARN dither: dither clipped 5951 samples; decrease volume?\n",
      "sox WARN rate: rate clipped 2 samples; decrease volume?\n",
      "sox WARN dither: dither clipped 1 samples; decrease volume?\n"
     ]
    },
    {
     "data": {
      "application/vnd.jupyter.widget-view+json": {
       "model_id": "0b468de9dbf7434489df21956a13c2c8",
       "version_major": 2,
       "version_minor": 0
      },
      "text/plain": [
       "  0%|          | 0/13 [00:00<?, ?it/s]"
      ]
     },
     "metadata": {},
     "output_type": "display_data"
    },
    {
     "name": "stderr",
     "output_type": "stream",
     "text": [
      "sox WARN rate: rate clipped 1 samples; decrease volume?\n",
      "sox WARN dither: dither clipped 1 samples; decrease volume?\n"
     ]
    },
    {
     "data": {
      "application/vnd.jupyter.widget-view+json": {
       "model_id": "61ab585040224a05b0b8f61ff8e105fb",
       "version_major": 2,
       "version_minor": 0
      },
      "text/plain": [
       "  0%|          | 0/18 [00:00<?, ?it/s]"
      ]
     },
     "metadata": {},
     "output_type": "display_data"
    },
    {
     "name": "stderr",
     "output_type": "stream",
     "text": [
      "sox WARN rate: rate clipped 2 samples; decrease volume?\n",
      "sox WARN dither: dither clipped 2 samples; decrease volume?\n",
      "sox WARN rate: rate clipped 26 samples; decrease volume?\n",
      "sox WARN dither: dither clipped 21 samples; decrease volume?\n",
      "sox WARN rate: rate clipped 2 samples; decrease volume?\n",
      "sox WARN dither: dither clipped 2 samples; decrease volume?\n",
      "sox WARN rate: rate clipped 626 samples; decrease volume?\n",
      "sox WARN dither: dither clipped 560 samples; decrease volume?\n"
     ]
    },
    {
     "data": {
      "application/vnd.jupyter.widget-view+json": {
       "model_id": "b8291f758dbb425c921caefe7e9fd0fc",
       "version_major": 2,
       "version_minor": 0
      },
      "text/plain": [
       "  0%|          | 0/62 [00:00<?, ?it/s]"
      ]
     },
     "metadata": {},
     "output_type": "display_data"
    },
    {
     "data": {
      "application/vnd.jupyter.widget-view+json": {
       "model_id": "88f201e99538444fa1fd47a8188fc132",
       "version_major": 2,
       "version_minor": 0
      },
      "text/plain": [
       "  0%|          | 0/18 [00:00<?, ?it/s]"
      ]
     },
     "metadata": {},
     "output_type": "display_data"
    },
    {
     "name": "stderr",
     "output_type": "stream",
     "text": [
      "sox WARN rate: rate clipped 2 samples; decrease volume?\n",
      "sox WARN dither: dither clipped 2 samples; decrease volume?\n",
      "sox WARN rate: rate clipped 4 samples; decrease volume?\n",
      "sox WARN dither: dither clipped 3 samples; decrease volume?\n",
      "sox WARN rate: rate clipped 2 samples; decrease volume?\n",
      "sox WARN dither: dither clipped 1 samples; decrease volume?\n",
      "sox WARN rate: rate clipped 1 samples; decrease volume?\n",
      "sox WARN dither: dither clipped 1 samples; decrease volume?\n"
     ]
    },
    {
     "data": {
      "application/vnd.jupyter.widget-view+json": {
       "model_id": "7edf26c024eb41ea8946b75b06374718",
       "version_major": 2,
       "version_minor": 0
      },
      "text/plain": [
       "  0%|          | 0/14 [00:00<?, ?it/s]"
      ]
     },
     "metadata": {},
     "output_type": "display_data"
    },
    {
     "name": "stderr",
     "output_type": "stream",
     "text": [
      "sox WARN dither: dither clipped 1 samples; decrease volume?\n"
     ]
    },
    {
     "data": {
      "application/vnd.jupyter.widget-view+json": {
       "model_id": "7088abf5a6224221b46b7018940b167c",
       "version_major": 2,
       "version_minor": 0
      },
      "text/plain": [
       "  0%|          | 0/13 [00:00<?, ?it/s]"
      ]
     },
     "metadata": {},
     "output_type": "display_data"
    },
    {
     "name": "stderr",
     "output_type": "stream",
     "text": [
      "sox WARN rate: rate clipped 4 samples; decrease volume?\n",
      "sox WARN dither: dither clipped 3 samples; decrease volume?\n",
      "sox WARN rate: rate clipped 18 samples; decrease volume?\n",
      "sox WARN dither: dither clipped 15 samples; decrease volume?\n",
      "sox WARN rate: rate clipped 1 samples; decrease volume?\n",
      "sox WARN dither: dither clipped 1 samples; decrease volume?\n",
      "sox WARN rate: rate clipped 2 samples; decrease volume?\n",
      "sox WARN dither: dither clipped 1 samples; decrease volume?\n"
     ]
    },
    {
     "data": {
      "application/vnd.jupyter.widget-view+json": {
       "model_id": "2a4a88b9abbf4e5887ecfe22cb27ae64",
       "version_major": 2,
       "version_minor": 0
      },
      "text/plain": [
       "  0%|          | 0/12 [00:00<?, ?it/s]"
      ]
     },
     "metadata": {},
     "output_type": "display_data"
    },
    {
     "name": "stderr",
     "output_type": "stream",
     "text": [
      "sox WARN rate: rate clipped 4 samples; decrease volume?\n",
      "sox WARN dither: dither clipped 3 samples; decrease volume?\n",
      "sox WARN rate: rate clipped 2 samples; decrease volume?\n",
      "sox WARN dither: dither clipped 1 samples; decrease volume?\n",
      "sox WARN rate: rate clipped 2 samples; decrease volume?\n",
      "sox WARN dither: dither clipped 2 samples; decrease volume?\n"
     ]
    },
    {
     "data": {
      "application/vnd.jupyter.widget-view+json": {
       "model_id": "f5db0fe84af54b2fb7579bd539d1f71c",
       "version_major": 2,
       "version_minor": 0
      },
      "text/plain": [
       "  0%|          | 0/15 [00:00<?, ?it/s]"
      ]
     },
     "metadata": {},
     "output_type": "display_data"
    },
    {
     "name": "stderr",
     "output_type": "stream",
     "text": [
      "sox WARN rate: rate clipped 1 samples; decrease volume?\n",
      "sox WARN dither: dither clipped 1 samples; decrease volume?\n",
      "sox WARN rate: rate clipped 2 samples; decrease volume?\n",
      "sox WARN rate: rate clipped 592 samples; decrease volume?\n",
      "sox WARN dither: dither clipped 528 samples; decrease volume?\n",
      "sox WARN rate: rate clipped 1126 samples; decrease volume?\n",
      "sox WARN dither: dither clipped 993 samples; decrease volume?\n",
      "sox WARN rate: rate clipped 1 samples; decrease volume?\n",
      "sox WARN dither: dither clipped 1 samples; decrease volume?\n"
     ]
    },
    {
     "data": {
      "application/vnd.jupyter.widget-view+json": {
       "model_id": "cd335ea9820140e995b3a97f1b02190a",
       "version_major": 2,
       "version_minor": 0
      },
      "text/plain": [
       "  0%|          | 0/18 [00:00<?, ?it/s]"
      ]
     },
     "metadata": {},
     "output_type": "display_data"
    },
    {
     "name": "stderr",
     "output_type": "stream",
     "text": [
      "sox WARN rate: rate clipped 4 samples; decrease volume?\n",
      "sox WARN dither: dither clipped 4 samples; decrease volume?\n",
      "sox WARN rate: rate clipped 2 samples; decrease volume?\n",
      "sox WARN dither: dither clipped 1 samples; decrease volume?\n",
      "sox WARN rate: rate clipped 46 samples; decrease volume?\n",
      "sox WARN dither: dither clipped 40 samples; decrease volume?\n",
      "sox WARN rate: rate clipped 2 samples; decrease volume?\n",
      "sox WARN dither: dither clipped 2 samples; decrease volume?\n",
      "sox WARN rate: rate clipped 4 samples; decrease volume?\n",
      "sox WARN dither: dither clipped 3 samples; decrease volume?\n",
      "sox WARN rate: rate clipped 4 samples; decrease volume?\n",
      "sox WARN dither: dither clipped 4 samples; decrease volume?\n",
      "sox WARN rate: rate clipped 22 samples; decrease volume?\n",
      "sox WARN dither: dither clipped 21 samples; decrease volume?\n"
     ]
    },
    {
     "data": {
      "application/vnd.jupyter.widget-view+json": {
       "model_id": "10e87a454f354e7a96ed552c90018a54",
       "version_major": 2,
       "version_minor": 0
      },
      "text/plain": [
       "  0%|          | 0/15 [00:00<?, ?it/s]"
      ]
     },
     "metadata": {},
     "output_type": "display_data"
    },
    {
     "name": "stderr",
     "output_type": "stream",
     "text": [
      "sox WARN rate: rate clipped 390 samples; decrease volume?\n",
      "sox WARN dither: dither clipped 344 samples; decrease volume?\n",
      "sox WARN rate: rate clipped 2 samples; decrease volume?\n",
      "sox WARN dither: dither clipped 2 samples; decrease volume?\n",
      "sox WARN rate: rate clipped 2 samples; decrease volume?\n",
      "sox WARN dither: dither clipped 2 samples; decrease volume?\n",
      "sox WARN rate: rate clipped 1 samples; decrease volume?\n",
      "sox WARN dither: dither clipped 1 samples; decrease volume?\n",
      "sox WARN rate: rate clipped 2 samples; decrease volume?\n",
      "sox WARN dither: dither clipped 2 samples; decrease volume?\n"
     ]
    },
    {
     "data": {
      "application/vnd.jupyter.widget-view+json": {
       "model_id": "614ab8f663934942b9b40a515ccd37f6",
       "version_major": 2,
       "version_minor": 0
      },
      "text/plain": [
       "  0%|          | 0/22 [00:00<?, ?it/s]"
      ]
     },
     "metadata": {},
     "output_type": "display_data"
    },
    {
     "name": "stderr",
     "output_type": "stream",
     "text": [
      "sox WARN rate: rate clipped 1610 samples; decrease volume?\n",
      "sox WARN dither: dither clipped 1456 samples; decrease volume?\n",
      "sox WARN rate: rate clipped 24 samples; decrease volume?\n",
      "sox WARN dither: dither clipped 22 samples; decrease volume?\n",
      "sox WARN rate: rate clipped 1 samples; decrease volume?\n",
      "sox WARN dither: dither clipped 1 samples; decrease volume?\n",
      "sox WARN rate: rate clipped 4 samples; decrease volume?\n",
      "sox WARN dither: dither clipped 4 samples; decrease volume?\n",
      "sox WARN rate: rate clipped 1 samples; decrease volume?\n",
      "sox WARN dither: dither clipped 1 samples; decrease volume?\n"
     ]
    },
    {
     "data": {
      "application/vnd.jupyter.widget-view+json": {
       "model_id": "05fd7a5815ef41e28ee423f14b37458a",
       "version_major": 2,
       "version_minor": 0
      },
      "text/plain": [
       "  0%|          | 0/10 [00:00<?, ?it/s]"
      ]
     },
     "metadata": {},
     "output_type": "display_data"
    },
    {
     "name": "stderr",
     "output_type": "stream",
     "text": [
      "sox WARN rate: rate clipped 2 samples; decrease volume?\n",
      "sox WARN dither: dither clipped 1 samples; decrease volume?\n"
     ]
    },
    {
     "data": {
      "application/vnd.jupyter.widget-view+json": {
       "model_id": "4be615ff9cc44ed2b6c353bca4aad7c4",
       "version_major": 2,
       "version_minor": 0
      },
      "text/plain": [
       "  0%|          | 0/11 [00:00<?, ?it/s]"
      ]
     },
     "metadata": {},
     "output_type": "display_data"
    },
    {
     "name": "stderr",
     "output_type": "stream",
     "text": [
      "sox WARN rate: rate clipped 1 samples; decrease volume?\n",
      "sox WARN dither: dither clipped 1 samples; decrease volume?\n",
      "sox WARN rate: rate clipped 1 samples; decrease volume?\n",
      "sox WARN dither: dither clipped 1 samples; decrease volume?\n",
      "sox WARN rate: rate clipped 3 samples; decrease volume?\n",
      "sox WARN dither: dither clipped 3 samples; decrease volume?\n",
      "sox WARN rate: rate clipped 5 samples; decrease volume?\n",
      "sox WARN dither: dither clipped 5 samples; decrease volume?\n"
     ]
    },
    {
     "data": {
      "application/vnd.jupyter.widget-view+json": {
       "model_id": "91fc94a7ed7647d0884c504ab87b4356",
       "version_major": 2,
       "version_minor": 0
      },
      "text/plain": [
       "  0%|          | 0/18 [00:00<?, ?it/s]"
      ]
     },
     "metadata": {},
     "output_type": "display_data"
    },
    {
     "name": "stderr",
     "output_type": "stream",
     "text": [
      "sox WARN rate: rate clipped 2 samples; decrease volume?\n",
      "sox WARN dither: dither clipped 2 samples; decrease volume?\n",
      "sox WARN rate: rate clipped 2 samples; decrease volume?\n",
      "sox WARN dither: dither clipped 2 samples; decrease volume?\n",
      "sox WARN rate: rate clipped 6 samples; decrease volume?\n",
      "sox WARN dither: dither clipped 5 samples; decrease volume?\n",
      "sox WARN rate: rate clipped 2 samples; decrease volume?\n",
      "sox WARN dither: dither clipped 2 samples; decrease volume?\n",
      "sox WARN rate: rate clipped 2 samples; decrease volume?\n",
      "sox WARN dither: dither clipped 2 samples; decrease volume?\n",
      "sox WARN rate: rate clipped 42 samples; decrease volume?\n",
      "sox WARN dither: dither clipped 35 samples; decrease volume?\n",
      "sox WARN rate: rate clipped 7 samples; decrease volume?\n",
      "sox WARN dither: dither clipped 5 samples; decrease volume?\n",
      "sox WARN rate: rate clipped 2 samples; decrease volume?\n",
      "sox WARN dither: dither clipped 1 samples; decrease volume?\n"
     ]
    },
    {
     "data": {
      "application/vnd.jupyter.widget-view+json": {
       "model_id": "624e7d76d34344419a47319dfa126e6f",
       "version_major": 2,
       "version_minor": 0
      },
      "text/plain": [
       "  0%|          | 0/18 [00:00<?, ?it/s]"
      ]
     },
     "metadata": {},
     "output_type": "display_data"
    },
    {
     "name": "stderr",
     "output_type": "stream",
     "text": [
      "sox WARN rate: rate clipped 1 samples; decrease volume?\n",
      "sox WARN dither: dither clipped 1 samples; decrease volume?\n",
      "sox WARN rate: rate clipped 2 samples; decrease volume?\n",
      "sox WARN dither: dither clipped 2 samples; decrease volume?\n"
     ]
    },
    {
     "data": {
      "application/vnd.jupyter.widget-view+json": {
       "model_id": "b13c47feeb4f4c66ae7962780e760628",
       "version_major": 2,
       "version_minor": 0
      },
      "text/plain": [
       "  0%|          | 0/20 [00:00<?, ?it/s]"
      ]
     },
     "metadata": {},
     "output_type": "display_data"
    },
    {
     "name": "stderr",
     "output_type": "stream",
     "text": [
      "sox WARN rate: rate clipped 2 samples; decrease volume?\n",
      "sox WARN dither: dither clipped 2 samples; decrease volume?\n",
      "sox WARN rate: rate clipped 1741 samples; decrease volume?\n",
      "sox WARN dither: dither clipped 1549 samples; decrease volume?\n",
      "sox WARN rate: rate clipped 2 samples; decrease volume?\n",
      "sox WARN dither: dither clipped 2 samples; decrease volume?\n",
      "sox WARN rate: rate clipped 6 samples; decrease volume?\n",
      "sox WARN dither: dither clipped 6 samples; decrease volume?\n",
      "sox WARN rate: rate clipped 4 samples; decrease volume?\n",
      "sox WARN dither: dither clipped 4 samples; decrease volume?\n",
      "sox WARN rate: rate clipped 1511 samples; decrease volume?\n",
      "sox WARN dither: dither clipped 1331 samples; decrease volume?\n",
      "sox WARN rate: rate clipped 1 samples; decrease volume?\n",
      "sox WARN dither: dither clipped 1 samples; decrease volume?\n"
     ]
    },
    {
     "data": {
      "application/vnd.jupyter.widget-view+json": {
       "model_id": "01b7ce7958354a1c9c1a20bb46c9a531",
       "version_major": 2,
       "version_minor": 0
      },
      "text/plain": [
       "  0%|          | 0/12 [00:00<?, ?it/s]"
      ]
     },
     "metadata": {},
     "output_type": "display_data"
    },
    {
     "name": "stderr",
     "output_type": "stream",
     "text": [
      "sox WARN rate: rate clipped 2 samples; decrease volume?\n",
      "sox WARN dither: dither clipped 2 samples; decrease volume?\n",
      "sox WARN rate: rate clipped 2 samples; decrease volume?\n",
      "sox WARN dither: dither clipped 2 samples; decrease volume?\n",
      "sox WARN rate: rate clipped 2 samples; decrease volume?\n",
      "sox WARN dither: dither clipped 1 samples; decrease volume?\n",
      "sox WARN rate: rate clipped 4 samples; decrease volume?\n",
      "sox WARN dither: dither clipped 4 samples; decrease volume?\n"
     ]
    },
    {
     "data": {
      "application/vnd.jupyter.widget-view+json": {
       "model_id": "c740e4fcce544a60965f625467637e2c",
       "version_major": 2,
       "version_minor": 0
      },
      "text/plain": [
       "  0%|          | 0/14 [00:00<?, ?it/s]"
      ]
     },
     "metadata": {},
     "output_type": "display_data"
    },
    {
     "name": "stderr",
     "output_type": "stream",
     "text": [
      "sox WARN rate: rate clipped 2 samples; decrease volume?\n",
      "sox WARN dither: dither clipped 2 samples; decrease volume?\n",
      "sox WARN rate: rate clipped 1 samples; decrease volume?\n",
      "sox WARN dither: dither clipped 1 samples; decrease volume?\n",
      "sox WARN rate: rate clipped 2 samples; decrease volume?\n",
      "sox WARN dither: dither clipped 2 samples; decrease volume?\n",
      "sox WARN rate: rate clipped 4 samples; decrease volume?\n",
      "sox WARN dither: dither clipped 4 samples; decrease volume?\n"
     ]
    },
    {
     "data": {
      "application/vnd.jupyter.widget-view+json": {
       "model_id": "865f1411afc44976a4e406e7cd1b6c45",
       "version_major": 2,
       "version_minor": 0
      },
      "text/plain": [
       "  0%|          | 0/14 [00:00<?, ?it/s]"
      ]
     },
     "metadata": {},
     "output_type": "display_data"
    },
    {
     "name": "stderr",
     "output_type": "stream",
     "text": [
      "sox WARN rate: rate clipped 1 samples; decrease volume?\n",
      "sox WARN dither: dither clipped 1 samples; decrease volume?\n",
      "sox WARN rate: rate clipped 4 samples; decrease volume?\n",
      "sox WARN dither: dither clipped 3 samples; decrease volume?\n"
     ]
    },
    {
     "data": {
      "application/vnd.jupyter.widget-view+json": {
       "model_id": "61eade3dc8cd4c968ebfd2446edc29b2",
       "version_major": 2,
       "version_minor": 0
      },
      "text/plain": [
       "  0%|          | 0/27 [00:00<?, ?it/s]"
      ]
     },
     "metadata": {},
     "output_type": "display_data"
    },
    {
     "name": "stderr",
     "output_type": "stream",
     "text": [
      "sox WARN rate: rate clipped 4 samples; decrease volume?\n",
      "sox WARN dither: dither clipped 4 samples; decrease volume?\n",
      "sox WARN rate: rate clipped 6 samples; decrease volume?\n",
      "sox WARN dither: dither clipped 6 samples; decrease volume?\n",
      "sox WARN rate: rate clipped 2 samples; decrease volume?\n",
      "sox WARN dither: dither clipped 2 samples; decrease volume?\n",
      "sox WARN rate: rate clipped 3 samples; decrease volume?\n",
      "sox WARN dither: dither clipped 3 samples; decrease volume?\n",
      "sox WARN rate: rate clipped 2 samples; decrease volume?\n",
      "sox WARN dither: dither clipped 2 samples; decrease volume?\n"
     ]
    },
    {
     "data": {
      "application/vnd.jupyter.widget-view+json": {
       "model_id": "caa2f27a4f224c8f92bbb652977071f5",
       "version_major": 2,
       "version_minor": 0
      },
      "text/plain": [
       "  0%|          | 0/23 [00:00<?, ?it/s]"
      ]
     },
     "metadata": {},
     "output_type": "display_data"
    },
    {
     "name": "stderr",
     "output_type": "stream",
     "text": [
      "sox WARN rate: rate clipped 2 samples; decrease volume?\n",
      "sox WARN dither: dither clipped 2 samples; decrease volume?\n",
      "sox WARN rate: rate clipped 2 samples; decrease volume?\n",
      "sox WARN rate: rate clipped 2 samples; decrease volume?\n",
      "sox WARN dither: dither clipped 2 samples; decrease volume?\n",
      "sox WARN rate: rate clipped 2 samples; decrease volume?\n",
      "sox WARN dither: dither clipped 1 samples; decrease volume?\n",
      "sox WARN rate: rate clipped 2 samples; decrease volume?\n",
      "sox WARN dither: dither clipped 2 samples; decrease volume?\n"
     ]
    },
    {
     "data": {
      "application/vnd.jupyter.widget-view+json": {
       "model_id": "41756f81646f4da6b27b2748b731d98e",
       "version_major": 2,
       "version_minor": 0
      },
      "text/plain": [
       "  0%|          | 0/11 [00:00<?, ?it/s]"
      ]
     },
     "metadata": {},
     "output_type": "display_data"
    },
    {
     "name": "stderr",
     "output_type": "stream",
     "text": [
      "sox WARN rate: rate clipped 2 samples; decrease volume?\n",
      "sox WARN dither: dither clipped 2 samples; decrease volume?\n",
      "sox WARN rate: rate clipped 17 samples; decrease volume?\n",
      "sox WARN dither: dither clipped 13 samples; decrease volume?\n"
     ]
    },
    {
     "data": {
      "application/vnd.jupyter.widget-view+json": {
       "model_id": "c4a9c2f456fc450f88eef10146318b50",
       "version_major": 2,
       "version_minor": 0
      },
      "text/plain": [
       "  0%|          | 0/14 [00:00<?, ?it/s]"
      ]
     },
     "metadata": {},
     "output_type": "display_data"
    },
    {
     "name": "stderr",
     "output_type": "stream",
     "text": [
      "sox WARN rate: rate clipped 4 samples; decrease volume?\n",
      "sox WARN dither: dither clipped 3 samples; decrease volume?\n",
      "sox WARN rate: rate clipped 283 samples; decrease volume?\n",
      "sox WARN dither: dither clipped 250 samples; decrease volume?\n",
      "sox WARN rate: rate clipped 2 samples; decrease volume?\n",
      "sox WARN dither: dither clipped 2 samples; decrease volume?\n",
      "sox WARN rate: rate clipped 386 samples; decrease volume?\n",
      "sox WARN dither: dither clipped 338 samples; decrease volume?\n",
      "sox WARN rate: rate clipped 2 samples; decrease volume?\n",
      "sox WARN dither: dither clipped 1 samples; decrease volume?\n",
      "sox WARN rate: rate clipped 1 samples; decrease volume?\n",
      "sox WARN dither: dither clipped 1 samples; decrease volume?\n"
     ]
    },
    {
     "data": {
      "application/vnd.jupyter.widget-view+json": {
       "model_id": "cb8c9f3888244e3fb0ee95a47ada4705",
       "version_major": 2,
       "version_minor": 0
      },
      "text/plain": [
       "  0%|          | 0/15 [00:00<?, ?it/s]"
      ]
     },
     "metadata": {},
     "output_type": "display_data"
    },
    {
     "name": "stderr",
     "output_type": "stream",
     "text": [
      "sox WARN rate: rate clipped 4 samples; decrease volume?\n",
      "sox WARN dither: dither clipped 4 samples; decrease volume?\n",
      "sox WARN rate: rate clipped 138 samples; decrease volume?\n",
      "sox WARN dither: dither clipped 115 samples; decrease volume?\n",
      "sox WARN rate: rate clipped 2 samples; decrease volume?\n",
      "sox WARN dither: dither clipped 1 samples; decrease volume?\n",
      "sox WARN rate: rate clipped 2 samples; decrease volume?\n",
      "sox WARN dither: dither clipped 2 samples; decrease volume?\n",
      "sox WARN rate: rate clipped 18 samples; decrease volume?\n",
      "sox WARN dither: dither clipped 17 samples; decrease volume?\n",
      "sox WARN rate: rate clipped 2 samples; decrease volume?\n",
      "sox WARN dither: dither clipped 1 samples; decrease volume?\n"
     ]
    },
    {
     "data": {
      "application/vnd.jupyter.widget-view+json": {
       "model_id": "336a9eff3b1341a7acebc06ae218a671",
       "version_major": 2,
       "version_minor": 0
      },
      "text/plain": [
       "  0%|          | 0/16 [00:00<?, ?it/s]"
      ]
     },
     "metadata": {},
     "output_type": "display_data"
    },
    {
     "name": "stderr",
     "output_type": "stream",
     "text": [
      "sox WARN rate: rate clipped 2 samples; decrease volume?\n",
      "sox WARN dither: dither clipped 1 samples; decrease volume?\n",
      "sox WARN rate: rate clipped 2 samples; decrease volume?\n",
      "sox WARN dither: dither clipped 2 samples; decrease volume?\n",
      "sox WARN rate: rate clipped 5149 samples; decrease volume?\n",
      "sox WARN dither: dither clipped 4521 samples; decrease volume?\n",
      "sox WARN rate: rate clipped 1 samples; decrease volume?\n",
      "sox WARN dither: dither clipped 1 samples; decrease volume?\n"
     ]
    },
    {
     "data": {
      "application/vnd.jupyter.widget-view+json": {
       "model_id": "938c2344d36447d1a24c26f196489657",
       "version_major": 2,
       "version_minor": 0
      },
      "text/plain": [
       "  0%|          | 0/4 [00:00<?, ?it/s]"
      ]
     },
     "metadata": {},
     "output_type": "display_data"
    },
    {
     "data": {
      "application/vnd.jupyter.widget-view+json": {
       "model_id": "d9408c7cf17d42ddadc1a00abf3f9369",
       "version_major": 2,
       "version_minor": 0
      },
      "text/plain": [
       "  0%|          | 0/21 [00:00<?, ?it/s]"
      ]
     },
     "metadata": {},
     "output_type": "display_data"
    },
    {
     "name": "stderr",
     "output_type": "stream",
     "text": [
      "sox WARN rate: rate clipped 2 samples; decrease volume?\n",
      "sox WARN dither: dither clipped 1 samples; decrease volume?\n",
      "sox WARN rate: rate clipped 2 samples; decrease volume?\n",
      "sox WARN dither: dither clipped 2 samples; decrease volume?\n"
     ]
    },
    {
     "data": {
      "application/vnd.jupyter.widget-view+json": {
       "model_id": "8ea12580c6474b569ebbfde8a636b5b9",
       "version_major": 2,
       "version_minor": 0
      },
      "text/plain": [
       "  0%|          | 0/17 [00:00<?, ?it/s]"
      ]
     },
     "metadata": {},
     "output_type": "display_data"
    },
    {
     "name": "stderr",
     "output_type": "stream",
     "text": [
      "sox WARN dither: dither clipped 1 samples; decrease volume?\n",
      "sox WARN rate: rate clipped 1 samples; decrease volume?\n",
      "sox WARN dither: dither clipped 1 samples; decrease volume?\n",
      "sox WARN rate: rate clipped 52 samples; decrease volume?\n",
      "sox WARN dither: dither clipped 46 samples; decrease volume?\n",
      "sox WARN rate: rate clipped 2 samples; decrease volume?\n",
      "sox WARN dither: dither clipped 1 samples; decrease volume?\n",
      "sox WARN rate: rate clipped 1 samples; decrease volume?\n",
      "sox WARN dither: dither clipped 1 samples; decrease volume?\n",
      "sox WARN rate: rate clipped 2 samples; decrease volume?\n",
      "sox WARN dither: dither clipped 1 samples; decrease volume?\n"
     ]
    },
    {
     "data": {
      "application/vnd.jupyter.widget-view+json": {
       "model_id": "00b2a27041e94b98b6abdb08c52324b0",
       "version_major": 2,
       "version_minor": 0
      },
      "text/plain": [
       "  0%|          | 0/18 [00:00<?, ?it/s]"
      ]
     },
     "metadata": {},
     "output_type": "display_data"
    },
    {
     "name": "stderr",
     "output_type": "stream",
     "text": [
      "sox WARN rate: rate clipped 2 samples; decrease volume?\n",
      "sox WARN dither: dither clipped 2 samples; decrease volume?\n",
      "sox WARN rate: rate clipped 1 samples; decrease volume?\n",
      "sox WARN dither: dither clipped 1 samples; decrease volume?\n",
      "sox WARN rate: rate clipped 2 samples; decrease volume?\n",
      "sox WARN dither: dither clipped 1 samples; decrease volume?\n",
      "sox WARN rate: rate clipped 2 samples; decrease volume?\n",
      "sox WARN dither: dither clipped 2 samples; decrease volume?\n"
     ]
    },
    {
     "data": {
      "application/vnd.jupyter.widget-view+json": {
       "model_id": "0e2c68ded7ed4b8f9baef7fa690a5c7d",
       "version_major": 2,
       "version_minor": 0
      },
      "text/plain": [
       "  0%|          | 0/15 [00:00<?, ?it/s]"
      ]
     },
     "metadata": {},
     "output_type": "display_data"
    },
    {
     "data": {
      "application/vnd.jupyter.widget-view+json": {
       "model_id": "8aa2870947874ae2b23040eea2c308e4",
       "version_major": 2,
       "version_minor": 0
      },
      "text/plain": [
       "  0%|          | 0/22 [00:00<?, ?it/s]"
      ]
     },
     "metadata": {},
     "output_type": "display_data"
    },
    {
     "name": "stderr",
     "output_type": "stream",
     "text": [
      "sox WARN rate: rate clipped 2 samples; decrease volume?\n",
      "sox WARN dither: dither clipped 2 samples; decrease volume?\n",
      "sox WARN rate: rate clipped 138 samples; decrease volume?\n",
      "sox WARN dither: dither clipped 128 samples; decrease volume?\n",
      "sox WARN rate: rate clipped 2 samples; decrease volume?\n",
      "sox WARN dither: dither clipped 2 samples; decrease volume?\n",
      "sox WARN rate: rate clipped 52 samples; decrease volume?\n",
      "sox WARN dither: dither clipped 48 samples; decrease volume?\n"
     ]
    },
    {
     "data": {
      "application/vnd.jupyter.widget-view+json": {
       "model_id": "685e2698b63c47899e503da3ba9dab94",
       "version_major": 2,
       "version_minor": 0
      },
      "text/plain": [
       "  0%|          | 0/12 [00:00<?, ?it/s]"
      ]
     },
     "metadata": {},
     "output_type": "display_data"
    },
    {
     "name": "stderr",
     "output_type": "stream",
     "text": [
      "sox WARN rate: rate clipped 486 samples; decrease volume?\n",
      "sox WARN dither: dither clipped 422 samples; decrease volume?\n",
      "sox WARN rate: rate clipped 8 samples; decrease volume?\n",
      "sox WARN dither: dither clipped 5 samples; decrease volume?\n",
      "sox WARN rate: rate clipped 28 samples; decrease volume?\n",
      "sox WARN dither: dither clipped 21 samples; decrease volume?\n"
     ]
    },
    {
     "data": {
      "application/vnd.jupyter.widget-view+json": {
       "model_id": "19eadb26cea84b7aae3f300ef472425a",
       "version_major": 2,
       "version_minor": 0
      },
      "text/plain": [
       "  0%|          | 0/11 [00:00<?, ?it/s]"
      ]
     },
     "metadata": {},
     "output_type": "display_data"
    },
    {
     "name": "stderr",
     "output_type": "stream",
     "text": [
      "sox WARN rate: rate clipped 2 samples; decrease volume?\n",
      "sox WARN dither: dither clipped 1 samples; decrease volume?\n",
      "sox WARN rate: rate clipped 1 samples; decrease volume?\n",
      "sox WARN dither: dither clipped 1 samples; decrease volume?\n"
     ]
    },
    {
     "data": {
      "application/vnd.jupyter.widget-view+json": {
       "model_id": "4732f92d0d4249c8a97dbdc56b910e76",
       "version_major": 2,
       "version_minor": 0
      },
      "text/plain": [
       "  0%|          | 0/17 [00:00<?, ?it/s]"
      ]
     },
     "metadata": {},
     "output_type": "display_data"
    },
    {
     "name": "stderr",
     "output_type": "stream",
     "text": [
      "sox WARN rate: rate clipped 2 samples; decrease volume?\n",
      "sox WARN dither: dither clipped 2 samples; decrease volume?\n",
      "sox WARN rate: rate clipped 34 samples; decrease volume?\n",
      "sox WARN dither: dither clipped 30 samples; decrease volume?\n",
      "sox WARN rate: rate clipped 1226 samples; decrease volume?\n",
      "sox WARN dither: dither clipped 1080 samples; decrease volume?\n",
      "sox WARN rate: rate clipped 22 samples; decrease volume?\n",
      "sox WARN dither: dither clipped 19 samples; decrease volume?\n",
      "sox WARN rate: rate clipped 1 samples; decrease volume?\n",
      "sox WARN dither: dither clipped 1 samples; decrease volume?\n",
      "sox WARN rate: rate clipped 1469 samples; decrease volume?\n",
      "sox WARN dither: dither clipped 1263 samples; decrease volume?\n",
      "sox WARN rate: rate clipped 4 samples; decrease volume?\n",
      "sox WARN dither: dither clipped 4 samples; decrease volume?\n",
      "sox WARN rate: rate clipped 2 samples; decrease volume?\n",
      "sox WARN dither: dither clipped 2 samples; decrease volume?\n",
      "sox WARN rate: rate clipped 1 samples; decrease volume?\n",
      "sox WARN dither: dither clipped 1 samples; decrease volume?\n"
     ]
    },
    {
     "data": {
      "application/vnd.jupyter.widget-view+json": {
       "model_id": "ba9e507872d5451b8cde44c507d7a01a",
       "version_major": 2,
       "version_minor": 0
      },
      "text/plain": [
       "  0%|          | 0/19 [00:00<?, ?it/s]"
      ]
     },
     "metadata": {},
     "output_type": "display_data"
    },
    {
     "name": "stderr",
     "output_type": "stream",
     "text": [
      "sox WARN rate: rate clipped 2 samples; decrease volume?\n",
      "sox WARN dither: dither clipped 2 samples; decrease volume?\n",
      "sox WARN rate: rate clipped 2 samples; decrease volume?\n",
      "sox WARN dither: dither clipped 2 samples; decrease volume?\n",
      "sox WARN rate: rate clipped 1 samples; decrease volume?\n",
      "sox WARN dither: dither clipped 1 samples; decrease volume?\n"
     ]
    },
    {
     "data": {
      "application/vnd.jupyter.widget-view+json": {
       "model_id": "05d362f7e9ce40a5805dda0bc4680d9f",
       "version_major": 2,
       "version_minor": 0
      },
      "text/plain": [
       "  0%|          | 0/9 [00:00<?, ?it/s]"
      ]
     },
     "metadata": {},
     "output_type": "display_data"
    },
    {
     "data": {
      "application/vnd.jupyter.widget-view+json": {
       "model_id": "e1fea3ab235d422191ea5f6dacc89dbd",
       "version_major": 2,
       "version_minor": 0
      },
      "text/plain": [
       "  0%|          | 0/21 [00:00<?, ?it/s]"
      ]
     },
     "metadata": {},
     "output_type": "display_data"
    },
    {
     "data": {
      "application/vnd.jupyter.widget-view+json": {
       "model_id": "a182d80786424544bbdb0bcf500bc5af",
       "version_major": 2,
       "version_minor": 0
      },
      "text/plain": [
       "  0%|          | 0/24 [00:00<?, ?it/s]"
      ]
     },
     "metadata": {},
     "output_type": "display_data"
    },
    {
     "data": {
      "application/vnd.jupyter.widget-view+json": {
       "model_id": "30ce8532af9342a1b0afda1deb2ef6d9",
       "version_major": 2,
       "version_minor": 0
      },
      "text/plain": [
       "  0%|          | 0/18 [00:00<?, ?it/s]"
      ]
     },
     "metadata": {},
     "output_type": "display_data"
    },
    {
     "data": {
      "application/vnd.jupyter.widget-view+json": {
       "model_id": "8d4908db9eff4edeaa622f5c5edb9431",
       "version_major": 2,
       "version_minor": 0
      },
      "text/plain": [
       "  0%|          | 0/24 [00:00<?, ?it/s]"
      ]
     },
     "metadata": {},
     "output_type": "display_data"
    },
    {
     "data": {
      "application/vnd.jupyter.widget-view+json": {
       "model_id": "dcca423198a245c0b0633964c6d2db23",
       "version_major": 2,
       "version_minor": 0
      },
      "text/plain": [
       "  0%|          | 0/7 [00:00<?, ?it/s]"
      ]
     },
     "metadata": {},
     "output_type": "display_data"
    },
    {
     "data": {
      "application/vnd.jupyter.widget-view+json": {
       "model_id": "b6646e8f01ea43a7bc92ae62ae61f9bf",
       "version_major": 2,
       "version_minor": 0
      },
      "text/plain": [
       "  0%|          | 0/14 [00:00<?, ?it/s]"
      ]
     },
     "metadata": {},
     "output_type": "display_data"
    },
    {
     "name": "stderr",
     "output_type": "stream",
     "text": [
      "sox WARN rate: rate clipped 1 samples; decrease volume?\n",
      "sox WARN dither: dither clipped 1 samples; decrease volume?\n",
      "sox WARN rate: rate clipped 2 samples; decrease volume?\n",
      "sox WARN dither: dither clipped 1 samples; decrease volume?\n",
      "sox WARN rate: rate clipped 2 samples; decrease volume?\n",
      "sox WARN dither: dither clipped 2 samples; decrease volume?\n",
      "sox WARN rate: rate clipped 2 samples; decrease volume?\n",
      "sox WARN dither: dither clipped 2 samples; decrease volume?\n",
      "sox WARN rate: rate clipped 2 samples; decrease volume?\n",
      "sox WARN dither: dither clipped 2 samples; decrease volume?\n",
      "sox WARN rate: rate clipped 2 samples; decrease volume?\n",
      "sox WARN dither: dither clipped 2 samples; decrease volume?\n"
     ]
    },
    {
     "data": {
      "application/vnd.jupyter.widget-view+json": {
       "model_id": "c523e0c419274fa69659aac06056a738",
       "version_major": 2,
       "version_minor": 0
      },
      "text/plain": [
       "  0%|          | 0/17 [00:00<?, ?it/s]"
      ]
     },
     "metadata": {},
     "output_type": "display_data"
    },
    {
     "name": "stderr",
     "output_type": "stream",
     "text": [
      "sox WARN rate: rate clipped 3 samples; decrease volume?\n",
      "sox WARN dither: dither clipped 2 samples; decrease volume?\n",
      "sox WARN rate: rate clipped 4 samples; decrease volume?\n",
      "sox WARN dither: dither clipped 3 samples; decrease volume?\n",
      "sox WARN rate: rate clipped 178 samples; decrease volume?\n",
      "sox WARN dither: dither clipped 161 samples; decrease volume?\n",
      "sox WARN rate: rate clipped 2832 samples; decrease volume?\n",
      "sox WARN dither: dither clipped 2491 samples; decrease volume?\n",
      "sox WARN rate: rate clipped 2 samples; decrease volume?\n",
      "sox WARN dither: dither clipped 2 samples; decrease volume?\n"
     ]
    },
    {
     "data": {
      "application/vnd.jupyter.widget-view+json": {
       "model_id": "87bc583199fe4976bbf7ba97c9c6686e",
       "version_major": 2,
       "version_minor": 0
      },
      "text/plain": [
       "  0%|          | 0/14 [00:00<?, ?it/s]"
      ]
     },
     "metadata": {},
     "output_type": "display_data"
    },
    {
     "name": "stderr",
     "output_type": "stream",
     "text": [
      "sox WARN rate: rate clipped 1 samples; decrease volume?\n",
      "sox WARN dither: dither clipped 1 samples; decrease volume?\n",
      "sox WARN rate: rate clipped 1 samples; decrease volume?\n",
      "sox WARN dither: dither clipped 1 samples; decrease volume?\n"
     ]
    },
    {
     "data": {
      "application/vnd.jupyter.widget-view+json": {
       "model_id": "ef60069045034471b46b9d9ddad4c163",
       "version_major": 2,
       "version_minor": 0
      },
      "text/plain": [
       "  0%|          | 0/28 [00:00<?, ?it/s]"
      ]
     },
     "metadata": {},
     "output_type": "display_data"
    },
    {
     "name": "stderr",
     "output_type": "stream",
     "text": [
      "sox WARN rate: rate clipped 3 samples; decrease volume?\n",
      "sox WARN dither: dither clipped 3 samples; decrease volume?\n",
      "sox WARN rate: rate clipped 2 samples; decrease volume?\n",
      "sox WARN dither: dither clipped 2 samples; decrease volume?\n",
      "sox WARN rate: rate clipped 753 samples; decrease volume?\n",
      "sox WARN dither: dither clipped 650 samples; decrease volume?\n",
      "sox WARN rate: rate clipped 1 samples; decrease volume?\n",
      "sox WARN dither: dither clipped 1 samples; decrease volume?\n",
      "sox WARN rate: rate clipped 118 samples; decrease volume?\n",
      "sox WARN dither: dither clipped 108 samples; decrease volume?\n",
      "sox WARN rate: rate clipped 2 samples; decrease volume?\n",
      "sox WARN dither: dither clipped 2 samples; decrease volume?\n",
      "sox WARN rate: rate clipped 2 samples; decrease volume?\n",
      "sox WARN dither: dither clipped 2 samples; decrease volume?\n",
      "sox WARN rate: rate clipped 2 samples; decrease volume?\n",
      "sox WARN dither: dither clipped 1 samples; decrease volume?\n",
      "sox WARN rate: rate clipped 2 samples; decrease volume?\n",
      "sox WARN dither: dither clipped 2 samples; decrease volume?\n",
      "sox WARN rate: rate clipped 2 samples; decrease volume?\n",
      "sox WARN dither: dither clipped 1 samples; decrease volume?\n",
      "sox WARN rate: rate clipped 1 samples; decrease volume?\n",
      "sox WARN dither: dither clipped 1 samples; decrease volume?\n"
     ]
    },
    {
     "data": {
      "application/vnd.jupyter.widget-view+json": {
       "model_id": "caf524baea7d450c8281c8fb7ba8e0a3",
       "version_major": 2,
       "version_minor": 0
      },
      "text/plain": [
       "  0%|          | 0/32 [00:00<?, ?it/s]"
      ]
     },
     "metadata": {},
     "output_type": "display_data"
    },
    {
     "name": "stderr",
     "output_type": "stream",
     "text": [
      "sox WARN rate: rate clipped 4 samples; decrease volume?\n",
      "sox WARN dither: dither clipped 4 samples; decrease volume?\n",
      "sox WARN rate: rate clipped 2 samples; decrease volume?\n",
      "sox WARN dither: dither clipped 2 samples; decrease volume?\n",
      "sox WARN rate: rate clipped 2 samples; decrease volume?\n",
      "sox WARN dither: dither clipped 2 samples; decrease volume?\n",
      "sox WARN rate: rate clipped 4 samples; decrease volume?\n",
      "sox WARN dither: dither clipped 4 samples; decrease volume?\n",
      "sox WARN rate: rate clipped 1 samples; decrease volume?\n",
      "sox WARN dither: dither clipped 1 samples; decrease volume?\n",
      "sox WARN rate: rate clipped 1 samples; decrease volume?\n",
      "sox WARN dither: dither clipped 1 samples; decrease volume?\n",
      "sox WARN rate: rate clipped 1244 samples; decrease volume?\n",
      "sox WARN dither: dither clipped 1085 samples; decrease volume?\n"
     ]
    },
    {
     "data": {
      "application/vnd.jupyter.widget-view+json": {
       "model_id": "df22064bc79f40e0bfa177914c34e1bf",
       "version_major": 2,
       "version_minor": 0
      },
      "text/plain": [
       "  0%|          | 0/17 [00:00<?, ?it/s]"
      ]
     },
     "metadata": {},
     "output_type": "display_data"
    },
    {
     "name": "stderr",
     "output_type": "stream",
     "text": [
      "sox WARN rate: rate clipped 15919 samples; decrease volume?\n",
      "sox WARN dither: dither clipped 13976 samples; decrease volume?\n",
      "sox WARN rate: rate clipped 21 samples; decrease volume?\n",
      "sox WARN dither: dither clipped 18 samples; decrease volume?\n",
      "sox WARN rate: rate clipped 4 samples; decrease volume?\n",
      "sox WARN dither: dither clipped 4 samples; decrease volume?\n",
      "sox WARN rate: rate clipped 18 samples; decrease volume?\n",
      "sox WARN dither: dither clipped 16 samples; decrease volume?\n",
      "sox WARN rate: rate clipped 16 samples; decrease volume?\n",
      "sox WARN dither: dither clipped 13 samples; decrease volume?\n",
      "sox WARN rate: rate clipped 415 samples; decrease volume?\n",
      "sox WARN dither: dither clipped 363 samples; decrease volume?\n",
      "sox WARN rate: rate clipped 2 samples; decrease volume?\n",
      "sox WARN dither: dither clipped 2 samples; decrease volume?\n"
     ]
    },
    {
     "data": {
      "application/vnd.jupyter.widget-view+json": {
       "model_id": "9cf70fb63cec4ee08f126e8db47287eb",
       "version_major": 2,
       "version_minor": 0
      },
      "text/plain": [
       "  0%|          | 0/24 [00:00<?, ?it/s]"
      ]
     },
     "metadata": {},
     "output_type": "display_data"
    },
    {
     "name": "stderr",
     "output_type": "stream",
     "text": [
      "sox WARN rate: rate clipped 2 samples; decrease volume?\n",
      "sox WARN dither: dither clipped 2 samples; decrease volume?\n",
      "sox WARN rate: rate clipped 1 samples; decrease volume?\n",
      "sox WARN dither: dither clipped 1 samples; decrease volume?\n",
      "sox WARN rate: rate clipped 2 samples; decrease volume?\n",
      "sox WARN dither: dither clipped 2 samples; decrease volume?\n",
      "sox WARN rate: rate clipped 4 samples; decrease volume?\n",
      "sox WARN dither: dither clipped 4 samples; decrease volume?\n",
      "sox WARN rate: rate clipped 1 samples; decrease volume?\n",
      "sox WARN rate: rate clipped 2 samples; decrease volume?\n",
      "sox WARN dither: dither clipped 2 samples; decrease volume?\n",
      "sox WARN rate: rate clipped 4 samples; decrease volume?\n",
      "sox WARN dither: dither clipped 4 samples; decrease volume?\n",
      "sox WARN rate: rate clipped 2 samples; decrease volume?\n",
      "sox WARN dither: dither clipped 2 samples; decrease volume?\n",
      "sox WARN rate: rate clipped 15 samples; decrease volume?\n",
      "sox WARN dither: dither clipped 13 samples; decrease volume?\n",
      "sox WARN rate: rate clipped 2 samples; decrease volume?\n",
      "sox WARN dither: dither clipped 2 samples; decrease volume?\n"
     ]
    },
    {
     "data": {
      "application/vnd.jupyter.widget-view+json": {
       "model_id": "c575c18909664f85ab23a9ac457b6b1b",
       "version_major": 2,
       "version_minor": 0
      },
      "text/plain": [
       "  0%|          | 0/9 [00:00<?, ?it/s]"
      ]
     },
     "metadata": {},
     "output_type": "display_data"
    },
    {
     "data": {
      "application/vnd.jupyter.widget-view+json": {
       "model_id": "1cd54f958037460b86ddf51b4754c8b9",
       "version_major": 2,
       "version_minor": 0
      },
      "text/plain": [
       "  0%|          | 0/21 [00:00<?, ?it/s]"
      ]
     },
     "metadata": {},
     "output_type": "display_data"
    },
    {
     "name": "stderr",
     "output_type": "stream",
     "text": [
      "sox WARN rate: rate clipped 1 samples; decrease volume?\n",
      "sox WARN dither: dither clipped 1 samples; decrease volume?\n",
      "sox WARN rate: rate clipped 2 samples; decrease volume?\n",
      "sox WARN dither: dither clipped 2 samples; decrease volume?\n",
      "sox WARN rate: rate clipped 2 samples; decrease volume?\n",
      "sox WARN dither: dither clipped 2 samples; decrease volume?\n",
      "sox WARN rate: rate clipped 1 samples; decrease volume?\n",
      "sox WARN dither: dither clipped 1 samples; decrease volume?\n",
      "sox WARN rate: rate clipped 2 samples; decrease volume?\n",
      "sox WARN dither: dither clipped 2 samples; decrease volume?\n",
      "sox WARN rate: rate clipped 2 samples; decrease volume?\n",
      "sox WARN dither: dither clipped 2 samples; decrease volume?\n",
      "sox WARN rate: rate clipped 4 samples; decrease volume?\n",
      "sox WARN dither: dither clipped 4 samples; decrease volume?\n"
     ]
    },
    {
     "data": {
      "application/vnd.jupyter.widget-view+json": {
       "model_id": "151a0d7cf5cc4aa3b204d3ff0715aab9",
       "version_major": 2,
       "version_minor": 0
      },
      "text/plain": [
       "  0%|          | 0/6 [00:00<?, ?it/s]"
      ]
     },
     "metadata": {},
     "output_type": "display_data"
    },
    {
     "name": "stderr",
     "output_type": "stream",
     "text": [
      "sox WARN rate: rate clipped 558 samples; decrease volume?\n",
      "sox WARN dither: dither clipped 488 samples; decrease volume?\n"
     ]
    },
    {
     "data": {
      "application/vnd.jupyter.widget-view+json": {
       "model_id": "84e8725bfaa34b88823c4dcd5722bf6b",
       "version_major": 2,
       "version_minor": 0
      },
      "text/plain": [
       "  0%|          | 0/17 [00:00<?, ?it/s]"
      ]
     },
     "metadata": {},
     "output_type": "display_data"
    },
    {
     "name": "stderr",
     "output_type": "stream",
     "text": [
      "sox WARN rate: rate clipped 10 samples; decrease volume?\n",
      "sox WARN dither: dither clipped 9 samples; decrease volume?\n",
      "sox WARN rate: rate clipped 2 samples; decrease volume?\n",
      "sox WARN dither: dither clipped 1 samples; decrease volume?\n",
      "sox WARN rate: rate clipped 1 samples; decrease volume?\n",
      "sox WARN rate: rate clipped 1 samples; decrease volume?\n",
      "sox WARN dither: dither clipped 1 samples; decrease volume?\n",
      "sox WARN rate: rate clipped 1 samples; decrease volume?\n",
      "sox WARN dither: dither clipped 1 samples; decrease volume?\n"
     ]
    },
    {
     "data": {
      "application/vnd.jupyter.widget-view+json": {
       "model_id": "131e9a22c1a94afb99247b5c93355581",
       "version_major": 2,
       "version_minor": 0
      },
      "text/plain": [
       "  0%|          | 0/19 [00:00<?, ?it/s]"
      ]
     },
     "metadata": {},
     "output_type": "display_data"
    },
    {
     "name": "stderr",
     "output_type": "stream",
     "text": [
      "sox WARN rate: rate clipped 2 samples; decrease volume?\n",
      "sox WARN dither: dither clipped 1 samples; decrease volume?\n"
     ]
    },
    {
     "data": {
      "application/vnd.jupyter.widget-view+json": {
       "model_id": "dfd4b60d2f574be3b8d5c8fc846a8c5e",
       "version_major": 2,
       "version_minor": 0
      },
      "text/plain": [
       "  0%|          | 0/19 [00:00<?, ?it/s]"
      ]
     },
     "metadata": {},
     "output_type": "display_data"
    },
    {
     "data": {
      "application/vnd.jupyter.widget-view+json": {
       "model_id": "c3fbebf651d846f4ae2fef64512d306a",
       "version_major": 2,
       "version_minor": 0
      },
      "text/plain": [
       "  0%|          | 0/12 [00:00<?, ?it/s]"
      ]
     },
     "metadata": {},
     "output_type": "display_data"
    },
    {
     "data": {
      "application/vnd.jupyter.widget-view+json": {
       "model_id": "fef6c06dcc92482999d248cb0b997845",
       "version_major": 2,
       "version_minor": 0
      },
      "text/plain": [
       "  0%|          | 0/12 [00:00<?, ?it/s]"
      ]
     },
     "metadata": {},
     "output_type": "display_data"
    },
    {
     "data": {
      "application/vnd.jupyter.widget-view+json": {
       "model_id": "27385f186c86436683610db884500b28",
       "version_major": 2,
       "version_minor": 0
      },
      "text/plain": [
       "  0%|          | 0/12 [00:00<?, ?it/s]"
      ]
     },
     "metadata": {},
     "output_type": "display_data"
    },
    {
     "name": "stderr",
     "output_type": "stream",
     "text": [
      "sox WARN rate: rate clipped 89 samples; decrease volume?\n",
      "sox WARN dither: dither clipped 79 samples; decrease volume?\n"
     ]
    },
    {
     "data": {
      "application/vnd.jupyter.widget-view+json": {
       "model_id": "68c2366d41ee450998d1e54fad7e36ad",
       "version_major": 2,
       "version_minor": 0
      },
      "text/plain": [
       "  0%|          | 0/14 [00:00<?, ?it/s]"
      ]
     },
     "metadata": {},
     "output_type": "display_data"
    },
    {
     "name": "stderr",
     "output_type": "stream",
     "text": [
      "sox WARN rate: rate clipped 2 samples; decrease volume?\n",
      "sox WARN dither: dither clipped 1 samples; decrease volume?\n",
      "sox WARN rate: rate clipped 3 samples; decrease volume?\n",
      "sox WARN dither: dither clipped 3 samples; decrease volume?\n",
      "sox WARN rate: rate clipped 2 samples; decrease volume?\n",
      "sox WARN dither: dither clipped 2 samples; decrease volume?\n",
      "sox WARN rate: rate clipped 7 samples; decrease volume?\n",
      "sox WARN dither: dither clipped 6 samples; decrease volume?\n",
      "sox WARN rate: rate clipped 86 samples; decrease volume?\n",
      "sox WARN dither: dither clipped 73 samples; decrease volume?\n"
     ]
    },
    {
     "data": {
      "application/vnd.jupyter.widget-view+json": {
       "model_id": "d3ab0cb2f283430986bdcfb2f9ac592c",
       "version_major": 2,
       "version_minor": 0
      },
      "text/plain": [
       "  0%|          | 0/24 [00:00<?, ?it/s]"
      ]
     },
     "metadata": {},
     "output_type": "display_data"
    },
    {
     "name": "stderr",
     "output_type": "stream",
     "text": [
      "sox WARN rate: rate clipped 1 samples; decrease volume?\n",
      "sox WARN dither: dither clipped 1 samples; decrease volume?\n",
      "sox WARN rate: rate clipped 2 samples; decrease volume?\n",
      "sox WARN dither: dither clipped 2 samples; decrease volume?\n",
      "sox WARN rate: rate clipped 124 samples; decrease volume?\n",
      "sox WARN dither: dither clipped 110 samples; decrease volume?\n",
      "sox WARN rate: rate clipped 1806 samples; decrease volume?\n",
      "sox WARN dither: dither clipped 1562 samples; decrease volume?\n",
      "sox WARN rate: rate clipped 28 samples; decrease volume?\n",
      "sox WARN dither: dither clipped 27 samples; decrease volume?\n",
      "sox WARN rate: rate clipped 2 samples; decrease volume?\n",
      "sox WARN dither: dither clipped 2 samples; decrease volume?\n",
      "sox WARN rate: rate clipped 1101 samples; decrease volume?\n",
      "sox WARN dither: dither clipped 969 samples; decrease volume?\n",
      "sox WARN rate: rate clipped 4 samples; decrease volume?\n",
      "sox WARN dither: dither clipped 4 samples; decrease volume?\n",
      "sox WARN rate: rate clipped 7016 samples; decrease volume?\n",
      "sox WARN dither: dither clipped 6157 samples; decrease volume?\n",
      "sox WARN rate: rate clipped 348 samples; decrease volume?\n",
      "sox WARN dither: dither clipped 303 samples; decrease volume?\n"
     ]
    },
    {
     "data": {
      "application/vnd.jupyter.widget-view+json": {
       "model_id": "113a09409ddb4f44b657fdcf0189d038",
       "version_major": 2,
       "version_minor": 0
      },
      "text/plain": [
       "  0%|          | 0/17 [00:00<?, ?it/s]"
      ]
     },
     "metadata": {},
     "output_type": "display_data"
    },
    {
     "name": "stderr",
     "output_type": "stream",
     "text": [
      "sox WARN rate: rate clipped 2 samples; decrease volume?\n",
      "sox WARN dither: dither clipped 2 samples; decrease volume?\n",
      "sox WARN rate: rate clipped 2 samples; decrease volume?\n",
      "sox WARN dither: dither clipped 2 samples; decrease volume?\n",
      "sox WARN rate: rate clipped 2 samples; decrease volume?\n",
      "sox WARN dither: dither clipped 2 samples; decrease volume?\n"
     ]
    },
    {
     "data": {
      "application/vnd.jupyter.widget-view+json": {
       "model_id": "b33e96abc0874a0aa4880e4a682c10ad",
       "version_major": 2,
       "version_minor": 0
      },
      "text/plain": [
       "  0%|          | 0/16 [00:00<?, ?it/s]"
      ]
     },
     "metadata": {},
     "output_type": "display_data"
    },
    {
     "name": "stderr",
     "output_type": "stream",
     "text": [
      "sox WARN rate: rate clipped 3 samples; decrease volume?\n",
      "sox WARN dither: dither clipped 2 samples; decrease volume?\n",
      "sox WARN rate: rate clipped 5 samples; decrease volume?\n",
      "sox WARN dither: dither clipped 3 samples; decrease volume?\n",
      "sox WARN rate: rate clipped 2 samples; decrease volume?\n",
      "sox WARN dither: dither clipped 2 samples; decrease volume?\n",
      "sox WARN rate: rate clipped 2 samples; decrease volume?\n",
      "sox WARN dither: dither clipped 2 samples; decrease volume?\n",
      "sox WARN rate: rate clipped 2 samples; decrease volume?\n",
      "sox WARN dither: dither clipped 2 samples; decrease volume?\n",
      "sox WARN rate: rate clipped 2 samples; decrease volume?\n",
      "sox WARN dither: dither clipped 2 samples; decrease volume?\n",
      "sox WARN rate: rate clipped 2 samples; decrease volume?\n",
      "sox WARN dither: dither clipped 1 samples; decrease volume?\n"
     ]
    },
    {
     "data": {
      "application/vnd.jupyter.widget-view+json": {
       "model_id": "e7d37bbaea9140cd870faf286c5a8701",
       "version_major": 2,
       "version_minor": 0
      },
      "text/plain": [
       "  0%|          | 0/15 [00:00<?, ?it/s]"
      ]
     },
     "metadata": {},
     "output_type": "display_data"
    },
    {
     "name": "stderr",
     "output_type": "stream",
     "text": [
      "sox WARN rate: rate clipped 196 samples; decrease volume?\n",
      "sox WARN dither: dither clipped 168 samples; decrease volume?\n",
      "sox WARN rate: rate clipped 2 samples; decrease volume?\n",
      "sox WARN dither: dither clipped 2 samples; decrease volume?\n",
      "sox WARN rate: rate clipped 2 samples; decrease volume?\n",
      "sox WARN dither: dither clipped 2 samples; decrease volume?\n",
      "sox WARN rate: rate clipped 2 samples; decrease volume?\n",
      "sox WARN rate: rate clipped 4 samples; decrease volume?\n",
      "sox WARN dither: dither clipped 3 samples; decrease volume?\n"
     ]
    },
    {
     "data": {
      "application/vnd.jupyter.widget-view+json": {
       "model_id": "16c91edd29e7464d863ed685726d3da5",
       "version_major": 2,
       "version_minor": 0
      },
      "text/plain": [
       "  0%|          | 0/23 [00:00<?, ?it/s]"
      ]
     },
     "metadata": {},
     "output_type": "display_data"
    },
    {
     "name": "stderr",
     "output_type": "stream",
     "text": [
      "sox WARN rate: rate clipped 2 samples; decrease volume?\n",
      "sox WARN dither: dither clipped 2 samples; decrease volume?\n",
      "sox WARN dither: dither clipped 2 samples; decrease volume?\n",
      "sox WARN rate: rate clipped 40 samples; decrease volume?\n",
      "sox WARN dither: dither clipped 37 samples; decrease volume?\n",
      "sox WARN rate: rate clipped 2 samples; decrease volume?\n",
      "sox WARN dither: dither clipped 2 samples; decrease volume?\n",
      "sox WARN rate: rate clipped 2 samples; decrease volume?\n",
      "sox WARN dither: dither clipped 2 samples; decrease volume?\n",
      "sox WARN rate: rate clipped 2450 samples; decrease volume?\n",
      "sox WARN dither: dither clipped 2166 samples; decrease volume?\n",
      "sox WARN rate: rate clipped 2 samples; decrease volume?\n",
      "sox WARN dither: dither clipped 2 samples; decrease volume?\n",
      "sox WARN rate: rate clipped 2 samples; decrease volume?\n",
      "sox WARN dither: dither clipped 2 samples; decrease volume?\n"
     ]
    },
    {
     "name": "stdout",
     "output_type": "stream",
     "text": [
      "[('pd_11', 'MZb0aofyoQ0'), ('pd_11', 'sCT__TK_AIg'), ('pd_11', 'mQLOO_Hk_nk'), ('pd_11', 'L-5-b3D4qG0'), ('pd_11', 'zNDqnzHUULE'), ('pd_11', '00X1n9TywVs'), ('pd_29', 'poeXwi54JzU'), ('pd_29', '3KTkfqk-OGw'), ('pd_29', 'XepnE-ize2Y'), ('pd_29', 'p4Cx5n7EXgA'), ('pd_29', 'zMmrNcdmdVY'), ('pd_29', 'YsmgPp_nlok'), ('pd_29', 'Dv8KvWZODKY'), ('pd_16', 'lJHSKcEXJGY'), ('pd_18', 's1N5MB8aD84'), ('pd_18', '6wcaVB8yNLM'), ('pd_18', 'VlCXrbP68jQ'), ('pd_18', 'TOh_QGc3TKA'), ('pd_18', 'zUa6-6RWgLo'), ('pd_18', 'en8o9Adb9dc'), ('pd_18', 'PkIza1FiYQQ'), ('pd_27', 'ukgRcNiKkUM'), ('pd_27', 'QZpknXvuv5k'), ('pd_27', 'u-Tbne3JFrg'), ('pd_27', '6-6l1-ldr3k'), ('pd_19', 'NwB2hKmHsE0'), ('pd_19', 'UYDflekDnYU'), ('pd_19', 'vxEPZiBqo68'), ('pd_19', 'uMFqq8J73EA'), ('pd_19', 'sSr6hQ4fxOw'), ('pd_19', 'chkoVJeQFpY'), ('pd_19', 'PHxx-e62zVI'), ('pd_19', 'vgjA3dEbzxI'), ('pd_26', '3TzTgCRiEr0'), ('pd_26', 'fy1Oi86wZL8'), ('pd_26', 'QdJEtqVQWBk'), ('pd_26', 'sYhpPtrqTiM'), ('pd_26', 'Nes-KRxJb3I'), ('pd_26', 'ahljoaA_u44'), ('pd_26', 'gP_Yl7JbRx8'), ('pd_21', 'xdSR5cJN8wI'), ('pd_21', 'W7S3Fms8AkQ'), ('pd_21', 'YTdX444pUdk'), ('pd_21', 'meC-AtmQ0oo'), ('pd_21', 'nSGG1JT92Z8'), ('pd_28', 'sOgIPQ8cFQc'), ('pd_28', 'wvM5U5G8WnI'), ('pd_28', 'TJGg53RNuJE'), ('pd_28', 'YkM0v4lYEUc'), ('pd_28', 'qrd3V9ZWOmQ'), ('pd_28', 'iIqvyB-gl-4'), ('pd_28', 'RqJ2zsk8emM'), ('pd_17', 'NqGBCbPNz8A'), ('pd_17', '6_oVHoK4V-A'), ('pd_17', '1m_kcVYLNCE'), ('pd_17', '2rXJC6ViQMM'), ('pd_10', 'V1jKUDQUwq0'), ('pd_10', 'nY-dab-dwT0'), ('pd_10', 'Xi2KyaI9GIU'), ('pd_10', 'aF6ifK5tlHg'), ('pd_10', '0m6VrqMUECs'), ('pd_10', 'zcV7BTXDRyc'), ('pd_10', 'v1KG_T40kiM'), ('pd_10', 'Jr_2Bu2NWJA'), ('pd_10', '3tAuesg6L5k'), ('pd_10', 'KUDQhdKxjH8'), ('pd_32', '0ZXvgpkW-34'), ('pd_32', 'wrKD1TPwG6U'), ('pd_35', '7PMEtVOhY78'), ('pd_35', 'WW6Woa87ePQ'), ('pd_35', 'lHjgm_CXhk8'), ('pd_35', 'O7DnqyiGBx4'), ('pd_35', 'WKZEfl7Yu6k'), ('pd_03', 'u3vJXJRa6nU'), ('pd_03', 'tOPAjpCeHwI'), ('pd_03', 'ZXBb-F98tRY'), ('pd_03', 'ZRoMZw9BxYc'), ('pd_03', 'nfvzIuz623Q'), ('pd_04', 'dEdJB-Fk_Vk'), ('pd_04', 'DKWxYDLUNk0'), ('pd_02', '9zP8K0gMuPw'), ('pd_34', 'WG6J9jt-qHY'), ('pd_34', 'J1NWBHI4Vrg'), ('pd_34', 'AC58I60m5a0'), ('pd_33', 'SS3TtOiBBjI'), ('pd_33', 'xqrpoo'), ('pd_12', '152219'), ('pd_12', '92371'), ('pd_12', 'W69ZyZDnccI'), ('pd_12', '100763'), ('pd_24', 'W3ZF1_sB49s'), ('pd_23', 'WsbtHlce95U'), ('pd_25', 'Nz8x1ZF2o3c'), ('pd_25', 'rQmV7JFX_-A'), ('pd_25', 'GBZ4HD-x6B0'), ('pd_25', 'iSWNvimo-R0'), ('pd_25', 'l5PXLb4knZo'), ('pd_14', 'USzdVjHtsA4'), ('pd_14', 'r73GMPzsFpI'), ('pd_14', 'b1nPVlMjW5M'), ('pd_14', 'IvOCQAwZISo'), ('pd_14', 'x10nj1ztpHk'), ('pd_14', 'at9Jo0g_D7c'), ('pd_14', 'j4AnFri1wGM'), ('pd_14', 'vM5f3Dp8Xww'), ('pd_14', 'cvSdSnZ-3Fg'), ('pd_40', 'AOuyHKYLzYg'), ('pd_36', 'o9CwPXUINtU'), ('pd_36', 'Y3Xq-f-nd_0'), ('pd_36', 'QHaQTlJ629E'), ('pd_36', 'hJmM3PACMwQ'), ('pd_09', 'Az4huvs71d8'), ('pd_09', 'gZDjysz2Q2E'), ('pd_31', 'I7_Cn1uQMdE'), ('pd_31', 'zF5xlzBI8lw'), ('pd_07', 'L91d-DLarEQ'), ('pd_07', 'n7RaRPQ5WU8'), ('pd_38', 'fNXLN8ZrUO8'), ('pd_06', '6D9Z7antjMw'), ('pd_06', '9PsYnntpbbc'), ('pd_06', 'TlJhbq4h60o'), ('pd_30', 'sPGDlBgL9kg'), ('pd_08', '2Jkb_eDFlU0'), ('pd_08', 'XzCwL4purFg'), ('pd_08', 'Gc-lgHDS9t4'), ('pd_08', '-PeOHVCqPSE'), ('cn_58', 'ecbS3bQzkZM'), ('cn_33', 'kmC-qaqgF9Y'), ('cn_59', 'NUYQxokg8nI'), ('cn_35', 'DBYUPeyFL1w'), ('cn_32', 'T-03skvD3g4'), ('cn_04', 'ZUWkFdZbmBc'), ('cn_21', 'b7UfMS6vjZQ'), ('cn_26', 'DjL2ooLsLOA'), ('cn_10', 'OhgQO5Gd1HY'), ('cn_17', 'k5AvqhHWtwE'), ('cn_43', '7bIyonpZPiw'), ('cn_43', 'iYe6ZwHKD_o'), ('cn_43', 'pGur1steJfM'), ('cn_44', 'XkOdMRUQkN8'), ('cn_29', 'bwK6BX3kAYU'), ('cn_16', 'NZJfIyxz3UY'), ('cn_16', 'OArboM70pA0'), ('cn_11', 'W539BhRLl1g'), ('cn_18', '9jJU3lzU7OU'), ('cn_27', '-QjW24etnqE'), ('cn_27', 'dYHsxC0kckw'), ('cn_20', '-8sMm868SJI'), ('cn_39', 'GXguwtZQYGQ'), ('cn_39', '9cG-5vqLxUU'), ('cn_39', 'qo-E_UcJSUQ'), ('cn_39', 'inKeRj8VkhY'), ('cn_39', 'xalnBSvk0Zo'), ('cn_39', 'gtDTil6xQMI'), ('cn_39', '8Fntw5XmaJE'), ('cn_39', 'zSuoa0zTVM0'), ('cn_01', 'sgjIxRD_eSQ'), ('cn_01', '4zHrnCPJTFM'), ('cn_01', 'FZBZ5KmKdX8'), ('cn_01', 'fdLF9NViKl4'), ('cn_01', 'TZA62nwut_I'), ('cn_01', 'hTOX1l4UEtE'), ('cn_01', '5iEgR25lS5A'), ('cn_01', 'oFUcQ_XgToI'), ('cn_01', 'T-ydfQlVwgs'), ('cn_01', 'HoBQclABghY'), ('cn_01', 'OS1lvL63mfc'), ('cn_01', 'UuiBnJOicqQ'), ('cn_01', 'hznoXSPobHA'), ('cn_01', 'eBrxC4jqbbo'), ('cn_01', 'FE6QA-n36W4'), ('cn_01', 'EN8ZdMf5oAQ'), ('cn_01', 'QwX-bQDsQ5Q'), ('cn_01', 'L2tGjae1WD0'), ('cn_01', 'RjpTsK-WzSw'), ('cn_37', 'vxp2CXCyUAs'), ('cn_37', 'qpPCtxUXoNM'), ('cn_37', 'P-Hq6URLUfI'), ('cn_37', 'iGdmVsuSVoo'), ('cn_37', '1usaWetxndY'), ('cn_37', 'kSAo_1mJg0g'), ('cn_37', 'KBjefNL2pec'), ('cn_37', 'NnVOuBaaLBI'), ('cn_37', 'en1-H2z8Ems'), ('cn_37', 'Gl_qYPWDWF8'), ('cn_37', 'l1_atcfe6UE'), ('cn_37', 'PEG-t9Sd2Ac'), ('cn_37', 'vvY9HxFJymY'), ('cn_37', '0C39h7_wP4c'), ('cn_37', 'aq-llpoReKw'), ('cn_37', 'fPDRO2LSvu4'), ('cn_37', 'ZEtPV-qvLe8'), ('cn_37', 'BoQzqQ9RUxs'), ('cn_37', 'YpzMfAKN9aQ'), ('cn_37', 'ls31TkGSQGA'), ('cn_37', 'JzBwbT9WSYY'), ('cn_37', 'opVaEC_WxWs'), ('cn_37', 'EUN9TigJ7ZU'), ('cn_08', '-O9945xzlnM'), ('cn_08', 'lEScqF9G0cE'), ('cn_08', 'BqVrpFXXdB0'), ('cn_08', '-oTvn7wEnqI'), ('cn_08', 'CS-anBmcKUA'), ('cn_08', 'f5wc0rwut40'), ('cn_08', '6635N1qAOR4'), ('cn_08', 'VDFZd5KLvcM'), ('cn_08', 'FCxGb5GZUxU'), ('cn_08', 'fHmnSoaeS1M'), ('cn_08', 'ZIbf4InSW-g'), ('cn_08', 'q2MyTQKHMck'), ('cn_08', 'asU3TtePzbw'), ('cn_08', 'ZrLTGOqNY_o'), ('cn_08', 'CWtby5WqHdM'), ('cn_08', 'lGZ8f1Fsgkg'), ('cn_08', 'hlYc08_Zr2c'), ('cn_30', 'rOnMO8iObkk'), ('cn_30', 'Sw0iyfbXRt8'), ('cn_30', 'HU9I_o6pm7s'), ('cn_30', '6EHj-3fjobI'), ('cn_30', 'VFoUXFxmnSM'), ('cn_30', 'q3CqjDzzUiQ'), ('cn_30', 'm1we2p9QrYI'), ('cn_30', 'I840eC4n5gc'), ('cn_30', '3XqTHUKlPV4'), ('cn_30', 'NB61uqPQJYQ'), ('cn_30', '6-VYP0NrnAk'), ('cn_30', 'bWchYInvJaI'), ('cn_30', 'm9CQgFvCyWQ'), ('cn_30', 'cWzTdPzZeug'), ('cn_30', 'KzYGjni_x-w'), ('cn_30', 'w26X-3DUjgQ'), ('cn_30', 'WrukaSpBYek'), ('cn_30', 'y7ql7HLIzo8'), ('cn_30', '9SHollSevAg'), ('cn_30', '_qKU7ckNqio'), ('cn_30', 'SA1AQ0m1lkU'), ('cn_30', 'Iqw6ShT6yE8'), ('cn_30', '1F_SgMHbygk'), ('cn_55', 'ROCCEj7couE'), ('cn_55', 'MEPP3l1OLkU'), ('cn_55', 'n7NqU6TViZw'), ('cn_55', '0Yt44TS73_c'), ('cn_31', 'thxxQfr8uj0'), ('cn_31', '96OXwgra40k'), ('cn_31', 'e2_vfovwr30'), ('cn_53', '2iW0l2QPrxI'), ('cn_54', '64aCbFq4-uU'), ('cn_54', 'rdmXB-OYnS4'), ('cn_54', 'Dmz1O06_hOE'), ('cn_25', 'awb4EG4ZfLM'), ('cn_25', 'EG5mcvF6o4M'), ('cn_25', 'MjkpBrYtNEI'), ('cn_25', 'wIyj1XupNXs'), ('cn_25', '3Pz3rs_qBMM'), ('cn_25', 'qwPfypzp_1c'), ('cn_25', '36hF6hNjOLc'), ('cn_25', 'AlBn_RXc3Bw'), ('cn_25', '-a5Vj5QzSUg'), ('cn_25', 'aprw-fyRzGo'), ('cn_25', 'mdmOQCACFfs'), ('cn_25', 'oDDdgNWsb3I'), ('cn_25', 'Q_Y4arz0NoQ'), ('cn_22', 'fIwrK5u07pI'), ('cn_22', '5q0Y2KFw-q8'), ('cn_22', '-cK8n_uaNMQ'), ('cn_22', 'YCCohLOn9lg'), ('cn_22', 'ZLpuVigQaYQ'), ('cn_22', 'h94-F4isSCM'), ('cn_22', '53Q8OecGBmQ'), ('cn_22', 'MZ0Ky06NYtY'), ('cn_22', 'bpYYtLiSenE'), ('cn_22', 'GriHaXPnJ5g'), ('cn_22', 'BTqLe7zmBpA'), ('cn_22', 'lbI2XxLHWfY'), ('cn_22', 'IZziqnPO9SE'), ('cn_22', 'te1-3F-keME'), ('cn_22', 'cVr5T5xTU1U'), ('cn_22', '6ZQmMFLTllU'), ('cn_22', 'm4AsQEfasR8'), ('cn_22', 'y6Ua1mJphxs'), ('cn_14', 'Wi3yAp7sTgo'), ('cn_14', 'HpDIK1iVSqU'), ('cn_14', 'HOROFfwmRYw'), ('cn_14', 'jCOYgRQb_4U'), ('cn_14', 'VIB_ynYL-fM'), ('cn_14', '9wgAUQto8i8'), ('cn_14', 'fDt1mU3XX-4'), ('cn_14', '7JGQPG4AE6s'), ('cn_14', 'rC0x_cShhW4'), ('cn_14', 'VHjxxMJLaQ4'), ('cn_14', 'W-TFAFRjBEc'), ('cn_13', 'IdfNj1k0jmw'), ('cn_13', 'UphYymf_umo'), ('cn_13', 'KKN7Bt73OxU'), ('cn_13', 'f74L2hRZE1Y'), ('cn_13', 'jMyNk8J1c8g'), ('cn_13', 'ULfqhCNHQPA'), ('cn_13', 'k7HXdtS9BJY'), ('cn_13', 'VOXfHCJ2ND8'), ('cn_13', 'dbFvD2JuhsA'), ('cn_13', 'mDryok7xeTo'), ('cn_13', 'HSOZ4wqgDdk'), ('cn_48', 'NfU-DnZN_Ts'), ('cn_48', 'tPhiwwquJkM'), ('cn_48', 'NYaNoY_-Z1I'), ('cn_48', '_HFaC-UoyuY'), ('cn_48', 'XPu-nHrNmpk'), ('cn_48', 'W0HRUVVxFFg'), ('cn_41', 'ApcSM9IlVNA'), ('cn_46', 'OcSdJhPZf-E'), ('cn_12', '3YzCX8Eg6Uc'), ('cn_12', 'i3Rt0bLeskc'), ('cn_24', 'XVbiaY8bvAk')]\n"
     ]
    },
    {
     "name": "stderr",
     "output_type": "stream",
     "text": [
      "sox WARN rate: rate clipped 2 samples; decrease volume?\n",
      "sox WARN dither: dither clipped 2 samples; decrease volume?\n"
     ]
    }
   ],
   "source": [
    "park_celeb_dir = \"/Users/thomas.cong/Downloads/ParkCeleb\"\n",
    "PD_patients = os.path.join(park_celeb_dir, \"PD\")\n",
    "CN_patients = os.path.join(park_celeb_dir, \"CN\")\n",
    "failed = []\n",
    "for patient in tqdm(os.listdir(PD_patients)):\n",
    "    if \"pd\" in patient:\n",
    "        patient_folder = os.path.join(PD_patients, patient)\n",
    "        for file in tqdm(os.listdir(patient_folder)):\n",
    "            file_path = os.path.join(patient_folder, file)\n",
    "            if os.path.isdir(file_path):\n",
    "                result = preprocess_park_celeb(file_path)\n",
    "                if result:\n",
    "                    failed.append(result)\n",
    "for patient in tqdm(os.listdir(CN_patients)):\n",
    "    if \"cn\" in patient:\n",
    "        patient_folder = os.path.join(CN_patients, patient)\n",
    "        for file in tqdm(os.listdir(patient_folder)):\n",
    "            file_path = os.path.join(patient_folder, file)\n",
    "            if os.path.isdir(file_path):\n",
    "                result = preprocess_park_celeb(file_path)\n",
    "                if result:\n",
    "                    failed.append(result)\n",
    "print(failed)"
   ]
  },
  {
   "cell_type": "code",
   "execution_count": null,
   "id": "dc6de7ec",
   "metadata": {},
   "outputs": [],
   "source": []
  }
 ],
 "metadata": {
  "kernelspec": {
   "display_name": "test",
   "language": "python",
   "name": "python3"
  },
  "language_info": {
   "codemirror_mode": {
    "name": "ipython",
    "version": 3
   },
   "file_extension": ".py",
   "mimetype": "text/x-python",
   "name": "python",
   "nbconvert_exporter": "python",
   "pygments_lexer": "ipython3",
   "version": "3.11.13"
  }
 },
 "nbformat": 4,
 "nbformat_minor": 5
}
