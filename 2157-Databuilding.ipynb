{
 "cells": [
  {
   "cell_type": "code",
   "execution_count": 10,
   "id": "39a6bb19",
   "metadata": {},
   "outputs": [],
   "source": [
    "import pandas as pd\n",
    "from feature_calculation import build_biomarker_csv"
   ]
  },
  {
   "cell_type": "code",
   "execution_count": 11,
   "id": "e2e17157",
   "metadata": {},
   "outputs": [],
   "source": [
    "data = pd.read_csv(\"/Users/thomas.cong/Downloads/Voice_Data/W0000-NEU-CES-2157_Winterlight.csv\")\n",
    "\n",
    "subject_dict = data[[\"SUBJID\", \"X_DUID\", \"VISIT\"]].drop_duplicates().set_index(\"X_DUID\").to_dict()\n",
    "for x in subject_dict[\"SUBJID\"]:\n",
    "    if subject_dict[\"VISIT\"][x] == \"V1\":\n",
    "        subject_dict[\"SUBJID\"][x] += \"OFF\"\n",
    "    else:\n",
    "        subject_dict[\"SUBJID\"][x] += \"ON\"\n",
    "subject_dict = {x: subject_dict[\"SUBJID\"][x] for x in subject_dict[\"SUBJID\"]}\n",
    "on_off_dict = {x: \"OFF\" if \"OFF\" in subject_dict[x] else \"ON\" for x in subject_dict}\n",
    "subject_only = {x: subject_dict[x].split(\"O\")[0] for x in subject_dict}"
   ]
  },
  {
   "cell_type": "code",
   "execution_count": 62,
   "id": "b38e5986",
   "metadata": {},
   "outputs": [],
   "source": [
    "biomarkers_2157_with_clinical = pd.read_csv(\"./2157-Generated-Data/2157-Biomarkers.csv\", index_col = \"winterlight_id\")\n",
    "biomarkers_2157_with_clinical[\"subjid\"] = biomarkers_2157_with_clinical.index.map(subject_dict)"
   ]
  },
  {
   "cell_type": "code",
   "execution_count": 63,
   "id": "573f2826",
   "metadata": {},
   "outputs": [],
   "source": [
    "UPDRS_Scores = pd.read_csv(\"/Users/thomas.cong/Downloads/Clinical_Data/2157 CES Clinical data from RUSH university/clinical-rush.csv\")\n",
    "UPDRS_Scores = pd.concat([UPDRS_Scores, pd.read_csv(\"/Users/thomas.cong/Downloads/Clinical_Data/2157 CES Clinical data from RUSH university/clinical-cumc.csv\")])\n",
    "UPDRS_Scores = UPDRS_Scores.pivot(index=[\"subjid\", \"state\"], columns = [\"mds_updrs_label\"], values=\"mds_updrs_value\")\n",
    "UPDRS_Scores.reset_index(inplace=True)\n",
    "UPDRS_Scores[\"subjid\"] = UPDRS_Scores[\"subjid\"] + UPDRS_Scores[\"state\"]\n",
    "UPDRS_Scores.drop(columns=[\"state\"], inplace=True)\n",
    "UPDRS_Scores.set_index(\"subjid\", inplace=True)\n",
    "UPDRSIII_Mapping = {x: sum(UPDRS_Scores.loc[x]) for x in UPDRS_Scores.index}\n",
    "Speech_Mapping = {x: int(UPDRS_Scores.loc[x][\"Speech\"]) for x in UPDRS_Scores.index}\n",
    "biomarkers_2157_with_clinical[\"UPDRSIII\"] = biomarkers_2157_with_clinical[\"subjid\"].map(UPDRSIII_Mapping)\n",
    "biomarkers_2157_with_clinical[\"Speech\"] = biomarkers_2157_with_clinical[\"subjid\"].map(Speech_Mapping)\n",
    "biomarkers_2157_with_clinical[\"Status\"] = \"O\" + biomarkers_2157_with_clinical[\"subjid\"].str.split(\"O\").str[1]\n",
    "biomarkers_2157_with_clinical[\"Status\"] = biomarkers_2157_with_clinical[\"Status\"].fillna(\"HC\")"
   ]
  },
  {
   "cell_type": "code",
   "execution_count": 64,
   "id": "ed25455d",
   "metadata": {},
   "outputs": [],
   "source": [
    "for col in biomarkers_2157_with_clinical.columns:\n",
    "    if col != \"UPDRSII\" and col != \"Speech\":\n",
    "        try:\n",
    "            std = biomarkers_2157_with_clinical[col].std()\n",
    "            mean = biomarkers_2157_with_clinical[col].mean()\n",
    "            biomarkers_2157_with_clinical[col] = biomarkers_2157_with_clinical[col].apply(lambda x: max(min((x - mean) / std, 3), -3))\n",
    "        except TypeError:\n",
    "            pass"
   ]
  },
  {
   "cell_type": "code",
   "execution_count": 66,
   "id": "d05ea01b",
   "metadata": {},
   "outputs": [],
   "source": [
    "biomarkers_2157_with_clinical.to_csv(\"./2157-Generated-Data/2157-Clinical-Biomarkers-Normalized.csv\")"
   ]
  },
  {
   "cell_type": "code",
   "execution_count": null,
   "id": "1de86467",
   "metadata": {},
   "outputs": [],
   "source": []
  }
 ],
 "metadata": {
  "kernelspec": {
   "display_name": "Python 3",
   "language": "python",
   "name": "python3"
  },
  "language_info": {
   "codemirror_mode": {
    "name": "ipython",
    "version": 3
   },
   "file_extension": ".py",
   "mimetype": "text/x-python",
   "name": "python",
   "nbconvert_exporter": "python",
   "pygments_lexer": "ipython3",
   "version": "3.13.4"
  }
 },
 "nbformat": 4,
 "nbformat_minor": 5
}
