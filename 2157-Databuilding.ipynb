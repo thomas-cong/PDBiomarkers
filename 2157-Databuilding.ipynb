{
 "cells": [
  {
   "cell_type": "code",
   "execution_count": 73,
   "id": "39a6bb19",
   "metadata": {},
   "outputs": [],
   "source": [
    "import pandas as pd\n",
    "from feature_calculation import build_biomarker_csv\n",
    "import os"
   ]
  },
  {
   "cell_type": "code",
   "execution_count": 70,
   "id": "e2e17157",
   "metadata": {},
   "outputs": [],
   "source": [
    "data = pd.read_csv(\"/Users/thomas.cong/Downloads/Voice_Data/W0000-NEU-CES-2157_Winterlight.csv\")\n",
    "\n",
    "subject_dict = data[[\"SUBJID\", \"X_DUID\", \"VISIT\"]].drop_duplicates().set_index(\"X_DUID\").to_dict()\n",
    "for x in subject_dict[\"SUBJID\"]:\n",
    "    if subject_dict[\"VISIT\"][x] == \"V1\":\n",
    "        subject_dict[\"SUBJID\"][x] += \"OFF\"\n",
    "    else:\n",
    "        subject_dict[\"SUBJID\"][x] += \"ON\"\n",
    "subject_dict = {x: subject_dict[\"SUBJID\"][x] for x in subject_dict[\"SUBJID\"]}\n",
    "on_off_dict = {x: \"OFF\" if \"OFF\" in subject_dict[x] else \"ON\" for x in subject_dict}\n",
    "subject_only = {x: subject_dict[x].split(\"O\")[0] for x in subject_dict}"
   ]
  },
  {
   "cell_type": "code",
   "execution_count": 68,
   "id": "b38e5986",
   "metadata": {},
   "outputs": [],
   "source": [
    "biomarkers_2157_with_clinical = pd.read_csv(\"./2157-Generated-Data/2157-Biomarkers.csv\", index_col = \"winterlight_id\")\n",
    "biomarkers_2157_with_clinical[\"subjid\"] = biomarkers_2157_with_clinical.index.map(subject_dict)"
   ]
  },
  {
   "cell_type": "code",
   "execution_count": 91,
   "id": "573f2826",
   "metadata": {},
   "outputs": [
    {
     "name": "stdout",
     "output_type": "stream",
     "text": [
      "Sustained-Vowel-Phonation\n",
      "(63, 34)\n",
      "Paragraph-Reading\n",
      "(63, 34)\n",
      "Paragraph-Recall\n",
      "(21, 34)\n",
      "Picture-Description\n",
      "(126, 34)\n",
      "Object-Naming\n",
      "(62, 34)\n",
      "Biomarkers\n",
      "(524, 34)\n",
      "DDK\n",
      "(63, 34)\n",
      "Phonemic-Fluency\n",
      "(63, 34)\n",
      "Semantic-Fleuncy\n",
      "(63, 34)\n"
     ]
    }
   ],
   "source": [
    "UPDRS_Scores = pd.read_csv(\"/Users/thomas.cong/Downloads/Clinical_Data/2157 CES Clinical data from RUSH university/clinical-rush.csv\")\n",
    "UPDRS_Scores = pd.concat([UPDRS_Scores, pd.read_csv(\"/Users/thomas.cong/Downloads/Clinical_Data/2157 CES Clinical data from RUSH university/clinical-cumc.csv\")])\n",
    "UPDRS_Scores = UPDRS_Scores.pivot(index=[\"subjid\", \"state\"], columns = [\"mds_updrs_label\"], values=\"mds_updrs_value\")\n",
    "UPDRS_Scores.reset_index(inplace=True)\n",
    "UPDRS_Scores[\"subjid\"] = UPDRS_Scores[\"subjid\"] + UPDRS_Scores[\"state\"]\n",
    "UPDRS_Scores.drop(columns=[\"state\"], inplace=True)\n",
    "UPDRS_Scores.set_index(\"subjid\", inplace=True)\n",
    "UPDRSIII_Mapping = {x: sum(UPDRS_Scores.loc[x]) for x in UPDRS_Scores.index}\n",
    "Speech_Mapping = {x: int(UPDRS_Scores.loc[x][\"Speech\"]) for x in UPDRS_Scores.index}\n",
    "def add_clinical_info(biomarker_data_frame):\n",
    "    biomarker_data_frame[\"subjid\"] = biomarker_data_frame.index.map(subject_dict)\n",
    "    biomarker_data_frame[\"UPDRSIII\"] = biomarker_data_frame[\"subjid\"].map(UPDRSIII_Mapping)\n",
    "    biomarker_data_frame[\"Speech\"] = biomarker_data_frame[\"subjid\"].map(Speech_Mapping)\n",
    "    if \"task\" in biomarker_data_frame.columns:\n",
    "        biomarker_data_frame.drop(columns=[\"task\"], inplace=True)\n",
    "    try:\n",
    "        biomarker_data_frame[\"Status\"] = \"O\" + biomarker_data_frame[\"subjid\"].str.split(\"O\").str[1]\n",
    "        biomarker_data_frame[\"Status\"] = biomarker_data_frame[\"Status\"].fillna(\"HC\")\n",
    "    except AttributeError:\n",
    "        biomarker_data_frame[\"Status\"] = \"HC\"\n",
    "    return biomarker_data_frame\n",
    "def normalize_biomarkers(biomarker_data_frame):\n",
    "    for col in biomarker_data_frame.columns:\n",
    "        if col:\n",
    "            try:\n",
    "                std = biomarkers_2157_with_clinical[col].std()\n",
    "                mean = biomarkers_2157_with_clinical[col].mean()\n",
    "                biomarkers_2157_with_clinical[col] = biomarkers_2157_with_clinical[col].apply(lambda x: max(min((x - mean) / std, 3), -3))\n",
    "            except TypeError:\n",
    "                pass\n",
    "    return biomarker_data_frame\n",
    "for file in os.listdir(\"2157-Generated-Data\"):\n",
    "    file_path = os.fsdecode(file)\n",
    "    if not file_path.endswith(\".csv\"):\n",
    "        continue\n",
    "    info = \"-\".join(file_path.split(\"-\")[1:])\n",
    "    info = info.replace(\".csv\", \"\")\n",
    "    print(info)\n",
    "    biomarkers_2157_with_clinical = pd.read_csv(\"./2157-Generated-Data/\" + file_path, index_col=\"winterlight_id\")\n",
    "    biomarkers_2157_with_clinical = add_clinical_info(biomarkers_2157_with_clinical)\n",
    "    biomarkers_2157_with_clinical = normalize_biomarkers(biomarkers_2157_with_clinical)\n",
    "    print(biomarkers_2157_with_clinical.shape)\n",
    "    biomarkers_2157_with_clinical.to_csv(f\"2157-Generated-Data/Clinical/2157-Clinical-{info}-normalized.csv\")\n"
   ]
  },
  {
   "cell_type": "code",
   "execution_count": null,
   "id": "ed25455d",
   "metadata": {},
   "outputs": [],
   "source": [
    "for col in biomarkers_2157_with_clinical.columns:\n",
    "    if col != \"UPDRSIII\" and col != \"Speech\":\n",
    "        try:\n",
    "            std = biomarkers_2157_with_clinical[col].std()\n",
    "            mean = biomarkers_2157_with_clinical[col].mean()\n",
    "            biomarkers_2157_with_clinical[col] = biomarkers_2157_with_clinical[col].apply(lambda x: max(min((x - mean) / std, 3), -3))\n",
    "        except TypeError:\n",
    "            pass"
   ]
  },
  {
   "cell_type": "code",
   "execution_count": 66,
   "id": "d05ea01b",
   "metadata": {},
   "outputs": [],
   "source": [
    "biomarkers_2157_with_clinical.to_csv(\"./2157-Generated-Data/2157-Clinical-Biomarkers-Normalized.csv\")"
   ]
  },
  {
   "cell_type": "code",
   "execution_count": null,
   "id": "f0beff0b",
   "metadata": {},
   "outputs": [],
   "source": []
  }
 ],
 "metadata": {
  "kernelspec": {
   "display_name": "Python 3",
   "language": "python",
   "name": "python3"
  },
  "language_info": {
   "codemirror_mode": {
    "name": "ipython",
    "version": 3
   },
   "file_extension": ".py",
   "mimetype": "text/x-python",
   "name": "python",
   "nbconvert_exporter": "python",
   "pygments_lexer": "ipython3",
   "version": "3.13.4"
  }
 },
 "nbformat": 4,
 "nbformat_minor": 5
}
