{
 "cells": [
  {
   "cell_type": "code",
   "execution_count": 1,
   "id": "f66b81f4",
   "metadata": {},
   "outputs": [],
   "source": [
    "import pandas as pd\n",
    "import data_visualization.make_heatmap as make_heatmap\n",
    "import data_visualization.make_boxplot as make_boxplot\n",
    "import matplotlib.pyplot as plt\n"
   ]
  },
  {
   "cell_type": "code",
   "execution_count": 2,
   "id": "750d7fd0",
   "metadata": {},
   "outputs": [],
   "source": [
    "testing_df = pd.read_csv(\"./MDVR-KCL-Features/MDVR-KCL-ReadText.csv\", index_col = \"filename\")\n",
    "testing_df[\"II-5\"] = testing_df.index.str.split(\"_\").str[-2].astype(int)\n",
    "testing_df[\"III-18\"] = testing_df.index.str.split(\"_\").str[-1].astype(int)"
   ]
  },
  {
   "cell_type": "code",
   "execution_count": 3,
   "id": "a325eb75",
   "metadata": {},
   "outputs": [],
   "source": [
    "feature_labels = [\"VSA\", \"VSA\", \"Lexical\", \"Lexical\", \"Lexical\", \"Lexical\", \"Acoustic\",\n",
    "\"Acoustic\",\"Acoustic\",\"Acoustic\",\"Acoustic\",\"Acoustic\",\"Acoustic\",\n",
    "\"Acoustic\",\"Acoustic\",\"Acoustic\",\"Acoustic\",\"Acoustic\",\"Acoustic\",\n",
    "\"Acoustic\",\"Lexical\", \"Lexical\",\"Acoustic\",\"Acoustic\",\"Acoustic\",\"Acoustic\",\n",
    "\"Acoustic\",\"Acoustic\",\"Acoustic\",\"Acoustic\"]\n"
   ]
  },
  {
   "cell_type": "code",
   "execution_count": 4,
   "id": "8aeb57cc",
   "metadata": {},
   "outputs": [],
   "source": [
    "fig = make_heatmap.correlation_heatmap(testing_df)\n",
    "fig.savefig('./Plots/correlation_heatmap.png', bbox_inches='tight', dpi=300)\n",
    "plt.close(fig)\n"
   ]
  },
  {
   "cell_type": "code",
   "execution_count": 5,
   "id": "8c2fab4d",
   "metadata": {},
   "outputs": [],
   "source": [
    "fig = make_heatmap.distribution_heatmap(testing_df)\n",
    "fig.savefig('./Plots/distribution_heatmap.png', bbox_inches='tight', dpi=300)\n",
    "plt.close(fig)\n"
   ]
  },
  {
   "cell_type": "code",
   "execution_count": null,
   "id": "43a3341b",
   "metadata": {},
   "outputs": [],
   "source": [
    "all_dfs = []\n",
    "all_dfs.append(pd.read_csv(\"./MDVR-KCL-Features/MDVR-KCL-ReadTextHC-Eng.csv\", index_col = \"filename\").sort_index())\n",
    "all_dfs.append(pd.read_csv(\"./MDVR-KCL-Features/MDVR-KCL-ReadTextPD-Eng.csv\", index_col = \"filename\").sort_index())\n",
    "all_dfs.append(pd.read_csv(\"./MDVR-KCL-Features/MDVR-KCL-ReadTextHC-Sun.csv\", index_col = \"filename\").sort_index())\n",
    "all_dfs.append(pd.read_csv(\"./MDVR-KCL-Features/MDVR-KCL-ReadTextPD-Sun.csv\", index_col = \"filename\").sort_index())\n",
    "for col in all_dfs[0].columns:\n",
    "    boxplot = make_boxplot.make_boxplot(all_dfs, [\"HC-Eng\", \"PD-Eng\", \"HC-Sun\", \"PD-Sun\"], col)\n",
    "    boxplot.savefig(f\"./Plots/{col}_MDVR_KCL.png\")"
   ]
  },
  {
   "cell_type": "code",
   "execution_count": null,
   "id": "a6334276",
   "metadata": {},
   "outputs": [],
   "source": []
  }
 ],
 "metadata": {
  "kernelspec": {
   "display_name": "Python 3",
   "language": "python",
   "name": "python3"
  },
  "language_info": {
   "codemirror_mode": {
    "name": "ipython",
    "version": 3
   },
   "file_extension": ".py",
   "mimetype": "text/x-python",
   "name": "python",
   "nbconvert_exporter": "python",
   "pygments_lexer": "ipython3",
   "version": "3.13.4"
  }
 },
 "nbformat": 4,
 "nbformat_minor": 5
}
